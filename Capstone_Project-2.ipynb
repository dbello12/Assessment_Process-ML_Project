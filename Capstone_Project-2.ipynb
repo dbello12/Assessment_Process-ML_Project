{
 "cells": [
  {
   "cell_type": "markdown",
   "id": "2c758e6c",
   "metadata": {},
   "source": [
    "## Candidate Selection Process - Machine Learning Project\n",
    "## David Bello"
   ]
  },
  {
   "cell_type": "markdown",
   "id": "f20eef51",
   "metadata": {},
   "source": [
    "One of the steps in the application for endorsement is the pre-interview assessment . Here, the candidate and spouse go through a series of surveys These are followed by an in-person interview "
   ]
  },
  {
   "cell_type": "markdown",
   "id": "1074a030",
   "metadata": {},
   "source": [
    "This project examines the current pre-interview assessment process by looking at data from the last three years. It applies statistical analysis and ML methods, particularly of classification, to the existing pre-interview data to evaluate the effectiveness of the current process, highlight the most significant features in the dataset, and develop an algorithm that learns from the input provided to classify new observations.\n",
    " \n",
    "The goal of this project is to develop a classification model that can be used to measure the efficacy of the pre-interview surveys in determining who should be endorsed.  "
   ]
  },
  {
   "cell_type": "code",
   "execution_count": 1,
   "id": "5f73febc",
   "metadata": {},
   "outputs": [],
   "source": [
    "import pandas as pd\n",
    "import numpy as np"
   ]
  },
  {
   "cell_type": "markdown",
   "id": "ac86e52a",
   "metadata": {},
   "source": [
    "Import the dataset"
   ]
  },
  {
   "cell_type": "code",
   "execution_count": 2,
   "id": "3be7aa98",
   "metadata": {},
   "outputs": [],
   "source": [
    "data = pd.read_excel(r\"/Users/dbello/Desktop/DTSC_691_Capstone_Project/AP_PlanterAverages.xlsx\") #-- work\n",
    "#data = pd.read_excel(r\"/Users/davidbello/Desktop/DTSC691_Capstone_Project/Project_Files/AP_PlanterAverages.xlsx\") # home"
   ]
  },
  {
   "cell_type": "code",
   "execution_count": 3,
   "id": "69bbd075",
   "metadata": {},
   "outputs": [
    {
     "data": {
      "text/html": [
       "<div>\n",
       "<style scoped>\n",
       "    .dataframe tbody tr th:only-of-type {\n",
       "        vertical-align: middle;\n",
       "    }\n",
       "\n",
       "    .dataframe tbody tr th {\n",
       "        vertical-align: top;\n",
       "    }\n",
       "\n",
       "    .dataframe thead th {\n",
       "        text-align: right;\n",
       "    }\n",
       "</style>\n",
       "<table border=\"1\" class=\"dataframe\">\n",
       "  <thead>\n",
       "    <tr style=\"text-align: right;\">\n",
       "      <th></th>\n",
       "      <th>PlantertIDP</th>\n",
       "      <th>CompletionDate</th>\n",
       "      <th>BirthDate</th>\n",
       "      <th>State</th>\n",
       "      <th>Approved</th>\n",
       "      <th>MaritalStatus</th>\n",
       "      <th>CandidateDISC</th>\n",
       "      <th>CouplePrepare_EnrichType</th>\n",
       "      <th>Candidate_and_Observer_OverallAverage</th>\n",
       "      <th>Candidate_Overall</th>\n",
       "      <th>...</th>\n",
       "      <th>CANDIDATE_360_DERAILER_UNADDRESSED_MARITAL_ISSUES</th>\n",
       "      <th>CANDIDATE_360_DERAILER_UNRESOLVED_EMOTIONAL_ISSUES</th>\n",
       "      <th>CANDIDATE_360_DERAILER_BEING_NON_EVANGELISTIC</th>\n",
       "      <th>CANDIDATE_360_DERAILER_NOT_MAKING_DISCIPLES</th>\n",
       "      <th>CANDIDATE_360_DERAILER_LACK_OF_SPOUSAL_SUPPORT</th>\n",
       "      <th>CANDIDATE_360_CIR_LACK_OF_FUNDING</th>\n",
       "      <th>CANDIDATE_360_CIR_LACK_OF_PARTNERS</th>\n",
       "      <th>CANDIDATE_360_CIR_LACK_OF_FAMILIARITY_WITH_CONTEXT</th>\n",
       "      <th>CANDIDATE_360_CIR_PROXIMITY_TO_EXTENDED_FAMILY</th>\n",
       "      <th>CANDIDATE_360_CIR_LACK_OF_MINISTRY_EXPERIENCE</th>\n",
       "    </tr>\n",
       "  </thead>\n",
       "  <tbody>\n",
       "    <tr>\n",
       "      <th>0</th>\n",
       "      <td>7d209eed-21bb-4d0b-ace9-e321bf04ad29</td>\n",
       "      <td>2020-04-03T00:00:00</td>\n",
       "      <td>1992-01-03T00:00:00</td>\n",
       "      <td>VT</td>\n",
       "      <td>1</td>\n",
       "      <td>Married</td>\n",
       "      <td>CD</td>\n",
       "      <td>Vitalized</td>\n",
       "      <td>88</td>\n",
       "      <td>90</td>\n",
       "      <td>...</td>\n",
       "      <td>0</td>\n",
       "      <td>0</td>\n",
       "      <td>0</td>\n",
       "      <td>0</td>\n",
       "      <td>0</td>\n",
       "      <td>2</td>\n",
       "      <td>0</td>\n",
       "      <td>1</td>\n",
       "      <td>0</td>\n",
       "      <td>2</td>\n",
       "    </tr>\n",
       "    <tr>\n",
       "      <th>1</th>\n",
       "      <td>857b5ad9-26f1-494c-92d2-84260cf64439</td>\n",
       "      <td>2019-11-06T00:00:00</td>\n",
       "      <td>1989-08-17T00:00:00</td>\n",
       "      <td>ON</td>\n",
       "      <td>0</td>\n",
       "      <td>Married</td>\n",
       "      <td>DI</td>\n",
       "      <td>Vitalized</td>\n",
       "      <td>84</td>\n",
       "      <td>80</td>\n",
       "      <td>...</td>\n",
       "      <td>0</td>\n",
       "      <td>0</td>\n",
       "      <td>0</td>\n",
       "      <td>0</td>\n",
       "      <td>0</td>\n",
       "      <td>0</td>\n",
       "      <td>1</td>\n",
       "      <td>0</td>\n",
       "      <td>1</td>\n",
       "      <td>3</td>\n",
       "    </tr>\n",
       "    <tr>\n",
       "      <th>2</th>\n",
       "      <td>d6a522d0-2ced-400a-9129-155141397c8b</td>\n",
       "      <td>2019-10-16T00:00:00</td>\n",
       "      <td>1982-02-18T00:00:00</td>\n",
       "      <td>ON</td>\n",
       "      <td>1</td>\n",
       "      <td>Married</td>\n",
       "      <td>D</td>\n",
       "      <td>Vitalized</td>\n",
       "      <td>89</td>\n",
       "      <td>85</td>\n",
       "      <td>...</td>\n",
       "      <td>0</td>\n",
       "      <td>0</td>\n",
       "      <td>0</td>\n",
       "      <td>0</td>\n",
       "      <td>0</td>\n",
       "      <td>1</td>\n",
       "      <td>0</td>\n",
       "      <td>0</td>\n",
       "      <td>0</td>\n",
       "      <td>1</td>\n",
       "    </tr>\n",
       "    <tr>\n",
       "      <th>3</th>\n",
       "      <td>22d708a3-0f05-439d-b917-6241575e0da2</td>\n",
       "      <td>2019-10-07T00:00:00</td>\n",
       "      <td>1979-09-02T00:00:00</td>\n",
       "      <td>ON</td>\n",
       "      <td>1</td>\n",
       "      <td>Single - Divorced</td>\n",
       "      <td>C</td>\n",
       "      <td>NaN</td>\n",
       "      <td>93</td>\n",
       "      <td>96</td>\n",
       "      <td>...</td>\n",
       "      <td>0</td>\n",
       "      <td>0</td>\n",
       "      <td>0</td>\n",
       "      <td>0</td>\n",
       "      <td>1</td>\n",
       "      <td>2</td>\n",
       "      <td>1</td>\n",
       "      <td>0</td>\n",
       "      <td>0</td>\n",
       "      <td>0</td>\n",
       "    </tr>\n",
       "    <tr>\n",
       "      <th>4</th>\n",
       "      <td>044b567b-1e3b-4214-9503-867774b32dd3</td>\n",
       "      <td>2019-11-06T00:00:00</td>\n",
       "      <td>1981-10-22T00:00:00</td>\n",
       "      <td>ON</td>\n",
       "      <td>1</td>\n",
       "      <td>Married</td>\n",
       "      <td>C</td>\n",
       "      <td>Conventional</td>\n",
       "      <td>79</td>\n",
       "      <td>77</td>\n",
       "      <td>...</td>\n",
       "      <td>0</td>\n",
       "      <td>0</td>\n",
       "      <td>0</td>\n",
       "      <td>0</td>\n",
       "      <td>0</td>\n",
       "      <td>2</td>\n",
       "      <td>1</td>\n",
       "      <td>0</td>\n",
       "      <td>0</td>\n",
       "      <td>1</td>\n",
       "    </tr>\n",
       "    <tr>\n",
       "      <th>...</th>\n",
       "      <td>...</td>\n",
       "      <td>...</td>\n",
       "      <td>...</td>\n",
       "      <td>...</td>\n",
       "      <td>...</td>\n",
       "      <td>...</td>\n",
       "      <td>...</td>\n",
       "      <td>...</td>\n",
       "      <td>...</td>\n",
       "      <td>...</td>\n",
       "      <td>...</td>\n",
       "      <td>...</td>\n",
       "      <td>...</td>\n",
       "      <td>...</td>\n",
       "      <td>...</td>\n",
       "      <td>...</td>\n",
       "      <td>...</td>\n",
       "      <td>...</td>\n",
       "      <td>...</td>\n",
       "      <td>...</td>\n",
       "      <td>...</td>\n",
       "    </tr>\n",
       "    <tr>\n",
       "      <th>1027</th>\n",
       "      <td>3f534a2b-03eb-4f79-b525-20449356fcdc</td>\n",
       "      <td>2021-09-29T00:00:00</td>\n",
       "      <td>1997-07-21T00:00:00</td>\n",
       "      <td>NaN</td>\n",
       "      <td>1</td>\n",
       "      <td>Married</td>\n",
       "      <td>I</td>\n",
       "      <td>Conventional</td>\n",
       "      <td>87</td>\n",
       "      <td>87</td>\n",
       "      <td>...</td>\n",
       "      <td>0</td>\n",
       "      <td>0</td>\n",
       "      <td>0</td>\n",
       "      <td>0</td>\n",
       "      <td>0</td>\n",
       "      <td>3</td>\n",
       "      <td>1</td>\n",
       "      <td>1</td>\n",
       "      <td>2</td>\n",
       "      <td>2</td>\n",
       "    </tr>\n",
       "    <tr>\n",
       "      <th>1028</th>\n",
       "      <td>12bb9fdc-a943-4121-917c-6d0a7d9acbe4</td>\n",
       "      <td>2021-09-29T00:00:00</td>\n",
       "      <td>1990-09-28T00:00:00</td>\n",
       "      <td>CA</td>\n",
       "      <td>0</td>\n",
       "      <td>Married</td>\n",
       "      <td>CD</td>\n",
       "      <td>Vitalized</td>\n",
       "      <td>92</td>\n",
       "      <td>96</td>\n",
       "      <td>...</td>\n",
       "      <td>0</td>\n",
       "      <td>1</td>\n",
       "      <td>0</td>\n",
       "      <td>0</td>\n",
       "      <td>0</td>\n",
       "      <td>0</td>\n",
       "      <td>0</td>\n",
       "      <td>0</td>\n",
       "      <td>0</td>\n",
       "      <td>1</td>\n",
       "    </tr>\n",
       "    <tr>\n",
       "      <th>1029</th>\n",
       "      <td>b80620b9-556f-4b42-9a12-9ba0083aa1c1</td>\n",
       "      <td>2021-09-29T00:00:00</td>\n",
       "      <td>1992-05-15T00:00:00</td>\n",
       "      <td>NaN</td>\n",
       "      <td>0</td>\n",
       "      <td>Married</td>\n",
       "      <td>S</td>\n",
       "      <td>Conventional</td>\n",
       "      <td>83</td>\n",
       "      <td>82</td>\n",
       "      <td>...</td>\n",
       "      <td>0</td>\n",
       "      <td>2</td>\n",
       "      <td>0</td>\n",
       "      <td>0</td>\n",
       "      <td>0</td>\n",
       "      <td>2</td>\n",
       "      <td>0</td>\n",
       "      <td>1</td>\n",
       "      <td>0</td>\n",
       "      <td>0</td>\n",
       "    </tr>\n",
       "    <tr>\n",
       "      <th>1030</th>\n",
       "      <td>f5851ecc-9045-482b-a10f-f91511f221ff</td>\n",
       "      <td>2021-09-29T00:00:00</td>\n",
       "      <td>1969-11-04T00:00:00</td>\n",
       "      <td>FL</td>\n",
       "      <td>1</td>\n",
       "      <td>Married</td>\n",
       "      <td>SC</td>\n",
       "      <td>Vitalized</td>\n",
       "      <td>86</td>\n",
       "      <td>79</td>\n",
       "      <td>...</td>\n",
       "      <td>0</td>\n",
       "      <td>0</td>\n",
       "      <td>0</td>\n",
       "      <td>0</td>\n",
       "      <td>0</td>\n",
       "      <td>0</td>\n",
       "      <td>0</td>\n",
       "      <td>1</td>\n",
       "      <td>0</td>\n",
       "      <td>1</td>\n",
       "    </tr>\n",
       "    <tr>\n",
       "      <th>1031</th>\n",
       "      <td>7c8aa2ac-1c4f-4787-a5a3-33509b640192</td>\n",
       "      <td>2021-09-30T00:00:00</td>\n",
       "      <td>1974-03-29T00:00:00</td>\n",
       "      <td>NaN</td>\n",
       "      <td>1</td>\n",
       "      <td>Married</td>\n",
       "      <td>D</td>\n",
       "      <td>Harmonious</td>\n",
       "      <td>89</td>\n",
       "      <td>90</td>\n",
       "      <td>...</td>\n",
       "      <td>0</td>\n",
       "      <td>0</td>\n",
       "      <td>0</td>\n",
       "      <td>0</td>\n",
       "      <td>0</td>\n",
       "      <td>0</td>\n",
       "      <td>0</td>\n",
       "      <td>1</td>\n",
       "      <td>0</td>\n",
       "      <td>1</td>\n",
       "    </tr>\n",
       "  </tbody>\n",
       "</table>\n",
       "<p>1032 rows × 276 columns</p>\n",
       "</div>"
      ],
      "text/plain": [
       "                               PlantertIDP       CompletionDate  \\\n",
       "0     7d209eed-21bb-4d0b-ace9-e321bf04ad29  2020-04-03T00:00:00   \n",
       "1     857b5ad9-26f1-494c-92d2-84260cf64439  2019-11-06T00:00:00   \n",
       "2     d6a522d0-2ced-400a-9129-155141397c8b  2019-10-16T00:00:00   \n",
       "3     22d708a3-0f05-439d-b917-6241575e0da2  2019-10-07T00:00:00   \n",
       "4     044b567b-1e3b-4214-9503-867774b32dd3  2019-11-06T00:00:00   \n",
       "...                                    ...                  ...   \n",
       "1027  3f534a2b-03eb-4f79-b525-20449356fcdc  2021-09-29T00:00:00   \n",
       "1028  12bb9fdc-a943-4121-917c-6d0a7d9acbe4  2021-09-29T00:00:00   \n",
       "1029  b80620b9-556f-4b42-9a12-9ba0083aa1c1  2021-09-29T00:00:00   \n",
       "1030  f5851ecc-9045-482b-a10f-f91511f221ff  2021-09-29T00:00:00   \n",
       "1031  7c8aa2ac-1c4f-4787-a5a3-33509b640192  2021-09-30T00:00:00   \n",
       "\n",
       "                BirthDate State  Approved      MaritalStatus CandidateDISC  \\\n",
       "0     1992-01-03T00:00:00    VT         1            Married            CD   \n",
       "1     1989-08-17T00:00:00    ON         0            Married            DI   \n",
       "2     1982-02-18T00:00:00    ON         1            Married             D   \n",
       "3     1979-09-02T00:00:00    ON         1  Single - Divorced             C   \n",
       "4     1981-10-22T00:00:00    ON         1            Married             C   \n",
       "...                   ...   ...       ...                ...           ...   \n",
       "1027  1997-07-21T00:00:00   NaN         1            Married             I   \n",
       "1028  1990-09-28T00:00:00    CA         0            Married            CD   \n",
       "1029  1992-05-15T00:00:00   NaN         0            Married             S   \n",
       "1030  1969-11-04T00:00:00    FL         1            Married            SC   \n",
       "1031  1974-03-29T00:00:00   NaN         1            Married             D   \n",
       "\n",
       "     CouplePrepare_EnrichType  Candidate_and_Observer_OverallAverage  \\\n",
       "0                   Vitalized                                     88   \n",
       "1                   Vitalized                                     84   \n",
       "2                   Vitalized                                     89   \n",
       "3                         NaN                                     93   \n",
       "4                Conventional                                     79   \n",
       "...                       ...                                    ...   \n",
       "1027             Conventional                                     87   \n",
       "1028                Vitalized                                     92   \n",
       "1029             Conventional                                     83   \n",
       "1030                Vitalized                                     86   \n",
       "1031               Harmonious                                     89   \n",
       "\n",
       "      Candidate_Overall  ...  \\\n",
       "0                    90  ...   \n",
       "1                    80  ...   \n",
       "2                    85  ...   \n",
       "3                    96  ...   \n",
       "4                    77  ...   \n",
       "...                 ...  ...   \n",
       "1027                 87  ...   \n",
       "1028                 96  ...   \n",
       "1029                 82  ...   \n",
       "1030                 79  ...   \n",
       "1031                 90  ...   \n",
       "\n",
       "      CANDIDATE_360_DERAILER_UNADDRESSED_MARITAL_ISSUES  \\\n",
       "0                                                     0   \n",
       "1                                                     0   \n",
       "2                                                     0   \n",
       "3                                                     0   \n",
       "4                                                     0   \n",
       "...                                                 ...   \n",
       "1027                                                  0   \n",
       "1028                                                  0   \n",
       "1029                                                  0   \n",
       "1030                                                  0   \n",
       "1031                                                  0   \n",
       "\n",
       "      CANDIDATE_360_DERAILER_UNRESOLVED_EMOTIONAL_ISSUES  \\\n",
       "0                                                     0    \n",
       "1                                                     0    \n",
       "2                                                     0    \n",
       "3                                                     0    \n",
       "4                                                     0    \n",
       "...                                                 ...    \n",
       "1027                                                  0    \n",
       "1028                                                  1    \n",
       "1029                                                  2    \n",
       "1030                                                  0    \n",
       "1031                                                  0    \n",
       "\n",
       "      CANDIDATE_360_DERAILER_BEING_NON_EVANGELISTIC  \\\n",
       "0                                                 0   \n",
       "1                                                 0   \n",
       "2                                                 0   \n",
       "3                                                 0   \n",
       "4                                                 0   \n",
       "...                                             ...   \n",
       "1027                                              0   \n",
       "1028                                              0   \n",
       "1029                                              0   \n",
       "1030                                              0   \n",
       "1031                                              0   \n",
       "\n",
       "      CANDIDATE_360_DERAILER_NOT_MAKING_DISCIPLES  \\\n",
       "0                                               0   \n",
       "1                                               0   \n",
       "2                                               0   \n",
       "3                                               0   \n",
       "4                                               0   \n",
       "...                                           ...   \n",
       "1027                                            0   \n",
       "1028                                            0   \n",
       "1029                                            0   \n",
       "1030                                            0   \n",
       "1031                                            0   \n",
       "\n",
       "      CANDIDATE_360_DERAILER_LACK_OF_SPOUSAL_SUPPORT  \\\n",
       "0                                                  0   \n",
       "1                                                  0   \n",
       "2                                                  0   \n",
       "3                                                  1   \n",
       "4                                                  0   \n",
       "...                                              ...   \n",
       "1027                                               0   \n",
       "1028                                               0   \n",
       "1029                                               0   \n",
       "1030                                               0   \n",
       "1031                                               0   \n",
       "\n",
       "      CANDIDATE_360_CIR_LACK_OF_FUNDING  CANDIDATE_360_CIR_LACK_OF_PARTNERS  \\\n",
       "0                                     2                                   0   \n",
       "1                                     0                                   1   \n",
       "2                                     1                                   0   \n",
       "3                                     2                                   1   \n",
       "4                                     2                                   1   \n",
       "...                                 ...                                 ...   \n",
       "1027                                  3                                   1   \n",
       "1028                                  0                                   0   \n",
       "1029                                  2                                   0   \n",
       "1030                                  0                                   0   \n",
       "1031                                  0                                   0   \n",
       "\n",
       "      CANDIDATE_360_CIR_LACK_OF_FAMILIARITY_WITH_CONTEXT  \\\n",
       "0                                                     1    \n",
       "1                                                     0    \n",
       "2                                                     0    \n",
       "3                                                     0    \n",
       "4                                                     0    \n",
       "...                                                 ...    \n",
       "1027                                                  1    \n",
       "1028                                                  0    \n",
       "1029                                                  1    \n",
       "1030                                                  1    \n",
       "1031                                                  1    \n",
       "\n",
       "      CANDIDATE_360_CIR_PROXIMITY_TO_EXTENDED_FAMILY  \\\n",
       "0                                                  0   \n",
       "1                                                  1   \n",
       "2                                                  0   \n",
       "3                                                  0   \n",
       "4                                                  0   \n",
       "...                                              ...   \n",
       "1027                                               2   \n",
       "1028                                               0   \n",
       "1029                                               0   \n",
       "1030                                               0   \n",
       "1031                                               0   \n",
       "\n",
       "      CANDIDATE_360_CIR_LACK_OF_MINISTRY_EXPERIENCE  \n",
       "0                                                 2  \n",
       "1                                                 3  \n",
       "2                                                 1  \n",
       "3                                                 0  \n",
       "4                                                 1  \n",
       "...                                             ...  \n",
       "1027                                              2  \n",
       "1028                                              1  \n",
       "1029                                              0  \n",
       "1030                                              1  \n",
       "1031                                              1  \n",
       "\n",
       "[1032 rows x 276 columns]"
      ]
     },
     "execution_count": 3,
     "metadata": {},
     "output_type": "execute_result"
    }
   ],
   "source": [
    "data = data.drop(columns=['Idp_Id'])\n",
    "data"
   ]
  },
  {
   "cell_type": "code",
   "execution_count": 4,
   "id": "53afe781",
   "metadata": {},
   "outputs": [
    {
     "data": {
      "text/plain": [
       "Index(['PlantertIDP', 'CompletionDate', 'BirthDate', 'State', 'Approved',\n",
       "       'MaritalStatus', 'CandidateDISC', 'CouplePrepare_EnrichType',\n",
       "       'Candidate_and_Observer_OverallAverage', 'Candidate_Overall',\n",
       "       ...\n",
       "       'CANDIDATE_360_DERAILER_UNADDRESSED_MARITAL_ISSUES',\n",
       "       'CANDIDATE_360_DERAILER_UNRESOLVED_EMOTIONAL_ISSUES',\n",
       "       'CANDIDATE_360_DERAILER_BEING_NON_EVANGELISTIC',\n",
       "       'CANDIDATE_360_DERAILER_NOT_MAKING_DISCIPLES',\n",
       "       'CANDIDATE_360_DERAILER_LACK_OF_SPOUSAL_SUPPORT',\n",
       "       'CANDIDATE_360_CIR_LACK_OF_FUNDING',\n",
       "       'CANDIDATE_360_CIR_LACK_OF_PARTNERS',\n",
       "       'CANDIDATE_360_CIR_LACK_OF_FAMILIARITY_WITH_CONTEXT',\n",
       "       'CANDIDATE_360_CIR_PROXIMITY_TO_EXTENDED_FAMILY',\n",
       "       'CANDIDATE_360_CIR_LACK_OF_MINISTRY_EXPERIENCE'],\n",
       "      dtype='object', length=276)"
      ]
     },
     "execution_count": 4,
     "metadata": {},
     "output_type": "execute_result"
    }
   ],
   "source": [
    "data.columns"
   ]
  },
  {
   "cell_type": "code",
   "execution_count": null,
   "id": "6bfb7aa2",
   "metadata": {},
   "outputs": [],
   "source": []
  },
  {
   "cell_type": "code",
   "execution_count": 5,
   "id": "413fe85e",
   "metadata": {},
   "outputs": [],
   "source": [
    "%matplotlib inline\n",
    "\n",
    "import matplotlib as mpl\n",
    "import matplotlib.pyplot as plt\n",
    "mpl.rc('axes', labelsize=14)\n",
    "mpl.rc('xtick', labelsize=12)\n",
    "mpl.rc('ytick', labelsize=12)\n",
    "\n",
    "import os\n",
    "\n",
    "PROJECT_ROOT_DIR = \".\"\n",
    "IMAGES_PATH = os.path.join(PROJECT_ROOT_DIR, \"images\")\n",
    "os.makedirs(IMAGES_PATH, exist_ok=True)\n",
    "\n",
    "# Function for saving images\n",
    "def save_fig(fig_id, tight_layout=False, fig_extension=\"png\", resolution=300):\n",
    "    path = os.path.join(IMAGES_PATH, fig_id + \".\" + fig_extension)\n",
    "    print(\"Saving figure\", fig_id)\n",
    "    if tight_layout:\n",
    "        plt.tight_layout()\n",
    "    plt.savefig(path, format=fig_extension, dpi=resolution)"
   ]
  },
  {
   "cell_type": "code",
   "execution_count": 6,
   "id": "f979c9e6",
   "metadata": {},
   "outputs": [
    {
     "name": "stdout",
     "output_type": "stream",
     "text": [
      "<class 'pandas.core.frame.DataFrame'>\n",
      "RangeIndex: 1032 entries, 0 to 1031\n",
      "Columns: 276 entries, PlantertIDP to CANDIDATE_360_CIR_LACK_OF_MINISTRY_EXPERIENCE\n",
      "dtypes: int64(269), object(7)\n",
      "memory usage: 2.2+ MB\n"
     ]
    }
   ],
   "source": [
    "# Inspect data\n",
    "\n",
    "data.info()"
   ]
  },
  {
   "cell_type": "code",
   "execution_count": 7,
   "id": "0dd8ac1c",
   "metadata": {},
   "outputs": [],
   "source": [
    "# Replace NaN's in 'CouplePrepare_EnrichType' and 'MaritalStatus' columns\n",
    "\n",
    "data['CouplePrepare_EnrichType'] = data['CouplePrepare_EnrichType'].replace([np.nan],'other')\n",
    "data['MaritalStatus'] = data['MaritalStatus'].replace([np.nan],'Married')"
   ]
  },
  {
   "cell_type": "code",
   "execution_count": 8,
   "id": "9519f5cf",
   "metadata": {},
   "outputs": [
    {
     "data": {
      "text/html": [
       "<div>\n",
       "<style scoped>\n",
       "    .dataframe tbody tr th:only-of-type {\n",
       "        vertical-align: middle;\n",
       "    }\n",
       "\n",
       "    .dataframe tbody tr th {\n",
       "        vertical-align: top;\n",
       "    }\n",
       "\n",
       "    .dataframe thead th {\n",
       "        text-align: right;\n",
       "    }\n",
       "</style>\n",
       "<table border=\"1\" class=\"dataframe\">\n",
       "  <thead>\n",
       "    <tr style=\"text-align: right;\">\n",
       "      <th></th>\n",
       "      <th>PlantertIDP</th>\n",
       "      <th>CompletionDate</th>\n",
       "      <th>BirthDate</th>\n",
       "      <th>State</th>\n",
       "      <th>Approved</th>\n",
       "      <th>MaritalStatus</th>\n",
       "      <th>CandidateDISC</th>\n",
       "      <th>CouplePrepare_EnrichType</th>\n",
       "      <th>Candidate_and_Observer_OverallAverage</th>\n",
       "      <th>Candidate_Overall</th>\n",
       "      <th>...</th>\n",
       "      <th>CANDIDATE_360_DERAILER_UNADDRESSED_MARITAL_ISSUES</th>\n",
       "      <th>CANDIDATE_360_DERAILER_UNRESOLVED_EMOTIONAL_ISSUES</th>\n",
       "      <th>CANDIDATE_360_DERAILER_BEING_NON_EVANGELISTIC</th>\n",
       "      <th>CANDIDATE_360_DERAILER_NOT_MAKING_DISCIPLES</th>\n",
       "      <th>CANDIDATE_360_DERAILER_LACK_OF_SPOUSAL_SUPPORT</th>\n",
       "      <th>CANDIDATE_360_CIR_LACK_OF_FUNDING</th>\n",
       "      <th>CANDIDATE_360_CIR_LACK_OF_PARTNERS</th>\n",
       "      <th>CANDIDATE_360_CIR_LACK_OF_FAMILIARITY_WITH_CONTEXT</th>\n",
       "      <th>CANDIDATE_360_CIR_PROXIMITY_TO_EXTENDED_FAMILY</th>\n",
       "      <th>CANDIDATE_360_CIR_LACK_OF_MINISTRY_EXPERIENCE</th>\n",
       "    </tr>\n",
       "  </thead>\n",
       "  <tbody>\n",
       "    <tr>\n",
       "      <th>0</th>\n",
       "      <td>7d209eed-21bb-4d0b-ace9-e321bf04ad29</td>\n",
       "      <td>2020-04-03T00:00:00</td>\n",
       "      <td>1992-01-03T00:00:00</td>\n",
       "      <td>VT</td>\n",
       "      <td>1</td>\n",
       "      <td>Married</td>\n",
       "      <td>CD</td>\n",
       "      <td>Vitalized</td>\n",
       "      <td>88</td>\n",
       "      <td>90</td>\n",
       "      <td>...</td>\n",
       "      <td>0</td>\n",
       "      <td>0</td>\n",
       "      <td>0</td>\n",
       "      <td>0</td>\n",
       "      <td>0</td>\n",
       "      <td>2</td>\n",
       "      <td>0</td>\n",
       "      <td>1</td>\n",
       "      <td>0</td>\n",
       "      <td>2</td>\n",
       "    </tr>\n",
       "    <tr>\n",
       "      <th>1</th>\n",
       "      <td>857b5ad9-26f1-494c-92d2-84260cf64439</td>\n",
       "      <td>2019-11-06T00:00:00</td>\n",
       "      <td>1989-08-17T00:00:00</td>\n",
       "      <td>ON</td>\n",
       "      <td>0</td>\n",
       "      <td>Married</td>\n",
       "      <td>DI</td>\n",
       "      <td>Vitalized</td>\n",
       "      <td>84</td>\n",
       "      <td>80</td>\n",
       "      <td>...</td>\n",
       "      <td>0</td>\n",
       "      <td>0</td>\n",
       "      <td>0</td>\n",
       "      <td>0</td>\n",
       "      <td>0</td>\n",
       "      <td>0</td>\n",
       "      <td>1</td>\n",
       "      <td>0</td>\n",
       "      <td>1</td>\n",
       "      <td>3</td>\n",
       "    </tr>\n",
       "    <tr>\n",
       "      <th>2</th>\n",
       "      <td>d6a522d0-2ced-400a-9129-155141397c8b</td>\n",
       "      <td>2019-10-16T00:00:00</td>\n",
       "      <td>1982-02-18T00:00:00</td>\n",
       "      <td>ON</td>\n",
       "      <td>1</td>\n",
       "      <td>Married</td>\n",
       "      <td>D</td>\n",
       "      <td>Vitalized</td>\n",
       "      <td>89</td>\n",
       "      <td>85</td>\n",
       "      <td>...</td>\n",
       "      <td>0</td>\n",
       "      <td>0</td>\n",
       "      <td>0</td>\n",
       "      <td>0</td>\n",
       "      <td>0</td>\n",
       "      <td>1</td>\n",
       "      <td>0</td>\n",
       "      <td>0</td>\n",
       "      <td>0</td>\n",
       "      <td>1</td>\n",
       "    </tr>\n",
       "    <tr>\n",
       "      <th>3</th>\n",
       "      <td>22d708a3-0f05-439d-b917-6241575e0da2</td>\n",
       "      <td>2019-10-07T00:00:00</td>\n",
       "      <td>1979-09-02T00:00:00</td>\n",
       "      <td>ON</td>\n",
       "      <td>1</td>\n",
       "      <td>Single - Divorced</td>\n",
       "      <td>C</td>\n",
       "      <td>other</td>\n",
       "      <td>93</td>\n",
       "      <td>96</td>\n",
       "      <td>...</td>\n",
       "      <td>0</td>\n",
       "      <td>0</td>\n",
       "      <td>0</td>\n",
       "      <td>0</td>\n",
       "      <td>1</td>\n",
       "      <td>2</td>\n",
       "      <td>1</td>\n",
       "      <td>0</td>\n",
       "      <td>0</td>\n",
       "      <td>0</td>\n",
       "    </tr>\n",
       "    <tr>\n",
       "      <th>4</th>\n",
       "      <td>044b567b-1e3b-4214-9503-867774b32dd3</td>\n",
       "      <td>2019-11-06T00:00:00</td>\n",
       "      <td>1981-10-22T00:00:00</td>\n",
       "      <td>ON</td>\n",
       "      <td>1</td>\n",
       "      <td>Married</td>\n",
       "      <td>C</td>\n",
       "      <td>Conventional</td>\n",
       "      <td>79</td>\n",
       "      <td>77</td>\n",
       "      <td>...</td>\n",
       "      <td>0</td>\n",
       "      <td>0</td>\n",
       "      <td>0</td>\n",
       "      <td>0</td>\n",
       "      <td>0</td>\n",
       "      <td>2</td>\n",
       "      <td>1</td>\n",
       "      <td>0</td>\n",
       "      <td>0</td>\n",
       "      <td>1</td>\n",
       "    </tr>\n",
       "    <tr>\n",
       "      <th>...</th>\n",
       "      <td>...</td>\n",
       "      <td>...</td>\n",
       "      <td>...</td>\n",
       "      <td>...</td>\n",
       "      <td>...</td>\n",
       "      <td>...</td>\n",
       "      <td>...</td>\n",
       "      <td>...</td>\n",
       "      <td>...</td>\n",
       "      <td>...</td>\n",
       "      <td>...</td>\n",
       "      <td>...</td>\n",
       "      <td>...</td>\n",
       "      <td>...</td>\n",
       "      <td>...</td>\n",
       "      <td>...</td>\n",
       "      <td>...</td>\n",
       "      <td>...</td>\n",
       "      <td>...</td>\n",
       "      <td>...</td>\n",
       "      <td>...</td>\n",
       "    </tr>\n",
       "    <tr>\n",
       "      <th>1027</th>\n",
       "      <td>3f534a2b-03eb-4f79-b525-20449356fcdc</td>\n",
       "      <td>2021-09-29T00:00:00</td>\n",
       "      <td>1997-07-21T00:00:00</td>\n",
       "      <td>WA</td>\n",
       "      <td>1</td>\n",
       "      <td>Married</td>\n",
       "      <td>I</td>\n",
       "      <td>Conventional</td>\n",
       "      <td>87</td>\n",
       "      <td>87</td>\n",
       "      <td>...</td>\n",
       "      <td>0</td>\n",
       "      <td>0</td>\n",
       "      <td>0</td>\n",
       "      <td>0</td>\n",
       "      <td>0</td>\n",
       "      <td>3</td>\n",
       "      <td>1</td>\n",
       "      <td>1</td>\n",
       "      <td>2</td>\n",
       "      <td>2</td>\n",
       "    </tr>\n",
       "    <tr>\n",
       "      <th>1028</th>\n",
       "      <td>12bb9fdc-a943-4121-917c-6d0a7d9acbe4</td>\n",
       "      <td>2021-09-29T00:00:00</td>\n",
       "      <td>1990-09-28T00:00:00</td>\n",
       "      <td>CA</td>\n",
       "      <td>0</td>\n",
       "      <td>Married</td>\n",
       "      <td>CD</td>\n",
       "      <td>Vitalized</td>\n",
       "      <td>92</td>\n",
       "      <td>96</td>\n",
       "      <td>...</td>\n",
       "      <td>0</td>\n",
       "      <td>1</td>\n",
       "      <td>0</td>\n",
       "      <td>0</td>\n",
       "      <td>0</td>\n",
       "      <td>0</td>\n",
       "      <td>0</td>\n",
       "      <td>0</td>\n",
       "      <td>0</td>\n",
       "      <td>1</td>\n",
       "    </tr>\n",
       "    <tr>\n",
       "      <th>1029</th>\n",
       "      <td>b80620b9-556f-4b42-9a12-9ba0083aa1c1</td>\n",
       "      <td>2021-09-29T00:00:00</td>\n",
       "      <td>1992-05-15T00:00:00</td>\n",
       "      <td>CA</td>\n",
       "      <td>0</td>\n",
       "      <td>Married</td>\n",
       "      <td>S</td>\n",
       "      <td>Conventional</td>\n",
       "      <td>83</td>\n",
       "      <td>82</td>\n",
       "      <td>...</td>\n",
       "      <td>0</td>\n",
       "      <td>2</td>\n",
       "      <td>0</td>\n",
       "      <td>0</td>\n",
       "      <td>0</td>\n",
       "      <td>2</td>\n",
       "      <td>0</td>\n",
       "      <td>1</td>\n",
       "      <td>0</td>\n",
       "      <td>0</td>\n",
       "    </tr>\n",
       "    <tr>\n",
       "      <th>1030</th>\n",
       "      <td>f5851ecc-9045-482b-a10f-f91511f221ff</td>\n",
       "      <td>2021-09-29T00:00:00</td>\n",
       "      <td>1969-11-04T00:00:00</td>\n",
       "      <td>FL</td>\n",
       "      <td>1</td>\n",
       "      <td>Married</td>\n",
       "      <td>SC</td>\n",
       "      <td>Vitalized</td>\n",
       "      <td>86</td>\n",
       "      <td>79</td>\n",
       "      <td>...</td>\n",
       "      <td>0</td>\n",
       "      <td>0</td>\n",
       "      <td>0</td>\n",
       "      <td>0</td>\n",
       "      <td>0</td>\n",
       "      <td>0</td>\n",
       "      <td>0</td>\n",
       "      <td>1</td>\n",
       "      <td>0</td>\n",
       "      <td>1</td>\n",
       "    </tr>\n",
       "    <tr>\n",
       "      <th>1031</th>\n",
       "      <td>7c8aa2ac-1c4f-4787-a5a3-33509b640192</td>\n",
       "      <td>2021-09-30T00:00:00</td>\n",
       "      <td>1974-03-29T00:00:00</td>\n",
       "      <td>FL</td>\n",
       "      <td>1</td>\n",
       "      <td>Married</td>\n",
       "      <td>D</td>\n",
       "      <td>Harmonious</td>\n",
       "      <td>89</td>\n",
       "      <td>90</td>\n",
       "      <td>...</td>\n",
       "      <td>0</td>\n",
       "      <td>0</td>\n",
       "      <td>0</td>\n",
       "      <td>0</td>\n",
       "      <td>0</td>\n",
       "      <td>0</td>\n",
       "      <td>0</td>\n",
       "      <td>1</td>\n",
       "      <td>0</td>\n",
       "      <td>1</td>\n",
       "    </tr>\n",
       "  </tbody>\n",
       "</table>\n",
       "<p>1032 rows × 276 columns</p>\n",
       "</div>"
      ],
      "text/plain": [
       "                               PlantertIDP       CompletionDate  \\\n",
       "0     7d209eed-21bb-4d0b-ace9-e321bf04ad29  2020-04-03T00:00:00   \n",
       "1     857b5ad9-26f1-494c-92d2-84260cf64439  2019-11-06T00:00:00   \n",
       "2     d6a522d0-2ced-400a-9129-155141397c8b  2019-10-16T00:00:00   \n",
       "3     22d708a3-0f05-439d-b917-6241575e0da2  2019-10-07T00:00:00   \n",
       "4     044b567b-1e3b-4214-9503-867774b32dd3  2019-11-06T00:00:00   \n",
       "...                                    ...                  ...   \n",
       "1027  3f534a2b-03eb-4f79-b525-20449356fcdc  2021-09-29T00:00:00   \n",
       "1028  12bb9fdc-a943-4121-917c-6d0a7d9acbe4  2021-09-29T00:00:00   \n",
       "1029  b80620b9-556f-4b42-9a12-9ba0083aa1c1  2021-09-29T00:00:00   \n",
       "1030  f5851ecc-9045-482b-a10f-f91511f221ff  2021-09-29T00:00:00   \n",
       "1031  7c8aa2ac-1c4f-4787-a5a3-33509b640192  2021-09-30T00:00:00   \n",
       "\n",
       "                BirthDate State  Approved      MaritalStatus CandidateDISC  \\\n",
       "0     1992-01-03T00:00:00    VT         1            Married            CD   \n",
       "1     1989-08-17T00:00:00    ON         0            Married            DI   \n",
       "2     1982-02-18T00:00:00    ON         1            Married             D   \n",
       "3     1979-09-02T00:00:00    ON         1  Single - Divorced             C   \n",
       "4     1981-10-22T00:00:00    ON         1            Married             C   \n",
       "...                   ...   ...       ...                ...           ...   \n",
       "1027  1997-07-21T00:00:00    WA         1            Married             I   \n",
       "1028  1990-09-28T00:00:00    CA         0            Married            CD   \n",
       "1029  1992-05-15T00:00:00    CA         0            Married             S   \n",
       "1030  1969-11-04T00:00:00    FL         1            Married            SC   \n",
       "1031  1974-03-29T00:00:00    FL         1            Married             D   \n",
       "\n",
       "     CouplePrepare_EnrichType  Candidate_and_Observer_OverallAverage  \\\n",
       "0                   Vitalized                                     88   \n",
       "1                   Vitalized                                     84   \n",
       "2                   Vitalized                                     89   \n",
       "3                       other                                     93   \n",
       "4                Conventional                                     79   \n",
       "...                       ...                                    ...   \n",
       "1027             Conventional                                     87   \n",
       "1028                Vitalized                                     92   \n",
       "1029             Conventional                                     83   \n",
       "1030                Vitalized                                     86   \n",
       "1031               Harmonious                                     89   \n",
       "\n",
       "      Candidate_Overall  ...  \\\n",
       "0                    90  ...   \n",
       "1                    80  ...   \n",
       "2                    85  ...   \n",
       "3                    96  ...   \n",
       "4                    77  ...   \n",
       "...                 ...  ...   \n",
       "1027                 87  ...   \n",
       "1028                 96  ...   \n",
       "1029                 82  ...   \n",
       "1030                 79  ...   \n",
       "1031                 90  ...   \n",
       "\n",
       "      CANDIDATE_360_DERAILER_UNADDRESSED_MARITAL_ISSUES  \\\n",
       "0                                                     0   \n",
       "1                                                     0   \n",
       "2                                                     0   \n",
       "3                                                     0   \n",
       "4                                                     0   \n",
       "...                                                 ...   \n",
       "1027                                                  0   \n",
       "1028                                                  0   \n",
       "1029                                                  0   \n",
       "1030                                                  0   \n",
       "1031                                                  0   \n",
       "\n",
       "      CANDIDATE_360_DERAILER_UNRESOLVED_EMOTIONAL_ISSUES  \\\n",
       "0                                                     0    \n",
       "1                                                     0    \n",
       "2                                                     0    \n",
       "3                                                     0    \n",
       "4                                                     0    \n",
       "...                                                 ...    \n",
       "1027                                                  0    \n",
       "1028                                                  1    \n",
       "1029                                                  2    \n",
       "1030                                                  0    \n",
       "1031                                                  0    \n",
       "\n",
       "      CANDIDATE_360_DERAILER_BEING_NON_EVANGELISTIC  \\\n",
       "0                                                 0   \n",
       "1                                                 0   \n",
       "2                                                 0   \n",
       "3                                                 0   \n",
       "4                                                 0   \n",
       "...                                             ...   \n",
       "1027                                              0   \n",
       "1028                                              0   \n",
       "1029                                              0   \n",
       "1030                                              0   \n",
       "1031                                              0   \n",
       "\n",
       "      CANDIDATE_360_DERAILER_NOT_MAKING_DISCIPLES  \\\n",
       "0                                               0   \n",
       "1                                               0   \n",
       "2                                               0   \n",
       "3                                               0   \n",
       "4                                               0   \n",
       "...                                           ...   \n",
       "1027                                            0   \n",
       "1028                                            0   \n",
       "1029                                            0   \n",
       "1030                                            0   \n",
       "1031                                            0   \n",
       "\n",
       "      CANDIDATE_360_DERAILER_LACK_OF_SPOUSAL_SUPPORT  \\\n",
       "0                                                  0   \n",
       "1                                                  0   \n",
       "2                                                  0   \n",
       "3                                                  1   \n",
       "4                                                  0   \n",
       "...                                              ...   \n",
       "1027                                               0   \n",
       "1028                                               0   \n",
       "1029                                               0   \n",
       "1030                                               0   \n",
       "1031                                               0   \n",
       "\n",
       "      CANDIDATE_360_CIR_LACK_OF_FUNDING  CANDIDATE_360_CIR_LACK_OF_PARTNERS  \\\n",
       "0                                     2                                   0   \n",
       "1                                     0                                   1   \n",
       "2                                     1                                   0   \n",
       "3                                     2                                   1   \n",
       "4                                     2                                   1   \n",
       "...                                 ...                                 ...   \n",
       "1027                                  3                                   1   \n",
       "1028                                  0                                   0   \n",
       "1029                                  2                                   0   \n",
       "1030                                  0                                   0   \n",
       "1031                                  0                                   0   \n",
       "\n",
       "      CANDIDATE_360_CIR_LACK_OF_FAMILIARITY_WITH_CONTEXT  \\\n",
       "0                                                     1    \n",
       "1                                                     0    \n",
       "2                                                     0    \n",
       "3                                                     0    \n",
       "4                                                     0    \n",
       "...                                                 ...    \n",
       "1027                                                  1    \n",
       "1028                                                  0    \n",
       "1029                                                  1    \n",
       "1030                                                  1    \n",
       "1031                                                  1    \n",
       "\n",
       "      CANDIDATE_360_CIR_PROXIMITY_TO_EXTENDED_FAMILY  \\\n",
       "0                                                  0   \n",
       "1                                                  1   \n",
       "2                                                  0   \n",
       "3                                                  0   \n",
       "4                                                  0   \n",
       "...                                              ...   \n",
       "1027                                               2   \n",
       "1028                                               0   \n",
       "1029                                               0   \n",
       "1030                                               0   \n",
       "1031                                               0   \n",
       "\n",
       "      CANDIDATE_360_CIR_LACK_OF_MINISTRY_EXPERIENCE  \n",
       "0                                                 2  \n",
       "1                                                 3  \n",
       "2                                                 1  \n",
       "3                                                 0  \n",
       "4                                                 1  \n",
       "...                                             ...  \n",
       "1027                                              2  \n",
       "1028                                              1  \n",
       "1029                                              0  \n",
       "1030                                              1  \n",
       "1031                                              1  \n",
       "\n",
       "[1032 rows x 276 columns]"
      ]
     },
     "execution_count": 8,
     "metadata": {},
     "output_type": "execute_result"
    }
   ],
   "source": [
    "# Filling null values in 'CandidateDISC' with a previous value\n",
    "\n",
    "data = data.fillna(method=\"pad\")\n",
    "data"
   ]
  },
  {
   "cell_type": "code",
   "execution_count": 9,
   "id": "3ac57ba0",
   "metadata": {},
   "outputs": [
    {
     "data": {
      "text/plain": [
       "0       1\n",
       "1       0\n",
       "2       1\n",
       "3       1\n",
       "4       1\n",
       "       ..\n",
       "1027    1\n",
       "1028    0\n",
       "1029    0\n",
       "1030    1\n",
       "1031    1\n",
       "Name: Approved, Length: 1032, dtype: int64"
      ]
     },
     "execution_count": 9,
     "metadata": {},
     "output_type": "execute_result"
    }
   ],
   "source": [
    "data[\"Approved\"]"
   ]
  },
  {
   "cell_type": "code",
   "execution_count": 10,
   "id": "5169b54c",
   "metadata": {},
   "outputs": [
    {
     "data": {
      "text/plain": [
       "0"
      ]
     },
     "execution_count": 10,
     "metadata": {},
     "output_type": "execute_result"
    }
   ],
   "source": [
    "# Let's find out if we still have missing values\n",
    "\n",
    "data.isnull().sum().sum()"
   ]
  },
  {
   "cell_type": "markdown",
   "id": "c152f969",
   "metadata": {},
   "source": [
    "## Data Standardization & Encoding"
   ]
  },
  {
   "cell_type": "code",
   "execution_count": 11,
   "id": "296aa93f",
   "metadata": {},
   "outputs": [
    {
     "data": {
      "text/plain": [
       "array([[0., 1., 0., ..., 0., 1., 0.],\n",
       "       [0., 1., 0., ..., 0., 1., 0.],\n",
       "       [0., 1., 0., ..., 0., 1., 0.],\n",
       "       ...,\n",
       "       [0., 1., 0., ..., 0., 0., 0.],\n",
       "       [0., 1., 0., ..., 0., 1., 0.],\n",
       "       [0., 1., 0., ..., 1., 0., 0.]])"
      ]
     },
     "execution_count": 11,
     "metadata": {},
     "output_type": "execute_result"
    }
   ],
   "source": [
    "## One-hot encode the categorical variables 'MaritalStatus','CandidateDISC', 'CouplePrepare_EnrichType'\n",
    "\n",
    "from sklearn.preprocessing import OneHotEncoder\n",
    "\n",
    "# Instantiate object of class OneHotEncoder\n",
    "one_hot_encoder = OneHotEncoder(sparse = False)\n",
    "# Create a one-hot-coded matrix of all the categorical columns\n",
    "data_ohe = one_hot_encoder.fit_transform(data[['MaritalStatus','CandidateDISC', 'CouplePrepare_EnrichType']])\n",
    "#data_ohe.shape\n",
    "data_ohe"
   ]
  },
  {
   "cell_type": "code",
   "execution_count": 12,
   "id": "fb9b2ca9",
   "metadata": {},
   "outputs": [
    {
     "data": {
      "text/plain": [
       "array(['MaritalStatus_Engaged', 'MaritalStatus_Married',\n",
       "       'MaritalStatus_Single - Divorced',\n",
       "       'MaritalStatus_Single - Never Married',\n",
       "       'MaritalStatus_Single - Widowed', 'CandidateDISC_C',\n",
       "       'CandidateDISC_CD', 'CandidateDISC_D', 'CandidateDISC_DI',\n",
       "       'CandidateDISC_DS', 'CandidateDISC_I', 'CandidateDISC_IS',\n",
       "       'CandidateDISC_S', 'CandidateDISC_SC',\n",
       "       'CouplePrepare_EnrichType_Conflicted',\n",
       "       'CouplePrepare_EnrichType_Conventional',\n",
       "       'CouplePrepare_EnrichType_Devitalized',\n",
       "       'CouplePrepare_EnrichType_Harmonious',\n",
       "       'CouplePrepare_EnrichType_Vitalized',\n",
       "       'CouplePrepare_EnrichType_other'], dtype=object)"
      ]
     },
     "execution_count": 12,
     "metadata": {},
     "output_type": "execute_result"
    }
   ],
   "source": [
    "ohe_column_names = one_hot_encoder.get_feature_names_out()\n",
    "ohe_column_names"
   ]
  },
  {
   "cell_type": "code",
   "execution_count": 13,
   "id": "0e2888cf",
   "metadata": {},
   "outputs": [
    {
     "data": {
      "text/plain": [
       "[array(['Engaged', 'Married', 'Single - Divorced',\n",
       "        'Single - Never Married', 'Single - Widowed'], dtype=object),\n",
       " array(['C', 'CD', 'D', 'DI', 'DS', 'I', 'IS', 'S', 'SC'], dtype=object),\n",
       " array(['Conflicted', 'Conventional', 'Devitalized', 'Harmonious',\n",
       "        'Vitalized', 'other'], dtype=object)]"
      ]
     },
     "execution_count": 13,
     "metadata": {},
     "output_type": "execute_result"
    }
   ],
   "source": [
    "month_df = one_hot_encoder.categories_[:]\n",
    "month_df"
   ]
  },
  {
   "cell_type": "markdown",
   "id": "45360699",
   "metadata": {},
   "source": [
    "We need to perform the standardization of the data because the original variables have different scales. We need to bring them to a similar range to get reasonable covariance analysis."
   ]
  },
  {
   "cell_type": "code",
   "execution_count": 14,
   "id": "42ae62a1",
   "metadata": {},
   "outputs": [
    {
     "data": {
      "text/plain": [
       "array([[ 0.19590134,  0.66749536, -0.54707272, ...,  1.58256039,\n",
       "        -0.41845148,  1.85100439],\n",
       "       [-0.64823302, -0.74207126, -0.31625545, ..., -0.42877252,\n",
       "         1.4509941 ,  3.03381338],\n",
       "       [ 0.40693493, -0.03728795,  0.83783091, ..., -0.42877252,\n",
       "        -0.41845148,  0.66819539],\n",
       "       ...,\n",
       "       [-0.85926661, -0.46015794, -1.00870726, ...,  1.58256039,\n",
       "        -0.41845148, -0.5146136 ],\n",
       "       [-0.22616584, -0.88302793,  1.06864818, ...,  1.58256039,\n",
       "        -0.41845148,  0.66819539],\n",
       "       [ 0.40693493,  0.66749536, -0.08543818, ...,  1.58256039,\n",
       "        -0.41845148,  0.66819539]])"
      ]
     },
     "execution_count": 14,
     "metadata": {},
     "output_type": "execute_result"
    }
   ],
   "source": [
    "from sklearn.preprocessing import StandardScaler\n",
    "df_std = StandardScaler().fit_transform(data.iloc[:, 8:]) # select only columns that need standardization\n",
    "#df_std.shape\n",
    "df_std"
   ]
  },
  {
   "cell_type": "code",
   "execution_count": 15,
   "id": "bc6aab26",
   "metadata": {},
   "outputs": [
    {
     "data": {
      "text/plain": [
       "(268,)"
      ]
     },
     "execution_count": 15,
     "metadata": {},
     "output_type": "execute_result"
    }
   ],
   "source": [
    "# Get an array of all the standardized column names\n",
    "std_column_names = np.array(list(data.iloc[:, 8:].columns))\n",
    "std_column_names.shape"
   ]
  },
  {
   "cell_type": "code",
   "execution_count": 16,
   "id": "685ab5b5",
   "metadata": {},
   "outputs": [],
   "source": [
    "# Combine one-hot-encoded with standardized column names\n",
    "column_names = np.concatenate((ohe_column_names, std_column_names))\n",
    "#column_names.shape\n",
    "column_names = list(column_names)\n",
    "#column_names"
   ]
  },
  {
   "cell_type": "markdown",
   "id": "09158e4b",
   "metadata": {},
   "source": [
    "We join the standardized columns with the one-hot-encoded ones. This is our features data"
   ]
  },
  {
   "cell_type": "code",
   "execution_count": 17,
   "id": "aa8e2b9b",
   "metadata": {},
   "outputs": [
    {
     "data": {
      "text/plain": [
       "(1032, 288)"
      ]
     },
     "execution_count": 17,
     "metadata": {},
     "output_type": "execute_result"
    }
   ],
   "source": [
    "data_ready = np.hstack((data_ohe, df_std))\n",
    "data_ready.shape"
   ]
  },
  {
   "cell_type": "code",
   "execution_count": 18,
   "id": "8fe8645f",
   "metadata": {},
   "outputs": [
    {
     "data": {
      "text/html": [
       "<div>\n",
       "<style scoped>\n",
       "    .dataframe tbody tr th:only-of-type {\n",
       "        vertical-align: middle;\n",
       "    }\n",
       "\n",
       "    .dataframe tbody tr th {\n",
       "        vertical-align: top;\n",
       "    }\n",
       "\n",
       "    .dataframe thead tr th {\n",
       "        text-align: left;\n",
       "    }\n",
       "</style>\n",
       "<table border=\"1\" class=\"dataframe\">\n",
       "  <thead>\n",
       "    <tr>\n",
       "      <th></th>\n",
       "      <th>MaritalStatus_Engaged</th>\n",
       "      <th>MaritalStatus_Married</th>\n",
       "      <th>MaritalStatus_Single - Divorced</th>\n",
       "      <th>MaritalStatus_Single - Never Married</th>\n",
       "      <th>MaritalStatus_Single - Widowed</th>\n",
       "      <th>CandidateDISC_C</th>\n",
       "      <th>CandidateDISC_CD</th>\n",
       "      <th>CandidateDISC_D</th>\n",
       "      <th>CandidateDISC_DI</th>\n",
       "      <th>CandidateDISC_DS</th>\n",
       "      <th>...</th>\n",
       "      <th>CANDIDATE_360_DERAILER_UNADDRESSED_MARITAL_ISSUES</th>\n",
       "      <th>CANDIDATE_360_DERAILER_UNRESOLVED_EMOTIONAL_ISSUES</th>\n",
       "      <th>CANDIDATE_360_DERAILER_BEING_NON_EVANGELISTIC</th>\n",
       "      <th>CANDIDATE_360_DERAILER_NOT_MAKING_DISCIPLES</th>\n",
       "      <th>CANDIDATE_360_DERAILER_LACK_OF_SPOUSAL_SUPPORT</th>\n",
       "      <th>CANDIDATE_360_CIR_LACK_OF_FUNDING</th>\n",
       "      <th>CANDIDATE_360_CIR_LACK_OF_PARTNERS</th>\n",
       "      <th>CANDIDATE_360_CIR_LACK_OF_FAMILIARITY_WITH_CONTEXT</th>\n",
       "      <th>CANDIDATE_360_CIR_PROXIMITY_TO_EXTENDED_FAMILY</th>\n",
       "      <th>CANDIDATE_360_CIR_LACK_OF_MINISTRY_EXPERIENCE</th>\n",
       "    </tr>\n",
       "  </thead>\n",
       "  <tbody>\n",
       "    <tr>\n",
       "      <th>0</th>\n",
       "      <td>0.0</td>\n",
       "      <td>1.0</td>\n",
       "      <td>0.0</td>\n",
       "      <td>0.0</td>\n",
       "      <td>0.0</td>\n",
       "      <td>0.0</td>\n",
       "      <td>1.0</td>\n",
       "      <td>0.0</td>\n",
       "      <td>0.0</td>\n",
       "      <td>0.0</td>\n",
       "      <td>...</td>\n",
       "      <td>0.0</td>\n",
       "      <td>-0.375016</td>\n",
       "      <td>-0.271941</td>\n",
       "      <td>-0.310151</td>\n",
       "      <td>-0.031144</td>\n",
       "      <td>0.257971</td>\n",
       "      <td>-0.816733</td>\n",
       "      <td>1.582560</td>\n",
       "      <td>-0.418451</td>\n",
       "      <td>1.851004</td>\n",
       "    </tr>\n",
       "    <tr>\n",
       "      <th>1</th>\n",
       "      <td>0.0</td>\n",
       "      <td>1.0</td>\n",
       "      <td>0.0</td>\n",
       "      <td>0.0</td>\n",
       "      <td>0.0</td>\n",
       "      <td>0.0</td>\n",
       "      <td>0.0</td>\n",
       "      <td>0.0</td>\n",
       "      <td>1.0</td>\n",
       "      <td>0.0</td>\n",
       "      <td>...</td>\n",
       "      <td>0.0</td>\n",
       "      <td>-0.375016</td>\n",
       "      <td>-0.271941</td>\n",
       "      <td>-0.310151</td>\n",
       "      <td>-0.031144</td>\n",
       "      <td>-1.181088</td>\n",
       "      <td>0.273653</td>\n",
       "      <td>-0.428773</td>\n",
       "      <td>1.450994</td>\n",
       "      <td>3.033813</td>\n",
       "    </tr>\n",
       "    <tr>\n",
       "      <th>2</th>\n",
       "      <td>0.0</td>\n",
       "      <td>1.0</td>\n",
       "      <td>0.0</td>\n",
       "      <td>0.0</td>\n",
       "      <td>0.0</td>\n",
       "      <td>0.0</td>\n",
       "      <td>0.0</td>\n",
       "      <td>1.0</td>\n",
       "      <td>0.0</td>\n",
       "      <td>0.0</td>\n",
       "      <td>...</td>\n",
       "      <td>0.0</td>\n",
       "      <td>-0.375016</td>\n",
       "      <td>-0.271941</td>\n",
       "      <td>-0.310151</td>\n",
       "      <td>-0.031144</td>\n",
       "      <td>-0.461559</td>\n",
       "      <td>-0.816733</td>\n",
       "      <td>-0.428773</td>\n",
       "      <td>-0.418451</td>\n",
       "      <td>0.668195</td>\n",
       "    </tr>\n",
       "    <tr>\n",
       "      <th>3</th>\n",
       "      <td>0.0</td>\n",
       "      <td>0.0</td>\n",
       "      <td>1.0</td>\n",
       "      <td>0.0</td>\n",
       "      <td>0.0</td>\n",
       "      <td>1.0</td>\n",
       "      <td>0.0</td>\n",
       "      <td>0.0</td>\n",
       "      <td>0.0</td>\n",
       "      <td>0.0</td>\n",
       "      <td>...</td>\n",
       "      <td>0.0</td>\n",
       "      <td>-0.375016</td>\n",
       "      <td>-0.271941</td>\n",
       "      <td>-0.310151</td>\n",
       "      <td>32.109189</td>\n",
       "      <td>0.257971</td>\n",
       "      <td>0.273653</td>\n",
       "      <td>-0.428773</td>\n",
       "      <td>-0.418451</td>\n",
       "      <td>-0.514614</td>\n",
       "    </tr>\n",
       "    <tr>\n",
       "      <th>4</th>\n",
       "      <td>0.0</td>\n",
       "      <td>1.0</td>\n",
       "      <td>0.0</td>\n",
       "      <td>0.0</td>\n",
       "      <td>0.0</td>\n",
       "      <td>1.0</td>\n",
       "      <td>0.0</td>\n",
       "      <td>0.0</td>\n",
       "      <td>0.0</td>\n",
       "      <td>0.0</td>\n",
       "      <td>...</td>\n",
       "      <td>0.0</td>\n",
       "      <td>-0.375016</td>\n",
       "      <td>-0.271941</td>\n",
       "      <td>-0.310151</td>\n",
       "      <td>-0.031144</td>\n",
       "      <td>0.257971</td>\n",
       "      <td>0.273653</td>\n",
       "      <td>-0.428773</td>\n",
       "      <td>-0.418451</td>\n",
       "      <td>0.668195</td>\n",
       "    </tr>\n",
       "    <tr>\n",
       "      <th>...</th>\n",
       "      <td>...</td>\n",
       "      <td>...</td>\n",
       "      <td>...</td>\n",
       "      <td>...</td>\n",
       "      <td>...</td>\n",
       "      <td>...</td>\n",
       "      <td>...</td>\n",
       "      <td>...</td>\n",
       "      <td>...</td>\n",
       "      <td>...</td>\n",
       "      <td>...</td>\n",
       "      <td>...</td>\n",
       "      <td>...</td>\n",
       "      <td>...</td>\n",
       "      <td>...</td>\n",
       "      <td>...</td>\n",
       "      <td>...</td>\n",
       "      <td>...</td>\n",
       "      <td>...</td>\n",
       "      <td>...</td>\n",
       "      <td>...</td>\n",
       "    </tr>\n",
       "    <tr>\n",
       "      <th>1027</th>\n",
       "      <td>0.0</td>\n",
       "      <td>1.0</td>\n",
       "      <td>0.0</td>\n",
       "      <td>0.0</td>\n",
       "      <td>0.0</td>\n",
       "      <td>0.0</td>\n",
       "      <td>0.0</td>\n",
       "      <td>0.0</td>\n",
       "      <td>0.0</td>\n",
       "      <td>0.0</td>\n",
       "      <td>...</td>\n",
       "      <td>0.0</td>\n",
       "      <td>-0.375016</td>\n",
       "      <td>-0.271941</td>\n",
       "      <td>-0.310151</td>\n",
       "      <td>-0.031144</td>\n",
       "      <td>0.977500</td>\n",
       "      <td>0.273653</td>\n",
       "      <td>1.582560</td>\n",
       "      <td>3.320440</td>\n",
       "      <td>1.851004</td>\n",
       "    </tr>\n",
       "    <tr>\n",
       "      <th>1028</th>\n",
       "      <td>0.0</td>\n",
       "      <td>1.0</td>\n",
       "      <td>0.0</td>\n",
       "      <td>0.0</td>\n",
       "      <td>0.0</td>\n",
       "      <td>0.0</td>\n",
       "      <td>1.0</td>\n",
       "      <td>0.0</td>\n",
       "      <td>0.0</td>\n",
       "      <td>0.0</td>\n",
       "      <td>...</td>\n",
       "      <td>0.0</td>\n",
       "      <td>1.589536</td>\n",
       "      <td>-0.271941</td>\n",
       "      <td>-0.310151</td>\n",
       "      <td>-0.031144</td>\n",
       "      <td>-1.181088</td>\n",
       "      <td>-0.816733</td>\n",
       "      <td>-0.428773</td>\n",
       "      <td>-0.418451</td>\n",
       "      <td>0.668195</td>\n",
       "    </tr>\n",
       "    <tr>\n",
       "      <th>1029</th>\n",
       "      <td>0.0</td>\n",
       "      <td>1.0</td>\n",
       "      <td>0.0</td>\n",
       "      <td>0.0</td>\n",
       "      <td>0.0</td>\n",
       "      <td>0.0</td>\n",
       "      <td>0.0</td>\n",
       "      <td>0.0</td>\n",
       "      <td>0.0</td>\n",
       "      <td>0.0</td>\n",
       "      <td>...</td>\n",
       "      <td>0.0</td>\n",
       "      <td>3.554089</td>\n",
       "      <td>-0.271941</td>\n",
       "      <td>-0.310151</td>\n",
       "      <td>-0.031144</td>\n",
       "      <td>0.257971</td>\n",
       "      <td>-0.816733</td>\n",
       "      <td>1.582560</td>\n",
       "      <td>-0.418451</td>\n",
       "      <td>-0.514614</td>\n",
       "    </tr>\n",
       "    <tr>\n",
       "      <th>1030</th>\n",
       "      <td>0.0</td>\n",
       "      <td>1.0</td>\n",
       "      <td>0.0</td>\n",
       "      <td>0.0</td>\n",
       "      <td>0.0</td>\n",
       "      <td>0.0</td>\n",
       "      <td>0.0</td>\n",
       "      <td>0.0</td>\n",
       "      <td>0.0</td>\n",
       "      <td>0.0</td>\n",
       "      <td>...</td>\n",
       "      <td>0.0</td>\n",
       "      <td>-0.375016</td>\n",
       "      <td>-0.271941</td>\n",
       "      <td>-0.310151</td>\n",
       "      <td>-0.031144</td>\n",
       "      <td>-1.181088</td>\n",
       "      <td>-0.816733</td>\n",
       "      <td>1.582560</td>\n",
       "      <td>-0.418451</td>\n",
       "      <td>0.668195</td>\n",
       "    </tr>\n",
       "    <tr>\n",
       "      <th>1031</th>\n",
       "      <td>0.0</td>\n",
       "      <td>1.0</td>\n",
       "      <td>0.0</td>\n",
       "      <td>0.0</td>\n",
       "      <td>0.0</td>\n",
       "      <td>0.0</td>\n",
       "      <td>0.0</td>\n",
       "      <td>1.0</td>\n",
       "      <td>0.0</td>\n",
       "      <td>0.0</td>\n",
       "      <td>...</td>\n",
       "      <td>0.0</td>\n",
       "      <td>-0.375016</td>\n",
       "      <td>-0.271941</td>\n",
       "      <td>-0.310151</td>\n",
       "      <td>-0.031144</td>\n",
       "      <td>-1.181088</td>\n",
       "      <td>-0.816733</td>\n",
       "      <td>1.582560</td>\n",
       "      <td>-0.418451</td>\n",
       "      <td>0.668195</td>\n",
       "    </tr>\n",
       "  </tbody>\n",
       "</table>\n",
       "<p>1032 rows × 288 columns</p>\n",
       "</div>"
      ],
      "text/plain": [
       "     MaritalStatus_Engaged MaritalStatus_Married  \\\n",
       "0                      0.0                   1.0   \n",
       "1                      0.0                   1.0   \n",
       "2                      0.0                   1.0   \n",
       "3                      0.0                   0.0   \n",
       "4                      0.0                   1.0   \n",
       "...                    ...                   ...   \n",
       "1027                   0.0                   1.0   \n",
       "1028                   0.0                   1.0   \n",
       "1029                   0.0                   1.0   \n",
       "1030                   0.0                   1.0   \n",
       "1031                   0.0                   1.0   \n",
       "\n",
       "     MaritalStatus_Single - Divorced MaritalStatus_Single - Never Married  \\\n",
       "0                                0.0                                  0.0   \n",
       "1                                0.0                                  0.0   \n",
       "2                                0.0                                  0.0   \n",
       "3                                1.0                                  0.0   \n",
       "4                                0.0                                  0.0   \n",
       "...                              ...                                  ...   \n",
       "1027                             0.0                                  0.0   \n",
       "1028                             0.0                                  0.0   \n",
       "1029                             0.0                                  0.0   \n",
       "1030                             0.0                                  0.0   \n",
       "1031                             0.0                                  0.0   \n",
       "\n",
       "     MaritalStatus_Single - Widowed CandidateDISC_C CandidateDISC_CD  \\\n",
       "0                               0.0             0.0              1.0   \n",
       "1                               0.0             0.0              0.0   \n",
       "2                               0.0             0.0              0.0   \n",
       "3                               0.0             1.0              0.0   \n",
       "4                               0.0             1.0              0.0   \n",
       "...                             ...             ...              ...   \n",
       "1027                            0.0             0.0              0.0   \n",
       "1028                            0.0             0.0              1.0   \n",
       "1029                            0.0             0.0              0.0   \n",
       "1030                            0.0             0.0              0.0   \n",
       "1031                            0.0             0.0              0.0   \n",
       "\n",
       "     CandidateDISC_D CandidateDISC_DI CandidateDISC_DS  ...  \\\n",
       "0                0.0              0.0              0.0  ...   \n",
       "1                0.0              1.0              0.0  ...   \n",
       "2                1.0              0.0              0.0  ...   \n",
       "3                0.0              0.0              0.0  ...   \n",
       "4                0.0              0.0              0.0  ...   \n",
       "...              ...              ...              ...  ...   \n",
       "1027             0.0              0.0              0.0  ...   \n",
       "1028             0.0              0.0              0.0  ...   \n",
       "1029             0.0              0.0              0.0  ...   \n",
       "1030             0.0              0.0              0.0  ...   \n",
       "1031             1.0              0.0              0.0  ...   \n",
       "\n",
       "     CANDIDATE_360_DERAILER_UNADDRESSED_MARITAL_ISSUES  \\\n",
       "0                                                  0.0   \n",
       "1                                                  0.0   \n",
       "2                                                  0.0   \n",
       "3                                                  0.0   \n",
       "4                                                  0.0   \n",
       "...                                                ...   \n",
       "1027                                               0.0   \n",
       "1028                                               0.0   \n",
       "1029                                               0.0   \n",
       "1030                                               0.0   \n",
       "1031                                               0.0   \n",
       "\n",
       "     CANDIDATE_360_DERAILER_UNRESOLVED_EMOTIONAL_ISSUES  \\\n",
       "0                                             -0.375016   \n",
       "1                                             -0.375016   \n",
       "2                                             -0.375016   \n",
       "3                                             -0.375016   \n",
       "4                                             -0.375016   \n",
       "...                                                 ...   \n",
       "1027                                          -0.375016   \n",
       "1028                                           1.589536   \n",
       "1029                                           3.554089   \n",
       "1030                                          -0.375016   \n",
       "1031                                          -0.375016   \n",
       "\n",
       "     CANDIDATE_360_DERAILER_BEING_NON_EVANGELISTIC  \\\n",
       "0                                        -0.271941   \n",
       "1                                        -0.271941   \n",
       "2                                        -0.271941   \n",
       "3                                        -0.271941   \n",
       "4                                        -0.271941   \n",
       "...                                            ...   \n",
       "1027                                     -0.271941   \n",
       "1028                                     -0.271941   \n",
       "1029                                     -0.271941   \n",
       "1030                                     -0.271941   \n",
       "1031                                     -0.271941   \n",
       "\n",
       "     CANDIDATE_360_DERAILER_NOT_MAKING_DISCIPLES  \\\n",
       "0                                      -0.310151   \n",
       "1                                      -0.310151   \n",
       "2                                      -0.310151   \n",
       "3                                      -0.310151   \n",
       "4                                      -0.310151   \n",
       "...                                          ...   \n",
       "1027                                   -0.310151   \n",
       "1028                                   -0.310151   \n",
       "1029                                   -0.310151   \n",
       "1030                                   -0.310151   \n",
       "1031                                   -0.310151   \n",
       "\n",
       "     CANDIDATE_360_DERAILER_LACK_OF_SPOUSAL_SUPPORT  \\\n",
       "0                                         -0.031144   \n",
       "1                                         -0.031144   \n",
       "2                                         -0.031144   \n",
       "3                                         32.109189   \n",
       "4                                         -0.031144   \n",
       "...                                             ...   \n",
       "1027                                      -0.031144   \n",
       "1028                                      -0.031144   \n",
       "1029                                      -0.031144   \n",
       "1030                                      -0.031144   \n",
       "1031                                      -0.031144   \n",
       "\n",
       "     CANDIDATE_360_CIR_LACK_OF_FUNDING CANDIDATE_360_CIR_LACK_OF_PARTNERS  \\\n",
       "0                             0.257971                          -0.816733   \n",
       "1                            -1.181088                           0.273653   \n",
       "2                            -0.461559                          -0.816733   \n",
       "3                             0.257971                           0.273653   \n",
       "4                             0.257971                           0.273653   \n",
       "...                                ...                                ...   \n",
       "1027                          0.977500                           0.273653   \n",
       "1028                         -1.181088                          -0.816733   \n",
       "1029                          0.257971                          -0.816733   \n",
       "1030                         -1.181088                          -0.816733   \n",
       "1031                         -1.181088                          -0.816733   \n",
       "\n",
       "     CANDIDATE_360_CIR_LACK_OF_FAMILIARITY_WITH_CONTEXT  \\\n",
       "0                                              1.582560   \n",
       "1                                             -0.428773   \n",
       "2                                             -0.428773   \n",
       "3                                             -0.428773   \n",
       "4                                             -0.428773   \n",
       "...                                                 ...   \n",
       "1027                                           1.582560   \n",
       "1028                                          -0.428773   \n",
       "1029                                           1.582560   \n",
       "1030                                           1.582560   \n",
       "1031                                           1.582560   \n",
       "\n",
       "     CANDIDATE_360_CIR_PROXIMITY_TO_EXTENDED_FAMILY  \\\n",
       "0                                         -0.418451   \n",
       "1                                          1.450994   \n",
       "2                                         -0.418451   \n",
       "3                                         -0.418451   \n",
       "4                                         -0.418451   \n",
       "...                                             ...   \n",
       "1027                                       3.320440   \n",
       "1028                                      -0.418451   \n",
       "1029                                      -0.418451   \n",
       "1030                                      -0.418451   \n",
       "1031                                      -0.418451   \n",
       "\n",
       "     CANDIDATE_360_CIR_LACK_OF_MINISTRY_EXPERIENCE  \n",
       "0                                         1.851004  \n",
       "1                                         3.033813  \n",
       "2                                         0.668195  \n",
       "3                                        -0.514614  \n",
       "4                                         0.668195  \n",
       "...                                            ...  \n",
       "1027                                      1.851004  \n",
       "1028                                      0.668195  \n",
       "1029                                     -0.514614  \n",
       "1030                                      0.668195  \n",
       "1031                                      0.668195  \n",
       "\n",
       "[1032 rows x 288 columns]"
      ]
     },
     "execution_count": 18,
     "metadata": {},
     "output_type": "execute_result"
    }
   ],
   "source": [
    "# Create a dataframe, 'data_ready', that includes all the standardized and encoded features\n",
    "\n",
    "data_ready = pd.DataFrame(data_ready)\n",
    "data_ready.columns =[column_names]\n",
    "data_ready"
   ]
  },
  {
   "cell_type": "code",
   "execution_count": 19,
   "id": "143084e4",
   "metadata": {},
   "outputs": [
    {
     "data": {
      "text/html": [
       "<div>\n",
       "<style scoped>\n",
       "    .dataframe tbody tr th:only-of-type {\n",
       "        vertical-align: middle;\n",
       "    }\n",
       "\n",
       "    .dataframe tbody tr th {\n",
       "        vertical-align: top;\n",
       "    }\n",
       "\n",
       "    .dataframe thead tr th {\n",
       "        text-align: left;\n",
       "    }\n",
       "</style>\n",
       "<table border=\"1\" class=\"dataframe\">\n",
       "  <thead>\n",
       "    <tr>\n",
       "      <th></th>\n",
       "      <th>MaritalStatus_Engaged</th>\n",
       "      <th>MaritalStatus_Married</th>\n",
       "      <th>MaritalStatus_Single - Divorced</th>\n",
       "      <th>MaritalStatus_Single - Never Married</th>\n",
       "      <th>MaritalStatus_Single - Widowed</th>\n",
       "      <th>CandidateDISC_C</th>\n",
       "      <th>CandidateDISC_CD</th>\n",
       "      <th>CandidateDISC_D</th>\n",
       "      <th>CandidateDISC_DI</th>\n",
       "      <th>CandidateDISC_DS</th>\n",
       "      <th>...</th>\n",
       "      <th>CANDIDATE_360_DERAILER_UNRESOLVED_EMOTIONAL_ISSUES</th>\n",
       "      <th>CANDIDATE_360_DERAILER_BEING_NON_EVANGELISTIC</th>\n",
       "      <th>CANDIDATE_360_DERAILER_NOT_MAKING_DISCIPLES</th>\n",
       "      <th>CANDIDATE_360_DERAILER_LACK_OF_SPOUSAL_SUPPORT</th>\n",
       "      <th>CANDIDATE_360_CIR_LACK_OF_FUNDING</th>\n",
       "      <th>CANDIDATE_360_CIR_LACK_OF_PARTNERS</th>\n",
       "      <th>CANDIDATE_360_CIR_LACK_OF_FAMILIARITY_WITH_CONTEXT</th>\n",
       "      <th>CANDIDATE_360_CIR_PROXIMITY_TO_EXTENDED_FAMILY</th>\n",
       "      <th>CANDIDATE_360_CIR_LACK_OF_MINISTRY_EXPERIENCE</th>\n",
       "      <th>Approved</th>\n",
       "    </tr>\n",
       "  </thead>\n",
       "  <tbody>\n",
       "    <tr>\n",
       "      <th>0</th>\n",
       "      <td>0.0</td>\n",
       "      <td>1.0</td>\n",
       "      <td>0.0</td>\n",
       "      <td>0.0</td>\n",
       "      <td>0.0</td>\n",
       "      <td>0.0</td>\n",
       "      <td>1.0</td>\n",
       "      <td>0.0</td>\n",
       "      <td>0.0</td>\n",
       "      <td>0.0</td>\n",
       "      <td>...</td>\n",
       "      <td>-0.375016</td>\n",
       "      <td>-0.271941</td>\n",
       "      <td>-0.310151</td>\n",
       "      <td>-0.031144</td>\n",
       "      <td>0.257971</td>\n",
       "      <td>-0.816733</td>\n",
       "      <td>1.582560</td>\n",
       "      <td>-0.418451</td>\n",
       "      <td>1.851004</td>\n",
       "      <td>1</td>\n",
       "    </tr>\n",
       "    <tr>\n",
       "      <th>1</th>\n",
       "      <td>0.0</td>\n",
       "      <td>1.0</td>\n",
       "      <td>0.0</td>\n",
       "      <td>0.0</td>\n",
       "      <td>0.0</td>\n",
       "      <td>0.0</td>\n",
       "      <td>0.0</td>\n",
       "      <td>0.0</td>\n",
       "      <td>1.0</td>\n",
       "      <td>0.0</td>\n",
       "      <td>...</td>\n",
       "      <td>-0.375016</td>\n",
       "      <td>-0.271941</td>\n",
       "      <td>-0.310151</td>\n",
       "      <td>-0.031144</td>\n",
       "      <td>-1.181088</td>\n",
       "      <td>0.273653</td>\n",
       "      <td>-0.428773</td>\n",
       "      <td>1.450994</td>\n",
       "      <td>3.033813</td>\n",
       "      <td>0</td>\n",
       "    </tr>\n",
       "    <tr>\n",
       "      <th>2</th>\n",
       "      <td>0.0</td>\n",
       "      <td>1.0</td>\n",
       "      <td>0.0</td>\n",
       "      <td>0.0</td>\n",
       "      <td>0.0</td>\n",
       "      <td>0.0</td>\n",
       "      <td>0.0</td>\n",
       "      <td>1.0</td>\n",
       "      <td>0.0</td>\n",
       "      <td>0.0</td>\n",
       "      <td>...</td>\n",
       "      <td>-0.375016</td>\n",
       "      <td>-0.271941</td>\n",
       "      <td>-0.310151</td>\n",
       "      <td>-0.031144</td>\n",
       "      <td>-0.461559</td>\n",
       "      <td>-0.816733</td>\n",
       "      <td>-0.428773</td>\n",
       "      <td>-0.418451</td>\n",
       "      <td>0.668195</td>\n",
       "      <td>1</td>\n",
       "    </tr>\n",
       "    <tr>\n",
       "      <th>3</th>\n",
       "      <td>0.0</td>\n",
       "      <td>0.0</td>\n",
       "      <td>1.0</td>\n",
       "      <td>0.0</td>\n",
       "      <td>0.0</td>\n",
       "      <td>1.0</td>\n",
       "      <td>0.0</td>\n",
       "      <td>0.0</td>\n",
       "      <td>0.0</td>\n",
       "      <td>0.0</td>\n",
       "      <td>...</td>\n",
       "      <td>-0.375016</td>\n",
       "      <td>-0.271941</td>\n",
       "      <td>-0.310151</td>\n",
       "      <td>32.109189</td>\n",
       "      <td>0.257971</td>\n",
       "      <td>0.273653</td>\n",
       "      <td>-0.428773</td>\n",
       "      <td>-0.418451</td>\n",
       "      <td>-0.514614</td>\n",
       "      <td>1</td>\n",
       "    </tr>\n",
       "    <tr>\n",
       "      <th>4</th>\n",
       "      <td>0.0</td>\n",
       "      <td>1.0</td>\n",
       "      <td>0.0</td>\n",
       "      <td>0.0</td>\n",
       "      <td>0.0</td>\n",
       "      <td>1.0</td>\n",
       "      <td>0.0</td>\n",
       "      <td>0.0</td>\n",
       "      <td>0.0</td>\n",
       "      <td>0.0</td>\n",
       "      <td>...</td>\n",
       "      <td>-0.375016</td>\n",
       "      <td>-0.271941</td>\n",
       "      <td>-0.310151</td>\n",
       "      <td>-0.031144</td>\n",
       "      <td>0.257971</td>\n",
       "      <td>0.273653</td>\n",
       "      <td>-0.428773</td>\n",
       "      <td>-0.418451</td>\n",
       "      <td>0.668195</td>\n",
       "      <td>1</td>\n",
       "    </tr>\n",
       "    <tr>\n",
       "      <th>...</th>\n",
       "      <td>...</td>\n",
       "      <td>...</td>\n",
       "      <td>...</td>\n",
       "      <td>...</td>\n",
       "      <td>...</td>\n",
       "      <td>...</td>\n",
       "      <td>...</td>\n",
       "      <td>...</td>\n",
       "      <td>...</td>\n",
       "      <td>...</td>\n",
       "      <td>...</td>\n",
       "      <td>...</td>\n",
       "      <td>...</td>\n",
       "      <td>...</td>\n",
       "      <td>...</td>\n",
       "      <td>...</td>\n",
       "      <td>...</td>\n",
       "      <td>...</td>\n",
       "      <td>...</td>\n",
       "      <td>...</td>\n",
       "      <td>...</td>\n",
       "    </tr>\n",
       "    <tr>\n",
       "      <th>1027</th>\n",
       "      <td>0.0</td>\n",
       "      <td>1.0</td>\n",
       "      <td>0.0</td>\n",
       "      <td>0.0</td>\n",
       "      <td>0.0</td>\n",
       "      <td>0.0</td>\n",
       "      <td>0.0</td>\n",
       "      <td>0.0</td>\n",
       "      <td>0.0</td>\n",
       "      <td>0.0</td>\n",
       "      <td>...</td>\n",
       "      <td>-0.375016</td>\n",
       "      <td>-0.271941</td>\n",
       "      <td>-0.310151</td>\n",
       "      <td>-0.031144</td>\n",
       "      <td>0.977500</td>\n",
       "      <td>0.273653</td>\n",
       "      <td>1.582560</td>\n",
       "      <td>3.320440</td>\n",
       "      <td>1.851004</td>\n",
       "      <td>1</td>\n",
       "    </tr>\n",
       "    <tr>\n",
       "      <th>1028</th>\n",
       "      <td>0.0</td>\n",
       "      <td>1.0</td>\n",
       "      <td>0.0</td>\n",
       "      <td>0.0</td>\n",
       "      <td>0.0</td>\n",
       "      <td>0.0</td>\n",
       "      <td>1.0</td>\n",
       "      <td>0.0</td>\n",
       "      <td>0.0</td>\n",
       "      <td>0.0</td>\n",
       "      <td>...</td>\n",
       "      <td>1.589536</td>\n",
       "      <td>-0.271941</td>\n",
       "      <td>-0.310151</td>\n",
       "      <td>-0.031144</td>\n",
       "      <td>-1.181088</td>\n",
       "      <td>-0.816733</td>\n",
       "      <td>-0.428773</td>\n",
       "      <td>-0.418451</td>\n",
       "      <td>0.668195</td>\n",
       "      <td>0</td>\n",
       "    </tr>\n",
       "    <tr>\n",
       "      <th>1029</th>\n",
       "      <td>0.0</td>\n",
       "      <td>1.0</td>\n",
       "      <td>0.0</td>\n",
       "      <td>0.0</td>\n",
       "      <td>0.0</td>\n",
       "      <td>0.0</td>\n",
       "      <td>0.0</td>\n",
       "      <td>0.0</td>\n",
       "      <td>0.0</td>\n",
       "      <td>0.0</td>\n",
       "      <td>...</td>\n",
       "      <td>3.554089</td>\n",
       "      <td>-0.271941</td>\n",
       "      <td>-0.310151</td>\n",
       "      <td>-0.031144</td>\n",
       "      <td>0.257971</td>\n",
       "      <td>-0.816733</td>\n",
       "      <td>1.582560</td>\n",
       "      <td>-0.418451</td>\n",
       "      <td>-0.514614</td>\n",
       "      <td>0</td>\n",
       "    </tr>\n",
       "    <tr>\n",
       "      <th>1030</th>\n",
       "      <td>0.0</td>\n",
       "      <td>1.0</td>\n",
       "      <td>0.0</td>\n",
       "      <td>0.0</td>\n",
       "      <td>0.0</td>\n",
       "      <td>0.0</td>\n",
       "      <td>0.0</td>\n",
       "      <td>0.0</td>\n",
       "      <td>0.0</td>\n",
       "      <td>0.0</td>\n",
       "      <td>...</td>\n",
       "      <td>-0.375016</td>\n",
       "      <td>-0.271941</td>\n",
       "      <td>-0.310151</td>\n",
       "      <td>-0.031144</td>\n",
       "      <td>-1.181088</td>\n",
       "      <td>-0.816733</td>\n",
       "      <td>1.582560</td>\n",
       "      <td>-0.418451</td>\n",
       "      <td>0.668195</td>\n",
       "      <td>1</td>\n",
       "    </tr>\n",
       "    <tr>\n",
       "      <th>1031</th>\n",
       "      <td>0.0</td>\n",
       "      <td>1.0</td>\n",
       "      <td>0.0</td>\n",
       "      <td>0.0</td>\n",
       "      <td>0.0</td>\n",
       "      <td>0.0</td>\n",
       "      <td>0.0</td>\n",
       "      <td>1.0</td>\n",
       "      <td>0.0</td>\n",
       "      <td>0.0</td>\n",
       "      <td>...</td>\n",
       "      <td>-0.375016</td>\n",
       "      <td>-0.271941</td>\n",
       "      <td>-0.310151</td>\n",
       "      <td>-0.031144</td>\n",
       "      <td>-1.181088</td>\n",
       "      <td>-0.816733</td>\n",
       "      <td>1.582560</td>\n",
       "      <td>-0.418451</td>\n",
       "      <td>0.668195</td>\n",
       "      <td>1</td>\n",
       "    </tr>\n",
       "  </tbody>\n",
       "</table>\n",
       "<p>1032 rows × 289 columns</p>\n",
       "</div>"
      ],
      "text/plain": [
       "     MaritalStatus_Engaged MaritalStatus_Married  \\\n",
       "0                      0.0                   1.0   \n",
       "1                      0.0                   1.0   \n",
       "2                      0.0                   1.0   \n",
       "3                      0.0                   0.0   \n",
       "4                      0.0                   1.0   \n",
       "...                    ...                   ...   \n",
       "1027                   0.0                   1.0   \n",
       "1028                   0.0                   1.0   \n",
       "1029                   0.0                   1.0   \n",
       "1030                   0.0                   1.0   \n",
       "1031                   0.0                   1.0   \n",
       "\n",
       "     MaritalStatus_Single - Divorced MaritalStatus_Single - Never Married  \\\n",
       "0                                0.0                                  0.0   \n",
       "1                                0.0                                  0.0   \n",
       "2                                0.0                                  0.0   \n",
       "3                                1.0                                  0.0   \n",
       "4                                0.0                                  0.0   \n",
       "...                              ...                                  ...   \n",
       "1027                             0.0                                  0.0   \n",
       "1028                             0.0                                  0.0   \n",
       "1029                             0.0                                  0.0   \n",
       "1030                             0.0                                  0.0   \n",
       "1031                             0.0                                  0.0   \n",
       "\n",
       "     MaritalStatus_Single - Widowed CandidateDISC_C CandidateDISC_CD  \\\n",
       "0                               0.0             0.0              1.0   \n",
       "1                               0.0             0.0              0.0   \n",
       "2                               0.0             0.0              0.0   \n",
       "3                               0.0             1.0              0.0   \n",
       "4                               0.0             1.0              0.0   \n",
       "...                             ...             ...              ...   \n",
       "1027                            0.0             0.0              0.0   \n",
       "1028                            0.0             0.0              1.0   \n",
       "1029                            0.0             0.0              0.0   \n",
       "1030                            0.0             0.0              0.0   \n",
       "1031                            0.0             0.0              0.0   \n",
       "\n",
       "     CandidateDISC_D CandidateDISC_DI CandidateDISC_DS  ...  \\\n",
       "0                0.0              0.0              0.0  ...   \n",
       "1                0.0              1.0              0.0  ...   \n",
       "2                1.0              0.0              0.0  ...   \n",
       "3                0.0              0.0              0.0  ...   \n",
       "4                0.0              0.0              0.0  ...   \n",
       "...              ...              ...              ...  ...   \n",
       "1027             0.0              0.0              0.0  ...   \n",
       "1028             0.0              0.0              0.0  ...   \n",
       "1029             0.0              0.0              0.0  ...   \n",
       "1030             0.0              0.0              0.0  ...   \n",
       "1031             1.0              0.0              0.0  ...   \n",
       "\n",
       "     CANDIDATE_360_DERAILER_UNRESOLVED_EMOTIONAL_ISSUES  \\\n",
       "0                                             -0.375016   \n",
       "1                                             -0.375016   \n",
       "2                                             -0.375016   \n",
       "3                                             -0.375016   \n",
       "4                                             -0.375016   \n",
       "...                                                 ...   \n",
       "1027                                          -0.375016   \n",
       "1028                                           1.589536   \n",
       "1029                                           3.554089   \n",
       "1030                                          -0.375016   \n",
       "1031                                          -0.375016   \n",
       "\n",
       "     CANDIDATE_360_DERAILER_BEING_NON_EVANGELISTIC  \\\n",
       "0                                        -0.271941   \n",
       "1                                        -0.271941   \n",
       "2                                        -0.271941   \n",
       "3                                        -0.271941   \n",
       "4                                        -0.271941   \n",
       "...                                            ...   \n",
       "1027                                     -0.271941   \n",
       "1028                                     -0.271941   \n",
       "1029                                     -0.271941   \n",
       "1030                                     -0.271941   \n",
       "1031                                     -0.271941   \n",
       "\n",
       "     CANDIDATE_360_DERAILER_NOT_MAKING_DISCIPLES  \\\n",
       "0                                      -0.310151   \n",
       "1                                      -0.310151   \n",
       "2                                      -0.310151   \n",
       "3                                      -0.310151   \n",
       "4                                      -0.310151   \n",
       "...                                          ...   \n",
       "1027                                   -0.310151   \n",
       "1028                                   -0.310151   \n",
       "1029                                   -0.310151   \n",
       "1030                                   -0.310151   \n",
       "1031                                   -0.310151   \n",
       "\n",
       "     CANDIDATE_360_DERAILER_LACK_OF_SPOUSAL_SUPPORT  \\\n",
       "0                                         -0.031144   \n",
       "1                                         -0.031144   \n",
       "2                                         -0.031144   \n",
       "3                                         32.109189   \n",
       "4                                         -0.031144   \n",
       "...                                             ...   \n",
       "1027                                      -0.031144   \n",
       "1028                                      -0.031144   \n",
       "1029                                      -0.031144   \n",
       "1030                                      -0.031144   \n",
       "1031                                      -0.031144   \n",
       "\n",
       "     CANDIDATE_360_CIR_LACK_OF_FUNDING CANDIDATE_360_CIR_LACK_OF_PARTNERS  \\\n",
       "0                             0.257971                          -0.816733   \n",
       "1                            -1.181088                           0.273653   \n",
       "2                            -0.461559                          -0.816733   \n",
       "3                             0.257971                           0.273653   \n",
       "4                             0.257971                           0.273653   \n",
       "...                                ...                                ...   \n",
       "1027                          0.977500                           0.273653   \n",
       "1028                         -1.181088                          -0.816733   \n",
       "1029                          0.257971                          -0.816733   \n",
       "1030                         -1.181088                          -0.816733   \n",
       "1031                         -1.181088                          -0.816733   \n",
       "\n",
       "     CANDIDATE_360_CIR_LACK_OF_FAMILIARITY_WITH_CONTEXT  \\\n",
       "0                                              1.582560   \n",
       "1                                             -0.428773   \n",
       "2                                             -0.428773   \n",
       "3                                             -0.428773   \n",
       "4                                             -0.428773   \n",
       "...                                                 ...   \n",
       "1027                                           1.582560   \n",
       "1028                                          -0.428773   \n",
       "1029                                           1.582560   \n",
       "1030                                           1.582560   \n",
       "1031                                           1.582560   \n",
       "\n",
       "     CANDIDATE_360_CIR_PROXIMITY_TO_EXTENDED_FAMILY  \\\n",
       "0                                         -0.418451   \n",
       "1                                          1.450994   \n",
       "2                                         -0.418451   \n",
       "3                                         -0.418451   \n",
       "4                                         -0.418451   \n",
       "...                                             ...   \n",
       "1027                                       3.320440   \n",
       "1028                                      -0.418451   \n",
       "1029                                      -0.418451   \n",
       "1030                                      -0.418451   \n",
       "1031                                      -0.418451   \n",
       "\n",
       "     CANDIDATE_360_CIR_LACK_OF_MINISTRY_EXPERIENCE Approved  \n",
       "0                                         1.851004        1  \n",
       "1                                         3.033813        0  \n",
       "2                                         0.668195        1  \n",
       "3                                        -0.514614        1  \n",
       "4                                         0.668195        1  \n",
       "...                                            ...      ...  \n",
       "1027                                      1.851004        1  \n",
       "1028                                      0.668195        0  \n",
       "1029                                     -0.514614        0  \n",
       "1030                                      0.668195        1  \n",
       "1031                                      0.668195        1  \n",
       "\n",
       "[1032 rows x 289 columns]"
      ]
     },
     "execution_count": 19,
     "metadata": {},
     "output_type": "execute_result"
    }
   ],
   "source": [
    "# Add target variable column to newly created 'data_ready' dataframe (added as last column)\n",
    "\n",
    "target_var = list(data['Approved'])\n",
    "data_ready['Approved'] = target_var\n",
    "data_ready"
   ]
  },
  {
   "cell_type": "markdown",
   "id": "64b16393",
   "metadata": {},
   "source": [
    "## Dataset 1 (statistical analysis)"
   ]
  },
  {
   "cell_type": "markdown",
   "id": "01a20210",
   "metadata": {},
   "source": [
    "We will build our first data set on the most significant features based on statistical analysis."
   ]
  },
  {
   "cell_type": "markdown",
   "id": "273c5cb0",
   "metadata": {},
   "source": [
    "### Random Forest Feature Importance"
   ]
  },
  {
   "cell_type": "markdown",
   "id": "6da7d830",
   "metadata": {},
   "source": [
    "Let's use a Random Forest Regressor to find the most significant features in the dataset."
   ]
  },
  {
   "cell_type": "code",
   "execution_count": 20,
   "id": "d96f2b69",
   "metadata": {},
   "outputs": [],
   "source": [
    "# Let's load the packages\n",
    "from sklearn.model_selection import train_test_split\n",
    "from sklearn.ensemble import RandomForestRegressor\n",
    "#from sklearn.inspection import permutation_importance"
   ]
  },
  {
   "cell_type": "code",
   "execution_count": 21,
   "id": "e15cc56d",
   "metadata": {},
   "outputs": [
    {
     "name": "stderr",
     "output_type": "stream",
     "text": [
      "/Users/dbello/opt/anaconda3/lib/python3.9/site-packages/pandas/core/generic.py:4150: PerformanceWarning: dropping on a non-lexsorted multi-index without a level parameter may impact performance.\n",
      "  obj = obj._drop_axis(labels, axis, level=level, errors=errors)\n"
     ]
    }
   ],
   "source": [
    "# Split dataset for training and testing.\n",
    "\n",
    "X = data_ready.drop(['Approved'], axis=1)\n",
    "y = data_ready['Approved']\n",
    "X_train, X_test, y_train, y_test = train_test_split(X, y, test_size=0.25, random_state=42)"
   ]
  },
  {
   "cell_type": "markdown",
   "id": "7a8e94fa",
   "metadata": {},
   "source": [
    "### Find optimal features for Random Forest Regressor"
   ]
  },
  {
   "cell_type": "code",
   "execution_count": 22,
   "id": "15b190f0",
   "metadata": {},
   "outputs": [],
   "source": [
    "# Import the GridSearchCV class from the sklearn.model_selection library.\n",
    "from sklearn.model_selection import GridSearchCV"
   ]
  },
  {
   "cell_type": "code",
   "execution_count": 23,
   "id": "15bd8c1d",
   "metadata": {},
   "outputs": [
    {
     "name": "stderr",
     "output_type": "stream",
     "text": [
      "/Users/dbello/opt/anaconda3/lib/python3.9/site-packages/sklearn/model_selection/_validation.py:686: DataConversionWarning: A column-vector y was passed when a 1d array was expected. Please change the shape of y to (n_samples,), for example using ravel().\n",
      "  estimator.fit(X_train, y_train, **fit_params)\n"
     ]
    },
    {
     "name": "stdout",
     "output_type": "stream",
     "text": [
      "Fitting 10 folds for each of 18 candidates, totalling 180 fits\n"
     ]
    },
    {
     "name": "stderr",
     "output_type": "stream",
     "text": [
      "/Users/dbello/opt/anaconda3/lib/python3.9/site-packages/sklearn/model_selection/_validation.py:686: DataConversionWarning: A column-vector y was passed when a 1d array was expected. Please change the shape of y to (n_samples,), for example using ravel().\n",
      "  estimator.fit(X_train, y_train, **fit_params)\n",
      "/Users/dbello/opt/anaconda3/lib/python3.9/site-packages/sklearn/model_selection/_validation.py:686: DataConversionWarning: A column-vector y was passed when a 1d array was expected. Please change the shape of y to (n_samples,), for example using ravel().\n",
      "  estimator.fit(X_train, y_train, **fit_params)\n",
      "/Users/dbello/opt/anaconda3/lib/python3.9/site-packages/sklearn/model_selection/_validation.py:686: DataConversionWarning: A column-vector y was passed when a 1d array was expected. Please change the shape of y to (n_samples,), for example using ravel().\n",
      "  estimator.fit(X_train, y_train, **fit_params)\n",
      "/Users/dbello/opt/anaconda3/lib/python3.9/site-packages/sklearn/model_selection/_validation.py:686: DataConversionWarning: A column-vector y was passed when a 1d array was expected. Please change the shape of y to (n_samples,), for example using ravel().\n",
      "  estimator.fit(X_train, y_train, **fit_params)\n",
      "/Users/dbello/opt/anaconda3/lib/python3.9/site-packages/sklearn/model_selection/_validation.py:686: DataConversionWarning: A column-vector y was passed when a 1d array was expected. Please change the shape of y to (n_samples,), for example using ravel().\n",
      "  estimator.fit(X_train, y_train, **fit_params)\n",
      "/Users/dbello/opt/anaconda3/lib/python3.9/site-packages/sklearn/model_selection/_validation.py:686: DataConversionWarning: A column-vector y was passed when a 1d array was expected. Please change the shape of y to (n_samples,), for example using ravel().\n",
      "  estimator.fit(X_train, y_train, **fit_params)\n",
      "/Users/dbello/opt/anaconda3/lib/python3.9/site-packages/sklearn/model_selection/_validation.py:686: DataConversionWarning: A column-vector y was passed when a 1d array was expected. Please change the shape of y to (n_samples,), for example using ravel().\n",
      "  estimator.fit(X_train, y_train, **fit_params)\n",
      "/Users/dbello/opt/anaconda3/lib/python3.9/site-packages/sklearn/model_selection/_validation.py:686: DataConversionWarning: A column-vector y was passed when a 1d array was expected. Please change the shape of y to (n_samples,), for example using ravel().\n",
      "  estimator.fit(X_train, y_train, **fit_params)\n",
      "/Users/dbello/opt/anaconda3/lib/python3.9/site-packages/sklearn/model_selection/_validation.py:686: DataConversionWarning: A column-vector y was passed when a 1d array was expected. Please change the shape of y to (n_samples,), for example using ravel().\n",
      "  estimator.fit(X_train, y_train, **fit_params)\n",
      "/Users/dbello/opt/anaconda3/lib/python3.9/site-packages/sklearn/model_selection/_validation.py:686: DataConversionWarning: A column-vector y was passed when a 1d array was expected. Please change the shape of y to (n_samples,), for example using ravel().\n",
      "  estimator.fit(X_train, y_train, **fit_params)\n",
      "/Users/dbello/opt/anaconda3/lib/python3.9/site-packages/sklearn/model_selection/_validation.py:686: DataConversionWarning: A column-vector y was passed when a 1d array was expected. Please change the shape of y to (n_samples,), for example using ravel().\n",
      "  estimator.fit(X_train, y_train, **fit_params)\n",
      "/Users/dbello/opt/anaconda3/lib/python3.9/site-packages/sklearn/model_selection/_validation.py:686: DataConversionWarning: A column-vector y was passed when a 1d array was expected. Please change the shape of y to (n_samples,), for example using ravel().\n",
      "  estimator.fit(X_train, y_train, **fit_params)\n",
      "/Users/dbello/opt/anaconda3/lib/python3.9/site-packages/sklearn/model_selection/_validation.py:686: DataConversionWarning: A column-vector y was passed when a 1d array was expected. Please change the shape of y to (n_samples,), for example using ravel().\n",
      "  estimator.fit(X_train, y_train, **fit_params)\n",
      "/Users/dbello/opt/anaconda3/lib/python3.9/site-packages/sklearn/model_selection/_validation.py:686: DataConversionWarning: A column-vector y was passed when a 1d array was expected. Please change the shape of y to (n_samples,), for example using ravel().\n",
      "  estimator.fit(X_train, y_train, **fit_params)\n",
      "/Users/dbello/opt/anaconda3/lib/python3.9/site-packages/sklearn/model_selection/_validation.py:686: DataConversionWarning: A column-vector y was passed when a 1d array was expected. Please change the shape of y to (n_samples,), for example using ravel().\n",
      "  estimator.fit(X_train, y_train, **fit_params)\n",
      "/Users/dbello/opt/anaconda3/lib/python3.9/site-packages/sklearn/model_selection/_validation.py:686: DataConversionWarning: A column-vector y was passed when a 1d array was expected. Please change the shape of y to (n_samples,), for example using ravel().\n",
      "  estimator.fit(X_train, y_train, **fit_params)\n",
      "/Users/dbello/opt/anaconda3/lib/python3.9/site-packages/sklearn/model_selection/_validation.py:686: DataConversionWarning: A column-vector y was passed when a 1d array was expected. Please change the shape of y to (n_samples,), for example using ravel().\n",
      "  estimator.fit(X_train, y_train, **fit_params)\n",
      "/Users/dbello/opt/anaconda3/lib/python3.9/site-packages/sklearn/model_selection/_validation.py:686: DataConversionWarning: A column-vector y was passed when a 1d array was expected. Please change the shape of y to (n_samples,), for example using ravel().\n",
      "  estimator.fit(X_train, y_train, **fit_params)\n",
      "/Users/dbello/opt/anaconda3/lib/python3.9/site-packages/sklearn/model_selection/_validation.py:686: DataConversionWarning: A column-vector y was passed when a 1d array was expected. Please change the shape of y to (n_samples,), for example using ravel().\n",
      "  estimator.fit(X_train, y_train, **fit_params)\n",
      "/Users/dbello/opt/anaconda3/lib/python3.9/site-packages/sklearn/model_selection/_validation.py:686: DataConversionWarning: A column-vector y was passed when a 1d array was expected. Please change the shape of y to (n_samples,), for example using ravel().\n",
      "  estimator.fit(X_train, y_train, **fit_params)\n",
      "/Users/dbello/opt/anaconda3/lib/python3.9/site-packages/sklearn/model_selection/_validation.py:686: DataConversionWarning: A column-vector y was passed when a 1d array was expected. Please change the shape of y to (n_samples,), for example using ravel().\n",
      "  estimator.fit(X_train, y_train, **fit_params)\n",
      "/Users/dbello/opt/anaconda3/lib/python3.9/site-packages/sklearn/model_selection/_validation.py:686: DataConversionWarning: A column-vector y was passed when a 1d array was expected. Please change the shape of y to (n_samples,), for example using ravel().\n",
      "  estimator.fit(X_train, y_train, **fit_params)\n",
      "/Users/dbello/opt/anaconda3/lib/python3.9/site-packages/sklearn/model_selection/_validation.py:686: DataConversionWarning: A column-vector y was passed when a 1d array was expected. Please change the shape of y to (n_samples,), for example using ravel().\n",
      "  estimator.fit(X_train, y_train, **fit_params)\n",
      "/Users/dbello/opt/anaconda3/lib/python3.9/site-packages/sklearn/model_selection/_validation.py:686: DataConversionWarning: A column-vector y was passed when a 1d array was expected. Please change the shape of y to (n_samples,), for example using ravel().\n",
      "  estimator.fit(X_train, y_train, **fit_params)\n",
      "/Users/dbello/opt/anaconda3/lib/python3.9/site-packages/sklearn/model_selection/_validation.py:686: DataConversionWarning: A column-vector y was passed when a 1d array was expected. Please change the shape of y to (n_samples,), for example using ravel().\n",
      "  estimator.fit(X_train, y_train, **fit_params)\n",
      "/Users/dbello/opt/anaconda3/lib/python3.9/site-packages/sklearn/model_selection/_validation.py:686: DataConversionWarning: A column-vector y was passed when a 1d array was expected. Please change the shape of y to (n_samples,), for example using ravel().\n",
      "  estimator.fit(X_train, y_train, **fit_params)\n",
      "/Users/dbello/opt/anaconda3/lib/python3.9/site-packages/sklearn/model_selection/_validation.py:686: DataConversionWarning: A column-vector y was passed when a 1d array was expected. Please change the shape of y to (n_samples,), for example using ravel().\n",
      "  estimator.fit(X_train, y_train, **fit_params)\n",
      "/Users/dbello/opt/anaconda3/lib/python3.9/site-packages/sklearn/model_selection/_validation.py:686: DataConversionWarning: A column-vector y was passed when a 1d array was expected. Please change the shape of y to (n_samples,), for example using ravel().\n",
      "  estimator.fit(X_train, y_train, **fit_params)\n"
     ]
    },
    {
     "name": "stderr",
     "output_type": "stream",
     "text": [
      "/Users/dbello/opt/anaconda3/lib/python3.9/site-packages/sklearn/model_selection/_validation.py:686: DataConversionWarning: A column-vector y was passed when a 1d array was expected. Please change the shape of y to (n_samples,), for example using ravel().\n",
      "  estimator.fit(X_train, y_train, **fit_params)\n",
      "/Users/dbello/opt/anaconda3/lib/python3.9/site-packages/sklearn/model_selection/_validation.py:686: DataConversionWarning: A column-vector y was passed when a 1d array was expected. Please change the shape of y to (n_samples,), for example using ravel().\n",
      "  estimator.fit(X_train, y_train, **fit_params)\n",
      "/Users/dbello/opt/anaconda3/lib/python3.9/site-packages/sklearn/model_selection/_validation.py:686: DataConversionWarning: A column-vector y was passed when a 1d array was expected. Please change the shape of y to (n_samples,), for example using ravel().\n",
      "  estimator.fit(X_train, y_train, **fit_params)\n",
      "/Users/dbello/opt/anaconda3/lib/python3.9/site-packages/sklearn/model_selection/_validation.py:686: DataConversionWarning: A column-vector y was passed when a 1d array was expected. Please change the shape of y to (n_samples,), for example using ravel().\n",
      "  estimator.fit(X_train, y_train, **fit_params)\n",
      "/Users/dbello/opt/anaconda3/lib/python3.9/site-packages/sklearn/model_selection/_validation.py:686: DataConversionWarning: A column-vector y was passed when a 1d array was expected. Please change the shape of y to (n_samples,), for example using ravel().\n",
      "  estimator.fit(X_train, y_train, **fit_params)\n",
      "/Users/dbello/opt/anaconda3/lib/python3.9/site-packages/sklearn/model_selection/_validation.py:686: DataConversionWarning: A column-vector y was passed when a 1d array was expected. Please change the shape of y to (n_samples,), for example using ravel().\n",
      "  estimator.fit(X_train, y_train, **fit_params)\n",
      "/Users/dbello/opt/anaconda3/lib/python3.9/site-packages/sklearn/model_selection/_validation.py:686: DataConversionWarning: A column-vector y was passed when a 1d array was expected. Please change the shape of y to (n_samples,), for example using ravel().\n",
      "  estimator.fit(X_train, y_train, **fit_params)\n",
      "/Users/dbello/opt/anaconda3/lib/python3.9/site-packages/sklearn/model_selection/_validation.py:686: DataConversionWarning: A column-vector y was passed when a 1d array was expected. Please change the shape of y to (n_samples,), for example using ravel().\n",
      "  estimator.fit(X_train, y_train, **fit_params)\n",
      "/Users/dbello/opt/anaconda3/lib/python3.9/site-packages/sklearn/model_selection/_validation.py:686: DataConversionWarning: A column-vector y was passed when a 1d array was expected. Please change the shape of y to (n_samples,), for example using ravel().\n",
      "  estimator.fit(X_train, y_train, **fit_params)\n",
      "/Users/dbello/opt/anaconda3/lib/python3.9/site-packages/sklearn/model_selection/_validation.py:686: DataConversionWarning: A column-vector y was passed when a 1d array was expected. Please change the shape of y to (n_samples,), for example using ravel().\n",
      "  estimator.fit(X_train, y_train, **fit_params)\n",
      "/Users/dbello/opt/anaconda3/lib/python3.9/site-packages/sklearn/model_selection/_validation.py:686: DataConversionWarning: A column-vector y was passed when a 1d array was expected. Please change the shape of y to (n_samples,), for example using ravel().\n",
      "  estimator.fit(X_train, y_train, **fit_params)\n",
      "/Users/dbello/opt/anaconda3/lib/python3.9/site-packages/sklearn/model_selection/_validation.py:686: DataConversionWarning: A column-vector y was passed when a 1d array was expected. Please change the shape of y to (n_samples,), for example using ravel().\n",
      "  estimator.fit(X_train, y_train, **fit_params)\n",
      "/Users/dbello/opt/anaconda3/lib/python3.9/site-packages/sklearn/model_selection/_validation.py:686: DataConversionWarning: A column-vector y was passed when a 1d array was expected. Please change the shape of y to (n_samples,), for example using ravel().\n",
      "  estimator.fit(X_train, y_train, **fit_params)\n",
      "/Users/dbello/opt/anaconda3/lib/python3.9/site-packages/sklearn/model_selection/_validation.py:686: DataConversionWarning: A column-vector y was passed when a 1d array was expected. Please change the shape of y to (n_samples,), for example using ravel().\n",
      "  estimator.fit(X_train, y_train, **fit_params)\n",
      "/Users/dbello/opt/anaconda3/lib/python3.9/site-packages/sklearn/model_selection/_validation.py:686: DataConversionWarning: A column-vector y was passed when a 1d array was expected. Please change the shape of y to (n_samples,), for example using ravel().\n",
      "  estimator.fit(X_train, y_train, **fit_params)\n",
      "/Users/dbello/opt/anaconda3/lib/python3.9/site-packages/sklearn/model_selection/_validation.py:686: DataConversionWarning: A column-vector y was passed when a 1d array was expected. Please change the shape of y to (n_samples,), for example using ravel().\n",
      "  estimator.fit(X_train, y_train, **fit_params)\n",
      "/Users/dbello/opt/anaconda3/lib/python3.9/site-packages/sklearn/model_selection/_validation.py:686: DataConversionWarning: A column-vector y was passed when a 1d array was expected. Please change the shape of y to (n_samples,), for example using ravel().\n",
      "  estimator.fit(X_train, y_train, **fit_params)\n",
      "/Users/dbello/opt/anaconda3/lib/python3.9/site-packages/sklearn/model_selection/_validation.py:686: DataConversionWarning: A column-vector y was passed when a 1d array was expected. Please change the shape of y to (n_samples,), for example using ravel().\n",
      "  estimator.fit(X_train, y_train, **fit_params)\n",
      "/Users/dbello/opt/anaconda3/lib/python3.9/site-packages/sklearn/model_selection/_validation.py:686: DataConversionWarning: A column-vector y was passed when a 1d array was expected. Please change the shape of y to (n_samples,), for example using ravel().\n",
      "  estimator.fit(X_train, y_train, **fit_params)\n",
      "/Users/dbello/opt/anaconda3/lib/python3.9/site-packages/sklearn/model_selection/_validation.py:686: DataConversionWarning: A column-vector y was passed when a 1d array was expected. Please change the shape of y to (n_samples,), for example using ravel().\n",
      "  estimator.fit(X_train, y_train, **fit_params)\n",
      "/Users/dbello/opt/anaconda3/lib/python3.9/site-packages/sklearn/model_selection/_validation.py:686: DataConversionWarning: A column-vector y was passed when a 1d array was expected. Please change the shape of y to (n_samples,), for example using ravel().\n",
      "  estimator.fit(X_train, y_train, **fit_params)\n",
      "/Users/dbello/opt/anaconda3/lib/python3.9/site-packages/sklearn/model_selection/_validation.py:686: DataConversionWarning: A column-vector y was passed when a 1d array was expected. Please change the shape of y to (n_samples,), for example using ravel().\n",
      "  estimator.fit(X_train, y_train, **fit_params)\n",
      "/Users/dbello/opt/anaconda3/lib/python3.9/site-packages/sklearn/model_selection/_validation.py:686: DataConversionWarning: A column-vector y was passed when a 1d array was expected. Please change the shape of y to (n_samples,), for example using ravel().\n",
      "  estimator.fit(X_train, y_train, **fit_params)\n",
      "/Users/dbello/opt/anaconda3/lib/python3.9/site-packages/sklearn/model_selection/_validation.py:686: DataConversionWarning: A column-vector y was passed when a 1d array was expected. Please change the shape of y to (n_samples,), for example using ravel().\n",
      "  estimator.fit(X_train, y_train, **fit_params)\n",
      "/Users/dbello/opt/anaconda3/lib/python3.9/site-packages/sklearn/model_selection/_validation.py:686: DataConversionWarning: A column-vector y was passed when a 1d array was expected. Please change the shape of y to (n_samples,), for example using ravel().\n",
      "  estimator.fit(X_train, y_train, **fit_params)\n",
      "/Users/dbello/opt/anaconda3/lib/python3.9/site-packages/sklearn/model_selection/_validation.py:686: DataConversionWarning: A column-vector y was passed when a 1d array was expected. Please change the shape of y to (n_samples,), for example using ravel().\n",
      "  estimator.fit(X_train, y_train, **fit_params)\n",
      "/Users/dbello/opt/anaconda3/lib/python3.9/site-packages/sklearn/model_selection/_validation.py:686: DataConversionWarning: A column-vector y was passed when a 1d array was expected. Please change the shape of y to (n_samples,), for example using ravel().\n",
      "  estimator.fit(X_train, y_train, **fit_params)\n",
      "/Users/dbello/opt/anaconda3/lib/python3.9/site-packages/sklearn/model_selection/_validation.py:686: DataConversionWarning: A column-vector y was passed when a 1d array was expected. Please change the shape of y to (n_samples,), for example using ravel().\n",
      "  estimator.fit(X_train, y_train, **fit_params)\n"
     ]
    },
    {
     "name": "stderr",
     "output_type": "stream",
     "text": [
      "/Users/dbello/opt/anaconda3/lib/python3.9/site-packages/sklearn/model_selection/_validation.py:686: DataConversionWarning: A column-vector y was passed when a 1d array was expected. Please change the shape of y to (n_samples,), for example using ravel().\n",
      "  estimator.fit(X_train, y_train, **fit_params)\n",
      "/Users/dbello/opt/anaconda3/lib/python3.9/site-packages/sklearn/model_selection/_validation.py:686: DataConversionWarning: A column-vector y was passed when a 1d array was expected. Please change the shape of y to (n_samples,), for example using ravel().\n",
      "  estimator.fit(X_train, y_train, **fit_params)\n",
      "/Users/dbello/opt/anaconda3/lib/python3.9/site-packages/sklearn/model_selection/_validation.py:686: DataConversionWarning: A column-vector y was passed when a 1d array was expected. Please change the shape of y to (n_samples,), for example using ravel().\n",
      "  estimator.fit(X_train, y_train, **fit_params)\n",
      "/Users/dbello/opt/anaconda3/lib/python3.9/site-packages/sklearn/model_selection/_validation.py:686: DataConversionWarning: A column-vector y was passed when a 1d array was expected. Please change the shape of y to (n_samples,), for example using ravel().\n",
      "  estimator.fit(X_train, y_train, **fit_params)\n",
      "/Users/dbello/opt/anaconda3/lib/python3.9/site-packages/sklearn/model_selection/_validation.py:686: DataConversionWarning: A column-vector y was passed when a 1d array was expected. Please change the shape of y to (n_samples,), for example using ravel().\n",
      "  estimator.fit(X_train, y_train, **fit_params)\n",
      "/Users/dbello/opt/anaconda3/lib/python3.9/site-packages/sklearn/model_selection/_validation.py:686: DataConversionWarning: A column-vector y was passed when a 1d array was expected. Please change the shape of y to (n_samples,), for example using ravel().\n",
      "  estimator.fit(X_train, y_train, **fit_params)\n",
      "/Users/dbello/opt/anaconda3/lib/python3.9/site-packages/sklearn/model_selection/_validation.py:686: DataConversionWarning: A column-vector y was passed when a 1d array was expected. Please change the shape of y to (n_samples,), for example using ravel().\n",
      "  estimator.fit(X_train, y_train, **fit_params)\n",
      "/Users/dbello/opt/anaconda3/lib/python3.9/site-packages/sklearn/model_selection/_validation.py:686: DataConversionWarning: A column-vector y was passed when a 1d array was expected. Please change the shape of y to (n_samples,), for example using ravel().\n",
      "  estimator.fit(X_train, y_train, **fit_params)\n",
      "/Users/dbello/opt/anaconda3/lib/python3.9/site-packages/sklearn/model_selection/_validation.py:686: DataConversionWarning: A column-vector y was passed when a 1d array was expected. Please change the shape of y to (n_samples,), for example using ravel().\n",
      "  estimator.fit(X_train, y_train, **fit_params)\n",
      "/Users/dbello/opt/anaconda3/lib/python3.9/site-packages/sklearn/model_selection/_validation.py:686: DataConversionWarning: A column-vector y was passed when a 1d array was expected. Please change the shape of y to (n_samples,), for example using ravel().\n",
      "  estimator.fit(X_train, y_train, **fit_params)\n",
      "/Users/dbello/opt/anaconda3/lib/python3.9/site-packages/sklearn/model_selection/_validation.py:686: DataConversionWarning: A column-vector y was passed when a 1d array was expected. Please change the shape of y to (n_samples,), for example using ravel().\n",
      "  estimator.fit(X_train, y_train, **fit_params)\n",
      "/Users/dbello/opt/anaconda3/lib/python3.9/site-packages/sklearn/model_selection/_validation.py:686: DataConversionWarning: A column-vector y was passed when a 1d array was expected. Please change the shape of y to (n_samples,), for example using ravel().\n",
      "  estimator.fit(X_train, y_train, **fit_params)\n",
      "/Users/dbello/opt/anaconda3/lib/python3.9/site-packages/sklearn/model_selection/_validation.py:686: DataConversionWarning: A column-vector y was passed when a 1d array was expected. Please change the shape of y to (n_samples,), for example using ravel().\n",
      "  estimator.fit(X_train, y_train, **fit_params)\n",
      "/Users/dbello/opt/anaconda3/lib/python3.9/site-packages/sklearn/model_selection/_validation.py:686: DataConversionWarning: A column-vector y was passed when a 1d array was expected. Please change the shape of y to (n_samples,), for example using ravel().\n",
      "  estimator.fit(X_train, y_train, **fit_params)\n",
      "/Users/dbello/opt/anaconda3/lib/python3.9/site-packages/sklearn/model_selection/_validation.py:686: DataConversionWarning: A column-vector y was passed when a 1d array was expected. Please change the shape of y to (n_samples,), for example using ravel().\n",
      "  estimator.fit(X_train, y_train, **fit_params)\n",
      "/Users/dbello/opt/anaconda3/lib/python3.9/site-packages/sklearn/model_selection/_validation.py:686: DataConversionWarning: A column-vector y was passed when a 1d array was expected. Please change the shape of y to (n_samples,), for example using ravel().\n",
      "  estimator.fit(X_train, y_train, **fit_params)\n",
      "/Users/dbello/opt/anaconda3/lib/python3.9/site-packages/sklearn/model_selection/_validation.py:686: DataConversionWarning: A column-vector y was passed when a 1d array was expected. Please change the shape of y to (n_samples,), for example using ravel().\n",
      "  estimator.fit(X_train, y_train, **fit_params)\n",
      "/Users/dbello/opt/anaconda3/lib/python3.9/site-packages/sklearn/model_selection/_validation.py:686: DataConversionWarning: A column-vector y was passed when a 1d array was expected. Please change the shape of y to (n_samples,), for example using ravel().\n",
      "  estimator.fit(X_train, y_train, **fit_params)\n",
      "/Users/dbello/opt/anaconda3/lib/python3.9/site-packages/sklearn/model_selection/_validation.py:686: DataConversionWarning: A column-vector y was passed when a 1d array was expected. Please change the shape of y to (n_samples,), for example using ravel().\n",
      "  estimator.fit(X_train, y_train, **fit_params)\n",
      "/Users/dbello/opt/anaconda3/lib/python3.9/site-packages/sklearn/model_selection/_validation.py:686: DataConversionWarning: A column-vector y was passed when a 1d array was expected. Please change the shape of y to (n_samples,), for example using ravel().\n",
      "  estimator.fit(X_train, y_train, **fit_params)\n",
      "/Users/dbello/opt/anaconda3/lib/python3.9/site-packages/sklearn/model_selection/_validation.py:686: DataConversionWarning: A column-vector y was passed when a 1d array was expected. Please change the shape of y to (n_samples,), for example using ravel().\n",
      "  estimator.fit(X_train, y_train, **fit_params)\n",
      "/Users/dbello/opt/anaconda3/lib/python3.9/site-packages/sklearn/model_selection/_validation.py:686: DataConversionWarning: A column-vector y was passed when a 1d array was expected. Please change the shape of y to (n_samples,), for example using ravel().\n",
      "  estimator.fit(X_train, y_train, **fit_params)\n",
      "/Users/dbello/opt/anaconda3/lib/python3.9/site-packages/sklearn/model_selection/_validation.py:686: DataConversionWarning: A column-vector y was passed when a 1d array was expected. Please change the shape of y to (n_samples,), for example using ravel().\n",
      "  estimator.fit(X_train, y_train, **fit_params)\n",
      "/Users/dbello/opt/anaconda3/lib/python3.9/site-packages/sklearn/model_selection/_validation.py:686: DataConversionWarning: A column-vector y was passed when a 1d array was expected. Please change the shape of y to (n_samples,), for example using ravel().\n",
      "  estimator.fit(X_train, y_train, **fit_params)\n",
      "/Users/dbello/opt/anaconda3/lib/python3.9/site-packages/sklearn/model_selection/_validation.py:686: DataConversionWarning: A column-vector y was passed when a 1d array was expected. Please change the shape of y to (n_samples,), for example using ravel().\n",
      "  estimator.fit(X_train, y_train, **fit_params)\n",
      "/Users/dbello/opt/anaconda3/lib/python3.9/site-packages/sklearn/model_selection/_validation.py:686: DataConversionWarning: A column-vector y was passed when a 1d array was expected. Please change the shape of y to (n_samples,), for example using ravel().\n",
      "  estimator.fit(X_train, y_train, **fit_params)\n",
      "/Users/dbello/opt/anaconda3/lib/python3.9/site-packages/sklearn/model_selection/_validation.py:686: DataConversionWarning: A column-vector y was passed when a 1d array was expected. Please change the shape of y to (n_samples,), for example using ravel().\n",
      "  estimator.fit(X_train, y_train, **fit_params)\n",
      "/Users/dbello/opt/anaconda3/lib/python3.9/site-packages/sklearn/model_selection/_validation.py:686: DataConversionWarning: A column-vector y was passed when a 1d array was expected. Please change the shape of y to (n_samples,), for example using ravel().\n",
      "  estimator.fit(X_train, y_train, **fit_params)\n"
     ]
    },
    {
     "name": "stderr",
     "output_type": "stream",
     "text": [
      "/Users/dbello/opt/anaconda3/lib/python3.9/site-packages/sklearn/model_selection/_validation.py:686: DataConversionWarning: A column-vector y was passed when a 1d array was expected. Please change the shape of y to (n_samples,), for example using ravel().\n",
      "  estimator.fit(X_train, y_train, **fit_params)\n",
      "/Users/dbello/opt/anaconda3/lib/python3.9/site-packages/sklearn/model_selection/_validation.py:686: DataConversionWarning: A column-vector y was passed when a 1d array was expected. Please change the shape of y to (n_samples,), for example using ravel().\n",
      "  estimator.fit(X_train, y_train, **fit_params)\n",
      "/Users/dbello/opt/anaconda3/lib/python3.9/site-packages/sklearn/model_selection/_validation.py:686: DataConversionWarning: A column-vector y was passed when a 1d array was expected. Please change the shape of y to (n_samples,), for example using ravel().\n",
      "  estimator.fit(X_train, y_train, **fit_params)\n",
      "/Users/dbello/opt/anaconda3/lib/python3.9/site-packages/sklearn/model_selection/_validation.py:686: DataConversionWarning: A column-vector y was passed when a 1d array was expected. Please change the shape of y to (n_samples,), for example using ravel().\n",
      "  estimator.fit(X_train, y_train, **fit_params)\n",
      "/Users/dbello/opt/anaconda3/lib/python3.9/site-packages/sklearn/model_selection/_validation.py:686: DataConversionWarning: A column-vector y was passed when a 1d array was expected. Please change the shape of y to (n_samples,), for example using ravel().\n",
      "  estimator.fit(X_train, y_train, **fit_params)\n",
      "/Users/dbello/opt/anaconda3/lib/python3.9/site-packages/sklearn/model_selection/_validation.py:686: DataConversionWarning: A column-vector y was passed when a 1d array was expected. Please change the shape of y to (n_samples,), for example using ravel().\n",
      "  estimator.fit(X_train, y_train, **fit_params)\n",
      "/Users/dbello/opt/anaconda3/lib/python3.9/site-packages/sklearn/model_selection/_validation.py:686: DataConversionWarning: A column-vector y was passed when a 1d array was expected. Please change the shape of y to (n_samples,), for example using ravel().\n",
      "  estimator.fit(X_train, y_train, **fit_params)\n",
      "/Users/dbello/opt/anaconda3/lib/python3.9/site-packages/sklearn/model_selection/_validation.py:686: DataConversionWarning: A column-vector y was passed when a 1d array was expected. Please change the shape of y to (n_samples,), for example using ravel().\n",
      "  estimator.fit(X_train, y_train, **fit_params)\n",
      "/Users/dbello/opt/anaconda3/lib/python3.9/site-packages/sklearn/model_selection/_validation.py:686: DataConversionWarning: A column-vector y was passed when a 1d array was expected. Please change the shape of y to (n_samples,), for example using ravel().\n",
      "  estimator.fit(X_train, y_train, **fit_params)\n",
      "/Users/dbello/opt/anaconda3/lib/python3.9/site-packages/sklearn/model_selection/_validation.py:686: DataConversionWarning: A column-vector y was passed when a 1d array was expected. Please change the shape of y to (n_samples,), for example using ravel().\n",
      "  estimator.fit(X_train, y_train, **fit_params)\n",
      "/Users/dbello/opt/anaconda3/lib/python3.9/site-packages/sklearn/model_selection/_validation.py:686: DataConversionWarning: A column-vector y was passed when a 1d array was expected. Please change the shape of y to (n_samples,), for example using ravel().\n",
      "  estimator.fit(X_train, y_train, **fit_params)\n",
      "/Users/dbello/opt/anaconda3/lib/python3.9/site-packages/sklearn/model_selection/_validation.py:686: DataConversionWarning: A column-vector y was passed when a 1d array was expected. Please change the shape of y to (n_samples,), for example using ravel().\n",
      "  estimator.fit(X_train, y_train, **fit_params)\n",
      "/Users/dbello/opt/anaconda3/lib/python3.9/site-packages/sklearn/model_selection/_validation.py:686: DataConversionWarning: A column-vector y was passed when a 1d array was expected. Please change the shape of y to (n_samples,), for example using ravel().\n",
      "  estimator.fit(X_train, y_train, **fit_params)\n",
      "/Users/dbello/opt/anaconda3/lib/python3.9/site-packages/sklearn/model_selection/_validation.py:686: DataConversionWarning: A column-vector y was passed when a 1d array was expected. Please change the shape of y to (n_samples,), for example using ravel().\n",
      "  estimator.fit(X_train, y_train, **fit_params)\n",
      "/Users/dbello/opt/anaconda3/lib/python3.9/site-packages/sklearn/model_selection/_validation.py:686: DataConversionWarning: A column-vector y was passed when a 1d array was expected. Please change the shape of y to (n_samples,), for example using ravel().\n",
      "  estimator.fit(X_train, y_train, **fit_params)\n",
      "/Users/dbello/opt/anaconda3/lib/python3.9/site-packages/sklearn/model_selection/_validation.py:686: DataConversionWarning: A column-vector y was passed when a 1d array was expected. Please change the shape of y to (n_samples,), for example using ravel().\n",
      "  estimator.fit(X_train, y_train, **fit_params)\n",
      "/Users/dbello/opt/anaconda3/lib/python3.9/site-packages/sklearn/model_selection/_validation.py:686: DataConversionWarning: A column-vector y was passed when a 1d array was expected. Please change the shape of y to (n_samples,), for example using ravel().\n",
      "  estimator.fit(X_train, y_train, **fit_params)\n",
      "/Users/dbello/opt/anaconda3/lib/python3.9/site-packages/sklearn/model_selection/_validation.py:686: DataConversionWarning: A column-vector y was passed when a 1d array was expected. Please change the shape of y to (n_samples,), for example using ravel().\n",
      "  estimator.fit(X_train, y_train, **fit_params)\n",
      "/Users/dbello/opt/anaconda3/lib/python3.9/site-packages/sklearn/model_selection/_validation.py:686: DataConversionWarning: A column-vector y was passed when a 1d array was expected. Please change the shape of y to (n_samples,), for example using ravel().\n",
      "  estimator.fit(X_train, y_train, **fit_params)\n",
      "/Users/dbello/opt/anaconda3/lib/python3.9/site-packages/sklearn/model_selection/_validation.py:686: DataConversionWarning: A column-vector y was passed when a 1d array was expected. Please change the shape of y to (n_samples,), for example using ravel().\n",
      "  estimator.fit(X_train, y_train, **fit_params)\n",
      "/Users/dbello/opt/anaconda3/lib/python3.9/site-packages/sklearn/model_selection/_validation.py:686: DataConversionWarning: A column-vector y was passed when a 1d array was expected. Please change the shape of y to (n_samples,), for example using ravel().\n",
      "  estimator.fit(X_train, y_train, **fit_params)\n",
      "/Users/dbello/opt/anaconda3/lib/python3.9/site-packages/sklearn/model_selection/_validation.py:686: DataConversionWarning: A column-vector y was passed when a 1d array was expected. Please change the shape of y to (n_samples,), for example using ravel().\n",
      "  estimator.fit(X_train, y_train, **fit_params)\n",
      "/Users/dbello/opt/anaconda3/lib/python3.9/site-packages/sklearn/model_selection/_validation.py:686: DataConversionWarning: A column-vector y was passed when a 1d array was expected. Please change the shape of y to (n_samples,), for example using ravel().\n",
      "  estimator.fit(X_train, y_train, **fit_params)\n",
      "/Users/dbello/opt/anaconda3/lib/python3.9/site-packages/sklearn/model_selection/_validation.py:686: DataConversionWarning: A column-vector y was passed when a 1d array was expected. Please change the shape of y to (n_samples,), for example using ravel().\n",
      "  estimator.fit(X_train, y_train, **fit_params)\n",
      "/Users/dbello/opt/anaconda3/lib/python3.9/site-packages/sklearn/model_selection/_validation.py:686: DataConversionWarning: A column-vector y was passed when a 1d array was expected. Please change the shape of y to (n_samples,), for example using ravel().\n",
      "  estimator.fit(X_train, y_train, **fit_params)\n",
      "/Users/dbello/opt/anaconda3/lib/python3.9/site-packages/sklearn/model_selection/_validation.py:686: DataConversionWarning: A column-vector y was passed when a 1d array was expected. Please change the shape of y to (n_samples,), for example using ravel().\n",
      "  estimator.fit(X_train, y_train, **fit_params)\n",
      "/Users/dbello/opt/anaconda3/lib/python3.9/site-packages/sklearn/model_selection/_validation.py:686: DataConversionWarning: A column-vector y was passed when a 1d array was expected. Please change the shape of y to (n_samples,), for example using ravel().\n",
      "  estimator.fit(X_train, y_train, **fit_params)\n",
      "/Users/dbello/opt/anaconda3/lib/python3.9/site-packages/sklearn/model_selection/_validation.py:686: DataConversionWarning: A column-vector y was passed when a 1d array was expected. Please change the shape of y to (n_samples,), for example using ravel().\n",
      "  estimator.fit(X_train, y_train, **fit_params)\n"
     ]
    },
    {
     "name": "stderr",
     "output_type": "stream",
     "text": [
      "/Users/dbello/opt/anaconda3/lib/python3.9/site-packages/sklearn/model_selection/_validation.py:686: DataConversionWarning: A column-vector y was passed when a 1d array was expected. Please change the shape of y to (n_samples,), for example using ravel().\n",
      "  estimator.fit(X_train, y_train, **fit_params)\n",
      "/Users/dbello/opt/anaconda3/lib/python3.9/site-packages/sklearn/model_selection/_validation.py:686: DataConversionWarning: A column-vector y was passed when a 1d array was expected. Please change the shape of y to (n_samples,), for example using ravel().\n",
      "  estimator.fit(X_train, y_train, **fit_params)\n",
      "/Users/dbello/opt/anaconda3/lib/python3.9/site-packages/sklearn/model_selection/_validation.py:686: DataConversionWarning: A column-vector y was passed when a 1d array was expected. Please change the shape of y to (n_samples,), for example using ravel().\n",
      "  estimator.fit(X_train, y_train, **fit_params)\n",
      "/Users/dbello/opt/anaconda3/lib/python3.9/site-packages/sklearn/model_selection/_validation.py:686: DataConversionWarning: A column-vector y was passed when a 1d array was expected. Please change the shape of y to (n_samples,), for example using ravel().\n",
      "  estimator.fit(X_train, y_train, **fit_params)\n",
      "/Users/dbello/opt/anaconda3/lib/python3.9/site-packages/sklearn/model_selection/_validation.py:686: DataConversionWarning: A column-vector y was passed when a 1d array was expected. Please change the shape of y to (n_samples,), for example using ravel().\n",
      "  estimator.fit(X_train, y_train, **fit_params)\n",
      "/Users/dbello/opt/anaconda3/lib/python3.9/site-packages/sklearn/model_selection/_validation.py:686: DataConversionWarning: A column-vector y was passed when a 1d array was expected. Please change the shape of y to (n_samples,), for example using ravel().\n",
      "  estimator.fit(X_train, y_train, **fit_params)\n",
      "/Users/dbello/opt/anaconda3/lib/python3.9/site-packages/sklearn/model_selection/_validation.py:686: DataConversionWarning: A column-vector y was passed when a 1d array was expected. Please change the shape of y to (n_samples,), for example using ravel().\n",
      "  estimator.fit(X_train, y_train, **fit_params)\n",
      "/Users/dbello/opt/anaconda3/lib/python3.9/site-packages/sklearn/model_selection/_validation.py:686: DataConversionWarning: A column-vector y was passed when a 1d array was expected. Please change the shape of y to (n_samples,), for example using ravel().\n",
      "  estimator.fit(X_train, y_train, **fit_params)\n",
      "/Users/dbello/opt/anaconda3/lib/python3.9/site-packages/sklearn/model_selection/_validation.py:686: DataConversionWarning: A column-vector y was passed when a 1d array was expected. Please change the shape of y to (n_samples,), for example using ravel().\n",
      "  estimator.fit(X_train, y_train, **fit_params)\n",
      "/Users/dbello/opt/anaconda3/lib/python3.9/site-packages/sklearn/model_selection/_validation.py:686: DataConversionWarning: A column-vector y was passed when a 1d array was expected. Please change the shape of y to (n_samples,), for example using ravel().\n",
      "  estimator.fit(X_train, y_train, **fit_params)\n",
      "/Users/dbello/opt/anaconda3/lib/python3.9/site-packages/sklearn/model_selection/_validation.py:686: DataConversionWarning: A column-vector y was passed when a 1d array was expected. Please change the shape of y to (n_samples,), for example using ravel().\n",
      "  estimator.fit(X_train, y_train, **fit_params)\n",
      "/Users/dbello/opt/anaconda3/lib/python3.9/site-packages/sklearn/model_selection/_validation.py:686: DataConversionWarning: A column-vector y was passed when a 1d array was expected. Please change the shape of y to (n_samples,), for example using ravel().\n",
      "  estimator.fit(X_train, y_train, **fit_params)\n",
      "/Users/dbello/opt/anaconda3/lib/python3.9/site-packages/sklearn/model_selection/_validation.py:686: DataConversionWarning: A column-vector y was passed when a 1d array was expected. Please change the shape of y to (n_samples,), for example using ravel().\n",
      "  estimator.fit(X_train, y_train, **fit_params)\n",
      "/Users/dbello/opt/anaconda3/lib/python3.9/site-packages/sklearn/model_selection/_validation.py:686: DataConversionWarning: A column-vector y was passed when a 1d array was expected. Please change the shape of y to (n_samples,), for example using ravel().\n",
      "  estimator.fit(X_train, y_train, **fit_params)\n",
      "/Users/dbello/opt/anaconda3/lib/python3.9/site-packages/sklearn/model_selection/_validation.py:686: DataConversionWarning: A column-vector y was passed when a 1d array was expected. Please change the shape of y to (n_samples,), for example using ravel().\n",
      "  estimator.fit(X_train, y_train, **fit_params)\n",
      "/Users/dbello/opt/anaconda3/lib/python3.9/site-packages/sklearn/model_selection/_validation.py:686: DataConversionWarning: A column-vector y was passed when a 1d array was expected. Please change the shape of y to (n_samples,), for example using ravel().\n",
      "  estimator.fit(X_train, y_train, **fit_params)\n",
      "/Users/dbello/opt/anaconda3/lib/python3.9/site-packages/sklearn/model_selection/_validation.py:686: DataConversionWarning: A column-vector y was passed when a 1d array was expected. Please change the shape of y to (n_samples,), for example using ravel().\n",
      "  estimator.fit(X_train, y_train, **fit_params)\n",
      "/Users/dbello/opt/anaconda3/lib/python3.9/site-packages/sklearn/model_selection/_validation.py:686: DataConversionWarning: A column-vector y was passed when a 1d array was expected. Please change the shape of y to (n_samples,), for example using ravel().\n",
      "  estimator.fit(X_train, y_train, **fit_params)\n",
      "/Users/dbello/opt/anaconda3/lib/python3.9/site-packages/sklearn/model_selection/_validation.py:686: DataConversionWarning: A column-vector y was passed when a 1d array was expected. Please change the shape of y to (n_samples,), for example using ravel().\n",
      "  estimator.fit(X_train, y_train, **fit_params)\n",
      "/Users/dbello/opt/anaconda3/lib/python3.9/site-packages/sklearn/model_selection/_validation.py:686: DataConversionWarning: A column-vector y was passed when a 1d array was expected. Please change the shape of y to (n_samples,), for example using ravel().\n",
      "  estimator.fit(X_train, y_train, **fit_params)\n",
      "/Users/dbello/opt/anaconda3/lib/python3.9/site-packages/sklearn/model_selection/_validation.py:686: DataConversionWarning: A column-vector y was passed when a 1d array was expected. Please change the shape of y to (n_samples,), for example using ravel().\n",
      "  estimator.fit(X_train, y_train, **fit_params)\n",
      "/Users/dbello/opt/anaconda3/lib/python3.9/site-packages/sklearn/model_selection/_validation.py:686: DataConversionWarning: A column-vector y was passed when a 1d array was expected. Please change the shape of y to (n_samples,), for example using ravel().\n",
      "  estimator.fit(X_train, y_train, **fit_params)\n",
      "/Users/dbello/opt/anaconda3/lib/python3.9/site-packages/sklearn/model_selection/_validation.py:686: DataConversionWarning: A column-vector y was passed when a 1d array was expected. Please change the shape of y to (n_samples,), for example using ravel().\n",
      "  estimator.fit(X_train, y_train, **fit_params)\n",
      "/Users/dbello/opt/anaconda3/lib/python3.9/site-packages/sklearn/model_selection/_validation.py:686: DataConversionWarning: A column-vector y was passed when a 1d array was expected. Please change the shape of y to (n_samples,), for example using ravel().\n",
      "  estimator.fit(X_train, y_train, **fit_params)\n",
      "/Users/dbello/opt/anaconda3/lib/python3.9/site-packages/sklearn/model_selection/_validation.py:686: DataConversionWarning: A column-vector y was passed when a 1d array was expected. Please change the shape of y to (n_samples,), for example using ravel().\n",
      "  estimator.fit(X_train, y_train, **fit_params)\n",
      "/Users/dbello/opt/anaconda3/lib/python3.9/site-packages/sklearn/model_selection/_validation.py:686: DataConversionWarning: A column-vector y was passed when a 1d array was expected. Please change the shape of y to (n_samples,), for example using ravel().\n",
      "  estimator.fit(X_train, y_train, **fit_params)\n",
      "/Users/dbello/opt/anaconda3/lib/python3.9/site-packages/sklearn/model_selection/_validation.py:686: DataConversionWarning: A column-vector y was passed when a 1d array was expected. Please change the shape of y to (n_samples,), for example using ravel().\n",
      "  estimator.fit(X_train, y_train, **fit_params)\n",
      "/Users/dbello/opt/anaconda3/lib/python3.9/site-packages/sklearn/model_selection/_validation.py:686: DataConversionWarning: A column-vector y was passed when a 1d array was expected. Please change the shape of y to (n_samples,), for example using ravel().\n",
      "  estimator.fit(X_train, y_train, **fit_params)\n"
     ]
    },
    {
     "name": "stderr",
     "output_type": "stream",
     "text": [
      "/Users/dbello/opt/anaconda3/lib/python3.9/site-packages/sklearn/model_selection/_validation.py:686: DataConversionWarning: A column-vector y was passed when a 1d array was expected. Please change the shape of y to (n_samples,), for example using ravel().\n",
      "  estimator.fit(X_train, y_train, **fit_params)\n",
      "/Users/dbello/opt/anaconda3/lib/python3.9/site-packages/sklearn/model_selection/_validation.py:686: DataConversionWarning: A column-vector y was passed when a 1d array was expected. Please change the shape of y to (n_samples,), for example using ravel().\n",
      "  estimator.fit(X_train, y_train, **fit_params)\n",
      "/Users/dbello/opt/anaconda3/lib/python3.9/site-packages/sklearn/model_selection/_validation.py:686: DataConversionWarning: A column-vector y was passed when a 1d array was expected. Please change the shape of y to (n_samples,), for example using ravel().\n",
      "  estimator.fit(X_train, y_train, **fit_params)\n",
      "/Users/dbello/opt/anaconda3/lib/python3.9/site-packages/sklearn/model_selection/_validation.py:686: DataConversionWarning: A column-vector y was passed when a 1d array was expected. Please change the shape of y to (n_samples,), for example using ravel().\n",
      "  estimator.fit(X_train, y_train, **fit_params)\n",
      "/Users/dbello/opt/anaconda3/lib/python3.9/site-packages/sklearn/model_selection/_validation.py:686: DataConversionWarning: A column-vector y was passed when a 1d array was expected. Please change the shape of y to (n_samples,), for example using ravel().\n",
      "  estimator.fit(X_train, y_train, **fit_params)\n",
      "/Users/dbello/opt/anaconda3/lib/python3.9/site-packages/sklearn/model_selection/_validation.py:686: DataConversionWarning: A column-vector y was passed when a 1d array was expected. Please change the shape of y to (n_samples,), for example using ravel().\n",
      "  estimator.fit(X_train, y_train, **fit_params)\n",
      "/Users/dbello/opt/anaconda3/lib/python3.9/site-packages/sklearn/model_selection/_validation.py:686: DataConversionWarning: A column-vector y was passed when a 1d array was expected. Please change the shape of y to (n_samples,), for example using ravel().\n",
      "  estimator.fit(X_train, y_train, **fit_params)\n",
      "/Users/dbello/opt/anaconda3/lib/python3.9/site-packages/sklearn/model_selection/_validation.py:686: DataConversionWarning: A column-vector y was passed when a 1d array was expected. Please change the shape of y to (n_samples,), for example using ravel().\n",
      "  estimator.fit(X_train, y_train, **fit_params)\n",
      "/Users/dbello/opt/anaconda3/lib/python3.9/site-packages/sklearn/model_selection/_validation.py:686: DataConversionWarning: A column-vector y was passed when a 1d array was expected. Please change the shape of y to (n_samples,), for example using ravel().\n",
      "  estimator.fit(X_train, y_train, **fit_params)\n",
      "/Users/dbello/opt/anaconda3/lib/python3.9/site-packages/sklearn/model_selection/_validation.py:686: DataConversionWarning: A column-vector y was passed when a 1d array was expected. Please change the shape of y to (n_samples,), for example using ravel().\n",
      "  estimator.fit(X_train, y_train, **fit_params)\n",
      "/Users/dbello/opt/anaconda3/lib/python3.9/site-packages/sklearn/model_selection/_validation.py:686: DataConversionWarning: A column-vector y was passed when a 1d array was expected. Please change the shape of y to (n_samples,), for example using ravel().\n",
      "  estimator.fit(X_train, y_train, **fit_params)\n",
      "/Users/dbello/opt/anaconda3/lib/python3.9/site-packages/sklearn/model_selection/_validation.py:686: DataConversionWarning: A column-vector y was passed when a 1d array was expected. Please change the shape of y to (n_samples,), for example using ravel().\n",
      "  estimator.fit(X_train, y_train, **fit_params)\n",
      "/Users/dbello/opt/anaconda3/lib/python3.9/site-packages/sklearn/model_selection/_validation.py:686: DataConversionWarning: A column-vector y was passed when a 1d array was expected. Please change the shape of y to (n_samples,), for example using ravel().\n",
      "  estimator.fit(X_train, y_train, **fit_params)\n",
      "/Users/dbello/opt/anaconda3/lib/python3.9/site-packages/sklearn/model_selection/_validation.py:686: DataConversionWarning: A column-vector y was passed when a 1d array was expected. Please change the shape of y to (n_samples,), for example using ravel().\n",
      "  estimator.fit(X_train, y_train, **fit_params)\n",
      "/Users/dbello/opt/anaconda3/lib/python3.9/site-packages/sklearn/model_selection/_validation.py:686: DataConversionWarning: A column-vector y was passed when a 1d array was expected. Please change the shape of y to (n_samples,), for example using ravel().\n",
      "  estimator.fit(X_train, y_train, **fit_params)\n",
      "/Users/dbello/opt/anaconda3/lib/python3.9/site-packages/sklearn/model_selection/_validation.py:686: DataConversionWarning: A column-vector y was passed when a 1d array was expected. Please change the shape of y to (n_samples,), for example using ravel().\n",
      "  estimator.fit(X_train, y_train, **fit_params)\n",
      "/Users/dbello/opt/anaconda3/lib/python3.9/site-packages/sklearn/model_selection/_validation.py:686: DataConversionWarning: A column-vector y was passed when a 1d array was expected. Please change the shape of y to (n_samples,), for example using ravel().\n",
      "  estimator.fit(X_train, y_train, **fit_params)\n",
      "/Users/dbello/opt/anaconda3/lib/python3.9/site-packages/sklearn/model_selection/_validation.py:686: DataConversionWarning: A column-vector y was passed when a 1d array was expected. Please change the shape of y to (n_samples,), for example using ravel().\n",
      "  estimator.fit(X_train, y_train, **fit_params)\n",
      "/Users/dbello/opt/anaconda3/lib/python3.9/site-packages/sklearn/model_selection/_validation.py:686: DataConversionWarning: A column-vector y was passed when a 1d array was expected. Please change the shape of y to (n_samples,), for example using ravel().\n",
      "  estimator.fit(X_train, y_train, **fit_params)\n",
      "/Users/dbello/opt/anaconda3/lib/python3.9/site-packages/sklearn/model_selection/_validation.py:686: DataConversionWarning: A column-vector y was passed when a 1d array was expected. Please change the shape of y to (n_samples,), for example using ravel().\n",
      "  estimator.fit(X_train, y_train, **fit_params)\n",
      "/Users/dbello/opt/anaconda3/lib/python3.9/site-packages/sklearn/model_selection/_validation.py:686: DataConversionWarning: A column-vector y was passed when a 1d array was expected. Please change the shape of y to (n_samples,), for example using ravel().\n",
      "  estimator.fit(X_train, y_train, **fit_params)\n",
      "/Users/dbello/opt/anaconda3/lib/python3.9/site-packages/sklearn/model_selection/_validation.py:686: DataConversionWarning: A column-vector y was passed when a 1d array was expected. Please change the shape of y to (n_samples,), for example using ravel().\n",
      "  estimator.fit(X_train, y_train, **fit_params)\n",
      "/Users/dbello/opt/anaconda3/lib/python3.9/site-packages/sklearn/model_selection/_validation.py:686: DataConversionWarning: A column-vector y was passed when a 1d array was expected. Please change the shape of y to (n_samples,), for example using ravel().\n",
      "  estimator.fit(X_train, y_train, **fit_params)\n",
      "/Users/dbello/opt/anaconda3/lib/python3.9/site-packages/sklearn/model_selection/_validation.py:686: DataConversionWarning: A column-vector y was passed when a 1d array was expected. Please change the shape of y to (n_samples,), for example using ravel().\n",
      "  estimator.fit(X_train, y_train, **fit_params)\n",
      "/Users/dbello/opt/anaconda3/lib/python3.9/site-packages/sklearn/model_selection/_validation.py:686: DataConversionWarning: A column-vector y was passed when a 1d array was expected. Please change the shape of y to (n_samples,), for example using ravel().\n",
      "  estimator.fit(X_train, y_train, **fit_params)\n",
      "/Users/dbello/opt/anaconda3/lib/python3.9/site-packages/sklearn/model_selection/_validation.py:686: DataConversionWarning: A column-vector y was passed when a 1d array was expected. Please change the shape of y to (n_samples,), for example using ravel().\n",
      "  estimator.fit(X_train, y_train, **fit_params)\n",
      "/Users/dbello/opt/anaconda3/lib/python3.9/site-packages/sklearn/model_selection/_validation.py:686: DataConversionWarning: A column-vector y was passed when a 1d array was expected. Please change the shape of y to (n_samples,), for example using ravel().\n",
      "  estimator.fit(X_train, y_train, **fit_params)\n",
      "/Users/dbello/opt/anaconda3/lib/python3.9/site-packages/sklearn/model_selection/_validation.py:686: DataConversionWarning: A column-vector y was passed when a 1d array was expected. Please change the shape of y to (n_samples,), for example using ravel().\n",
      "  estimator.fit(X_train, y_train, **fit_params)\n"
     ]
    },
    {
     "name": "stderr",
     "output_type": "stream",
     "text": [
      "/Users/dbello/opt/anaconda3/lib/python3.9/site-packages/sklearn/model_selection/_validation.py:686: DataConversionWarning: A column-vector y was passed when a 1d array was expected. Please change the shape of y to (n_samples,), for example using ravel().\n",
      "  estimator.fit(X_train, y_train, **fit_params)\n",
      "/Users/dbello/opt/anaconda3/lib/python3.9/site-packages/sklearn/model_selection/_validation.py:686: DataConversionWarning: A column-vector y was passed when a 1d array was expected. Please change the shape of y to (n_samples,), for example using ravel().\n",
      "  estimator.fit(X_train, y_train, **fit_params)\n",
      "/Users/dbello/opt/anaconda3/lib/python3.9/site-packages/sklearn/model_selection/_validation.py:686: DataConversionWarning: A column-vector y was passed when a 1d array was expected. Please change the shape of y to (n_samples,), for example using ravel().\n",
      "  estimator.fit(X_train, y_train, **fit_params)\n",
      "/Users/dbello/opt/anaconda3/lib/python3.9/site-packages/sklearn/model_selection/_validation.py:686: DataConversionWarning: A column-vector y was passed when a 1d array was expected. Please change the shape of y to (n_samples,), for example using ravel().\n",
      "  estimator.fit(X_train, y_train, **fit_params)\n",
      "/Users/dbello/opt/anaconda3/lib/python3.9/site-packages/sklearn/model_selection/_validation.py:686: DataConversionWarning: A column-vector y was passed when a 1d array was expected. Please change the shape of y to (n_samples,), for example using ravel().\n",
      "  estimator.fit(X_train, y_train, **fit_params)\n",
      "/Users/dbello/opt/anaconda3/lib/python3.9/site-packages/sklearn/model_selection/_validation.py:686: DataConversionWarning: A column-vector y was passed when a 1d array was expected. Please change the shape of y to (n_samples,), for example using ravel().\n",
      "  estimator.fit(X_train, y_train, **fit_params)\n",
      "/Users/dbello/opt/anaconda3/lib/python3.9/site-packages/sklearn/model_selection/_validation.py:686: DataConversionWarning: A column-vector y was passed when a 1d array was expected. Please change the shape of y to (n_samples,), for example using ravel().\n",
      "  estimator.fit(X_train, y_train, **fit_params)\n",
      "/Users/dbello/opt/anaconda3/lib/python3.9/site-packages/sklearn/model_selection/_validation.py:686: DataConversionWarning: A column-vector y was passed when a 1d array was expected. Please change the shape of y to (n_samples,), for example using ravel().\n",
      "  estimator.fit(X_train, y_train, **fit_params)\n",
      "/Users/dbello/opt/anaconda3/lib/python3.9/site-packages/sklearn/model_selection/_validation.py:686: DataConversionWarning: A column-vector y was passed when a 1d array was expected. Please change the shape of y to (n_samples,), for example using ravel().\n",
      "  estimator.fit(X_train, y_train, **fit_params)\n",
      "/Users/dbello/opt/anaconda3/lib/python3.9/site-packages/sklearn/model_selection/_validation.py:686: DataConversionWarning: A column-vector y was passed when a 1d array was expected. Please change the shape of y to (n_samples,), for example using ravel().\n",
      "  estimator.fit(X_train, y_train, **fit_params)\n",
      "/Users/dbello/opt/anaconda3/lib/python3.9/site-packages/sklearn/model_selection/_validation.py:686: DataConversionWarning: A column-vector y was passed when a 1d array was expected. Please change the shape of y to (n_samples,), for example using ravel().\n",
      "  estimator.fit(X_train, y_train, **fit_params)\n",
      "/Users/dbello/opt/anaconda3/lib/python3.9/site-packages/sklearn/model_selection/_search.py:910: DataConversionWarning: A column-vector y was passed when a 1d array was expected. Please change the shape of y to (n_samples,), for example using ravel().\n",
      "  self.best_estimator_.fit(X, y, **fit_params)\n"
     ]
    },
    {
     "name": "stdout",
     "output_type": "stream",
     "text": [
      "The best parameters are:  {'max_depth': 9, 'min_samples_split': 11, 'n_estimators': 200}\n"
     ]
    }
   ],
   "source": [
    "param_grid = {'max_depth': [7,8,9], \n",
    "              'n_estimators': [150,200], \n",
    "              'min_samples_split': [9,10,11]}\n",
    "\n",
    "RF_clf_grid_search_cv = GridSearchCV(RandomForestRegressor(random_state = 42), \n",
    "                              param_grid=param_grid, verbose=1, cv=10)\n",
    "\n",
    "RF_clf_grid_search_cv.fit(X_train, y_train)\n",
    "\n",
    "print(\"The best parameters are: \", RF_clf_grid_search_cv.best_params_)"
   ]
  },
  {
   "cell_type": "code",
   "execution_count": 24,
   "id": "f2b13a4b",
   "metadata": {},
   "outputs": [
    {
     "name": "stderr",
     "output_type": "stream",
     "text": [
      "/var/folders/w3/vqfl42wd3fd53hbr0f08dkmshgfxtc/T/ipykernel_4390/710916755.py:4: DataConversionWarning: A column-vector y was passed when a 1d array was expected. Please change the shape of y to (n_samples,), for example using ravel().\n",
      "  rf.fit(X_train, y_train)\n"
     ]
    },
    {
     "data": {
      "text/html": [
       "<style>#sk-container-id-1 {color: black;background-color: white;}#sk-container-id-1 pre{padding: 0;}#sk-container-id-1 div.sk-toggleable {background-color: white;}#sk-container-id-1 label.sk-toggleable__label {cursor: pointer;display: block;width: 100%;margin-bottom: 0;padding: 0.3em;box-sizing: border-box;text-align: center;}#sk-container-id-1 label.sk-toggleable__label-arrow:before {content: \"▸\";float: left;margin-right: 0.25em;color: #696969;}#sk-container-id-1 label.sk-toggleable__label-arrow:hover:before {color: black;}#sk-container-id-1 div.sk-estimator:hover label.sk-toggleable__label-arrow:before {color: black;}#sk-container-id-1 div.sk-toggleable__content {max-height: 0;max-width: 0;overflow: hidden;text-align: left;background-color: #f0f8ff;}#sk-container-id-1 div.sk-toggleable__content pre {margin: 0.2em;color: black;border-radius: 0.25em;background-color: #f0f8ff;}#sk-container-id-1 input.sk-toggleable__control:checked~div.sk-toggleable__content {max-height: 200px;max-width: 100%;overflow: auto;}#sk-container-id-1 input.sk-toggleable__control:checked~label.sk-toggleable__label-arrow:before {content: \"▾\";}#sk-container-id-1 div.sk-estimator input.sk-toggleable__control:checked~label.sk-toggleable__label {background-color: #d4ebff;}#sk-container-id-1 div.sk-label input.sk-toggleable__control:checked~label.sk-toggleable__label {background-color: #d4ebff;}#sk-container-id-1 input.sk-hidden--visually {border: 0;clip: rect(1px 1px 1px 1px);clip: rect(1px, 1px, 1px, 1px);height: 1px;margin: -1px;overflow: hidden;padding: 0;position: absolute;width: 1px;}#sk-container-id-1 div.sk-estimator {font-family: monospace;background-color: #f0f8ff;border: 1px dotted black;border-radius: 0.25em;box-sizing: border-box;margin-bottom: 0.5em;}#sk-container-id-1 div.sk-estimator:hover {background-color: #d4ebff;}#sk-container-id-1 div.sk-parallel-item::after {content: \"\";width: 100%;border-bottom: 1px solid gray;flex-grow: 1;}#sk-container-id-1 div.sk-label:hover label.sk-toggleable__label {background-color: #d4ebff;}#sk-container-id-1 div.sk-serial::before {content: \"\";position: absolute;border-left: 1px solid gray;box-sizing: border-box;top: 0;bottom: 0;left: 50%;z-index: 0;}#sk-container-id-1 div.sk-serial {display: flex;flex-direction: column;align-items: center;background-color: white;padding-right: 0.2em;padding-left: 0.2em;position: relative;}#sk-container-id-1 div.sk-item {position: relative;z-index: 1;}#sk-container-id-1 div.sk-parallel {display: flex;align-items: stretch;justify-content: center;background-color: white;position: relative;}#sk-container-id-1 div.sk-item::before, #sk-container-id-1 div.sk-parallel-item::before {content: \"\";position: absolute;border-left: 1px solid gray;box-sizing: border-box;top: 0;bottom: 0;left: 50%;z-index: -1;}#sk-container-id-1 div.sk-parallel-item {display: flex;flex-direction: column;z-index: 1;position: relative;background-color: white;}#sk-container-id-1 div.sk-parallel-item:first-child::after {align-self: flex-end;width: 50%;}#sk-container-id-1 div.sk-parallel-item:last-child::after {align-self: flex-start;width: 50%;}#sk-container-id-1 div.sk-parallel-item:only-child::after {width: 0;}#sk-container-id-1 div.sk-dashed-wrapped {border: 1px dashed gray;margin: 0 0.4em 0.5em 0.4em;box-sizing: border-box;padding-bottom: 0.4em;background-color: white;}#sk-container-id-1 div.sk-label label {font-family: monospace;font-weight: bold;display: inline-block;line-height: 1.2em;}#sk-container-id-1 div.sk-label-container {text-align: center;}#sk-container-id-1 div.sk-container {/* jupyter's `normalize.less` sets `[hidden] { display: none; }` but bootstrap.min.css set `[hidden] { display: none !important; }` so we also need the `!important` here to be able to override the default hidden behavior on the sphinx rendered scikit-learn.org. See: https://github.com/scikit-learn/scikit-learn/issues/21755 */display: inline-block !important;position: relative;}#sk-container-id-1 div.sk-text-repr-fallback {display: none;}</style><div id=\"sk-container-id-1\" class=\"sk-top-container\"><div class=\"sk-text-repr-fallback\"><pre>RandomForestRegressor(max_depth=8, min_samples_split=9, n_estimators=200,\n",
       "                      random_state=42)</pre><b>In a Jupyter environment, please rerun this cell to show the HTML representation or trust the notebook. <br />On GitHub, the HTML representation is unable to render, please try loading this page with nbviewer.org.</b></div><div class=\"sk-container\" hidden><div class=\"sk-item\"><div class=\"sk-estimator sk-toggleable\"><input class=\"sk-toggleable__control sk-hidden--visually\" id=\"sk-estimator-id-1\" type=\"checkbox\" checked><label for=\"sk-estimator-id-1\" class=\"sk-toggleable__label sk-toggleable__label-arrow\">RandomForestRegressor</label><div class=\"sk-toggleable__content\"><pre>RandomForestRegressor(max_depth=8, min_samples_split=9, n_estimators=200,\n",
       "                      random_state=42)</pre></div></div></div></div></div>"
      ],
      "text/plain": [
       "RandomForestRegressor(max_depth=8, min_samples_split=9, n_estimators=200,\n",
       "                      random_state=42)"
      ]
     },
     "execution_count": 24,
     "metadata": {},
     "output_type": "execute_result"
    }
   ],
   "source": [
    "# Fit the Random Forest Regressor with 200 Decision Trees and max_depth=2\n",
    "\n",
    "rf = RandomForestRegressor(n_estimators=200, max_depth=8, min_samples_split=9, random_state=42)\n",
    "rf.fit(X_train, y_train)"
   ]
  },
  {
   "cell_type": "code",
   "execution_count": 25,
   "id": "e8fb4990",
   "metadata": {},
   "outputs": [
    {
     "data": {
      "text/plain": [
       "(288,)"
      ]
     },
     "execution_count": 25,
     "metadata": {},
     "output_type": "execute_result"
    }
   ],
   "source": [
    "# To get the feature importances from the Random Forest model use the feature_importances_ attribute:\n",
    "\n",
    "rf.feature_importances_.shape"
   ]
  },
  {
   "cell_type": "code",
   "execution_count": 26,
   "id": "f6fee62f",
   "metadata": {},
   "outputs": [
    {
     "data": {
      "text/html": [
       "<div>\n",
       "<style scoped>\n",
       "    .dataframe tbody tr th:only-of-type {\n",
       "        vertical-align: middle;\n",
       "    }\n",
       "\n",
       "    .dataframe tbody tr th {\n",
       "        vertical-align: top;\n",
       "    }\n",
       "\n",
       "    .dataframe thead th {\n",
       "        text-align: right;\n",
       "    }\n",
       "</style>\n",
       "<table border=\"1\" class=\"dataframe\">\n",
       "  <thead>\n",
       "    <tr style=\"text-align: right;\">\n",
       "      <th></th>\n",
       "      <th>Feature_Name</th>\n",
       "      <th>Value</th>\n",
       "    </tr>\n",
       "  </thead>\n",
       "  <tbody>\n",
       "    <tr>\n",
       "      <th>42</th>\n",
       "      <td>Candidate_Character_TruthTeller</td>\n",
       "      <td>0.022515</td>\n",
       "    </tr>\n",
       "    <tr>\n",
       "      <th>96</th>\n",
       "      <td>Candidate_Observer_Multiplication_Mobilizer</td>\n",
       "      <td>0.020714</td>\n",
       "    </tr>\n",
       "    <tr>\n",
       "      <th>48</th>\n",
       "      <td>Candidate_Observer_Character_Learner</td>\n",
       "      <td>0.015121</td>\n",
       "    </tr>\n",
       "    <tr>\n",
       "      <th>93</th>\n",
       "      <td>Candidate_Observer_Multiplication_Discipler</td>\n",
       "      <td>0.013823</td>\n",
       "    </tr>\n",
       "    <tr>\n",
       "      <th>44</th>\n",
       "      <td>Candidate_Observer_Character_Adapter</td>\n",
       "      <td>0.013475</td>\n",
       "    </tr>\n",
       "    <tr>\n",
       "      <th>79</th>\n",
       "      <td>Candidate_Observer_Leadership_Influencer</td>\n",
       "      <td>0.013422</td>\n",
       "    </tr>\n",
       "    <tr>\n",
       "      <th>100</th>\n",
       "      <td>Candidate_Observer_Multiplication_Server</td>\n",
       "      <td>0.012899</td>\n",
       "    </tr>\n",
       "    <tr>\n",
       "      <th>91</th>\n",
       "      <td>Candidate_Observer_Multiplication_Builder</td>\n",
       "      <td>0.011342</td>\n",
       "    </tr>\n",
       "    <tr>\n",
       "      <th>117</th>\n",
       "      <td>Candidate_Observer_Vision_TrendSetter</td>\n",
       "      <td>0.011314</td>\n",
       "    </tr>\n",
       "    <tr>\n",
       "      <th>73</th>\n",
       "      <td>Candidate_Observer_Leadership_Resolver</td>\n",
       "      <td>0.011307</td>\n",
       "    </tr>\n",
       "  </tbody>\n",
       "</table>\n",
       "</div>"
      ],
      "text/plain": [
       "                                    Feature_Name     Value\n",
       "42               Candidate_Character_TruthTeller  0.022515\n",
       "96   Candidate_Observer_Multiplication_Mobilizer  0.020714\n",
       "48          Candidate_Observer_Character_Learner  0.015121\n",
       "93   Candidate_Observer_Multiplication_Discipler  0.013823\n",
       "44          Candidate_Observer_Character_Adapter  0.013475\n",
       "79      Candidate_Observer_Leadership_Influencer  0.013422\n",
       "100     Candidate_Observer_Multiplication_Server  0.012899\n",
       "91     Candidate_Observer_Multiplication_Builder  0.011342\n",
       "117        Candidate_Observer_Vision_TrendSetter  0.011314\n",
       "73        Candidate_Observer_Leadership_Resolver  0.011307"
      ]
     },
     "execution_count": 26,
     "metadata": {},
     "output_type": "execute_result"
    }
   ],
   "source": [
    "# Let's create a table with the feature importance values and their corresponding names\n",
    "# First, we convert each array to a dataframe\n",
    "\n",
    "df1 = pd.DataFrame(rf.feature_importances_)\n",
    "df2 = pd.DataFrame(column_names)\n",
    "\n",
    "#Then, we concatanate the resuting df's and add names to the columns\n",
    "\n",
    "feat_impt = pd.concat([df2, df1], axis=1)\n",
    "feat_impt.columns =['Feature_Name', 'Value']\n",
    "feat_impt = feat_impt.sort_values([\"Value\"], ascending=False)\n",
    "feat_impt.head(10)"
   ]
  },
  {
   "cell_type": "markdown",
   "id": "60e92adb",
   "metadata": {},
   "source": [
    "## Dataset 1 (top 8 features)"
   ]
  },
  {
   "cell_type": "markdown",
   "id": "d604d9be",
   "metadata": {},
   "source": [
    "Dataset 1 consists of the top 8 features according to the Random Forest Regressor above."
   ]
  },
  {
   "cell_type": "code",
   "execution_count": 27,
   "id": "643cf9fc",
   "metadata": {},
   "outputs": [
    {
     "data": {
      "text/html": [
       "<div>\n",
       "<style scoped>\n",
       "    .dataframe tbody tr th:only-of-type {\n",
       "        vertical-align: middle;\n",
       "    }\n",
       "\n",
       "    .dataframe tbody tr th {\n",
       "        vertical-align: top;\n",
       "    }\n",
       "\n",
       "    .dataframe thead th {\n",
       "        text-align: right;\n",
       "    }\n",
       "</style>\n",
       "<table border=\"1\" class=\"dataframe\">\n",
       "  <thead>\n",
       "    <tr style=\"text-align: right;\">\n",
       "      <th></th>\n",
       "      <th>Feature_Name</th>\n",
       "      <th>Value</th>\n",
       "    </tr>\n",
       "  </thead>\n",
       "  <tbody>\n",
       "    <tr>\n",
       "      <th>42</th>\n",
       "      <td>Candidate_Character_TruthTeller</td>\n",
       "      <td>0.022515</td>\n",
       "    </tr>\n",
       "    <tr>\n",
       "      <th>96</th>\n",
       "      <td>Candidate_Observer_Multiplication_Mobilizer</td>\n",
       "      <td>0.020714</td>\n",
       "    </tr>\n",
       "    <tr>\n",
       "      <th>48</th>\n",
       "      <td>Candidate_Observer_Character_Learner</td>\n",
       "      <td>0.015121</td>\n",
       "    </tr>\n",
       "    <tr>\n",
       "      <th>93</th>\n",
       "      <td>Candidate_Observer_Multiplication_Discipler</td>\n",
       "      <td>0.013823</td>\n",
       "    </tr>\n",
       "    <tr>\n",
       "      <th>44</th>\n",
       "      <td>Candidate_Observer_Character_Adapter</td>\n",
       "      <td>0.013475</td>\n",
       "    </tr>\n",
       "    <tr>\n",
       "      <th>79</th>\n",
       "      <td>Candidate_Observer_Leadership_Influencer</td>\n",
       "      <td>0.013422</td>\n",
       "    </tr>\n",
       "    <tr>\n",
       "      <th>100</th>\n",
       "      <td>Candidate_Observer_Multiplication_Server</td>\n",
       "      <td>0.012899</td>\n",
       "    </tr>\n",
       "    <tr>\n",
       "      <th>91</th>\n",
       "      <td>Candidate_Observer_Multiplication_Builder</td>\n",
       "      <td>0.011342</td>\n",
       "    </tr>\n",
       "  </tbody>\n",
       "</table>\n",
       "</div>"
      ],
      "text/plain": [
       "                                    Feature_Name     Value\n",
       "42               Candidate_Character_TruthTeller  0.022515\n",
       "96   Candidate_Observer_Multiplication_Mobilizer  0.020714\n",
       "48          Candidate_Observer_Character_Learner  0.015121\n",
       "93   Candidate_Observer_Multiplication_Discipler  0.013823\n",
       "44          Candidate_Observer_Character_Adapter  0.013475\n",
       "79      Candidate_Observer_Leadership_Influencer  0.013422\n",
       "100     Candidate_Observer_Multiplication_Server  0.012899\n",
       "91     Candidate_Observer_Multiplication_Builder  0.011342"
      ]
     },
     "execution_count": 27,
     "metadata": {},
     "output_type": "execute_result"
    }
   ],
   "source": [
    "# Let's take a look at the top eight features according to the Random Forest Regressor\n",
    "\n",
    "sorted_df = feat_impt.sort_values([\"Value\"], ascending=False)\n",
    "sorted_df.head(8)"
   ]
  },
  {
   "cell_type": "code",
   "execution_count": 28,
   "id": "1085078c",
   "metadata": {},
   "outputs": [
    {
     "data": {
      "text/html": [
       "<div>\n",
       "<style scoped>\n",
       "    .dataframe tbody tr th:only-of-type {\n",
       "        vertical-align: middle;\n",
       "    }\n",
       "\n",
       "    .dataframe tbody tr th {\n",
       "        vertical-align: top;\n",
       "    }\n",
       "\n",
       "    .dataframe thead tr th {\n",
       "        text-align: left;\n",
       "    }\n",
       "</style>\n",
       "<table border=\"1\" class=\"dataframe\">\n",
       "  <thead>\n",
       "    <tr>\n",
       "      <th></th>\n",
       "      <th>Candidate_Character_TruthTeller</th>\n",
       "      <th>Candidate_Observer_Multiplication_Mobilizer</th>\n",
       "      <th>Candidate_Observer_Character_Learner</th>\n",
       "      <th>Candidate_Observer_Multiplication_Discipler</th>\n",
       "      <th>Candidate_Observer_Character_Adapter</th>\n",
       "      <th>Candidate_Observer_Leadership_Influencer</th>\n",
       "      <th>Candidate_Observer_Multiplication_Server</th>\n",
       "      <th>Candidate_Observer_Multiplication_Builder</th>\n",
       "      <th>Approved</th>\n",
       "    </tr>\n",
       "  </thead>\n",
       "  <tbody>\n",
       "    <tr>\n",
       "      <th>0</th>\n",
       "      <td>1.338627</td>\n",
       "      <td>0.346331</td>\n",
       "      <td>0.996616</td>\n",
       "      <td>-1.247874</td>\n",
       "      <td>0.155527</td>\n",
       "      <td>-1.088397</td>\n",
       "      <td>0.060686</td>\n",
       "      <td>-1.053234</td>\n",
       "      <td>1</td>\n",
       "    </tr>\n",
       "    <tr>\n",
       "      <th>1</th>\n",
       "      <td>-0.096602</td>\n",
       "      <td>-0.881895</td>\n",
       "      <td>-1.176441</td>\n",
       "      <td>-1.030339</td>\n",
       "      <td>-0.332327</td>\n",
       "      <td>-0.906114</td>\n",
       "      <td>0.060686</td>\n",
       "      <td>-1.189118</td>\n",
       "      <td>0</td>\n",
       "    </tr>\n",
       "    <tr>\n",
       "      <th>2</th>\n",
       "      <td>-0.096602</td>\n",
       "      <td>0.755740</td>\n",
       "      <td>0.996616</td>\n",
       "      <td>-0.595270</td>\n",
       "      <td>1.456470</td>\n",
       "      <td>0.552147</td>\n",
       "      <td>0.992647</td>\n",
       "      <td>0.305608</td>\n",
       "      <td>1</td>\n",
       "    </tr>\n",
       "    <tr>\n",
       "      <th>3</th>\n",
       "      <td>0.676214</td>\n",
       "      <td>-0.336017</td>\n",
       "      <td>1.213922</td>\n",
       "      <td>-0.377735</td>\n",
       "      <td>0.480763</td>\n",
       "      <td>0.916712</td>\n",
       "      <td>0.433470</td>\n",
       "      <td>0.577376</td>\n",
       "      <td>1</td>\n",
       "    </tr>\n",
       "    <tr>\n",
       "      <th>4</th>\n",
       "      <td>-0.869418</td>\n",
       "      <td>-0.881895</td>\n",
       "      <td>-2.045664</td>\n",
       "      <td>-0.595270</td>\n",
       "      <td>-1.795887</td>\n",
       "      <td>-0.723831</td>\n",
       "      <td>-0.684883</td>\n",
       "      <td>-2.683844</td>\n",
       "      <td>1</td>\n",
       "    </tr>\n",
       "    <tr>\n",
       "      <th>...</th>\n",
       "      <td>...</td>\n",
       "      <td>...</td>\n",
       "      <td>...</td>\n",
       "      <td>...</td>\n",
       "      <td>...</td>\n",
       "      <td>...</td>\n",
       "      <td>...</td>\n",
       "      <td>...</td>\n",
       "      <td>...</td>\n",
       "    </tr>\n",
       "    <tr>\n",
       "      <th>1027</th>\n",
       "      <td>0.676214</td>\n",
       "      <td>-1.291304</td>\n",
       "      <td>0.344699</td>\n",
       "      <td>0.492404</td>\n",
       "      <td>-0.657562</td>\n",
       "      <td>-1.270679</td>\n",
       "      <td>-1.430453</td>\n",
       "      <td>-0.645582</td>\n",
       "      <td>1</td>\n",
       "    </tr>\n",
       "    <tr>\n",
       "      <th>1028</th>\n",
       "      <td>1.338627</td>\n",
       "      <td>1.028679</td>\n",
       "      <td>-0.307218</td>\n",
       "      <td>-1.465409</td>\n",
       "      <td>-1.470651</td>\n",
       "      <td>0.552147</td>\n",
       "      <td>0.992647</td>\n",
       "      <td>0.033839</td>\n",
       "      <td>0</td>\n",
       "    </tr>\n",
       "    <tr>\n",
       "      <th>1029</th>\n",
       "      <td>-1.531831</td>\n",
       "      <td>0.073392</td>\n",
       "      <td>-0.307218</td>\n",
       "      <td>-1.900479</td>\n",
       "      <td>-1.795887</td>\n",
       "      <td>0.187582</td>\n",
       "      <td>-1.430453</td>\n",
       "      <td>-0.645582</td>\n",
       "      <td>0</td>\n",
       "    </tr>\n",
       "    <tr>\n",
       "      <th>1030</th>\n",
       "      <td>0.676214</td>\n",
       "      <td>0.755740</td>\n",
       "      <td>-0.741830</td>\n",
       "      <td>1.145009</td>\n",
       "      <td>0.480763</td>\n",
       "      <td>1.281277</td>\n",
       "      <td>0.992647</td>\n",
       "      <td>1.256797</td>\n",
       "      <td>1</td>\n",
       "    </tr>\n",
       "    <tr>\n",
       "      <th>1031</th>\n",
       "      <td>-0.096602</td>\n",
       "      <td>0.346331</td>\n",
       "      <td>0.127393</td>\n",
       "      <td>0.709939</td>\n",
       "      <td>-0.332327</td>\n",
       "      <td>0.005299</td>\n",
       "      <td>0.433470</td>\n",
       "      <td>-1.053234</td>\n",
       "      <td>1</td>\n",
       "    </tr>\n",
       "  </tbody>\n",
       "</table>\n",
       "<p>1032 rows × 9 columns</p>\n",
       "</div>"
      ],
      "text/plain": [
       "     Candidate_Character_TruthTeller  \\\n",
       "0                           1.338627   \n",
       "1                          -0.096602   \n",
       "2                          -0.096602   \n",
       "3                           0.676214   \n",
       "4                          -0.869418   \n",
       "...                              ...   \n",
       "1027                        0.676214   \n",
       "1028                        1.338627   \n",
       "1029                       -1.531831   \n",
       "1030                        0.676214   \n",
       "1031                       -0.096602   \n",
       "\n",
       "     Candidate_Observer_Multiplication_Mobilizer  \\\n",
       "0                                       0.346331   \n",
       "1                                      -0.881895   \n",
       "2                                       0.755740   \n",
       "3                                      -0.336017   \n",
       "4                                      -0.881895   \n",
       "...                                          ...   \n",
       "1027                                   -1.291304   \n",
       "1028                                    1.028679   \n",
       "1029                                    0.073392   \n",
       "1030                                    0.755740   \n",
       "1031                                    0.346331   \n",
       "\n",
       "     Candidate_Observer_Character_Learner  \\\n",
       "0                                0.996616   \n",
       "1                               -1.176441   \n",
       "2                                0.996616   \n",
       "3                                1.213922   \n",
       "4                               -2.045664   \n",
       "...                                   ...   \n",
       "1027                             0.344699   \n",
       "1028                            -0.307218   \n",
       "1029                            -0.307218   \n",
       "1030                            -0.741830   \n",
       "1031                             0.127393   \n",
       "\n",
       "     Candidate_Observer_Multiplication_Discipler  \\\n",
       "0                                      -1.247874   \n",
       "1                                      -1.030339   \n",
       "2                                      -0.595270   \n",
       "3                                      -0.377735   \n",
       "4                                      -0.595270   \n",
       "...                                          ...   \n",
       "1027                                    0.492404   \n",
       "1028                                   -1.465409   \n",
       "1029                                   -1.900479   \n",
       "1030                                    1.145009   \n",
       "1031                                    0.709939   \n",
       "\n",
       "     Candidate_Observer_Character_Adapter  \\\n",
       "0                                0.155527   \n",
       "1                               -0.332327   \n",
       "2                                1.456470   \n",
       "3                                0.480763   \n",
       "4                               -1.795887   \n",
       "...                                   ...   \n",
       "1027                            -0.657562   \n",
       "1028                            -1.470651   \n",
       "1029                            -1.795887   \n",
       "1030                             0.480763   \n",
       "1031                            -0.332327   \n",
       "\n",
       "     Candidate_Observer_Leadership_Influencer  \\\n",
       "0                                   -1.088397   \n",
       "1                                   -0.906114   \n",
       "2                                    0.552147   \n",
       "3                                    0.916712   \n",
       "4                                   -0.723831   \n",
       "...                                       ...   \n",
       "1027                                -1.270679   \n",
       "1028                                 0.552147   \n",
       "1029                                 0.187582   \n",
       "1030                                 1.281277   \n",
       "1031                                 0.005299   \n",
       "\n",
       "     Candidate_Observer_Multiplication_Server  \\\n",
       "0                                    0.060686   \n",
       "1                                    0.060686   \n",
       "2                                    0.992647   \n",
       "3                                    0.433470   \n",
       "4                                   -0.684883   \n",
       "...                                       ...   \n",
       "1027                                -1.430453   \n",
       "1028                                 0.992647   \n",
       "1029                                -1.430453   \n",
       "1030                                 0.992647   \n",
       "1031                                 0.433470   \n",
       "\n",
       "     Candidate_Observer_Multiplication_Builder Approved  \n",
       "0                                    -1.053234        1  \n",
       "1                                    -1.189118        0  \n",
       "2                                     0.305608        1  \n",
       "3                                     0.577376        1  \n",
       "4                                    -2.683844        1  \n",
       "...                                        ...      ...  \n",
       "1027                                 -0.645582        1  \n",
       "1028                                  0.033839        0  \n",
       "1029                                 -0.645582        0  \n",
       "1030                                  1.256797        1  \n",
       "1031                                 -1.053234        1  \n",
       "\n",
       "[1032 rows x 9 columns]"
      ]
     },
     "execution_count": 28,
     "metadata": {},
     "output_type": "execute_result"
    }
   ],
   "source": [
    "# Using the names of the top 8 features ('Feature_Name') as column headings for dataset_1\n",
    "\n",
    "top_eight = sorted_df.head(8)\n",
    "dataset_1 = pd.DataFrame(data_ready.loc[:, top_eight['Feature_Name']])\n",
    "\n",
    "# Add the target variable column to dataset_1\n",
    "\n",
    "dataset_1 = pd.concat([dataset_1, data_ready['Approved']], axis=1, join='inner')\n",
    "dataset_1"
   ]
  },
  {
   "cell_type": "markdown",
   "id": "35176391",
   "metadata": {},
   "source": [
    "### Correlation\n",
    "Let's find out which features in Dataset 1 have the strongest correlation "
   ]
  },
  {
   "cell_type": "code",
   "execution_count": 29,
   "id": "513d0e5c",
   "metadata": {},
   "outputs": [],
   "source": [
    "corr_matrix = dataset_1.corr()"
   ]
  },
  {
   "cell_type": "markdown",
   "id": "5b0a60d7",
   "metadata": {},
   "source": [
    "### Positive Correlation\n",
    "\n",
    "#### From the Correlation Matrix we can see that the following two features have the strongest correlation with the \"Approved\" target variable:\n",
    "\n",
    "- 'Candidate_Observer_Multiplication_Mobilizer'\n",
    "\n",
    "- 'Candidate_Observer_Multiplication_Discipler'\n",
    "\n",
    "#### Other positive correlations are: \n",
    "\n",
    "- 'Candidate_Leadership'\n",
    "\n",
    "- 'Candidate_Observer_Vision_TrendSetter'"
   ]
  },
  {
   "cell_type": "markdown",
   "id": "225effae",
   "metadata": {},
   "source": [
    "### Histograms\n",
    "Another way to get a feel of the type of data we're dealing with is through histograms:"
   ]
  },
  {
   "cell_type": "code",
   "execution_count": 30,
   "id": "bb862016",
   "metadata": {},
   "outputs": [
    {
     "name": "stdout",
     "output_type": "stream",
     "text": [
      "Saving figure attribute_histogram_plots\n"
     ]
    },
    {
     "data": {
      "image/png": "[encoded data removed]",
      "text/plain": [
       "<Figure size 1440x1080 with 9 Axes>"
      ]
     },
     "metadata": {
      "needs_background": "light"
     },
     "output_type": "display_data"
    }
   ],
   "source": [
    "# The hist() method will plot Dataset_1 for us\n",
    "\n",
    "dataset_1.hist(bins=50, figsize=(20,15))\n",
    "save_fig(\"attribute_histogram_plots\")\n",
    "plt.show() "
   ]
  },
  {
   "cell_type": "markdown",
   "id": "799e0851",
   "metadata": {},
   "source": [
    "The normal shape of some of the distributions ahead is an indicator of their importance in predicting the target values. This is consistent with the results of the correlation analysis above."
   ]
  },
  {
   "cell_type": "markdown",
   "id": "3298a224",
   "metadata": {},
   "source": [
    "#### According to the correlaton analysis and the Random Forest Regresor feature selection, 'Candidate_Observer_Multiplication_Mobilizer' is the most significant feature in predicting whether someone will be approved as Church Planter."
   ]
  },
  {
   "cell_type": "markdown",
   "id": "3252b400",
   "metadata": {},
   "source": [
    "## Dataset 2 (top 50 features)"
   ]
  },
  {
   "cell_type": "markdown",
   "id": "08fee9c6",
   "metadata": {},
   "source": [
    "Dataset 2 consists of the top 50 features according to the Random Forest Regressor above."
   ]
  },
  {
   "cell_type": "code",
   "execution_count": 31,
   "id": "c637c280",
   "metadata": {},
   "outputs": [],
   "source": [
    "# Let's take a look at the top fifty features according to the Random Forest Regressor\n",
    "\n",
    "sorted_df = feat_impt.sort_values([\"Value\"], ascending=False)"
   ]
  },
  {
   "cell_type": "code",
   "execution_count": 32,
   "id": "f155e557",
   "metadata": {},
   "outputs": [
    {
     "data": {
      "text/html": [
       "<div>\n",
       "<style scoped>\n",
       "    .dataframe tbody tr th:only-of-type {\n",
       "        vertical-align: middle;\n",
       "    }\n",
       "\n",
       "    .dataframe tbody tr th {\n",
       "        vertical-align: top;\n",
       "    }\n",
       "\n",
       "    .dataframe thead tr th {\n",
       "        text-align: left;\n",
       "    }\n",
       "</style>\n",
       "<table border=\"1\" class=\"dataframe\">\n",
       "  <thead>\n",
       "    <tr>\n",
       "      <th></th>\n",
       "      <th>Candidate_Character_TruthTeller</th>\n",
       "      <th>Candidate_Observer_Multiplication_Mobilizer</th>\n",
       "      <th>Candidate_Observer_Character_Learner</th>\n",
       "      <th>Candidate_Observer_Multiplication_Discipler</th>\n",
       "      <th>Candidate_Observer_Character_Adapter</th>\n",
       "      <th>Candidate_Observer_Leadership_Influencer</th>\n",
       "      <th>Candidate_Observer_Multiplication_Server</th>\n",
       "      <th>Candidate_Observer_Multiplication_Builder</th>\n",
       "      <th>Candidate_Observer_Vision_TrendSetter</th>\n",
       "      <th>Candidate_Observer_Leadership_Resolver</th>\n",
       "      <th>...</th>\n",
       "      <th>CANDIDATE_360_ATTITUDE_WORKAHOLIC</th>\n",
       "      <th>Candidate_Observer_Multiplication_Networker</th>\n",
       "      <th>CouplePrepare_EnrichType_Vitalized</th>\n",
       "      <th>Candidate_Observer_Leadership_Communicator</th>\n",
       "      <th>Candidate_Observer_Leadership_Changer</th>\n",
       "      <th>CANDIDATE_360_CIR_LACK_OF_FUNDING</th>\n",
       "      <th>Candidate_Observer_Character_Steward</th>\n",
       "      <th>Candidate_Observer_Character_Reflector</th>\n",
       "      <th>Candidate_Leadership_Trainer</th>\n",
       "      <th>Approved</th>\n",
       "    </tr>\n",
       "  </thead>\n",
       "  <tbody>\n",
       "    <tr>\n",
       "      <th>0</th>\n",
       "      <td>1.338627</td>\n",
       "      <td>0.346331</td>\n",
       "      <td>0.996616</td>\n",
       "      <td>-1.247874</td>\n",
       "      <td>0.155527</td>\n",
       "      <td>-1.088397</td>\n",
       "      <td>0.060686</td>\n",
       "      <td>-1.053234</td>\n",
       "      <td>-0.609074</td>\n",
       "      <td>-0.426512</td>\n",
       "      <td>...</td>\n",
       "      <td>0.406714</td>\n",
       "      <td>0.014595</td>\n",
       "      <td>1.0</td>\n",
       "      <td>-0.354222</td>\n",
       "      <td>0.295590</td>\n",
       "      <td>0.257971</td>\n",
       "      <td>-0.670751</td>\n",
       "      <td>0.003408</td>\n",
       "      <td>0.711431</td>\n",
       "      <td>1</td>\n",
       "    </tr>\n",
       "    <tr>\n",
       "      <th>1</th>\n",
       "      <td>-0.096602</td>\n",
       "      <td>-0.881895</td>\n",
       "      <td>-1.176441</td>\n",
       "      <td>-1.030339</td>\n",
       "      <td>-0.332327</td>\n",
       "      <td>-0.906114</td>\n",
       "      <td>0.060686</td>\n",
       "      <td>-1.189118</td>\n",
       "      <td>-1.512963</td>\n",
       "      <td>-0.244100</td>\n",
       "      <td>...</td>\n",
       "      <td>0.406714</td>\n",
       "      <td>-0.471261</td>\n",
       "      <td>1.0</td>\n",
       "      <td>-0.719049</td>\n",
       "      <td>0.640084</td>\n",
       "      <td>-1.181088</td>\n",
       "      <td>0.169061</td>\n",
       "      <td>2.072285</td>\n",
       "      <td>-0.133444</td>\n",
       "      <td>0</td>\n",
       "    </tr>\n",
       "    <tr>\n",
       "      <th>2</th>\n",
       "      <td>-0.096602</td>\n",
       "      <td>0.755740</td>\n",
       "      <td>0.996616</td>\n",
       "      <td>-0.595270</td>\n",
       "      <td>1.456470</td>\n",
       "      <td>0.552147</td>\n",
       "      <td>0.992647</td>\n",
       "      <td>0.305608</td>\n",
       "      <td>0.837149</td>\n",
       "      <td>1.032786</td>\n",
       "      <td>...</td>\n",
       "      <td>-0.694936</td>\n",
       "      <td>0.500450</td>\n",
       "      <td>1.0</td>\n",
       "      <td>0.740260</td>\n",
       "      <td>0.984578</td>\n",
       "      <td>-0.461559</td>\n",
       "      <td>0.798920</td>\n",
       "      <td>0.417184</td>\n",
       "      <td>0.711431</td>\n",
       "      <td>1</td>\n",
       "    </tr>\n",
       "    <tr>\n",
       "      <th>3</th>\n",
       "      <td>0.676214</td>\n",
       "      <td>-0.336017</td>\n",
       "      <td>1.213922</td>\n",
       "      <td>-0.377735</td>\n",
       "      <td>0.480763</td>\n",
       "      <td>0.916712</td>\n",
       "      <td>0.433470</td>\n",
       "      <td>0.577376</td>\n",
       "      <td>-1.332186</td>\n",
       "      <td>-0.061688</td>\n",
       "      <td>...</td>\n",
       "      <td>0.406714</td>\n",
       "      <td>0.014595</td>\n",
       "      <td>0.0</td>\n",
       "      <td>0.557846</td>\n",
       "      <td>0.640084</td>\n",
       "      <td>0.257971</td>\n",
       "      <td>0.379014</td>\n",
       "      <td>-0.617255</td>\n",
       "      <td>1.556306</td>\n",
       "      <td>1</td>\n",
       "    </tr>\n",
       "    <tr>\n",
       "      <th>4</th>\n",
       "      <td>-0.869418</td>\n",
       "      <td>-0.881895</td>\n",
       "      <td>-2.045664</td>\n",
       "      <td>-0.595270</td>\n",
       "      <td>-1.795887</td>\n",
       "      <td>-0.723831</td>\n",
       "      <td>-0.684883</td>\n",
       "      <td>-2.683844</td>\n",
       "      <td>-1.332186</td>\n",
       "      <td>-1.338574</td>\n",
       "      <td>...</td>\n",
       "      <td>-0.694936</td>\n",
       "      <td>-2.252733</td>\n",
       "      <td>0.0</td>\n",
       "      <td>-1.995945</td>\n",
       "      <td>-0.910138</td>\n",
       "      <td>0.257971</td>\n",
       "      <td>-3.190186</td>\n",
       "      <td>-1.031031</td>\n",
       "      <td>-0.133444</td>\n",
       "      <td>1</td>\n",
       "    </tr>\n",
       "    <tr>\n",
       "      <th>...</th>\n",
       "      <td>...</td>\n",
       "      <td>...</td>\n",
       "      <td>...</td>\n",
       "      <td>...</td>\n",
       "      <td>...</td>\n",
       "      <td>...</td>\n",
       "      <td>...</td>\n",
       "      <td>...</td>\n",
       "      <td>...</td>\n",
       "      <td>...</td>\n",
       "      <td>...</td>\n",
       "      <td>...</td>\n",
       "      <td>...</td>\n",
       "      <td>...</td>\n",
       "      <td>...</td>\n",
       "      <td>...</td>\n",
       "      <td>...</td>\n",
       "      <td>...</td>\n",
       "      <td>...</td>\n",
       "      <td>...</td>\n",
       "      <td>...</td>\n",
       "    </tr>\n",
       "    <tr>\n",
       "      <th>1027</th>\n",
       "      <td>0.676214</td>\n",
       "      <td>-1.291304</td>\n",
       "      <td>0.344699</td>\n",
       "      <td>0.492404</td>\n",
       "      <td>-0.657562</td>\n",
       "      <td>-1.270679</td>\n",
       "      <td>-1.430453</td>\n",
       "      <td>-0.645582</td>\n",
       "      <td>-0.428296</td>\n",
       "      <td>-1.885811</td>\n",
       "      <td>...</td>\n",
       "      <td>-0.694936</td>\n",
       "      <td>-0.633213</td>\n",
       "      <td>0.0</td>\n",
       "      <td>-0.719049</td>\n",
       "      <td>-0.737891</td>\n",
       "      <td>0.977500</td>\n",
       "      <td>-0.880704</td>\n",
       "      <td>-1.237918</td>\n",
       "      <td>0.711431</td>\n",
       "      <td>1</td>\n",
       "    </tr>\n",
       "    <tr>\n",
       "      <th>1028</th>\n",
       "      <td>1.338627</td>\n",
       "      <td>1.028679</td>\n",
       "      <td>-0.307218</td>\n",
       "      <td>-1.465409</td>\n",
       "      <td>-1.470651</td>\n",
       "      <td>0.552147</td>\n",
       "      <td>0.992647</td>\n",
       "      <td>0.033839</td>\n",
       "      <td>-0.066741</td>\n",
       "      <td>-0.791337</td>\n",
       "      <td>...</td>\n",
       "      <td>-0.694936</td>\n",
       "      <td>0.824354</td>\n",
       "      <td>1.0</td>\n",
       "      <td>-0.536636</td>\n",
       "      <td>-0.737891</td>\n",
       "      <td>-1.181088</td>\n",
       "      <td>0.798920</td>\n",
       "      <td>-0.617255</td>\n",
       "      <td>1.556306</td>\n",
       "      <td>0</td>\n",
       "    </tr>\n",
       "    <tr>\n",
       "      <th>1029</th>\n",
       "      <td>-1.531831</td>\n",
       "      <td>0.073392</td>\n",
       "      <td>-0.307218</td>\n",
       "      <td>-1.900479</td>\n",
       "      <td>-1.795887</td>\n",
       "      <td>0.187582</td>\n",
       "      <td>-1.430453</td>\n",
       "      <td>-0.645582</td>\n",
       "      <td>-1.332186</td>\n",
       "      <td>-1.338574</td>\n",
       "      <td>...</td>\n",
       "      <td>2.610013</td>\n",
       "      <td>-0.309309</td>\n",
       "      <td>0.0</td>\n",
       "      <td>-1.448704</td>\n",
       "      <td>-0.565644</td>\n",
       "      <td>0.257971</td>\n",
       "      <td>-0.880704</td>\n",
       "      <td>-0.203480</td>\n",
       "      <td>0.711431</td>\n",
       "      <td>0</td>\n",
       "    </tr>\n",
       "    <tr>\n",
       "      <th>1030</th>\n",
       "      <td>0.676214</td>\n",
       "      <td>0.755740</td>\n",
       "      <td>-0.741830</td>\n",
       "      <td>1.145009</td>\n",
       "      <td>0.480763</td>\n",
       "      <td>1.281277</td>\n",
       "      <td>0.992647</td>\n",
       "      <td>1.256797</td>\n",
       "      <td>0.475593</td>\n",
       "      <td>1.032786</td>\n",
       "      <td>...</td>\n",
       "      <td>-0.694936</td>\n",
       "      <td>0.500450</td>\n",
       "      <td>1.0</td>\n",
       "      <td>1.105087</td>\n",
       "      <td>0.640084</td>\n",
       "      <td>-1.181088</td>\n",
       "      <td>-0.880704</td>\n",
       "      <td>0.417184</td>\n",
       "      <td>-0.133444</td>\n",
       "      <td>1</td>\n",
       "    </tr>\n",
       "    <tr>\n",
       "      <th>1031</th>\n",
       "      <td>-0.096602</td>\n",
       "      <td>0.346331</td>\n",
       "      <td>0.127393</td>\n",
       "      <td>0.709939</td>\n",
       "      <td>-0.332327</td>\n",
       "      <td>0.005299</td>\n",
       "      <td>0.433470</td>\n",
       "      <td>-1.053234</td>\n",
       "      <td>-2.416853</td>\n",
       "      <td>-0.244100</td>\n",
       "      <td>...</td>\n",
       "      <td>-0.694936</td>\n",
       "      <td>0.014595</td>\n",
       "      <td>0.0</td>\n",
       "      <td>-1.083877</td>\n",
       "      <td>0.640084</td>\n",
       "      <td>-1.181088</td>\n",
       "      <td>0.798920</td>\n",
       "      <td>-1.031031</td>\n",
       "      <td>-0.133444</td>\n",
       "      <td>1</td>\n",
       "    </tr>\n",
       "  </tbody>\n",
       "</table>\n",
       "<p>1032 rows × 51 columns</p>\n",
       "</div>"
      ],
      "text/plain": [
       "     Candidate_Character_TruthTeller  \\\n",
       "0                           1.338627   \n",
       "1                          -0.096602   \n",
       "2                          -0.096602   \n",
       "3                           0.676214   \n",
       "4                          -0.869418   \n",
       "...                              ...   \n",
       "1027                        0.676214   \n",
       "1028                        1.338627   \n",
       "1029                       -1.531831   \n",
       "1030                        0.676214   \n",
       "1031                       -0.096602   \n",
       "\n",
       "     Candidate_Observer_Multiplication_Mobilizer  \\\n",
       "0                                       0.346331   \n",
       "1                                      -0.881895   \n",
       "2                                       0.755740   \n",
       "3                                      -0.336017   \n",
       "4                                      -0.881895   \n",
       "...                                          ...   \n",
       "1027                                   -1.291304   \n",
       "1028                                    1.028679   \n",
       "1029                                    0.073392   \n",
       "1030                                    0.755740   \n",
       "1031                                    0.346331   \n",
       "\n",
       "     Candidate_Observer_Character_Learner  \\\n",
       "0                                0.996616   \n",
       "1                               -1.176441   \n",
       "2                                0.996616   \n",
       "3                                1.213922   \n",
       "4                               -2.045664   \n",
       "...                                   ...   \n",
       "1027                             0.344699   \n",
       "1028                            -0.307218   \n",
       "1029                            -0.307218   \n",
       "1030                            -0.741830   \n",
       "1031                             0.127393   \n",
       "\n",
       "     Candidate_Observer_Multiplication_Discipler  \\\n",
       "0                                      -1.247874   \n",
       "1                                      -1.030339   \n",
       "2                                      -0.595270   \n",
       "3                                      -0.377735   \n",
       "4                                      -0.595270   \n",
       "...                                          ...   \n",
       "1027                                    0.492404   \n",
       "1028                                   -1.465409   \n",
       "1029                                   -1.900479   \n",
       "1030                                    1.145009   \n",
       "1031                                    0.709939   \n",
       "\n",
       "     Candidate_Observer_Character_Adapter  \\\n",
       "0                                0.155527   \n",
       "1                               -0.332327   \n",
       "2                                1.456470   \n",
       "3                                0.480763   \n",
       "4                               -1.795887   \n",
       "...                                   ...   \n",
       "1027                            -0.657562   \n",
       "1028                            -1.470651   \n",
       "1029                            -1.795887   \n",
       "1030                             0.480763   \n",
       "1031                            -0.332327   \n",
       "\n",
       "     Candidate_Observer_Leadership_Influencer  \\\n",
       "0                                   -1.088397   \n",
       "1                                   -0.906114   \n",
       "2                                    0.552147   \n",
       "3                                    0.916712   \n",
       "4                                   -0.723831   \n",
       "...                                       ...   \n",
       "1027                                -1.270679   \n",
       "1028                                 0.552147   \n",
       "1029                                 0.187582   \n",
       "1030                                 1.281277   \n",
       "1031                                 0.005299   \n",
       "\n",
       "     Candidate_Observer_Multiplication_Server  \\\n",
       "0                                    0.060686   \n",
       "1                                    0.060686   \n",
       "2                                    0.992647   \n",
       "3                                    0.433470   \n",
       "4                                   -0.684883   \n",
       "...                                       ...   \n",
       "1027                                -1.430453   \n",
       "1028                                 0.992647   \n",
       "1029                                -1.430453   \n",
       "1030                                 0.992647   \n",
       "1031                                 0.433470   \n",
       "\n",
       "     Candidate_Observer_Multiplication_Builder  \\\n",
       "0                                    -1.053234   \n",
       "1                                    -1.189118   \n",
       "2                                     0.305608   \n",
       "3                                     0.577376   \n",
       "4                                    -2.683844   \n",
       "...                                        ...   \n",
       "1027                                 -0.645582   \n",
       "1028                                  0.033839   \n",
       "1029                                 -0.645582   \n",
       "1030                                  1.256797   \n",
       "1031                                 -1.053234   \n",
       "\n",
       "     Candidate_Observer_Vision_TrendSetter  \\\n",
       "0                                -0.609074   \n",
       "1                                -1.512963   \n",
       "2                                 0.837149   \n",
       "3                                -1.332186   \n",
       "4                                -1.332186   \n",
       "...                                    ...   \n",
       "1027                             -0.428296   \n",
       "1028                             -0.066741   \n",
       "1029                             -1.332186   \n",
       "1030                              0.475593   \n",
       "1031                             -2.416853   \n",
       "\n",
       "     Candidate_Observer_Leadership_Resolver  ...  \\\n",
       "0                                 -0.426512  ...   \n",
       "1                                 -0.244100  ...   \n",
       "2                                  1.032786  ...   \n",
       "3                                 -0.061688  ...   \n",
       "4                                 -1.338574  ...   \n",
       "...                                     ...  ...   \n",
       "1027                              -1.885811  ...   \n",
       "1028                              -0.791337  ...   \n",
       "1029                              -1.338574  ...   \n",
       "1030                               1.032786  ...   \n",
       "1031                              -0.244100  ...   \n",
       "\n",
       "     CANDIDATE_360_ATTITUDE_WORKAHOLIC  \\\n",
       "0                             0.406714   \n",
       "1                             0.406714   \n",
       "2                            -0.694936   \n",
       "3                             0.406714   \n",
       "4                            -0.694936   \n",
       "...                                ...   \n",
       "1027                         -0.694936   \n",
       "1028                         -0.694936   \n",
       "1029                          2.610013   \n",
       "1030                         -0.694936   \n",
       "1031                         -0.694936   \n",
       "\n",
       "     Candidate_Observer_Multiplication_Networker  \\\n",
       "0                                       0.014595   \n",
       "1                                      -0.471261   \n",
       "2                                       0.500450   \n",
       "3                                       0.014595   \n",
       "4                                      -2.252733   \n",
       "...                                          ...   \n",
       "1027                                   -0.633213   \n",
       "1028                                    0.824354   \n",
       "1029                                   -0.309309   \n",
       "1030                                    0.500450   \n",
       "1031                                    0.014595   \n",
       "\n",
       "     CouplePrepare_EnrichType_Vitalized  \\\n",
       "0                                   1.0   \n",
       "1                                   1.0   \n",
       "2                                   1.0   \n",
       "3                                   0.0   \n",
       "4                                   0.0   \n",
       "...                                 ...   \n",
       "1027                                0.0   \n",
       "1028                                1.0   \n",
       "1029                                0.0   \n",
       "1030                                1.0   \n",
       "1031                                0.0   \n",
       "\n",
       "     Candidate_Observer_Leadership_Communicator  \\\n",
       "0                                     -0.354222   \n",
       "1                                     -0.719049   \n",
       "2                                      0.740260   \n",
       "3                                      0.557846   \n",
       "4                                     -1.995945   \n",
       "...                                         ...   \n",
       "1027                                  -0.719049   \n",
       "1028                                  -0.536636   \n",
       "1029                                  -1.448704   \n",
       "1030                                   1.105087   \n",
       "1031                                  -1.083877   \n",
       "\n",
       "     Candidate_Observer_Leadership_Changer CANDIDATE_360_CIR_LACK_OF_FUNDING  \\\n",
       "0                                 0.295590                          0.257971   \n",
       "1                                 0.640084                         -1.181088   \n",
       "2                                 0.984578                         -0.461559   \n",
       "3                                 0.640084                          0.257971   \n",
       "4                                -0.910138                          0.257971   \n",
       "...                                    ...                               ...   \n",
       "1027                             -0.737891                          0.977500   \n",
       "1028                             -0.737891                         -1.181088   \n",
       "1029                             -0.565644                          0.257971   \n",
       "1030                              0.640084                         -1.181088   \n",
       "1031                              0.640084                         -1.181088   \n",
       "\n",
       "     Candidate_Observer_Character_Steward  \\\n",
       "0                               -0.670751   \n",
       "1                                0.169061   \n",
       "2                                0.798920   \n",
       "3                                0.379014   \n",
       "4                               -3.190186   \n",
       "...                                   ...   \n",
       "1027                            -0.880704   \n",
       "1028                             0.798920   \n",
       "1029                            -0.880704   \n",
       "1030                            -0.880704   \n",
       "1031                             0.798920   \n",
       "\n",
       "     Candidate_Observer_Character_Reflector Candidate_Leadership_Trainer  \\\n",
       "0                                  0.003408                     0.711431   \n",
       "1                                  2.072285                    -0.133444   \n",
       "2                                  0.417184                     0.711431   \n",
       "3                                 -0.617255                     1.556306   \n",
       "4                                 -1.031031                    -0.133444   \n",
       "...                                     ...                          ...   \n",
       "1027                              -1.237918                     0.711431   \n",
       "1028                              -0.617255                     1.556306   \n",
       "1029                              -0.203480                     0.711431   \n",
       "1030                               0.417184                    -0.133444   \n",
       "1031                              -1.031031                    -0.133444   \n",
       "\n",
       "     Approved  \n",
       "0           1  \n",
       "1           0  \n",
       "2           1  \n",
       "3           1  \n",
       "4           1  \n",
       "...       ...  \n",
       "1027        1  \n",
       "1028        0  \n",
       "1029        0  \n",
       "1030        1  \n",
       "1031        1  \n",
       "\n",
       "[1032 rows x 51 columns]"
      ]
     },
     "execution_count": 32,
     "metadata": {},
     "output_type": "execute_result"
    }
   ],
   "source": [
    "# Using the names of the top 50 features ('Feature_Name') as column headings for dataset_2\n",
    "\n",
    "top_fifty = sorted_df.head(50)\n",
    "dataset_2 = pd.DataFrame(data_ready.loc[:, top_fifty['Feature_Name']])\n",
    "\n",
    "# Add the target variable column to dataset_2\n",
    "\n",
    "dataset_2 = pd.concat([dataset_2, data_ready['Approved']], axis=1, join='inner')\n",
    "dataset_2"
   ]
  },
  {
   "cell_type": "markdown",
   "id": "3824aef7",
   "metadata": {},
   "source": [
    "## Dataset 3 (entire dataset)"
   ]
  },
  {
   "cell_type": "markdown",
   "id": "5d1dfe0e",
   "metadata": {},
   "source": [
    "Dataset 3 consists of the entire data set."
   ]
  },
  {
   "cell_type": "code",
   "execution_count": 33,
   "id": "e622c57f",
   "metadata": {},
   "outputs": [],
   "source": [
    "dataset_3 = data_ready"
   ]
  },
  {
   "cell_type": "markdown",
   "id": "cd3a36d8",
   "metadata": {},
   "source": [
    "# Evaluate all three datasets"
   ]
  },
  {
   "cell_type": "markdown",
   "id": "0bb8c729",
   "metadata": {},
   "source": [
    "#### We will evaluate all 3 datasets using classification models. This includes:  Logistic Regression, Decision Tree, Random Forest, SVM, KNN, and Naive Bayes."
   ]
  },
  {
   "cell_type": "markdown",
   "id": "e9d0dd52",
   "metadata": {},
   "source": [
    "## Dataset 1"
   ]
  },
  {
   "cell_type": "code",
   "execution_count": 34,
   "id": "c696b108",
   "metadata": {},
   "outputs": [
    {
     "data": {
      "text/html": [
       "<div>\n",
       "<style scoped>\n",
       "    .dataframe tbody tr th:only-of-type {\n",
       "        vertical-align: middle;\n",
       "    }\n",
       "\n",
       "    .dataframe tbody tr th {\n",
       "        vertical-align: top;\n",
       "    }\n",
       "\n",
       "    .dataframe thead tr th {\n",
       "        text-align: left;\n",
       "    }\n",
       "</style>\n",
       "<table border=\"1\" class=\"dataframe\">\n",
       "  <thead>\n",
       "    <tr>\n",
       "      <th></th>\n",
       "      <th>Candidate_Character_TruthTeller</th>\n",
       "      <th>Candidate_Observer_Multiplication_Mobilizer</th>\n",
       "      <th>Candidate_Observer_Character_Learner</th>\n",
       "      <th>Candidate_Observer_Multiplication_Discipler</th>\n",
       "      <th>Candidate_Observer_Character_Adapter</th>\n",
       "      <th>Candidate_Observer_Leadership_Influencer</th>\n",
       "      <th>Candidate_Observer_Multiplication_Server</th>\n",
       "      <th>Candidate_Observer_Multiplication_Builder</th>\n",
       "      <th>Approved</th>\n",
       "    </tr>\n",
       "  </thead>\n",
       "  <tbody>\n",
       "    <tr>\n",
       "      <th>0</th>\n",
       "      <td>1.338627</td>\n",
       "      <td>0.346331</td>\n",
       "      <td>0.996616</td>\n",
       "      <td>-1.247874</td>\n",
       "      <td>0.155527</td>\n",
       "      <td>-1.088397</td>\n",
       "      <td>0.060686</td>\n",
       "      <td>-1.053234</td>\n",
       "      <td>1</td>\n",
       "    </tr>\n",
       "    <tr>\n",
       "      <th>1</th>\n",
       "      <td>-0.096602</td>\n",
       "      <td>-0.881895</td>\n",
       "      <td>-1.176441</td>\n",
       "      <td>-1.030339</td>\n",
       "      <td>-0.332327</td>\n",
       "      <td>-0.906114</td>\n",
       "      <td>0.060686</td>\n",
       "      <td>-1.189118</td>\n",
       "      <td>0</td>\n",
       "    </tr>\n",
       "    <tr>\n",
       "      <th>2</th>\n",
       "      <td>-0.096602</td>\n",
       "      <td>0.755740</td>\n",
       "      <td>0.996616</td>\n",
       "      <td>-0.595270</td>\n",
       "      <td>1.456470</td>\n",
       "      <td>0.552147</td>\n",
       "      <td>0.992647</td>\n",
       "      <td>0.305608</td>\n",
       "      <td>1</td>\n",
       "    </tr>\n",
       "    <tr>\n",
       "      <th>3</th>\n",
       "      <td>0.676214</td>\n",
       "      <td>-0.336017</td>\n",
       "      <td>1.213922</td>\n",
       "      <td>-0.377735</td>\n",
       "      <td>0.480763</td>\n",
       "      <td>0.916712</td>\n",
       "      <td>0.433470</td>\n",
       "      <td>0.577376</td>\n",
       "      <td>1</td>\n",
       "    </tr>\n",
       "    <tr>\n",
       "      <th>4</th>\n",
       "      <td>-0.869418</td>\n",
       "      <td>-0.881895</td>\n",
       "      <td>-2.045664</td>\n",
       "      <td>-0.595270</td>\n",
       "      <td>-1.795887</td>\n",
       "      <td>-0.723831</td>\n",
       "      <td>-0.684883</td>\n",
       "      <td>-2.683844</td>\n",
       "      <td>1</td>\n",
       "    </tr>\n",
       "    <tr>\n",
       "      <th>...</th>\n",
       "      <td>...</td>\n",
       "      <td>...</td>\n",
       "      <td>...</td>\n",
       "      <td>...</td>\n",
       "      <td>...</td>\n",
       "      <td>...</td>\n",
       "      <td>...</td>\n",
       "      <td>...</td>\n",
       "      <td>...</td>\n",
       "    </tr>\n",
       "    <tr>\n",
       "      <th>1027</th>\n",
       "      <td>0.676214</td>\n",
       "      <td>-1.291304</td>\n",
       "      <td>0.344699</td>\n",
       "      <td>0.492404</td>\n",
       "      <td>-0.657562</td>\n",
       "      <td>-1.270679</td>\n",
       "      <td>-1.430453</td>\n",
       "      <td>-0.645582</td>\n",
       "      <td>1</td>\n",
       "    </tr>\n",
       "    <tr>\n",
       "      <th>1028</th>\n",
       "      <td>1.338627</td>\n",
       "      <td>1.028679</td>\n",
       "      <td>-0.307218</td>\n",
       "      <td>-1.465409</td>\n",
       "      <td>-1.470651</td>\n",
       "      <td>0.552147</td>\n",
       "      <td>0.992647</td>\n",
       "      <td>0.033839</td>\n",
       "      <td>0</td>\n",
       "    </tr>\n",
       "    <tr>\n",
       "      <th>1029</th>\n",
       "      <td>-1.531831</td>\n",
       "      <td>0.073392</td>\n",
       "      <td>-0.307218</td>\n",
       "      <td>-1.900479</td>\n",
       "      <td>-1.795887</td>\n",
       "      <td>0.187582</td>\n",
       "      <td>-1.430453</td>\n",
       "      <td>-0.645582</td>\n",
       "      <td>0</td>\n",
       "    </tr>\n",
       "    <tr>\n",
       "      <th>1030</th>\n",
       "      <td>0.676214</td>\n",
       "      <td>0.755740</td>\n",
       "      <td>-0.741830</td>\n",
       "      <td>1.145009</td>\n",
       "      <td>0.480763</td>\n",
       "      <td>1.281277</td>\n",
       "      <td>0.992647</td>\n",
       "      <td>1.256797</td>\n",
       "      <td>1</td>\n",
       "    </tr>\n",
       "    <tr>\n",
       "      <th>1031</th>\n",
       "      <td>-0.096602</td>\n",
       "      <td>0.346331</td>\n",
       "      <td>0.127393</td>\n",
       "      <td>0.709939</td>\n",
       "      <td>-0.332327</td>\n",
       "      <td>0.005299</td>\n",
       "      <td>0.433470</td>\n",
       "      <td>-1.053234</td>\n",
       "      <td>1</td>\n",
       "    </tr>\n",
       "  </tbody>\n",
       "</table>\n",
       "<p>1032 rows × 9 columns</p>\n",
       "</div>"
      ],
      "text/plain": [
       "     Candidate_Character_TruthTeller  \\\n",
       "0                           1.338627   \n",
       "1                          -0.096602   \n",
       "2                          -0.096602   \n",
       "3                           0.676214   \n",
       "4                          -0.869418   \n",
       "...                              ...   \n",
       "1027                        0.676214   \n",
       "1028                        1.338627   \n",
       "1029                       -1.531831   \n",
       "1030                        0.676214   \n",
       "1031                       -0.096602   \n",
       "\n",
       "     Candidate_Observer_Multiplication_Mobilizer  \\\n",
       "0                                       0.346331   \n",
       "1                                      -0.881895   \n",
       "2                                       0.755740   \n",
       "3                                      -0.336017   \n",
       "4                                      -0.881895   \n",
       "...                                          ...   \n",
       "1027                                   -1.291304   \n",
       "1028                                    1.028679   \n",
       "1029                                    0.073392   \n",
       "1030                                    0.755740   \n",
       "1031                                    0.346331   \n",
       "\n",
       "     Candidate_Observer_Character_Learner  \\\n",
       "0                                0.996616   \n",
       "1                               -1.176441   \n",
       "2                                0.996616   \n",
       "3                                1.213922   \n",
       "4                               -2.045664   \n",
       "...                                   ...   \n",
       "1027                             0.344699   \n",
       "1028                            -0.307218   \n",
       "1029                            -0.307218   \n",
       "1030                            -0.741830   \n",
       "1031                             0.127393   \n",
       "\n",
       "     Candidate_Observer_Multiplication_Discipler  \\\n",
       "0                                      -1.247874   \n",
       "1                                      -1.030339   \n",
       "2                                      -0.595270   \n",
       "3                                      -0.377735   \n",
       "4                                      -0.595270   \n",
       "...                                          ...   \n",
       "1027                                    0.492404   \n",
       "1028                                   -1.465409   \n",
       "1029                                   -1.900479   \n",
       "1030                                    1.145009   \n",
       "1031                                    0.709939   \n",
       "\n",
       "     Candidate_Observer_Character_Adapter  \\\n",
       "0                                0.155527   \n",
       "1                               -0.332327   \n",
       "2                                1.456470   \n",
       "3                                0.480763   \n",
       "4                               -1.795887   \n",
       "...                                   ...   \n",
       "1027                            -0.657562   \n",
       "1028                            -1.470651   \n",
       "1029                            -1.795887   \n",
       "1030                             0.480763   \n",
       "1031                            -0.332327   \n",
       "\n",
       "     Candidate_Observer_Leadership_Influencer  \\\n",
       "0                                   -1.088397   \n",
       "1                                   -0.906114   \n",
       "2                                    0.552147   \n",
       "3                                    0.916712   \n",
       "4                                   -0.723831   \n",
       "...                                       ...   \n",
       "1027                                -1.270679   \n",
       "1028                                 0.552147   \n",
       "1029                                 0.187582   \n",
       "1030                                 1.281277   \n",
       "1031                                 0.005299   \n",
       "\n",
       "     Candidate_Observer_Multiplication_Server  \\\n",
       "0                                    0.060686   \n",
       "1                                    0.060686   \n",
       "2                                    0.992647   \n",
       "3                                    0.433470   \n",
       "4                                   -0.684883   \n",
       "...                                       ...   \n",
       "1027                                -1.430453   \n",
       "1028                                 0.992647   \n",
       "1029                                -1.430453   \n",
       "1030                                 0.992647   \n",
       "1031                                 0.433470   \n",
       "\n",
       "     Candidate_Observer_Multiplication_Builder Approved  \n",
       "0                                    -1.053234        1  \n",
       "1                                    -1.189118        0  \n",
       "2                                     0.305608        1  \n",
       "3                                     0.577376        1  \n",
       "4                                    -2.683844        1  \n",
       "...                                        ...      ...  \n",
       "1027                                 -0.645582        1  \n",
       "1028                                  0.033839        0  \n",
       "1029                                 -0.645582        0  \n",
       "1030                                  1.256797        1  \n",
       "1031                                 -1.053234        1  \n",
       "\n",
       "[1032 rows x 9 columns]"
      ]
     },
     "execution_count": 34,
     "metadata": {},
     "output_type": "execute_result"
    }
   ],
   "source": [
    "dataset_1 # has only nine features including the target values column"
   ]
  },
  {
   "cell_type": "code",
   "execution_count": 35,
   "id": "24e295c2",
   "metadata": {},
   "outputs": [],
   "source": [
    "# Split dataset_1 for training and testing\n",
    "\n",
    "X = dataset_1.iloc[:,:-1]\n",
    "y = dataset_1['Approved'].to_numpy()\n",
    "y = np.ravel(y, order = 'C')\n",
    "X_train, X_test, y_train, y_test = train_test_split(X, y, test_size=0.25, random_state=42)"
   ]
  },
  {
   "cell_type": "markdown",
   "id": "f77d3153",
   "metadata": {},
   "source": [
    "### 1. Logistic Regression - Dataset 1"
   ]
  },
  {
   "cell_type": "code",
   "execution_count": 36,
   "id": "3379e6a3",
   "metadata": {},
   "outputs": [],
   "source": [
    "from sklearn.linear_model import LogisticRegression"
   ]
  },
  {
   "cell_type": "code",
   "execution_count": 37,
   "id": "ea81f54f",
   "metadata": {},
   "outputs": [
    {
     "data": {
      "text/html": [
       "<style>#sk-container-id-2 {color: black;background-color: white;}#sk-container-id-2 pre{padding: 0;}#sk-container-id-2 div.sk-toggleable {background-color: white;}#sk-container-id-2 label.sk-toggleable__label {cursor: pointer;display: block;width: 100%;margin-bottom: 0;padding: 0.3em;box-sizing: border-box;text-align: center;}#sk-container-id-2 label.sk-toggleable__label-arrow:before {content: \"▸\";float: left;margin-right: 0.25em;color: #696969;}#sk-container-id-2 label.sk-toggleable__label-arrow:hover:before {color: black;}#sk-container-id-2 div.sk-estimator:hover label.sk-toggleable__label-arrow:before {color: black;}#sk-container-id-2 div.sk-toggleable__content {max-height: 0;max-width: 0;overflow: hidden;text-align: left;background-color: #f0f8ff;}#sk-container-id-2 div.sk-toggleable__content pre {margin: 0.2em;color: black;border-radius: 0.25em;background-color: #f0f8ff;}#sk-container-id-2 input.sk-toggleable__control:checked~div.sk-toggleable__content {max-height: 200px;max-width: 100%;overflow: auto;}#sk-container-id-2 input.sk-toggleable__control:checked~label.sk-toggleable__label-arrow:before {content: \"▾\";}#sk-container-id-2 div.sk-estimator input.sk-toggleable__control:checked~label.sk-toggleable__label {background-color: #d4ebff;}#sk-container-id-2 div.sk-label input.sk-toggleable__control:checked~label.sk-toggleable__label {background-color: #d4ebff;}#sk-container-id-2 input.sk-hidden--visually {border: 0;clip: rect(1px 1px 1px 1px);clip: rect(1px, 1px, 1px, 1px);height: 1px;margin: -1px;overflow: hidden;padding: 0;position: absolute;width: 1px;}#sk-container-id-2 div.sk-estimator {font-family: monospace;background-color: #f0f8ff;border: 1px dotted black;border-radius: 0.25em;box-sizing: border-box;margin-bottom: 0.5em;}#sk-container-id-2 div.sk-estimator:hover {background-color: #d4ebff;}#sk-container-id-2 div.sk-parallel-item::after {content: \"\";width: 100%;border-bottom: 1px solid gray;flex-grow: 1;}#sk-container-id-2 div.sk-label:hover label.sk-toggleable__label {background-color: #d4ebff;}#sk-container-id-2 div.sk-serial::before {content: \"\";position: absolute;border-left: 1px solid gray;box-sizing: border-box;top: 0;bottom: 0;left: 50%;z-index: 0;}#sk-container-id-2 div.sk-serial {display: flex;flex-direction: column;align-items: center;background-color: white;padding-right: 0.2em;padding-left: 0.2em;position: relative;}#sk-container-id-2 div.sk-item {position: relative;z-index: 1;}#sk-container-id-2 div.sk-parallel {display: flex;align-items: stretch;justify-content: center;background-color: white;position: relative;}#sk-container-id-2 div.sk-item::before, #sk-container-id-2 div.sk-parallel-item::before {content: \"\";position: absolute;border-left: 1px solid gray;box-sizing: border-box;top: 0;bottom: 0;left: 50%;z-index: -1;}#sk-container-id-2 div.sk-parallel-item {display: flex;flex-direction: column;z-index: 1;position: relative;background-color: white;}#sk-container-id-2 div.sk-parallel-item:first-child::after {align-self: flex-end;width: 50%;}#sk-container-id-2 div.sk-parallel-item:last-child::after {align-self: flex-start;width: 50%;}#sk-container-id-2 div.sk-parallel-item:only-child::after {width: 0;}#sk-container-id-2 div.sk-dashed-wrapped {border: 1px dashed gray;margin: 0 0.4em 0.5em 0.4em;box-sizing: border-box;padding-bottom: 0.4em;background-color: white;}#sk-container-id-2 div.sk-label label {font-family: monospace;font-weight: bold;display: inline-block;line-height: 1.2em;}#sk-container-id-2 div.sk-label-container {text-align: center;}#sk-container-id-2 div.sk-container {/* jupyter's `normalize.less` sets `[hidden] { display: none; }` but bootstrap.min.css set `[hidden] { display: none !important; }` so we also need the `!important` here to be able to override the default hidden behavior on the sphinx rendered scikit-learn.org. See: https://github.com/scikit-learn/scikit-learn/issues/21755 */display: inline-block !important;position: relative;}#sk-container-id-2 div.sk-text-repr-fallback {display: none;}</style><div id=\"sk-container-id-2\" class=\"sk-top-container\"><div class=\"sk-text-repr-fallback\"><pre>LogisticRegression()</pre><b>In a Jupyter environment, please rerun this cell to show the HTML representation or trust the notebook. <br />On GitHub, the HTML representation is unable to render, please try loading this page with nbviewer.org.</b></div><div class=\"sk-container\" hidden><div class=\"sk-item\"><div class=\"sk-estimator sk-toggleable\"><input class=\"sk-toggleable__control sk-hidden--visually\" id=\"sk-estimator-id-2\" type=\"checkbox\" checked><label for=\"sk-estimator-id-2\" class=\"sk-toggleable__label sk-toggleable__label-arrow\">LogisticRegression</label><div class=\"sk-toggleable__content\"><pre>LogisticRegression()</pre></div></div></div></div></div>"
      ],
      "text/plain": [
       "LogisticRegression()"
      ]
     },
     "execution_count": 37,
     "metadata": {},
     "output_type": "execute_result"
    }
   ],
   "source": [
    "# Train a Logistic Regression model\n",
    "\n",
    "log_reg_1 = LogisticRegression()\n",
    "log_reg_1.fit(X_train, y_train)"
   ]
  },
  {
   "cell_type": "code",
   "execution_count": 38,
   "id": "fc5f7494",
   "metadata": {},
   "outputs": [
    {
     "name": "stdout",
     "output_type": "stream",
     "text": [
      "ACCURACY OF THE LOGISTIC REGRESSION MODEL ON DATASET 1:  0.5232558139534884\n"
     ]
    }
   ],
   "source": [
    "log_reg_1_score = log_reg_1.score(X_test,y_test)\n",
    "print(\"ACCURACY OF THE LOGISTIC REGRESSION MODEL ON DATASET 1: \", log_reg_1_score) "
   ]
  },
  {
   "cell_type": "markdown",
   "id": "686c9fa5",
   "metadata": {},
   "source": [
    "Our logistic regression model only achieved 52% accuracy classifing new instances."
   ]
  },
  {
   "cell_type": "markdown",
   "id": "72a6fb2f",
   "metadata": {},
   "source": [
    "### 2. Decision Tree - Dataset 1"
   ]
  },
  {
   "cell_type": "code",
   "execution_count": 39,
   "id": "89aa822b",
   "metadata": {},
   "outputs": [],
   "source": [
    "from sklearn.tree import DecisionTreeClassifier"
   ]
  },
  {
   "cell_type": "markdown",
   "id": "d14c508f",
   "metadata": {},
   "source": [
    "#### Perform a grid search to find the optimal parameters for this Decision Tree Classifier"
   ]
  },
  {
   "cell_type": "code",
   "execution_count": 40,
   "id": "1edaa3ec",
   "metadata": {},
   "outputs": [
    {
     "name": "stdout",
     "output_type": "stream",
     "text": [
      "Fitting 10 folds for each of 24 candidates, totalling 240 fits\n"
     ]
    },
    {
     "name": "stderr",
     "output_type": "stream",
     "text": [
      "/Users/dbello/opt/anaconda3/lib/python3.9/site-packages/sklearn/model_selection/_split.py:680: UserWarning: The least populated class in y has only 1 members, which is less than n_splits=10.\n",
      "  warnings.warn(\n"
     ]
    },
    {
     "name": "stdout",
     "output_type": "stream",
     "text": [
      "The best parameters are:  {'max_depth': 9, 'min_samples_split': 4, 'splitter': 'best'}\n"
     ]
    }
   ],
   "source": [
    "# Create a dictionary called param_grid with three key-value pairs.\n",
    "param_grid = {'max_depth': [8,9,10], \n",
    "              'splitter': [\"best\", \"random\"], \n",
    "              'min_samples_split': [4,5,6,7]}\n",
    "\n",
    "# Instantiate an object of the DecisionTreeClassifier class\n",
    "tree_clf_grid_search_cv = GridSearchCV(DecisionTreeClassifier(random_state = 42), \n",
    "                              param_grid=param_grid, verbose=1, cv=10)\n",
    "\n",
    "tree_clf_grid_search_cv.fit(X_train, y_train)\n",
    "\n",
    "print(\"The best parameters are: \", tree_clf_grid_search_cv.best_params_)"
   ]
  },
  {
   "cell_type": "markdown",
   "id": "9007f1ae",
   "metadata": {},
   "source": [
    "The best parameters are:  max_depth =9, min_samples_split = 4, splitter = 'best'"
   ]
  },
  {
   "cell_type": "code",
   "execution_count": 41,
   "id": "4d2a2384",
   "metadata": {},
   "outputs": [
    {
     "data": {
      "text/html": [
       "<style>#sk-container-id-3 {color: black;background-color: white;}#sk-container-id-3 pre{padding: 0;}#sk-container-id-3 div.sk-toggleable {background-color: white;}#sk-container-id-3 label.sk-toggleable__label {cursor: pointer;display: block;width: 100%;margin-bottom: 0;padding: 0.3em;box-sizing: border-box;text-align: center;}#sk-container-id-3 label.sk-toggleable__label-arrow:before {content: \"▸\";float: left;margin-right: 0.25em;color: #696969;}#sk-container-id-3 label.sk-toggleable__label-arrow:hover:before {color: black;}#sk-container-id-3 div.sk-estimator:hover label.sk-toggleable__label-arrow:before {color: black;}#sk-container-id-3 div.sk-toggleable__content {max-height: 0;max-width: 0;overflow: hidden;text-align: left;background-color: #f0f8ff;}#sk-container-id-3 div.sk-toggleable__content pre {margin: 0.2em;color: black;border-radius: 0.25em;background-color: #f0f8ff;}#sk-container-id-3 input.sk-toggleable__control:checked~div.sk-toggleable__content {max-height: 200px;max-width: 100%;overflow: auto;}#sk-container-id-3 input.sk-toggleable__control:checked~label.sk-toggleable__label-arrow:before {content: \"▾\";}#sk-container-id-3 div.sk-estimator input.sk-toggleable__control:checked~label.sk-toggleable__label {background-color: #d4ebff;}#sk-container-id-3 div.sk-label input.sk-toggleable__control:checked~label.sk-toggleable__label {background-color: #d4ebff;}#sk-container-id-3 input.sk-hidden--visually {border: 0;clip: rect(1px 1px 1px 1px);clip: rect(1px, 1px, 1px, 1px);height: 1px;margin: -1px;overflow: hidden;padding: 0;position: absolute;width: 1px;}#sk-container-id-3 div.sk-estimator {font-family: monospace;background-color: #f0f8ff;border: 1px dotted black;border-radius: 0.25em;box-sizing: border-box;margin-bottom: 0.5em;}#sk-container-id-3 div.sk-estimator:hover {background-color: #d4ebff;}#sk-container-id-3 div.sk-parallel-item::after {content: \"\";width: 100%;border-bottom: 1px solid gray;flex-grow: 1;}#sk-container-id-3 div.sk-label:hover label.sk-toggleable__label {background-color: #d4ebff;}#sk-container-id-3 div.sk-serial::before {content: \"\";position: absolute;border-left: 1px solid gray;box-sizing: border-box;top: 0;bottom: 0;left: 50%;z-index: 0;}#sk-container-id-3 div.sk-serial {display: flex;flex-direction: column;align-items: center;background-color: white;padding-right: 0.2em;padding-left: 0.2em;position: relative;}#sk-container-id-3 div.sk-item {position: relative;z-index: 1;}#sk-container-id-3 div.sk-parallel {display: flex;align-items: stretch;justify-content: center;background-color: white;position: relative;}#sk-container-id-3 div.sk-item::before, #sk-container-id-3 div.sk-parallel-item::before {content: \"\";position: absolute;border-left: 1px solid gray;box-sizing: border-box;top: 0;bottom: 0;left: 50%;z-index: -1;}#sk-container-id-3 div.sk-parallel-item {display: flex;flex-direction: column;z-index: 1;position: relative;background-color: white;}#sk-container-id-3 div.sk-parallel-item:first-child::after {align-self: flex-end;width: 50%;}#sk-container-id-3 div.sk-parallel-item:last-child::after {align-self: flex-start;width: 50%;}#sk-container-id-3 div.sk-parallel-item:only-child::after {width: 0;}#sk-container-id-3 div.sk-dashed-wrapped {border: 1px dashed gray;margin: 0 0.4em 0.5em 0.4em;box-sizing: border-box;padding-bottom: 0.4em;background-color: white;}#sk-container-id-3 div.sk-label label {font-family: monospace;font-weight: bold;display: inline-block;line-height: 1.2em;}#sk-container-id-3 div.sk-label-container {text-align: center;}#sk-container-id-3 div.sk-container {/* jupyter's `normalize.less` sets `[hidden] { display: none; }` but bootstrap.min.css set `[hidden] { display: none !important; }` so we also need the `!important` here to be able to override the default hidden behavior on the sphinx rendered scikit-learn.org. See: https://github.com/scikit-learn/scikit-learn/issues/21755 */display: inline-block !important;position: relative;}#sk-container-id-3 div.sk-text-repr-fallback {display: none;}</style><div id=\"sk-container-id-3\" class=\"sk-top-container\"><div class=\"sk-text-repr-fallback\"><pre>DecisionTreeClassifier(max_depth=9, min_samples_split=4, random_state=42)</pre><b>In a Jupyter environment, please rerun this cell to show the HTML representation or trust the notebook. <br />On GitHub, the HTML representation is unable to render, please try loading this page with nbviewer.org.</b></div><div class=\"sk-container\" hidden><div class=\"sk-item\"><div class=\"sk-estimator sk-toggleable\"><input class=\"sk-toggleable__control sk-hidden--visually\" id=\"sk-estimator-id-3\" type=\"checkbox\" checked><label for=\"sk-estimator-id-3\" class=\"sk-toggleable__label sk-toggleable__label-arrow\">DecisionTreeClassifier</label><div class=\"sk-toggleable__content\"><pre>DecisionTreeClassifier(max_depth=9, min_samples_split=4, random_state=42)</pre></div></div></div></div></div>"
      ],
      "text/plain": [
       "DecisionTreeClassifier(max_depth=9, min_samples_split=4, random_state=42)"
      ]
     },
     "execution_count": 41,
     "metadata": {},
     "output_type": "execute_result"
    }
   ],
   "source": [
    "# Train a DecisionTreeClassifier model\n",
    "\n",
    "# instantiate an object of the class DecisionTreeClassifier\n",
    "\n",
    "tree_clf_1 = DecisionTreeClassifier(max_depth =9, min_samples_split = 4, splitter = 'best', random_state = 42) \n",
    "tree_clf_1.fit(X_train, y_train)"
   ]
  },
  {
   "cell_type": "code",
   "execution_count": 42,
   "id": "0c378354",
   "metadata": {},
   "outputs": [
    {
     "name": "stdout",
     "output_type": "stream",
     "text": [
      "ACCURACY OF THE DECISION TREE CLASSIFIER MODEL ON DATASET 1:  0.5155038759689923\n"
     ]
    }
   ],
   "source": [
    "tree_clf_1_score = tree_clf_1.score(X_test,y_test)\n",
    "print(\"ACCURACY OF THE DECISION TREE CLASSIFIER MODEL ON DATASET 1: \", tree_clf_1_score)"
   ]
  },
  {
   "cell_type": "code",
   "execution_count": 43,
   "id": "491d43e7",
   "metadata": {},
   "outputs": [
    {
     "data": {
      "text/plain": [
       "array([0.06546161, 0.14669105, 0.13937012, 0.16557723, 0.13190539,\n",
       "       0.15108741, 0.05346123, 0.14644596])"
      ]
     },
     "execution_count": 43,
     "metadata": {},
     "output_type": "execute_result"
    }
   ],
   "source": [
    "tree_clf_1.feature_importances_"
   ]
  },
  {
   "cell_type": "code",
   "execution_count": 44,
   "id": "ad870396",
   "metadata": {},
   "outputs": [
    {
     "data": {
      "text/plain": [
       "MultiIndex([(            'Candidate_Character_TruthTeller',),\n",
       "            ('Candidate_Observer_Multiplication_Mobilizer',),\n",
       "            (       'Candidate_Observer_Character_Learner',),\n",
       "            ('Candidate_Observer_Multiplication_Discipler',),\n",
       "            (       'Candidate_Observer_Character_Adapter',),\n",
       "            (   'Candidate_Observer_Leadership_Influencer',),\n",
       "            (   'Candidate_Observer_Multiplication_Server',),\n",
       "            (  'Candidate_Observer_Multiplication_Builder',)],\n",
       "           )"
      ]
     },
     "execution_count": 44,
     "metadata": {},
     "output_type": "execute_result"
    }
   ],
   "source": [
    "X_train.columns"
   ]
  },
  {
   "cell_type": "markdown",
   "id": "e267a133",
   "metadata": {},
   "source": [
    "#### We observe here that the most significant features in dataset_1, according to this Decision Tree Classifier  are:\n",
    "\n",
    "- 'Candidate_Observer_Multiplication_Mobilizer'\n",
    "- 'Candidate_Observer_Multiplication_Discipler'\n",
    "- 'Candidate_Observer_Multiplication_Server'"
   ]
  },
  {
   "cell_type": "markdown",
   "id": "c6dd2c75",
   "metadata": {},
   "source": [
    "### 3. Random Forest Classifier - Dataset 1"
   ]
  },
  {
   "cell_type": "code",
   "execution_count": 45,
   "id": "3590334f",
   "metadata": {},
   "outputs": [],
   "source": [
    "from sklearn.ensemble import RandomForestClassifier"
   ]
  },
  {
   "cell_type": "markdown",
   "id": "d546b995",
   "metadata": {},
   "source": [
    "#### Perform a grid search to find the optimal parameters for this Random Forest Classifier"
   ]
  },
  {
   "cell_type": "code",
   "execution_count": 46,
   "id": "118f9e19",
   "metadata": {},
   "outputs": [
    {
     "name": "stdout",
     "output_type": "stream",
     "text": [
      "Fitting 10 folds for each of 36 candidates, totalling 360 fits\n"
     ]
    },
    {
     "name": "stderr",
     "output_type": "stream",
     "text": [
      "/Users/dbello/opt/anaconda3/lib/python3.9/site-packages/sklearn/model_selection/_split.py:680: UserWarning: The least populated class in y has only 1 members, which is less than n_splits=10.\n",
      "  warnings.warn(\n"
     ]
    },
    {
     "name": "stdout",
     "output_type": "stream",
     "text": [
      "The best parameters are:  {'max_depth': 6, 'min_samples_split': 10, 'n_estimators': 50}\n"
     ]
    }
   ],
   "source": [
    "param_grid = {'max_depth': [3,4,5,6], \n",
    "              'n_estimators': [50,100,150], \n",
    "              'min_samples_split': [8,9,10]}\n",
    "\n",
    "RF_clf_grid_search_cv = GridSearchCV(RandomForestClassifier(random_state = 42), \n",
    "                              param_grid=param_grid, verbose=1, cv=10)\n",
    "\n",
    "RF_clf_grid_search_cv.fit(X_train, y_train)\n",
    "\n",
    "print(\"The best parameters are: \", RF_clf_grid_search_cv.best_params_)"
   ]
  },
  {
   "cell_type": "markdown",
   "id": "4d9901d1",
   "metadata": {},
   "source": [
    "The best parameters are:  max_depth = 6, n_estimators = 50, min_samples_split = 10"
   ]
  },
  {
   "cell_type": "code",
   "execution_count": 47,
   "id": "ca7227ed",
   "metadata": {},
   "outputs": [
    {
     "data": {
      "text/html": [
       "<style>#sk-container-id-4 {color: black;background-color: white;}#sk-container-id-4 pre{padding: 0;}#sk-container-id-4 div.sk-toggleable {background-color: white;}#sk-container-id-4 label.sk-toggleable__label {cursor: pointer;display: block;width: 100%;margin-bottom: 0;padding: 0.3em;box-sizing: border-box;text-align: center;}#sk-container-id-4 label.sk-toggleable__label-arrow:before {content: \"▸\";float: left;margin-right: 0.25em;color: #696969;}#sk-container-id-4 label.sk-toggleable__label-arrow:hover:before {color: black;}#sk-container-id-4 div.sk-estimator:hover label.sk-toggleable__label-arrow:before {color: black;}#sk-container-id-4 div.sk-toggleable__content {max-height: 0;max-width: 0;overflow: hidden;text-align: left;background-color: #f0f8ff;}#sk-container-id-4 div.sk-toggleable__content pre {margin: 0.2em;color: black;border-radius: 0.25em;background-color: #f0f8ff;}#sk-container-id-4 input.sk-toggleable__control:checked~div.sk-toggleable__content {max-height: 200px;max-width: 100%;overflow: auto;}#sk-container-id-4 input.sk-toggleable__control:checked~label.sk-toggleable__label-arrow:before {content: \"▾\";}#sk-container-id-4 div.sk-estimator input.sk-toggleable__control:checked~label.sk-toggleable__label {background-color: #d4ebff;}#sk-container-id-4 div.sk-label input.sk-toggleable__control:checked~label.sk-toggleable__label {background-color: #d4ebff;}#sk-container-id-4 input.sk-hidden--visually {border: 0;clip: rect(1px 1px 1px 1px);clip: rect(1px, 1px, 1px, 1px);height: 1px;margin: -1px;overflow: hidden;padding: 0;position: absolute;width: 1px;}#sk-container-id-4 div.sk-estimator {font-family: monospace;background-color: #f0f8ff;border: 1px dotted black;border-radius: 0.25em;box-sizing: border-box;margin-bottom: 0.5em;}#sk-container-id-4 div.sk-estimator:hover {background-color: #d4ebff;}#sk-container-id-4 div.sk-parallel-item::after {content: \"\";width: 100%;border-bottom: 1px solid gray;flex-grow: 1;}#sk-container-id-4 div.sk-label:hover label.sk-toggleable__label {background-color: #d4ebff;}#sk-container-id-4 div.sk-serial::before {content: \"\";position: absolute;border-left: 1px solid gray;box-sizing: border-box;top: 0;bottom: 0;left: 50%;z-index: 0;}#sk-container-id-4 div.sk-serial {display: flex;flex-direction: column;align-items: center;background-color: white;padding-right: 0.2em;padding-left: 0.2em;position: relative;}#sk-container-id-4 div.sk-item {position: relative;z-index: 1;}#sk-container-id-4 div.sk-parallel {display: flex;align-items: stretch;justify-content: center;background-color: white;position: relative;}#sk-container-id-4 div.sk-item::before, #sk-container-id-4 div.sk-parallel-item::before {content: \"\";position: absolute;border-left: 1px solid gray;box-sizing: border-box;top: 0;bottom: 0;left: 50%;z-index: -1;}#sk-container-id-4 div.sk-parallel-item {display: flex;flex-direction: column;z-index: 1;position: relative;background-color: white;}#sk-container-id-4 div.sk-parallel-item:first-child::after {align-self: flex-end;width: 50%;}#sk-container-id-4 div.sk-parallel-item:last-child::after {align-self: flex-start;width: 50%;}#sk-container-id-4 div.sk-parallel-item:only-child::after {width: 0;}#sk-container-id-4 div.sk-dashed-wrapped {border: 1px dashed gray;margin: 0 0.4em 0.5em 0.4em;box-sizing: border-box;padding-bottom: 0.4em;background-color: white;}#sk-container-id-4 div.sk-label label {font-family: monospace;font-weight: bold;display: inline-block;line-height: 1.2em;}#sk-container-id-4 div.sk-label-container {text-align: center;}#sk-container-id-4 div.sk-container {/* jupyter's `normalize.less` sets `[hidden] { display: none; }` but bootstrap.min.css set `[hidden] { display: none !important; }` so we also need the `!important` here to be able to override the default hidden behavior on the sphinx rendered scikit-learn.org. See: https://github.com/scikit-learn/scikit-learn/issues/21755 */display: inline-block !important;position: relative;}#sk-container-id-4 div.sk-text-repr-fallback {display: none;}</style><div id=\"sk-container-id-4\" class=\"sk-top-container\"><div class=\"sk-text-repr-fallback\"><pre>RandomForestClassifier(max_depth=6, min_samples_split=10, n_estimators=50,\n",
       "                       random_state=42)</pre><b>In a Jupyter environment, please rerun this cell to show the HTML representation or trust the notebook. <br />On GitHub, the HTML representation is unable to render, please try loading this page with nbviewer.org.</b></div><div class=\"sk-container\" hidden><div class=\"sk-item\"><div class=\"sk-estimator sk-toggleable\"><input class=\"sk-toggleable__control sk-hidden--visually\" id=\"sk-estimator-id-4\" type=\"checkbox\" checked><label for=\"sk-estimator-id-4\" class=\"sk-toggleable__label sk-toggleable__label-arrow\">RandomForestClassifier</label><div class=\"sk-toggleable__content\"><pre>RandomForestClassifier(max_depth=6, min_samples_split=10, n_estimators=50,\n",
       "                       random_state=42)</pre></div></div></div></div></div>"
      ],
      "text/plain": [
       "RandomForestClassifier(max_depth=6, min_samples_split=10, n_estimators=50,\n",
       "                       random_state=42)"
      ]
     },
     "execution_count": 47,
     "metadata": {},
     "output_type": "execute_result"
    }
   ],
   "source": [
    "# creating a RF classifier\n",
    "rf_clf_1 = RandomForestClassifier(max_depth = 6, n_estimators = 50, min_samples_split = 10, random_state = 42) \n",
    " \n",
    "# Training the model on the training dataset\n",
    "# fit function is used to train the model using the training sets as parameters\n",
    "rf_clf_1.fit(X_train, y_train)\n",
    " \n",
    "# performing predictions on the test dataset\n",
    "# y_pred = rf_clf.predict(X_test)"
   ]
  },
  {
   "cell_type": "code",
   "execution_count": 48,
   "id": "db283b05",
   "metadata": {},
   "outputs": [
    {
     "name": "stdout",
     "output_type": "stream",
     "text": [
      "ACCURACY OF THE RANDOM FOREST CLASSIFIER MODEL ON DATASET 1:  0.5232558139534884\n"
     ]
    }
   ],
   "source": [
    "rf_clf_1_score = rf_clf_1.score(X_test,y_test)\n",
    "print(\"ACCURACY OF THE RANDOM FOREST CLASSIFIER MODEL ON DATASET 1: \", rf_clf_1_score)"
   ]
  },
  {
   "cell_type": "markdown",
   "id": "d7f18b99",
   "metadata": {},
   "source": [
    "### 4. SVM - Dataset 1"
   ]
  },
  {
   "cell_type": "code",
   "execution_count": 49,
   "id": "21da8d26",
   "metadata": {},
   "outputs": [],
   "source": [
    "# Import svm model\n",
    "from sklearn import svm"
   ]
  },
  {
   "cell_type": "markdown",
   "id": "d7ae9a7a",
   "metadata": {},
   "source": [
    "#### Perform a grid search to find the optimal parameters for this Random Forest Classifier"
   ]
  },
  {
   "cell_type": "code",
   "execution_count": 50,
   "id": "e0692b39",
   "metadata": {},
   "outputs": [
    {
     "name": "stdout",
     "output_type": "stream",
     "text": [
      "Fitting 10 folds for each of 25 candidates, totalling 250 fits\n"
     ]
    },
    {
     "name": "stderr",
     "output_type": "stream",
     "text": [
      "/Users/dbello/opt/anaconda3/lib/python3.9/site-packages/sklearn/model_selection/_split.py:680: UserWarning: The least populated class in y has only 1 members, which is less than n_splits=10.\n",
      "  warnings.warn(\n"
     ]
    },
    {
     "name": "stdout",
     "output_type": "stream",
     "text": [
      "The best parameters are:  {'C': 1, 'gamma': 0.1, 'kernel': 'rbf'}\n"
     ]
    }
   ],
   "source": [
    "# Defining parameter range\n",
    "param_grid = {'C': [0.1, 1, 10, 100, 1000],\n",
    "              'gamma': [1, 0.1, 0.01, 0.001, 0.0001],\n",
    "              'kernel': ['rbf']}\n",
    "\n",
    "SVM_clf_grid_search_cv = GridSearchCV(svm.SVC(), \n",
    "                              param_grid=param_grid, refit = True, verbose=1, cv=10)\n",
    "\n",
    "SVM_clf_grid_search_cv.fit(X_train, y_train)\n",
    "\n",
    "print(\"The best parameters are: \", SVM_clf_grid_search_cv.best_params_)"
   ]
  },
  {
   "cell_type": "markdown",
   "id": "08b13930",
   "metadata": {},
   "source": [
    "The best parameters are:  C = 1, gamma = 0.1, kernel = 'rbf'"
   ]
  },
  {
   "cell_type": "code",
   "execution_count": 51,
   "id": "917a1c2e",
   "metadata": {},
   "outputs": [
    {
     "data": {
      "text/html": [
       "<style>#sk-container-id-5 {color: black;background-color: white;}#sk-container-id-5 pre{padding: 0;}#sk-container-id-5 div.sk-toggleable {background-color: white;}#sk-container-id-5 label.sk-toggleable__label {cursor: pointer;display: block;width: 100%;margin-bottom: 0;padding: 0.3em;box-sizing: border-box;text-align: center;}#sk-container-id-5 label.sk-toggleable__label-arrow:before {content: \"▸\";float: left;margin-right: 0.25em;color: #696969;}#sk-container-id-5 label.sk-toggleable__label-arrow:hover:before {color: black;}#sk-container-id-5 div.sk-estimator:hover label.sk-toggleable__label-arrow:before {color: black;}#sk-container-id-5 div.sk-toggleable__content {max-height: 0;max-width: 0;overflow: hidden;text-align: left;background-color: #f0f8ff;}#sk-container-id-5 div.sk-toggleable__content pre {margin: 0.2em;color: black;border-radius: 0.25em;background-color: #f0f8ff;}#sk-container-id-5 input.sk-toggleable__control:checked~div.sk-toggleable__content {max-height: 200px;max-width: 100%;overflow: auto;}#sk-container-id-5 input.sk-toggleable__control:checked~label.sk-toggleable__label-arrow:before {content: \"▾\";}#sk-container-id-5 div.sk-estimator input.sk-toggleable__control:checked~label.sk-toggleable__label {background-color: #d4ebff;}#sk-container-id-5 div.sk-label input.sk-toggleable__control:checked~label.sk-toggleable__label {background-color: #d4ebff;}#sk-container-id-5 input.sk-hidden--visually {border: 0;clip: rect(1px 1px 1px 1px);clip: rect(1px, 1px, 1px, 1px);height: 1px;margin: -1px;overflow: hidden;padding: 0;position: absolute;width: 1px;}#sk-container-id-5 div.sk-estimator {font-family: monospace;background-color: #f0f8ff;border: 1px dotted black;border-radius: 0.25em;box-sizing: border-box;margin-bottom: 0.5em;}#sk-container-id-5 div.sk-estimator:hover {background-color: #d4ebff;}#sk-container-id-5 div.sk-parallel-item::after {content: \"\";width: 100%;border-bottom: 1px solid gray;flex-grow: 1;}#sk-container-id-5 div.sk-label:hover label.sk-toggleable__label {background-color: #d4ebff;}#sk-container-id-5 div.sk-serial::before {content: \"\";position: absolute;border-left: 1px solid gray;box-sizing: border-box;top: 0;bottom: 0;left: 50%;z-index: 0;}#sk-container-id-5 div.sk-serial {display: flex;flex-direction: column;align-items: center;background-color: white;padding-right: 0.2em;padding-left: 0.2em;position: relative;}#sk-container-id-5 div.sk-item {position: relative;z-index: 1;}#sk-container-id-5 div.sk-parallel {display: flex;align-items: stretch;justify-content: center;background-color: white;position: relative;}#sk-container-id-5 div.sk-item::before, #sk-container-id-5 div.sk-parallel-item::before {content: \"\";position: absolute;border-left: 1px solid gray;box-sizing: border-box;top: 0;bottom: 0;left: 50%;z-index: -1;}#sk-container-id-5 div.sk-parallel-item {display: flex;flex-direction: column;z-index: 1;position: relative;background-color: white;}#sk-container-id-5 div.sk-parallel-item:first-child::after {align-self: flex-end;width: 50%;}#sk-container-id-5 div.sk-parallel-item:last-child::after {align-self: flex-start;width: 50%;}#sk-container-id-5 div.sk-parallel-item:only-child::after {width: 0;}#sk-container-id-5 div.sk-dashed-wrapped {border: 1px dashed gray;margin: 0 0.4em 0.5em 0.4em;box-sizing: border-box;padding-bottom: 0.4em;background-color: white;}#sk-container-id-5 div.sk-label label {font-family: monospace;font-weight: bold;display: inline-block;line-height: 1.2em;}#sk-container-id-5 div.sk-label-container {text-align: center;}#sk-container-id-5 div.sk-container {/* jupyter's `normalize.less` sets `[hidden] { display: none; }` but bootstrap.min.css set `[hidden] { display: none !important; }` so we also need the `!important` here to be able to override the default hidden behavior on the sphinx rendered scikit-learn.org. See: https://github.com/scikit-learn/scikit-learn/issues/21755 */display: inline-block !important;position: relative;}#sk-container-id-5 div.sk-text-repr-fallback {display: none;}</style><div id=\"sk-container-id-5\" class=\"sk-top-container\"><div class=\"sk-text-repr-fallback\"><pre>SVC(C=1, gamma=0.1)</pre><b>In a Jupyter environment, please rerun this cell to show the HTML representation or trust the notebook. <br />On GitHub, the HTML representation is unable to render, please try loading this page with nbviewer.org.</b></div><div class=\"sk-container\" hidden><div class=\"sk-item\"><div class=\"sk-estimator sk-toggleable\"><input class=\"sk-toggleable__control sk-hidden--visually\" id=\"sk-estimator-id-5\" type=\"checkbox\" checked><label for=\"sk-estimator-id-5\" class=\"sk-toggleable__label sk-toggleable__label-arrow\">SVC</label><div class=\"sk-toggleable__content\"><pre>SVC(C=1, gamma=0.1)</pre></div></div></div></div></div>"
      ],
      "text/plain": [
       "SVC(C=1, gamma=0.1)"
      ]
     },
     "execution_count": 51,
     "metadata": {},
     "output_type": "execute_result"
    }
   ],
   "source": [
    "#Create a svm Classifier\n",
    "svm_clf_1 = svm.SVC(C = 1, gamma = 0.1, kernel = 'rbf') # Linear Kernel\n",
    "\n",
    "#Train the model using the training sets\n",
    "svm_clf_1.fit(X_train, y_train)"
   ]
  },
  {
   "cell_type": "code",
   "execution_count": 52,
   "id": "eb5e9ce3",
   "metadata": {},
   "outputs": [
    {
     "name": "stdout",
     "output_type": "stream",
     "text": [
      "ACCURACY OF THE SUPPORT VECTOR MACHINE MODEL ON DATASET 1:  0.5116279069767442\n"
     ]
    }
   ],
   "source": [
    "svm_clf_1_score =  svm_clf_1.score(X_test,y_test)\n",
    "print(\"ACCURACY OF THE SUPPORT VECTOR MACHINE MODEL ON DATASET 1: \", svm_clf_1_score)"
   ]
  },
  {
   "cell_type": "markdown",
   "id": "a74aaadb",
   "metadata": {},
   "source": [
    "### 5. KNN - Dataset 1"
   ]
  },
  {
   "cell_type": "code",
   "execution_count": 53,
   "id": "241aa3a3",
   "metadata": {},
   "outputs": [],
   "source": [
    "# Import knn model\n",
    "from sklearn.neighbors import KNeighborsClassifier"
   ]
  },
  {
   "cell_type": "markdown",
   "id": "9989c75f",
   "metadata": {},
   "source": [
    "#### Perform a grid search to find the optimal parameters for this K Nearest Neighbors Classifier"
   ]
  },
  {
   "cell_type": "code",
   "execution_count": 54,
   "id": "91c55e14",
   "metadata": {},
   "outputs": [
    {
     "name": "stdout",
     "output_type": "stream",
     "text": [
      "Fitting 10 folds for each of 30 candidates, totalling 300 fits\n"
     ]
    },
    {
     "name": "stderr",
     "output_type": "stream",
     "text": [
      "/Users/dbello/opt/anaconda3/lib/python3.9/site-packages/sklearn/model_selection/_split.py:680: UserWarning: The least populated class in y has only 1 members, which is less than n_splits=10.\n",
      "  warnings.warn(\n"
     ]
    },
    {
     "name": "stdout",
     "output_type": "stream",
     "text": [
      "The best parameters are:  {'n_neighbors': 27}\n"
     ]
    }
   ],
   "source": [
    "k_range = list(range(1, 31))\n",
    "param_grid = dict(n_neighbors=k_range)\n",
    "\n",
    "KNN_clf_grid_search_cv = GridSearchCV(KNeighborsClassifier(), \n",
    "                              param_grid=param_grid, verbose=1, cv=10)\n",
    "\n",
    "KNN_clf_grid_search_cv.fit(X_train, y_train)\n",
    "\n",
    "print(\"The best parameters are: \", KNN_clf_grid_search_cv.best_params_)"
   ]
  },
  {
   "cell_type": "markdown",
   "id": "ec4602b3",
   "metadata": {},
   "source": [
    "The best parameters are:  n_neighbors = 27"
   ]
  },
  {
   "cell_type": "code",
   "execution_count": 55,
   "id": "99280d2e",
   "metadata": {},
   "outputs": [
    {
     "data": {
      "text/html": [
       "<style>#sk-container-id-6 {color: black;background-color: white;}#sk-container-id-6 pre{padding: 0;}#sk-container-id-6 div.sk-toggleable {background-color: white;}#sk-container-id-6 label.sk-toggleable__label {cursor: pointer;display: block;width: 100%;margin-bottom: 0;padding: 0.3em;box-sizing: border-box;text-align: center;}#sk-container-id-6 label.sk-toggleable__label-arrow:before {content: \"▸\";float: left;margin-right: 0.25em;color: #696969;}#sk-container-id-6 label.sk-toggleable__label-arrow:hover:before {color: black;}#sk-container-id-6 div.sk-estimator:hover label.sk-toggleable__label-arrow:before {color: black;}#sk-container-id-6 div.sk-toggleable__content {max-height: 0;max-width: 0;overflow: hidden;text-align: left;background-color: #f0f8ff;}#sk-container-id-6 div.sk-toggleable__content pre {margin: 0.2em;color: black;border-radius: 0.25em;background-color: #f0f8ff;}#sk-container-id-6 input.sk-toggleable__control:checked~div.sk-toggleable__content {max-height: 200px;max-width: 100%;overflow: auto;}#sk-container-id-6 input.sk-toggleable__control:checked~label.sk-toggleable__label-arrow:before {content: \"▾\";}#sk-container-id-6 div.sk-estimator input.sk-toggleable__control:checked~label.sk-toggleable__label {background-color: #d4ebff;}#sk-container-id-6 div.sk-label input.sk-toggleable__control:checked~label.sk-toggleable__label {background-color: #d4ebff;}#sk-container-id-6 input.sk-hidden--visually {border: 0;clip: rect(1px 1px 1px 1px);clip: rect(1px, 1px, 1px, 1px);height: 1px;margin: -1px;overflow: hidden;padding: 0;position: absolute;width: 1px;}#sk-container-id-6 div.sk-estimator {font-family: monospace;background-color: #f0f8ff;border: 1px dotted black;border-radius: 0.25em;box-sizing: border-box;margin-bottom: 0.5em;}#sk-container-id-6 div.sk-estimator:hover {background-color: #d4ebff;}#sk-container-id-6 div.sk-parallel-item::after {content: \"\";width: 100%;border-bottom: 1px solid gray;flex-grow: 1;}#sk-container-id-6 div.sk-label:hover label.sk-toggleable__label {background-color: #d4ebff;}#sk-container-id-6 div.sk-serial::before {content: \"\";position: absolute;border-left: 1px solid gray;box-sizing: border-box;top: 0;bottom: 0;left: 50%;z-index: 0;}#sk-container-id-6 div.sk-serial {display: flex;flex-direction: column;align-items: center;background-color: white;padding-right: 0.2em;padding-left: 0.2em;position: relative;}#sk-container-id-6 div.sk-item {position: relative;z-index: 1;}#sk-container-id-6 div.sk-parallel {display: flex;align-items: stretch;justify-content: center;background-color: white;position: relative;}#sk-container-id-6 div.sk-item::before, #sk-container-id-6 div.sk-parallel-item::before {content: \"\";position: absolute;border-left: 1px solid gray;box-sizing: border-box;top: 0;bottom: 0;left: 50%;z-index: -1;}#sk-container-id-6 div.sk-parallel-item {display: flex;flex-direction: column;z-index: 1;position: relative;background-color: white;}#sk-container-id-6 div.sk-parallel-item:first-child::after {align-self: flex-end;width: 50%;}#sk-container-id-6 div.sk-parallel-item:last-child::after {align-self: flex-start;width: 50%;}#sk-container-id-6 div.sk-parallel-item:only-child::after {width: 0;}#sk-container-id-6 div.sk-dashed-wrapped {border: 1px dashed gray;margin: 0 0.4em 0.5em 0.4em;box-sizing: border-box;padding-bottom: 0.4em;background-color: white;}#sk-container-id-6 div.sk-label label {font-family: monospace;font-weight: bold;display: inline-block;line-height: 1.2em;}#sk-container-id-6 div.sk-label-container {text-align: center;}#sk-container-id-6 div.sk-container {/* jupyter's `normalize.less` sets `[hidden] { display: none; }` but bootstrap.min.css set `[hidden] { display: none !important; }` so we also need the `!important` here to be able to override the default hidden behavior on the sphinx rendered scikit-learn.org. See: https://github.com/scikit-learn/scikit-learn/issues/21755 */display: inline-block !important;position: relative;}#sk-container-id-6 div.sk-text-repr-fallback {display: none;}</style><div id=\"sk-container-id-6\" class=\"sk-top-container\"><div class=\"sk-text-repr-fallback\"><pre>KNeighborsClassifier(n_neighbors=27)</pre><b>In a Jupyter environment, please rerun this cell to show the HTML representation or trust the notebook. <br />On GitHub, the HTML representation is unable to render, please try loading this page with nbviewer.org.</b></div><div class=\"sk-container\" hidden><div class=\"sk-item\"><div class=\"sk-estimator sk-toggleable\"><input class=\"sk-toggleable__control sk-hidden--visually\" id=\"sk-estimator-id-6\" type=\"checkbox\" checked><label for=\"sk-estimator-id-6\" class=\"sk-toggleable__label sk-toggleable__label-arrow\">KNeighborsClassifier</label><div class=\"sk-toggleable__content\"><pre>KNeighborsClassifier(n_neighbors=27)</pre></div></div></div></div></div>"
      ],
      "text/plain": [
       "KNeighborsClassifier(n_neighbors=27)"
      ]
     },
     "execution_count": 55,
     "metadata": {},
     "output_type": "execute_result"
    }
   ],
   "source": [
    "knn_clf_1 = KNeighborsClassifier(n_neighbors=27)\n",
    " \n",
    "knn_clf_1.fit(X_train, y_train)"
   ]
  },
  {
   "cell_type": "code",
   "execution_count": 56,
   "id": "9b0655e8",
   "metadata": {},
   "outputs": [
    {
     "name": "stdout",
     "output_type": "stream",
     "text": [
      "ACCURACY OF THE K NEIGHBORS CLASSIFIER MODEL ON DATASET 1:  0.5193798449612403\n"
     ]
    }
   ],
   "source": [
    "knn_clf_1_score = knn_clf_1.score(X_test, y_test)\n",
    "print(\"ACCURACY OF THE K NEIGHBORS CLASSIFIER MODEL ON DATASET 1: \", knn_clf_1_score)"
   ]
  },
  {
   "cell_type": "markdown",
   "id": "ea923184",
   "metadata": {},
   "source": [
    "### 6. Naive Bayes - Dataset 1"
   ]
  },
  {
   "cell_type": "code",
   "execution_count": 57,
   "id": "d8055ff2",
   "metadata": {},
   "outputs": [],
   "source": [
    "# Import Naive Bayes model\n",
    "from sklearn.naive_bayes import GaussianNB"
   ]
  },
  {
   "cell_type": "code",
   "execution_count": 58,
   "id": "fd80e94a",
   "metadata": {},
   "outputs": [
    {
     "data": {
      "text/html": [
       "<style>#sk-container-id-7 {color: black;background-color: white;}#sk-container-id-7 pre{padding: 0;}#sk-container-id-7 div.sk-toggleable {background-color: white;}#sk-container-id-7 label.sk-toggleable__label {cursor: pointer;display: block;width: 100%;margin-bottom: 0;padding: 0.3em;box-sizing: border-box;text-align: center;}#sk-container-id-7 label.sk-toggleable__label-arrow:before {content: \"▸\";float: left;margin-right: 0.25em;color: #696969;}#sk-container-id-7 label.sk-toggleable__label-arrow:hover:before {color: black;}#sk-container-id-7 div.sk-estimator:hover label.sk-toggleable__label-arrow:before {color: black;}#sk-container-id-7 div.sk-toggleable__content {max-height: 0;max-width: 0;overflow: hidden;text-align: left;background-color: #f0f8ff;}#sk-container-id-7 div.sk-toggleable__content pre {margin: 0.2em;color: black;border-radius: 0.25em;background-color: #f0f8ff;}#sk-container-id-7 input.sk-toggleable__control:checked~div.sk-toggleable__content {max-height: 200px;max-width: 100%;overflow: auto;}#sk-container-id-7 input.sk-toggleable__control:checked~label.sk-toggleable__label-arrow:before {content: \"▾\";}#sk-container-id-7 div.sk-estimator input.sk-toggleable__control:checked~label.sk-toggleable__label {background-color: #d4ebff;}#sk-container-id-7 div.sk-label input.sk-toggleable__control:checked~label.sk-toggleable__label {background-color: #d4ebff;}#sk-container-id-7 input.sk-hidden--visually {border: 0;clip: rect(1px 1px 1px 1px);clip: rect(1px, 1px, 1px, 1px);height: 1px;margin: -1px;overflow: hidden;padding: 0;position: absolute;width: 1px;}#sk-container-id-7 div.sk-estimator {font-family: monospace;background-color: #f0f8ff;border: 1px dotted black;border-radius: 0.25em;box-sizing: border-box;margin-bottom: 0.5em;}#sk-container-id-7 div.sk-estimator:hover {background-color: #d4ebff;}#sk-container-id-7 div.sk-parallel-item::after {content: \"\";width: 100%;border-bottom: 1px solid gray;flex-grow: 1;}#sk-container-id-7 div.sk-label:hover label.sk-toggleable__label {background-color: #d4ebff;}#sk-container-id-7 div.sk-serial::before {content: \"\";position: absolute;border-left: 1px solid gray;box-sizing: border-box;top: 0;bottom: 0;left: 50%;z-index: 0;}#sk-container-id-7 div.sk-serial {display: flex;flex-direction: column;align-items: center;background-color: white;padding-right: 0.2em;padding-left: 0.2em;position: relative;}#sk-container-id-7 div.sk-item {position: relative;z-index: 1;}#sk-container-id-7 div.sk-parallel {display: flex;align-items: stretch;justify-content: center;background-color: white;position: relative;}#sk-container-id-7 div.sk-item::before, #sk-container-id-7 div.sk-parallel-item::before {content: \"\";position: absolute;border-left: 1px solid gray;box-sizing: border-box;top: 0;bottom: 0;left: 50%;z-index: -1;}#sk-container-id-7 div.sk-parallel-item {display: flex;flex-direction: column;z-index: 1;position: relative;background-color: white;}#sk-container-id-7 div.sk-parallel-item:first-child::after {align-self: flex-end;width: 50%;}#sk-container-id-7 div.sk-parallel-item:last-child::after {align-self: flex-start;width: 50%;}#sk-container-id-7 div.sk-parallel-item:only-child::after {width: 0;}#sk-container-id-7 div.sk-dashed-wrapped {border: 1px dashed gray;margin: 0 0.4em 0.5em 0.4em;box-sizing: border-box;padding-bottom: 0.4em;background-color: white;}#sk-container-id-7 div.sk-label label {font-family: monospace;font-weight: bold;display: inline-block;line-height: 1.2em;}#sk-container-id-7 div.sk-label-container {text-align: center;}#sk-container-id-7 div.sk-container {/* jupyter's `normalize.less` sets `[hidden] { display: none; }` but bootstrap.min.css set `[hidden] { display: none !important; }` so we also need the `!important` here to be able to override the default hidden behavior on the sphinx rendered scikit-learn.org. See: https://github.com/scikit-learn/scikit-learn/issues/21755 */display: inline-block !important;position: relative;}#sk-container-id-7 div.sk-text-repr-fallback {display: none;}</style><div id=\"sk-container-id-7\" class=\"sk-top-container\"><div class=\"sk-text-repr-fallback\"><pre>GaussianNB()</pre><b>In a Jupyter environment, please rerun this cell to show the HTML representation or trust the notebook. <br />On GitHub, the HTML representation is unable to render, please try loading this page with nbviewer.org.</b></div><div class=\"sk-container\" hidden><div class=\"sk-item\"><div class=\"sk-estimator sk-toggleable\"><input class=\"sk-toggleable__control sk-hidden--visually\" id=\"sk-estimator-id-7\" type=\"checkbox\" checked><label for=\"sk-estimator-id-7\" class=\"sk-toggleable__label sk-toggleable__label-arrow\">GaussianNB</label><div class=\"sk-toggleable__content\"><pre>GaussianNB()</pre></div></div></div></div></div>"
      ],
      "text/plain": [
       "GaussianNB()"
      ]
     },
     "execution_count": 58,
     "metadata": {},
     "output_type": "execute_result"
    }
   ],
   "source": [
    "nb_clf_1 = GaussianNB()\n",
    "\n",
    "nb_clf_1.fit(X_train, y_train)"
   ]
  },
  {
   "cell_type": "code",
   "execution_count": 59,
   "id": "0f575301",
   "metadata": {},
   "outputs": [
    {
     "name": "stdout",
     "output_type": "stream",
     "text": [
      "ACCURACY OF THE NAIVE BAYES MODEL ON DATASET 1:  0.5310077519379846\n"
     ]
    }
   ],
   "source": [
    "nb_clf_1_score = nb_clf_1.score(X_test, y_test)\n",
    "print(\"ACCURACY OF THE NAIVE BAYES MODEL ON DATASET 1: \", nb_clf_1_score)"
   ]
  },
  {
   "cell_type": "markdown",
   "id": "9062dcd1",
   "metadata": {},
   "source": [
    "## Dataset 2"
   ]
  },
  {
   "cell_type": "code",
   "execution_count": 60,
   "id": "9b807869",
   "metadata": {},
   "outputs": [
    {
     "data": {
      "text/html": [
       "<div>\n",
       "<style scoped>\n",
       "    .dataframe tbody tr th:only-of-type {\n",
       "        vertical-align: middle;\n",
       "    }\n",
       "\n",
       "    .dataframe tbody tr th {\n",
       "        vertical-align: top;\n",
       "    }\n",
       "\n",
       "    .dataframe thead tr th {\n",
       "        text-align: left;\n",
       "    }\n",
       "</style>\n",
       "<table border=\"1\" class=\"dataframe\">\n",
       "  <thead>\n",
       "    <tr>\n",
       "      <th></th>\n",
       "      <th>Candidate_Character_TruthTeller</th>\n",
       "      <th>Candidate_Observer_Multiplication_Mobilizer</th>\n",
       "      <th>Candidate_Observer_Character_Learner</th>\n",
       "      <th>Candidate_Observer_Multiplication_Discipler</th>\n",
       "      <th>Candidate_Observer_Character_Adapter</th>\n",
       "      <th>Candidate_Observer_Leadership_Influencer</th>\n",
       "      <th>Candidate_Observer_Multiplication_Server</th>\n",
       "      <th>Candidate_Observer_Multiplication_Builder</th>\n",
       "      <th>Candidate_Observer_Vision_TrendSetter</th>\n",
       "      <th>Candidate_Observer_Leadership_Resolver</th>\n",
       "      <th>...</th>\n",
       "      <th>CANDIDATE_360_ATTITUDE_WORKAHOLIC</th>\n",
       "      <th>Candidate_Observer_Multiplication_Networker</th>\n",
       "      <th>CouplePrepare_EnrichType_Vitalized</th>\n",
       "      <th>Candidate_Observer_Leadership_Communicator</th>\n",
       "      <th>Candidate_Observer_Leadership_Changer</th>\n",
       "      <th>CANDIDATE_360_CIR_LACK_OF_FUNDING</th>\n",
       "      <th>Candidate_Observer_Character_Steward</th>\n",
       "      <th>Candidate_Observer_Character_Reflector</th>\n",
       "      <th>Candidate_Leadership_Trainer</th>\n",
       "      <th>Approved</th>\n",
       "    </tr>\n",
       "  </thead>\n",
       "  <tbody>\n",
       "    <tr>\n",
       "      <th>0</th>\n",
       "      <td>1.338627</td>\n",
       "      <td>0.346331</td>\n",
       "      <td>0.996616</td>\n",
       "      <td>-1.247874</td>\n",
       "      <td>0.155527</td>\n",
       "      <td>-1.088397</td>\n",
       "      <td>0.060686</td>\n",
       "      <td>-1.053234</td>\n",
       "      <td>-0.609074</td>\n",
       "      <td>-0.426512</td>\n",
       "      <td>...</td>\n",
       "      <td>0.406714</td>\n",
       "      <td>0.014595</td>\n",
       "      <td>1.0</td>\n",
       "      <td>-0.354222</td>\n",
       "      <td>0.295590</td>\n",
       "      <td>0.257971</td>\n",
       "      <td>-0.670751</td>\n",
       "      <td>0.003408</td>\n",
       "      <td>0.711431</td>\n",
       "      <td>1</td>\n",
       "    </tr>\n",
       "    <tr>\n",
       "      <th>1</th>\n",
       "      <td>-0.096602</td>\n",
       "      <td>-0.881895</td>\n",
       "      <td>-1.176441</td>\n",
       "      <td>-1.030339</td>\n",
       "      <td>-0.332327</td>\n",
       "      <td>-0.906114</td>\n",
       "      <td>0.060686</td>\n",
       "      <td>-1.189118</td>\n",
       "      <td>-1.512963</td>\n",
       "      <td>-0.244100</td>\n",
       "      <td>...</td>\n",
       "      <td>0.406714</td>\n",
       "      <td>-0.471261</td>\n",
       "      <td>1.0</td>\n",
       "      <td>-0.719049</td>\n",
       "      <td>0.640084</td>\n",
       "      <td>-1.181088</td>\n",
       "      <td>0.169061</td>\n",
       "      <td>2.072285</td>\n",
       "      <td>-0.133444</td>\n",
       "      <td>0</td>\n",
       "    </tr>\n",
       "    <tr>\n",
       "      <th>2</th>\n",
       "      <td>-0.096602</td>\n",
       "      <td>0.755740</td>\n",
       "      <td>0.996616</td>\n",
       "      <td>-0.595270</td>\n",
       "      <td>1.456470</td>\n",
       "      <td>0.552147</td>\n",
       "      <td>0.992647</td>\n",
       "      <td>0.305608</td>\n",
       "      <td>0.837149</td>\n",
       "      <td>1.032786</td>\n",
       "      <td>...</td>\n",
       "      <td>-0.694936</td>\n",
       "      <td>0.500450</td>\n",
       "      <td>1.0</td>\n",
       "      <td>0.740260</td>\n",
       "      <td>0.984578</td>\n",
       "      <td>-0.461559</td>\n",
       "      <td>0.798920</td>\n",
       "      <td>0.417184</td>\n",
       "      <td>0.711431</td>\n",
       "      <td>1</td>\n",
       "    </tr>\n",
       "    <tr>\n",
       "      <th>3</th>\n",
       "      <td>0.676214</td>\n",
       "      <td>-0.336017</td>\n",
       "      <td>1.213922</td>\n",
       "      <td>-0.377735</td>\n",
       "      <td>0.480763</td>\n",
       "      <td>0.916712</td>\n",
       "      <td>0.433470</td>\n",
       "      <td>0.577376</td>\n",
       "      <td>-1.332186</td>\n",
       "      <td>-0.061688</td>\n",
       "      <td>...</td>\n",
       "      <td>0.406714</td>\n",
       "      <td>0.014595</td>\n",
       "      <td>0.0</td>\n",
       "      <td>0.557846</td>\n",
       "      <td>0.640084</td>\n",
       "      <td>0.257971</td>\n",
       "      <td>0.379014</td>\n",
       "      <td>-0.617255</td>\n",
       "      <td>1.556306</td>\n",
       "      <td>1</td>\n",
       "    </tr>\n",
       "    <tr>\n",
       "      <th>4</th>\n",
       "      <td>-0.869418</td>\n",
       "      <td>-0.881895</td>\n",
       "      <td>-2.045664</td>\n",
       "      <td>-0.595270</td>\n",
       "      <td>-1.795887</td>\n",
       "      <td>-0.723831</td>\n",
       "      <td>-0.684883</td>\n",
       "      <td>-2.683844</td>\n",
       "      <td>-1.332186</td>\n",
       "      <td>-1.338574</td>\n",
       "      <td>...</td>\n",
       "      <td>-0.694936</td>\n",
       "      <td>-2.252733</td>\n",
       "      <td>0.0</td>\n",
       "      <td>-1.995945</td>\n",
       "      <td>-0.910138</td>\n",
       "      <td>0.257971</td>\n",
       "      <td>-3.190186</td>\n",
       "      <td>-1.031031</td>\n",
       "      <td>-0.133444</td>\n",
       "      <td>1</td>\n",
       "    </tr>\n",
       "    <tr>\n",
       "      <th>...</th>\n",
       "      <td>...</td>\n",
       "      <td>...</td>\n",
       "      <td>...</td>\n",
       "      <td>...</td>\n",
       "      <td>...</td>\n",
       "      <td>...</td>\n",
       "      <td>...</td>\n",
       "      <td>...</td>\n",
       "      <td>...</td>\n",
       "      <td>...</td>\n",
       "      <td>...</td>\n",
       "      <td>...</td>\n",
       "      <td>...</td>\n",
       "      <td>...</td>\n",
       "      <td>...</td>\n",
       "      <td>...</td>\n",
       "      <td>...</td>\n",
       "      <td>...</td>\n",
       "      <td>...</td>\n",
       "      <td>...</td>\n",
       "      <td>...</td>\n",
       "    </tr>\n",
       "    <tr>\n",
       "      <th>1027</th>\n",
       "      <td>0.676214</td>\n",
       "      <td>-1.291304</td>\n",
       "      <td>0.344699</td>\n",
       "      <td>0.492404</td>\n",
       "      <td>-0.657562</td>\n",
       "      <td>-1.270679</td>\n",
       "      <td>-1.430453</td>\n",
       "      <td>-0.645582</td>\n",
       "      <td>-0.428296</td>\n",
       "      <td>-1.885811</td>\n",
       "      <td>...</td>\n",
       "      <td>-0.694936</td>\n",
       "      <td>-0.633213</td>\n",
       "      <td>0.0</td>\n",
       "      <td>-0.719049</td>\n",
       "      <td>-0.737891</td>\n",
       "      <td>0.977500</td>\n",
       "      <td>-0.880704</td>\n",
       "      <td>-1.237918</td>\n",
       "      <td>0.711431</td>\n",
       "      <td>1</td>\n",
       "    </tr>\n",
       "    <tr>\n",
       "      <th>1028</th>\n",
       "      <td>1.338627</td>\n",
       "      <td>1.028679</td>\n",
       "      <td>-0.307218</td>\n",
       "      <td>-1.465409</td>\n",
       "      <td>-1.470651</td>\n",
       "      <td>0.552147</td>\n",
       "      <td>0.992647</td>\n",
       "      <td>0.033839</td>\n",
       "      <td>-0.066741</td>\n",
       "      <td>-0.791337</td>\n",
       "      <td>...</td>\n",
       "      <td>-0.694936</td>\n",
       "      <td>0.824354</td>\n",
       "      <td>1.0</td>\n",
       "      <td>-0.536636</td>\n",
       "      <td>-0.737891</td>\n",
       "      <td>-1.181088</td>\n",
       "      <td>0.798920</td>\n",
       "      <td>-0.617255</td>\n",
       "      <td>1.556306</td>\n",
       "      <td>0</td>\n",
       "    </tr>\n",
       "    <tr>\n",
       "      <th>1029</th>\n",
       "      <td>-1.531831</td>\n",
       "      <td>0.073392</td>\n",
       "      <td>-0.307218</td>\n",
       "      <td>-1.900479</td>\n",
       "      <td>-1.795887</td>\n",
       "      <td>0.187582</td>\n",
       "      <td>-1.430453</td>\n",
       "      <td>-0.645582</td>\n",
       "      <td>-1.332186</td>\n",
       "      <td>-1.338574</td>\n",
       "      <td>...</td>\n",
       "      <td>2.610013</td>\n",
       "      <td>-0.309309</td>\n",
       "      <td>0.0</td>\n",
       "      <td>-1.448704</td>\n",
       "      <td>-0.565644</td>\n",
       "      <td>0.257971</td>\n",
       "      <td>-0.880704</td>\n",
       "      <td>-0.203480</td>\n",
       "      <td>0.711431</td>\n",
       "      <td>0</td>\n",
       "    </tr>\n",
       "    <tr>\n",
       "      <th>1030</th>\n",
       "      <td>0.676214</td>\n",
       "      <td>0.755740</td>\n",
       "      <td>-0.741830</td>\n",
       "      <td>1.145009</td>\n",
       "      <td>0.480763</td>\n",
       "      <td>1.281277</td>\n",
       "      <td>0.992647</td>\n",
       "      <td>1.256797</td>\n",
       "      <td>0.475593</td>\n",
       "      <td>1.032786</td>\n",
       "      <td>...</td>\n",
       "      <td>-0.694936</td>\n",
       "      <td>0.500450</td>\n",
       "      <td>1.0</td>\n",
       "      <td>1.105087</td>\n",
       "      <td>0.640084</td>\n",
       "      <td>-1.181088</td>\n",
       "      <td>-0.880704</td>\n",
       "      <td>0.417184</td>\n",
       "      <td>-0.133444</td>\n",
       "      <td>1</td>\n",
       "    </tr>\n",
       "    <tr>\n",
       "      <th>1031</th>\n",
       "      <td>-0.096602</td>\n",
       "      <td>0.346331</td>\n",
       "      <td>0.127393</td>\n",
       "      <td>0.709939</td>\n",
       "      <td>-0.332327</td>\n",
       "      <td>0.005299</td>\n",
       "      <td>0.433470</td>\n",
       "      <td>-1.053234</td>\n",
       "      <td>-2.416853</td>\n",
       "      <td>-0.244100</td>\n",
       "      <td>...</td>\n",
       "      <td>-0.694936</td>\n",
       "      <td>0.014595</td>\n",
       "      <td>0.0</td>\n",
       "      <td>-1.083877</td>\n",
       "      <td>0.640084</td>\n",
       "      <td>-1.181088</td>\n",
       "      <td>0.798920</td>\n",
       "      <td>-1.031031</td>\n",
       "      <td>-0.133444</td>\n",
       "      <td>1</td>\n",
       "    </tr>\n",
       "  </tbody>\n",
       "</table>\n",
       "<p>1032 rows × 51 columns</p>\n",
       "</div>"
      ],
      "text/plain": [
       "     Candidate_Character_TruthTeller  \\\n",
       "0                           1.338627   \n",
       "1                          -0.096602   \n",
       "2                          -0.096602   \n",
       "3                           0.676214   \n",
       "4                          -0.869418   \n",
       "...                              ...   \n",
       "1027                        0.676214   \n",
       "1028                        1.338627   \n",
       "1029                       -1.531831   \n",
       "1030                        0.676214   \n",
       "1031                       -0.096602   \n",
       "\n",
       "     Candidate_Observer_Multiplication_Mobilizer  \\\n",
       "0                                       0.346331   \n",
       "1                                      -0.881895   \n",
       "2                                       0.755740   \n",
       "3                                      -0.336017   \n",
       "4                                      -0.881895   \n",
       "...                                          ...   \n",
       "1027                                   -1.291304   \n",
       "1028                                    1.028679   \n",
       "1029                                    0.073392   \n",
       "1030                                    0.755740   \n",
       "1031                                    0.346331   \n",
       "\n",
       "     Candidate_Observer_Character_Learner  \\\n",
       "0                                0.996616   \n",
       "1                               -1.176441   \n",
       "2                                0.996616   \n",
       "3                                1.213922   \n",
       "4                               -2.045664   \n",
       "...                                   ...   \n",
       "1027                             0.344699   \n",
       "1028                            -0.307218   \n",
       "1029                            -0.307218   \n",
       "1030                            -0.741830   \n",
       "1031                             0.127393   \n",
       "\n",
       "     Candidate_Observer_Multiplication_Discipler  \\\n",
       "0                                      -1.247874   \n",
       "1                                      -1.030339   \n",
       "2                                      -0.595270   \n",
       "3                                      -0.377735   \n",
       "4                                      -0.595270   \n",
       "...                                          ...   \n",
       "1027                                    0.492404   \n",
       "1028                                   -1.465409   \n",
       "1029                                   -1.900479   \n",
       "1030                                    1.145009   \n",
       "1031                                    0.709939   \n",
       "\n",
       "     Candidate_Observer_Character_Adapter  \\\n",
       "0                                0.155527   \n",
       "1                               -0.332327   \n",
       "2                                1.456470   \n",
       "3                                0.480763   \n",
       "4                               -1.795887   \n",
       "...                                   ...   \n",
       "1027                            -0.657562   \n",
       "1028                            -1.470651   \n",
       "1029                            -1.795887   \n",
       "1030                             0.480763   \n",
       "1031                            -0.332327   \n",
       "\n",
       "     Candidate_Observer_Leadership_Influencer  \\\n",
       "0                                   -1.088397   \n",
       "1                                   -0.906114   \n",
       "2                                    0.552147   \n",
       "3                                    0.916712   \n",
       "4                                   -0.723831   \n",
       "...                                       ...   \n",
       "1027                                -1.270679   \n",
       "1028                                 0.552147   \n",
       "1029                                 0.187582   \n",
       "1030                                 1.281277   \n",
       "1031                                 0.005299   \n",
       "\n",
       "     Candidate_Observer_Multiplication_Server  \\\n",
       "0                                    0.060686   \n",
       "1                                    0.060686   \n",
       "2                                    0.992647   \n",
       "3                                    0.433470   \n",
       "4                                   -0.684883   \n",
       "...                                       ...   \n",
       "1027                                -1.430453   \n",
       "1028                                 0.992647   \n",
       "1029                                -1.430453   \n",
       "1030                                 0.992647   \n",
       "1031                                 0.433470   \n",
       "\n",
       "     Candidate_Observer_Multiplication_Builder  \\\n",
       "0                                    -1.053234   \n",
       "1                                    -1.189118   \n",
       "2                                     0.305608   \n",
       "3                                     0.577376   \n",
       "4                                    -2.683844   \n",
       "...                                        ...   \n",
       "1027                                 -0.645582   \n",
       "1028                                  0.033839   \n",
       "1029                                 -0.645582   \n",
       "1030                                  1.256797   \n",
       "1031                                 -1.053234   \n",
       "\n",
       "     Candidate_Observer_Vision_TrendSetter  \\\n",
       "0                                -0.609074   \n",
       "1                                -1.512963   \n",
       "2                                 0.837149   \n",
       "3                                -1.332186   \n",
       "4                                -1.332186   \n",
       "...                                    ...   \n",
       "1027                             -0.428296   \n",
       "1028                             -0.066741   \n",
       "1029                             -1.332186   \n",
       "1030                              0.475593   \n",
       "1031                             -2.416853   \n",
       "\n",
       "     Candidate_Observer_Leadership_Resolver  ...  \\\n",
       "0                                 -0.426512  ...   \n",
       "1                                 -0.244100  ...   \n",
       "2                                  1.032786  ...   \n",
       "3                                 -0.061688  ...   \n",
       "4                                 -1.338574  ...   \n",
       "...                                     ...  ...   \n",
       "1027                              -1.885811  ...   \n",
       "1028                              -0.791337  ...   \n",
       "1029                              -1.338574  ...   \n",
       "1030                               1.032786  ...   \n",
       "1031                              -0.244100  ...   \n",
       "\n",
       "     CANDIDATE_360_ATTITUDE_WORKAHOLIC  \\\n",
       "0                             0.406714   \n",
       "1                             0.406714   \n",
       "2                            -0.694936   \n",
       "3                             0.406714   \n",
       "4                            -0.694936   \n",
       "...                                ...   \n",
       "1027                         -0.694936   \n",
       "1028                         -0.694936   \n",
       "1029                          2.610013   \n",
       "1030                         -0.694936   \n",
       "1031                         -0.694936   \n",
       "\n",
       "     Candidate_Observer_Multiplication_Networker  \\\n",
       "0                                       0.014595   \n",
       "1                                      -0.471261   \n",
       "2                                       0.500450   \n",
       "3                                       0.014595   \n",
       "4                                      -2.252733   \n",
       "...                                          ...   \n",
       "1027                                   -0.633213   \n",
       "1028                                    0.824354   \n",
       "1029                                   -0.309309   \n",
       "1030                                    0.500450   \n",
       "1031                                    0.014595   \n",
       "\n",
       "     CouplePrepare_EnrichType_Vitalized  \\\n",
       "0                                   1.0   \n",
       "1                                   1.0   \n",
       "2                                   1.0   \n",
       "3                                   0.0   \n",
       "4                                   0.0   \n",
       "...                                 ...   \n",
       "1027                                0.0   \n",
       "1028                                1.0   \n",
       "1029                                0.0   \n",
       "1030                                1.0   \n",
       "1031                                0.0   \n",
       "\n",
       "     Candidate_Observer_Leadership_Communicator  \\\n",
       "0                                     -0.354222   \n",
       "1                                     -0.719049   \n",
       "2                                      0.740260   \n",
       "3                                      0.557846   \n",
       "4                                     -1.995945   \n",
       "...                                         ...   \n",
       "1027                                  -0.719049   \n",
       "1028                                  -0.536636   \n",
       "1029                                  -1.448704   \n",
       "1030                                   1.105087   \n",
       "1031                                  -1.083877   \n",
       "\n",
       "     Candidate_Observer_Leadership_Changer CANDIDATE_360_CIR_LACK_OF_FUNDING  \\\n",
       "0                                 0.295590                          0.257971   \n",
       "1                                 0.640084                         -1.181088   \n",
       "2                                 0.984578                         -0.461559   \n",
       "3                                 0.640084                          0.257971   \n",
       "4                                -0.910138                          0.257971   \n",
       "...                                    ...                               ...   \n",
       "1027                             -0.737891                          0.977500   \n",
       "1028                             -0.737891                         -1.181088   \n",
       "1029                             -0.565644                          0.257971   \n",
       "1030                              0.640084                         -1.181088   \n",
       "1031                              0.640084                         -1.181088   \n",
       "\n",
       "     Candidate_Observer_Character_Steward  \\\n",
       "0                               -0.670751   \n",
       "1                                0.169061   \n",
       "2                                0.798920   \n",
       "3                                0.379014   \n",
       "4                               -3.190186   \n",
       "...                                   ...   \n",
       "1027                            -0.880704   \n",
       "1028                             0.798920   \n",
       "1029                            -0.880704   \n",
       "1030                            -0.880704   \n",
       "1031                             0.798920   \n",
       "\n",
       "     Candidate_Observer_Character_Reflector Candidate_Leadership_Trainer  \\\n",
       "0                                  0.003408                     0.711431   \n",
       "1                                  2.072285                    -0.133444   \n",
       "2                                  0.417184                     0.711431   \n",
       "3                                 -0.617255                     1.556306   \n",
       "4                                 -1.031031                    -0.133444   \n",
       "...                                     ...                          ...   \n",
       "1027                              -1.237918                     0.711431   \n",
       "1028                              -0.617255                     1.556306   \n",
       "1029                              -0.203480                     0.711431   \n",
       "1030                               0.417184                    -0.133444   \n",
       "1031                              -1.031031                    -0.133444   \n",
       "\n",
       "     Approved  \n",
       "0           1  \n",
       "1           0  \n",
       "2           1  \n",
       "3           1  \n",
       "4           1  \n",
       "...       ...  \n",
       "1027        1  \n",
       "1028        0  \n",
       "1029        0  \n",
       "1030        1  \n",
       "1031        1  \n",
       "\n",
       "[1032 rows x 51 columns]"
      ]
     },
     "execution_count": 60,
     "metadata": {},
     "output_type": "execute_result"
    }
   ],
   "source": [
    "dataset_2"
   ]
  },
  {
   "cell_type": "code",
   "execution_count": 61,
   "id": "71237c16",
   "metadata": {},
   "outputs": [],
   "source": [
    "# Split dataset_2 for training and testing\n",
    "\n",
    "X = dataset_2.iloc[:,:-1]\n",
    "y = dataset_2['Approved']\n",
    "y = np.ravel(y, order = 'C')\n",
    "X_train, X_test, y_train, y_test = train_test_split(X, y, test_size=0.25, random_state=42)"
   ]
  },
  {
   "cell_type": "markdown",
   "id": "ad184a4c",
   "metadata": {},
   "source": [
    "### 1. Logistic Regression - Dataset 2"
   ]
  },
  {
   "cell_type": "code",
   "execution_count": 62,
   "id": "1db5128f",
   "metadata": {},
   "outputs": [
    {
     "name": "stderr",
     "output_type": "stream",
     "text": [
      "/Users/dbello/opt/anaconda3/lib/python3.9/site-packages/sklearn/linear_model/_logistic.py:444: ConvergenceWarning: lbfgs failed to converge (status=1):\n",
      "STOP: TOTAL NO. of ITERATIONS REACHED LIMIT.\n",
      "\n",
      "Increase the number of iterations (max_iter) or scale the data as shown in:\n",
      "    https://scikit-learn.org/stable/modules/preprocessing.html\n",
      "Please also refer to the documentation for alternative solver options:\n",
      "    https://scikit-learn.org/stable/modules/linear_model.html#logistic-regression\n",
      "  n_iter_i = _check_optimize_result(\n"
     ]
    },
    {
     "data": {
      "text/html": [
       "<style>#sk-container-id-8 {color: black;background-color: white;}#sk-container-id-8 pre{padding: 0;}#sk-container-id-8 div.sk-toggleable {background-color: white;}#sk-container-id-8 label.sk-toggleable__label {cursor: pointer;display: block;width: 100%;margin-bottom: 0;padding: 0.3em;box-sizing: border-box;text-align: center;}#sk-container-id-8 label.sk-toggleable__label-arrow:before {content: \"▸\";float: left;margin-right: 0.25em;color: #696969;}#sk-container-id-8 label.sk-toggleable__label-arrow:hover:before {color: black;}#sk-container-id-8 div.sk-estimator:hover label.sk-toggleable__label-arrow:before {color: black;}#sk-container-id-8 div.sk-toggleable__content {max-height: 0;max-width: 0;overflow: hidden;text-align: left;background-color: #f0f8ff;}#sk-container-id-8 div.sk-toggleable__content pre {margin: 0.2em;color: black;border-radius: 0.25em;background-color: #f0f8ff;}#sk-container-id-8 input.sk-toggleable__control:checked~div.sk-toggleable__content {max-height: 200px;max-width: 100%;overflow: auto;}#sk-container-id-8 input.sk-toggleable__control:checked~label.sk-toggleable__label-arrow:before {content: \"▾\";}#sk-container-id-8 div.sk-estimator input.sk-toggleable__control:checked~label.sk-toggleable__label {background-color: #d4ebff;}#sk-container-id-8 div.sk-label input.sk-toggleable__control:checked~label.sk-toggleable__label {background-color: #d4ebff;}#sk-container-id-8 input.sk-hidden--visually {border: 0;clip: rect(1px 1px 1px 1px);clip: rect(1px, 1px, 1px, 1px);height: 1px;margin: -1px;overflow: hidden;padding: 0;position: absolute;width: 1px;}#sk-container-id-8 div.sk-estimator {font-family: monospace;background-color: #f0f8ff;border: 1px dotted black;border-radius: 0.25em;box-sizing: border-box;margin-bottom: 0.5em;}#sk-container-id-8 div.sk-estimator:hover {background-color: #d4ebff;}#sk-container-id-8 div.sk-parallel-item::after {content: \"\";width: 100%;border-bottom: 1px solid gray;flex-grow: 1;}#sk-container-id-8 div.sk-label:hover label.sk-toggleable__label {background-color: #d4ebff;}#sk-container-id-8 div.sk-serial::before {content: \"\";position: absolute;border-left: 1px solid gray;box-sizing: border-box;top: 0;bottom: 0;left: 50%;z-index: 0;}#sk-container-id-8 div.sk-serial {display: flex;flex-direction: column;align-items: center;background-color: white;padding-right: 0.2em;padding-left: 0.2em;position: relative;}#sk-container-id-8 div.sk-item {position: relative;z-index: 1;}#sk-container-id-8 div.sk-parallel {display: flex;align-items: stretch;justify-content: center;background-color: white;position: relative;}#sk-container-id-8 div.sk-item::before, #sk-container-id-8 div.sk-parallel-item::before {content: \"\";position: absolute;border-left: 1px solid gray;box-sizing: border-box;top: 0;bottom: 0;left: 50%;z-index: -1;}#sk-container-id-8 div.sk-parallel-item {display: flex;flex-direction: column;z-index: 1;position: relative;background-color: white;}#sk-container-id-8 div.sk-parallel-item:first-child::after {align-self: flex-end;width: 50%;}#sk-container-id-8 div.sk-parallel-item:last-child::after {align-self: flex-start;width: 50%;}#sk-container-id-8 div.sk-parallel-item:only-child::after {width: 0;}#sk-container-id-8 div.sk-dashed-wrapped {border: 1px dashed gray;margin: 0 0.4em 0.5em 0.4em;box-sizing: border-box;padding-bottom: 0.4em;background-color: white;}#sk-container-id-8 div.sk-label label {font-family: monospace;font-weight: bold;display: inline-block;line-height: 1.2em;}#sk-container-id-8 div.sk-label-container {text-align: center;}#sk-container-id-8 div.sk-container {/* jupyter's `normalize.less` sets `[hidden] { display: none; }` but bootstrap.min.css set `[hidden] { display: none !important; }` so we also need the `!important` here to be able to override the default hidden behavior on the sphinx rendered scikit-learn.org. See: https://github.com/scikit-learn/scikit-learn/issues/21755 */display: inline-block !important;position: relative;}#sk-container-id-8 div.sk-text-repr-fallback {display: none;}</style><div id=\"sk-container-id-8\" class=\"sk-top-container\"><div class=\"sk-text-repr-fallback\"><pre>LogisticRegression()</pre><b>In a Jupyter environment, please rerun this cell to show the HTML representation or trust the notebook. <br />On GitHub, the HTML representation is unable to render, please try loading this page with nbviewer.org.</b></div><div class=\"sk-container\" hidden><div class=\"sk-item\"><div class=\"sk-estimator sk-toggleable\"><input class=\"sk-toggleable__control sk-hidden--visually\" id=\"sk-estimator-id-8\" type=\"checkbox\" checked><label for=\"sk-estimator-id-8\" class=\"sk-toggleable__label sk-toggleable__label-arrow\">LogisticRegression</label><div class=\"sk-toggleable__content\"><pre>LogisticRegression()</pre></div></div></div></div></div>"
      ],
      "text/plain": [
       "LogisticRegression()"
      ]
     },
     "execution_count": 62,
     "metadata": {},
     "output_type": "execute_result"
    }
   ],
   "source": [
    "# Train a Logistic Regression model\n",
    "\n",
    "log_reg_2 = LogisticRegression()\n",
    "log_reg_2.fit(X_train, y_train)"
   ]
  },
  {
   "cell_type": "code",
   "execution_count": 63,
   "id": "60d0a750",
   "metadata": {},
   "outputs": [
    {
     "name": "stdout",
     "output_type": "stream",
     "text": [
      "ACCURACY OF THE LOGISTIC REGRESSION MODEL ON DATASET 2:  0.5271317829457365\n"
     ]
    }
   ],
   "source": [
    "log_reg_2_score = log_reg_2.score(X_test,y_test)\n",
    "print(\"ACCURACY OF THE LOGISTIC REGRESSION MODEL ON DATASET 2: \", log_reg_2_score) "
   ]
  },
  {
   "cell_type": "markdown",
   "id": "434f557e",
   "metadata": {},
   "source": [
    "### 2. Decision Tree - Dataset 2"
   ]
  },
  {
   "cell_type": "markdown",
   "id": "80b5ce53",
   "metadata": {},
   "source": [
    "#### Perform a grid search to find the optimal parameters for this Decision Tree Classifier"
   ]
  },
  {
   "cell_type": "code",
   "execution_count": 64,
   "id": "a929debb",
   "metadata": {},
   "outputs": [
    {
     "name": "stdout",
     "output_type": "stream",
     "text": [
      "Fitting 10 folds for each of 18 candidates, totalling 180 fits\n"
     ]
    },
    {
     "name": "stderr",
     "output_type": "stream",
     "text": [
      "/Users/dbello/opt/anaconda3/lib/python3.9/site-packages/sklearn/model_selection/_split.py:680: UserWarning: The least populated class in y has only 1 members, which is less than n_splits=10.\n",
      "  warnings.warn(\n"
     ]
    },
    {
     "name": "stdout",
     "output_type": "stream",
     "text": [
      "The best parameters are:  {'max_depth': 7, 'min_samples_split': 9, 'splitter': 'random'}\n"
     ]
    }
   ],
   "source": [
    "# Create a dictionary called param_grid with three key-value pairs.\n",
    "param_grid = {'max_depth': [6,7,8], \n",
    "              'splitter': [\"best\", \"random\"], \n",
    "              'min_samples_split': [7,8,9]}\n",
    "\n",
    "# Instantiate an object of the DecisionTreeClassifier class\n",
    "tree_clf_grid_search_cv = GridSearchCV(DecisionTreeClassifier(random_state = 42), \n",
    "                              param_grid=param_grid, verbose=1, cv=10)\n",
    "\n",
    "tree_clf_grid_search_cv.fit(X_train, y_train)\n",
    "\n",
    "print(\"The best parameters are: \", tree_clf_grid_search_cv.best_params_)"
   ]
  },
  {
   "cell_type": "markdown",
   "id": "4e1e4c04",
   "metadata": {},
   "source": [
    "The best parameters are:  max_depth = 7, min_samples_split = 9, splitter = 'random'"
   ]
  },
  {
   "cell_type": "code",
   "execution_count": 65,
   "id": "0748a888",
   "metadata": {},
   "outputs": [
    {
     "data": {
      "text/html": [
       "<style>#sk-container-id-9 {color: black;background-color: white;}#sk-container-id-9 pre{padding: 0;}#sk-container-id-9 div.sk-toggleable {background-color: white;}#sk-container-id-9 label.sk-toggleable__label {cursor: pointer;display: block;width: 100%;margin-bottom: 0;padding: 0.3em;box-sizing: border-box;text-align: center;}#sk-container-id-9 label.sk-toggleable__label-arrow:before {content: \"▸\";float: left;margin-right: 0.25em;color: #696969;}#sk-container-id-9 label.sk-toggleable__label-arrow:hover:before {color: black;}#sk-container-id-9 div.sk-estimator:hover label.sk-toggleable__label-arrow:before {color: black;}#sk-container-id-9 div.sk-toggleable__content {max-height: 0;max-width: 0;overflow: hidden;text-align: left;background-color: #f0f8ff;}#sk-container-id-9 div.sk-toggleable__content pre {margin: 0.2em;color: black;border-radius: 0.25em;background-color: #f0f8ff;}#sk-container-id-9 input.sk-toggleable__control:checked~div.sk-toggleable__content {max-height: 200px;max-width: 100%;overflow: auto;}#sk-container-id-9 input.sk-toggleable__control:checked~label.sk-toggleable__label-arrow:before {content: \"▾\";}#sk-container-id-9 div.sk-estimator input.sk-toggleable__control:checked~label.sk-toggleable__label {background-color: #d4ebff;}#sk-container-id-9 div.sk-label input.sk-toggleable__control:checked~label.sk-toggleable__label {background-color: #d4ebff;}#sk-container-id-9 input.sk-hidden--visually {border: 0;clip: rect(1px 1px 1px 1px);clip: rect(1px, 1px, 1px, 1px);height: 1px;margin: -1px;overflow: hidden;padding: 0;position: absolute;width: 1px;}#sk-container-id-9 div.sk-estimator {font-family: monospace;background-color: #f0f8ff;border: 1px dotted black;border-radius: 0.25em;box-sizing: border-box;margin-bottom: 0.5em;}#sk-container-id-9 div.sk-estimator:hover {background-color: #d4ebff;}#sk-container-id-9 div.sk-parallel-item::after {content: \"\";width: 100%;border-bottom: 1px solid gray;flex-grow: 1;}#sk-container-id-9 div.sk-label:hover label.sk-toggleable__label {background-color: #d4ebff;}#sk-container-id-9 div.sk-serial::before {content: \"\";position: absolute;border-left: 1px solid gray;box-sizing: border-box;top: 0;bottom: 0;left: 50%;z-index: 0;}#sk-container-id-9 div.sk-serial {display: flex;flex-direction: column;align-items: center;background-color: white;padding-right: 0.2em;padding-left: 0.2em;position: relative;}#sk-container-id-9 div.sk-item {position: relative;z-index: 1;}#sk-container-id-9 div.sk-parallel {display: flex;align-items: stretch;justify-content: center;background-color: white;position: relative;}#sk-container-id-9 div.sk-item::before, #sk-container-id-9 div.sk-parallel-item::before {content: \"\";position: absolute;border-left: 1px solid gray;box-sizing: border-box;top: 0;bottom: 0;left: 50%;z-index: -1;}#sk-container-id-9 div.sk-parallel-item {display: flex;flex-direction: column;z-index: 1;position: relative;background-color: white;}#sk-container-id-9 div.sk-parallel-item:first-child::after {align-self: flex-end;width: 50%;}#sk-container-id-9 div.sk-parallel-item:last-child::after {align-self: flex-start;width: 50%;}#sk-container-id-9 div.sk-parallel-item:only-child::after {width: 0;}#sk-container-id-9 div.sk-dashed-wrapped {border: 1px dashed gray;margin: 0 0.4em 0.5em 0.4em;box-sizing: border-box;padding-bottom: 0.4em;background-color: white;}#sk-container-id-9 div.sk-label label {font-family: monospace;font-weight: bold;display: inline-block;line-height: 1.2em;}#sk-container-id-9 div.sk-label-container {text-align: center;}#sk-container-id-9 div.sk-container {/* jupyter's `normalize.less` sets `[hidden] { display: none; }` but bootstrap.min.css set `[hidden] { display: none !important; }` so we also need the `!important` here to be able to override the default hidden behavior on the sphinx rendered scikit-learn.org. See: https://github.com/scikit-learn/scikit-learn/issues/21755 */display: inline-block !important;position: relative;}#sk-container-id-9 div.sk-text-repr-fallback {display: none;}</style><div id=\"sk-container-id-9\" class=\"sk-top-container\"><div class=\"sk-text-repr-fallback\"><pre>DecisionTreeClassifier(max_depth=7, min_samples_split=9, random_state=42,\n",
       "                       splitter=&#x27;random&#x27;)</pre><b>In a Jupyter environment, please rerun this cell to show the HTML representation or trust the notebook. <br />On GitHub, the HTML representation is unable to render, please try loading this page with nbviewer.org.</b></div><div class=\"sk-container\" hidden><div class=\"sk-item\"><div class=\"sk-estimator sk-toggleable\"><input class=\"sk-toggleable__control sk-hidden--visually\" id=\"sk-estimator-id-9\" type=\"checkbox\" checked><label for=\"sk-estimator-id-9\" class=\"sk-toggleable__label sk-toggleable__label-arrow\">DecisionTreeClassifier</label><div class=\"sk-toggleable__content\"><pre>DecisionTreeClassifier(max_depth=7, min_samples_split=9, random_state=42,\n",
       "                       splitter=&#x27;random&#x27;)</pre></div></div></div></div></div>"
      ],
      "text/plain": [
       "DecisionTreeClassifier(max_depth=7, min_samples_split=9, random_state=42,\n",
       "                       splitter='random')"
      ]
     },
     "execution_count": 65,
     "metadata": {},
     "output_type": "execute_result"
    }
   ],
   "source": [
    "# instantiate an object of the class DecissionTreeClassifier\n",
    "tree_clf_2 = DecisionTreeClassifier(max_depth = 7, min_samples_split = 9, splitter = 'random', random_state = 42) \n",
    "tree_clf_2.fit(X_train, y_train)"
   ]
  },
  {
   "cell_type": "code",
   "execution_count": 66,
   "id": "c6329678",
   "metadata": {},
   "outputs": [
    {
     "name": "stdout",
     "output_type": "stream",
     "text": [
      "ACCURACY OF THE DECISION TREE MODEL ON DATASET 2:  0.5426356589147286\n"
     ]
    }
   ],
   "source": [
    "tree_clf_2_score = tree_clf_2.score(X_test,y_test)\n",
    "print(\"ACCURACY OF THE DECISION TREE MODEL ON DATASET 2: \", tree_clf_2_score) "
   ]
  },
  {
   "cell_type": "code",
   "execution_count": 67,
   "id": "6e13c81e",
   "metadata": {},
   "outputs": [
    {
     "data": {
      "text/plain": [
       "array([0.07905622, 0.0726178 , 0.0401838 , 0.03893188, 0.        ,\n",
       "       0.01101173, 0.04817716, 0.03214417, 0.        , 0.03446023,\n",
       "       0.        , 0.04174969, 0.        , 0.        , 0.05548621,\n",
       "       0.03342412, 0.0299451 , 0.02290833, 0.03987845, 0.01249796,\n",
       "       0.        , 0.01885047, 0.        , 0.        , 0.01587103,\n",
       "       0.01188934, 0.02773954, 0.01493026, 0.        , 0.06745268,\n",
       "       0.        , 0.02704799, 0.        , 0.02318659, 0.02085162,\n",
       "       0.        , 0.        , 0.        , 0.03118807, 0.02156593,\n",
       "       0.        , 0.02064349, 0.        , 0.0364392 , 0.03167677,\n",
       "       0.        , 0.01302942, 0.        , 0.01332554, 0.01183923])"
      ]
     },
     "execution_count": 67,
     "metadata": {},
     "output_type": "execute_result"
    }
   ],
   "source": [
    "tree_clf_2.feature_importances_"
   ]
  },
  {
   "cell_type": "markdown",
   "id": "9149cd6f",
   "metadata": {},
   "source": [
    "#### We observe here that the second feature in dataset_2 is the most significant: 'Candidate_Observer_Multiplication_Discipler'"
   ]
  },
  {
   "cell_type": "markdown",
   "id": "339272ae",
   "metadata": {},
   "source": [
    "### 3. Random Forest Classifier - Dataset 2"
   ]
  },
  {
   "cell_type": "markdown",
   "id": "34673838",
   "metadata": {},
   "source": [
    "#### Perform a grid search to find the optimal parameters for this Random Forest Classifier"
   ]
  },
  {
   "cell_type": "code",
   "execution_count": 68,
   "id": "4a3e3f55",
   "metadata": {},
   "outputs": [
    {
     "name": "stdout",
     "output_type": "stream",
     "text": [
      "Fitting 10 folds for each of 18 candidates, totalling 180 fits\n"
     ]
    },
    {
     "name": "stderr",
     "output_type": "stream",
     "text": [
      "/Users/dbello/opt/anaconda3/lib/python3.9/site-packages/sklearn/model_selection/_split.py:680: UserWarning: The least populated class in y has only 1 members, which is less than n_splits=10.\n",
      "  warnings.warn(\n"
     ]
    },
    {
     "name": "stdout",
     "output_type": "stream",
     "text": [
      "The best parameters are:  {'max_depth': 7, 'min_samples_split': 11, 'n_estimators': 150}\n"
     ]
    }
   ],
   "source": [
    "param_grid = {'max_depth': [7,8,9], \n",
    "              'n_estimators': [150,200], \n",
    "              'min_samples_split': [9,10,11]}\n",
    "\n",
    "RF_clf_grid_search_cv = GridSearchCV(RandomForestClassifier(random_state = 42), \n",
    "                              param_grid=param_grid, verbose=1, cv=10)\n",
    "\n",
    "RF_clf_grid_search_cv.fit(X_train, y_train)\n",
    "\n",
    "print(\"The best parameters are: \", RF_clf_grid_search_cv.best_params_)"
   ]
  },
  {
   "cell_type": "markdown",
   "id": "7a2207f5",
   "metadata": {},
   "source": [
    "The best parameters are:  max_depth = 7, n_estimators = 150, min_samples_split = 11"
   ]
  },
  {
   "cell_type": "code",
   "execution_count": 69,
   "id": "b77a58b8",
   "metadata": {},
   "outputs": [
    {
     "data": {
      "text/html": [
       "<style>#sk-container-id-10 {color: black;background-color: white;}#sk-container-id-10 pre{padding: 0;}#sk-container-id-10 div.sk-toggleable {background-color: white;}#sk-container-id-10 label.sk-toggleable__label {cursor: pointer;display: block;width: 100%;margin-bottom: 0;padding: 0.3em;box-sizing: border-box;text-align: center;}#sk-container-id-10 label.sk-toggleable__label-arrow:before {content: \"▸\";float: left;margin-right: 0.25em;color: #696969;}#sk-container-id-10 label.sk-toggleable__label-arrow:hover:before {color: black;}#sk-container-id-10 div.sk-estimator:hover label.sk-toggleable__label-arrow:before {color: black;}#sk-container-id-10 div.sk-toggleable__content {max-height: 0;max-width: 0;overflow: hidden;text-align: left;background-color: #f0f8ff;}#sk-container-id-10 div.sk-toggleable__content pre {margin: 0.2em;color: black;border-radius: 0.25em;background-color: #f0f8ff;}#sk-container-id-10 input.sk-toggleable__control:checked~div.sk-toggleable__content {max-height: 200px;max-width: 100%;overflow: auto;}#sk-container-id-10 input.sk-toggleable__control:checked~label.sk-toggleable__label-arrow:before {content: \"▾\";}#sk-container-id-10 div.sk-estimator input.sk-toggleable__control:checked~label.sk-toggleable__label {background-color: #d4ebff;}#sk-container-id-10 div.sk-label input.sk-toggleable__control:checked~label.sk-toggleable__label {background-color: #d4ebff;}#sk-container-id-10 input.sk-hidden--visually {border: 0;clip: rect(1px 1px 1px 1px);clip: rect(1px, 1px, 1px, 1px);height: 1px;margin: -1px;overflow: hidden;padding: 0;position: absolute;width: 1px;}#sk-container-id-10 div.sk-estimator {font-family: monospace;background-color: #f0f8ff;border: 1px dotted black;border-radius: 0.25em;box-sizing: border-box;margin-bottom: 0.5em;}#sk-container-id-10 div.sk-estimator:hover {background-color: #d4ebff;}#sk-container-id-10 div.sk-parallel-item::after {content: \"\";width: 100%;border-bottom: 1px solid gray;flex-grow: 1;}#sk-container-id-10 div.sk-label:hover label.sk-toggleable__label {background-color: #d4ebff;}#sk-container-id-10 div.sk-serial::before {content: \"\";position: absolute;border-left: 1px solid gray;box-sizing: border-box;top: 0;bottom: 0;left: 50%;z-index: 0;}#sk-container-id-10 div.sk-serial {display: flex;flex-direction: column;align-items: center;background-color: white;padding-right: 0.2em;padding-left: 0.2em;position: relative;}#sk-container-id-10 div.sk-item {position: relative;z-index: 1;}#sk-container-id-10 div.sk-parallel {display: flex;align-items: stretch;justify-content: center;background-color: white;position: relative;}#sk-container-id-10 div.sk-item::before, #sk-container-id-10 div.sk-parallel-item::before {content: \"\";position: absolute;border-left: 1px solid gray;box-sizing: border-box;top: 0;bottom: 0;left: 50%;z-index: -1;}#sk-container-id-10 div.sk-parallel-item {display: flex;flex-direction: column;z-index: 1;position: relative;background-color: white;}#sk-container-id-10 div.sk-parallel-item:first-child::after {align-self: flex-end;width: 50%;}#sk-container-id-10 div.sk-parallel-item:last-child::after {align-self: flex-start;width: 50%;}#sk-container-id-10 div.sk-parallel-item:only-child::after {width: 0;}#sk-container-id-10 div.sk-dashed-wrapped {border: 1px dashed gray;margin: 0 0.4em 0.5em 0.4em;box-sizing: border-box;padding-bottom: 0.4em;background-color: white;}#sk-container-id-10 div.sk-label label {font-family: monospace;font-weight: bold;display: inline-block;line-height: 1.2em;}#sk-container-id-10 div.sk-label-container {text-align: center;}#sk-container-id-10 div.sk-container {/* jupyter's `normalize.less` sets `[hidden] { display: none; }` but bootstrap.min.css set `[hidden] { display: none !important; }` so we also need the `!important` here to be able to override the default hidden behavior on the sphinx rendered scikit-learn.org. See: https://github.com/scikit-learn/scikit-learn/issues/21755 */display: inline-block !important;position: relative;}#sk-container-id-10 div.sk-text-repr-fallback {display: none;}</style><div id=\"sk-container-id-10\" class=\"sk-top-container\"><div class=\"sk-text-repr-fallback\"><pre>RandomForestClassifier(max_depth=9, min_samples_split=9, n_estimators=200,\n",
       "                       random_state=42)</pre><b>In a Jupyter environment, please rerun this cell to show the HTML representation or trust the notebook. <br />On GitHub, the HTML representation is unable to render, please try loading this page with nbviewer.org.</b></div><div class=\"sk-container\" hidden><div class=\"sk-item\"><div class=\"sk-estimator sk-toggleable\"><input class=\"sk-toggleable__control sk-hidden--visually\" id=\"sk-estimator-id-10\" type=\"checkbox\" checked><label for=\"sk-estimator-id-10\" class=\"sk-toggleable__label sk-toggleable__label-arrow\">RandomForestClassifier</label><div class=\"sk-toggleable__content\"><pre>RandomForestClassifier(max_depth=9, min_samples_split=9, n_estimators=200,\n",
       "                       random_state=42)</pre></div></div></div></div></div>"
      ],
      "text/plain": [
       "RandomForestClassifier(max_depth=9, min_samples_split=9, n_estimators=200,\n",
       "                       random_state=42)"
      ]
     },
     "execution_count": 69,
     "metadata": {},
     "output_type": "execute_result"
    }
   ],
   "source": [
    "# Creating a RF classifier\n",
    "rf_clf_2 = RandomForestClassifier(max_depth = 9, n_estimators = 200, min_samples_split = 9, random_state = 42) \n",
    " \n",
    "# Training the model on the training dataset\n",
    "rf_clf_2.fit(X_train, y_train)"
   ]
  },
  {
   "cell_type": "code",
   "execution_count": 70,
   "id": "77baf4d4",
   "metadata": {},
   "outputs": [
    {
     "name": "stdout",
     "output_type": "stream",
     "text": [
      "ACCURACY OF THE RANDOM FOREST MODEL ON DATASET 2:  0.5581395348837209\n"
     ]
    }
   ],
   "source": [
    "rf_clf_2_score = rf_clf_2.score(X_test,y_test)\n",
    "print(\"ACCURACY OF THE RANDOM FOREST MODEL ON DATASET 2: \", rf_clf_2_score) "
   ]
  },
  {
   "cell_type": "markdown",
   "id": "d5ea71a6",
   "metadata": {},
   "source": [
    "### 4. SVM - Dataset 2"
   ]
  },
  {
   "cell_type": "markdown",
   "id": "75805f48",
   "metadata": {},
   "source": [
    "#### Perform a grid search to find the optimal parameters for this Random Forest Classifier"
   ]
  },
  {
   "cell_type": "code",
   "execution_count": 71,
   "id": "3fe3f877",
   "metadata": {},
   "outputs": [
    {
     "name": "stdout",
     "output_type": "stream",
     "text": [
      "Fitting 10 folds for each of 25 candidates, totalling 250 fits\n"
     ]
    },
    {
     "name": "stderr",
     "output_type": "stream",
     "text": [
      "/Users/dbello/opt/anaconda3/lib/python3.9/site-packages/sklearn/model_selection/_split.py:680: UserWarning: The least populated class in y has only 1 members, which is less than n_splits=10.\n",
      "  warnings.warn(\n"
     ]
    },
    {
     "name": "stdout",
     "output_type": "stream",
     "text": [
      "The best parameters are:  {'C': 1, 'gamma': 0.01, 'kernel': 'rbf'}\n"
     ]
    }
   ],
   "source": [
    "# Defining parameter range\n",
    "param_grid = {'C': [0.1, 1, 10, 100, 1000],\n",
    "              'gamma': [1, 0.1, 0.01, 0.001, 0.0001],\n",
    "              'kernel': ['rbf']}\n",
    "\n",
    "SVM_clf_grid_search_cv = GridSearchCV(svm.SVC(), \n",
    "                              param_grid=param_grid, refit = True, verbose=1, cv=10)\n",
    "\n",
    "SVM_clf_grid_search_cv.fit(X_train, y_train)\n",
    "\n",
    "print(\"The best parameters are: \", SVM_clf_grid_search_cv.best_params_)"
   ]
  },
  {
   "cell_type": "markdown",
   "id": "aab4863c",
   "metadata": {},
   "source": [
    "The best parameters are:  C = 1, gamma = 0.01, kernel = 'rbf'"
   ]
  },
  {
   "cell_type": "code",
   "execution_count": 72,
   "id": "cc54c77b",
   "metadata": {},
   "outputs": [
    {
     "data": {
      "text/html": [
       "<style>#sk-container-id-11 {color: black;background-color: white;}#sk-container-id-11 pre{padding: 0;}#sk-container-id-11 div.sk-toggleable {background-color: white;}#sk-container-id-11 label.sk-toggleable__label {cursor: pointer;display: block;width: 100%;margin-bottom: 0;padding: 0.3em;box-sizing: border-box;text-align: center;}#sk-container-id-11 label.sk-toggleable__label-arrow:before {content: \"▸\";float: left;margin-right: 0.25em;color: #696969;}#sk-container-id-11 label.sk-toggleable__label-arrow:hover:before {color: black;}#sk-container-id-11 div.sk-estimator:hover label.sk-toggleable__label-arrow:before {color: black;}#sk-container-id-11 div.sk-toggleable__content {max-height: 0;max-width: 0;overflow: hidden;text-align: left;background-color: #f0f8ff;}#sk-container-id-11 div.sk-toggleable__content pre {margin: 0.2em;color: black;border-radius: 0.25em;background-color: #f0f8ff;}#sk-container-id-11 input.sk-toggleable__control:checked~div.sk-toggleable__content {max-height: 200px;max-width: 100%;overflow: auto;}#sk-container-id-11 input.sk-toggleable__control:checked~label.sk-toggleable__label-arrow:before {content: \"▾\";}#sk-container-id-11 div.sk-estimator input.sk-toggleable__control:checked~label.sk-toggleable__label {background-color: #d4ebff;}#sk-container-id-11 div.sk-label input.sk-toggleable__control:checked~label.sk-toggleable__label {background-color: #d4ebff;}#sk-container-id-11 input.sk-hidden--visually {border: 0;clip: rect(1px 1px 1px 1px);clip: rect(1px, 1px, 1px, 1px);height: 1px;margin: -1px;overflow: hidden;padding: 0;position: absolute;width: 1px;}#sk-container-id-11 div.sk-estimator {font-family: monospace;background-color: #f0f8ff;border: 1px dotted black;border-radius: 0.25em;box-sizing: border-box;margin-bottom: 0.5em;}#sk-container-id-11 div.sk-estimator:hover {background-color: #d4ebff;}#sk-container-id-11 div.sk-parallel-item::after {content: \"\";width: 100%;border-bottom: 1px solid gray;flex-grow: 1;}#sk-container-id-11 div.sk-label:hover label.sk-toggleable__label {background-color: #d4ebff;}#sk-container-id-11 div.sk-serial::before {content: \"\";position: absolute;border-left: 1px solid gray;box-sizing: border-box;top: 0;bottom: 0;left: 50%;z-index: 0;}#sk-container-id-11 div.sk-serial {display: flex;flex-direction: column;align-items: center;background-color: white;padding-right: 0.2em;padding-left: 0.2em;position: relative;}#sk-container-id-11 div.sk-item {position: relative;z-index: 1;}#sk-container-id-11 div.sk-parallel {display: flex;align-items: stretch;justify-content: center;background-color: white;position: relative;}#sk-container-id-11 div.sk-item::before, #sk-container-id-11 div.sk-parallel-item::before {content: \"\";position: absolute;border-left: 1px solid gray;box-sizing: border-box;top: 0;bottom: 0;left: 50%;z-index: -1;}#sk-container-id-11 div.sk-parallel-item {display: flex;flex-direction: column;z-index: 1;position: relative;background-color: white;}#sk-container-id-11 div.sk-parallel-item:first-child::after {align-self: flex-end;width: 50%;}#sk-container-id-11 div.sk-parallel-item:last-child::after {align-self: flex-start;width: 50%;}#sk-container-id-11 div.sk-parallel-item:only-child::after {width: 0;}#sk-container-id-11 div.sk-dashed-wrapped {border: 1px dashed gray;margin: 0 0.4em 0.5em 0.4em;box-sizing: border-box;padding-bottom: 0.4em;background-color: white;}#sk-container-id-11 div.sk-label label {font-family: monospace;font-weight: bold;display: inline-block;line-height: 1.2em;}#sk-container-id-11 div.sk-label-container {text-align: center;}#sk-container-id-11 div.sk-container {/* jupyter's `normalize.less` sets `[hidden] { display: none; }` but bootstrap.min.css set `[hidden] { display: none !important; }` so we also need the `!important` here to be able to override the default hidden behavior on the sphinx rendered scikit-learn.org. See: https://github.com/scikit-learn/scikit-learn/issues/21755 */display: inline-block !important;position: relative;}#sk-container-id-11 div.sk-text-repr-fallback {display: none;}</style><div id=\"sk-container-id-11\" class=\"sk-top-container\"><div class=\"sk-text-repr-fallback\"><pre>SVC(C=1, gamma=0.01)</pre><b>In a Jupyter environment, please rerun this cell to show the HTML representation or trust the notebook. <br />On GitHub, the HTML representation is unable to render, please try loading this page with nbviewer.org.</b></div><div class=\"sk-container\" hidden><div class=\"sk-item\"><div class=\"sk-estimator sk-toggleable\"><input class=\"sk-toggleable__control sk-hidden--visually\" id=\"sk-estimator-id-11\" type=\"checkbox\" checked><label for=\"sk-estimator-id-11\" class=\"sk-toggleable__label sk-toggleable__label-arrow\">SVC</label><div class=\"sk-toggleable__content\"><pre>SVC(C=1, gamma=0.01)</pre></div></div></div></div></div>"
      ],
      "text/plain": [
       "SVC(C=1, gamma=0.01)"
      ]
     },
     "execution_count": 72,
     "metadata": {},
     "output_type": "execute_result"
    }
   ],
   "source": [
    "# Create a svm Classifier\n",
    "svm_clf_2 = svm.SVC(C = 1, gamma = 0.01, kernel = 'rbf')\n",
    "\n",
    "# Train the model using the training sets\n",
    "svm_clf_2.fit(X_train, y_train)"
   ]
  },
  {
   "cell_type": "code",
   "execution_count": 73,
   "id": "5d7d6432",
   "metadata": {},
   "outputs": [
    {
     "name": "stdout",
     "output_type": "stream",
     "text": [
      "ACCURACY OF THE SUPPORT VECTOR MACHINE MODEL ON DATASET 2:  0.5348837209302325\n"
     ]
    }
   ],
   "source": [
    "svm_clf_2_score = svm_clf_2.score(X_test,y_test)\n",
    "print(\"ACCURACY OF THE SUPPORT VECTOR MACHINE MODEL ON DATASET 2: \", svm_clf_2_score) "
   ]
  },
  {
   "cell_type": "markdown",
   "id": "6b634c5d",
   "metadata": {},
   "source": [
    "### 5. KNN - Dataset 2"
   ]
  },
  {
   "cell_type": "markdown",
   "id": "17c08076",
   "metadata": {},
   "source": [
    "#### Perform a grid search to find the optimal parameters for this k Nearest Neighbors Classifier"
   ]
  },
  {
   "cell_type": "code",
   "execution_count": 74,
   "id": "0e4d78b9",
   "metadata": {},
   "outputs": [
    {
     "name": "stdout",
     "output_type": "stream",
     "text": [
      "Fitting 10 folds for each of 30 candidates, totalling 300 fits\n"
     ]
    },
    {
     "name": "stderr",
     "output_type": "stream",
     "text": [
      "/Users/dbello/opt/anaconda3/lib/python3.9/site-packages/sklearn/model_selection/_split.py:680: UserWarning: The least populated class in y has only 1 members, which is less than n_splits=10.\n",
      "  warnings.warn(\n"
     ]
    },
    {
     "name": "stdout",
     "output_type": "stream",
     "text": [
      "The best parameters are:  {'n_neighbors': 13}\n"
     ]
    }
   ],
   "source": [
    "k_range = list(range(1, 31))\n",
    "param_grid = dict(n_neighbors=k_range)\n",
    "\n",
    "KNN_clf_grid_search_cv = GridSearchCV(KNeighborsClassifier(), \n",
    "                              param_grid=param_grid, verbose=1, cv=10)\n",
    "\n",
    "KNN_clf_grid_search_cv.fit(X_train, y_train)\n",
    "\n",
    "print(\"The best parameters are: \", KNN_clf_grid_search_cv.best_params_)"
   ]
  },
  {
   "cell_type": "markdown",
   "id": "b5abb90e",
   "metadata": {},
   "source": [
    "The best parameters are:  n_neighbors = 13"
   ]
  },
  {
   "cell_type": "code",
   "execution_count": 75,
   "id": "72857757",
   "metadata": {},
   "outputs": [
    {
     "data": {
      "text/html": [
       "<style>#sk-container-id-12 {color: black;background-color: white;}#sk-container-id-12 pre{padding: 0;}#sk-container-id-12 div.sk-toggleable {background-color: white;}#sk-container-id-12 label.sk-toggleable__label {cursor: pointer;display: block;width: 100%;margin-bottom: 0;padding: 0.3em;box-sizing: border-box;text-align: center;}#sk-container-id-12 label.sk-toggleable__label-arrow:before {content: \"▸\";float: left;margin-right: 0.25em;color: #696969;}#sk-container-id-12 label.sk-toggleable__label-arrow:hover:before {color: black;}#sk-container-id-12 div.sk-estimator:hover label.sk-toggleable__label-arrow:before {color: black;}#sk-container-id-12 div.sk-toggleable__content {max-height: 0;max-width: 0;overflow: hidden;text-align: left;background-color: #f0f8ff;}#sk-container-id-12 div.sk-toggleable__content pre {margin: 0.2em;color: black;border-radius: 0.25em;background-color: #f0f8ff;}#sk-container-id-12 input.sk-toggleable__control:checked~div.sk-toggleable__content {max-height: 200px;max-width: 100%;overflow: auto;}#sk-container-id-12 input.sk-toggleable__control:checked~label.sk-toggleable__label-arrow:before {content: \"▾\";}#sk-container-id-12 div.sk-estimator input.sk-toggleable__control:checked~label.sk-toggleable__label {background-color: #d4ebff;}#sk-container-id-12 div.sk-label input.sk-toggleable__control:checked~label.sk-toggleable__label {background-color: #d4ebff;}#sk-container-id-12 input.sk-hidden--visually {border: 0;clip: rect(1px 1px 1px 1px);clip: rect(1px, 1px, 1px, 1px);height: 1px;margin: -1px;overflow: hidden;padding: 0;position: absolute;width: 1px;}#sk-container-id-12 div.sk-estimator {font-family: monospace;background-color: #f0f8ff;border: 1px dotted black;border-radius: 0.25em;box-sizing: border-box;margin-bottom: 0.5em;}#sk-container-id-12 div.sk-estimator:hover {background-color: #d4ebff;}#sk-container-id-12 div.sk-parallel-item::after {content: \"\";width: 100%;border-bottom: 1px solid gray;flex-grow: 1;}#sk-container-id-12 div.sk-label:hover label.sk-toggleable__label {background-color: #d4ebff;}#sk-container-id-12 div.sk-serial::before {content: \"\";position: absolute;border-left: 1px solid gray;box-sizing: border-box;top: 0;bottom: 0;left: 50%;z-index: 0;}#sk-container-id-12 div.sk-serial {display: flex;flex-direction: column;align-items: center;background-color: white;padding-right: 0.2em;padding-left: 0.2em;position: relative;}#sk-container-id-12 div.sk-item {position: relative;z-index: 1;}#sk-container-id-12 div.sk-parallel {display: flex;align-items: stretch;justify-content: center;background-color: white;position: relative;}#sk-container-id-12 div.sk-item::before, #sk-container-id-12 div.sk-parallel-item::before {content: \"\";position: absolute;border-left: 1px solid gray;box-sizing: border-box;top: 0;bottom: 0;left: 50%;z-index: -1;}#sk-container-id-12 div.sk-parallel-item {display: flex;flex-direction: column;z-index: 1;position: relative;background-color: white;}#sk-container-id-12 div.sk-parallel-item:first-child::after {align-self: flex-end;width: 50%;}#sk-container-id-12 div.sk-parallel-item:last-child::after {align-self: flex-start;width: 50%;}#sk-container-id-12 div.sk-parallel-item:only-child::after {width: 0;}#sk-container-id-12 div.sk-dashed-wrapped {border: 1px dashed gray;margin: 0 0.4em 0.5em 0.4em;box-sizing: border-box;padding-bottom: 0.4em;background-color: white;}#sk-container-id-12 div.sk-label label {font-family: monospace;font-weight: bold;display: inline-block;line-height: 1.2em;}#sk-container-id-12 div.sk-label-container {text-align: center;}#sk-container-id-12 div.sk-container {/* jupyter's `normalize.less` sets `[hidden] { display: none; }` but bootstrap.min.css set `[hidden] { display: none !important; }` so we also need the `!important` here to be able to override the default hidden behavior on the sphinx rendered scikit-learn.org. See: https://github.com/scikit-learn/scikit-learn/issues/21755 */display: inline-block !important;position: relative;}#sk-container-id-12 div.sk-text-repr-fallback {display: none;}</style><div id=\"sk-container-id-12\" class=\"sk-top-container\"><div class=\"sk-text-repr-fallback\"><pre>KNeighborsClassifier(n_neighbors=13)</pre><b>In a Jupyter environment, please rerun this cell to show the HTML representation or trust the notebook. <br />On GitHub, the HTML representation is unable to render, please try loading this page with nbviewer.org.</b></div><div class=\"sk-container\" hidden><div class=\"sk-item\"><div class=\"sk-estimator sk-toggleable\"><input class=\"sk-toggleable__control sk-hidden--visually\" id=\"sk-estimator-id-12\" type=\"checkbox\" checked><label for=\"sk-estimator-id-12\" class=\"sk-toggleable__label sk-toggleable__label-arrow\">KNeighborsClassifier</label><div class=\"sk-toggleable__content\"><pre>KNeighborsClassifier(n_neighbors=13)</pre></div></div></div></div></div>"
      ],
      "text/plain": [
       "KNeighborsClassifier(n_neighbors=13)"
      ]
     },
     "execution_count": 75,
     "metadata": {},
     "output_type": "execute_result"
    }
   ],
   "source": [
    "# Create a knn classifier\n",
    "knn_clf_2 = KNeighborsClassifier(n_neighbors=13)\n",
    " \n",
    "# Train the model using the training sets\n",
    "knn_clf_2.fit(X_train, y_train)"
   ]
  },
  {
   "cell_type": "code",
   "execution_count": 76,
   "id": "de68625b",
   "metadata": {},
   "outputs": [
    {
     "name": "stdout",
     "output_type": "stream",
     "text": [
      "ACCURACY OF THE K NEIGHBORS CLASSIFIER MODEL ON DATASET 2:  0.5232558139534884\n"
     ]
    }
   ],
   "source": [
    "knn_clf_2_score = knn_clf_2.score(X_test,y_test)\n",
    "print(\"ACCURACY OF THE K NEIGHBORS CLASSIFIER MODEL ON DATASET 2: \", knn_clf_2_score) "
   ]
  },
  {
   "cell_type": "markdown",
   "id": "e1367cb4",
   "metadata": {},
   "source": [
    "### 6. Naive Bayes - Dataset 2"
   ]
  },
  {
   "cell_type": "code",
   "execution_count": 77,
   "id": "642851dd",
   "metadata": {},
   "outputs": [
    {
     "data": {
      "text/html": [
       "<style>#sk-container-id-13 {color: black;background-color: white;}#sk-container-id-13 pre{padding: 0;}#sk-container-id-13 div.sk-toggleable {background-color: white;}#sk-container-id-13 label.sk-toggleable__label {cursor: pointer;display: block;width: 100%;margin-bottom: 0;padding: 0.3em;box-sizing: border-box;text-align: center;}#sk-container-id-13 label.sk-toggleable__label-arrow:before {content: \"▸\";float: left;margin-right: 0.25em;color: #696969;}#sk-container-id-13 label.sk-toggleable__label-arrow:hover:before {color: black;}#sk-container-id-13 div.sk-estimator:hover label.sk-toggleable__label-arrow:before {color: black;}#sk-container-id-13 div.sk-toggleable__content {max-height: 0;max-width: 0;overflow: hidden;text-align: left;background-color: #f0f8ff;}#sk-container-id-13 div.sk-toggleable__content pre {margin: 0.2em;color: black;border-radius: 0.25em;background-color: #f0f8ff;}#sk-container-id-13 input.sk-toggleable__control:checked~div.sk-toggleable__content {max-height: 200px;max-width: 100%;overflow: auto;}#sk-container-id-13 input.sk-toggleable__control:checked~label.sk-toggleable__label-arrow:before {content: \"▾\";}#sk-container-id-13 div.sk-estimator input.sk-toggleable__control:checked~label.sk-toggleable__label {background-color: #d4ebff;}#sk-container-id-13 div.sk-label input.sk-toggleable__control:checked~label.sk-toggleable__label {background-color: #d4ebff;}#sk-container-id-13 input.sk-hidden--visually {border: 0;clip: rect(1px 1px 1px 1px);clip: rect(1px, 1px, 1px, 1px);height: 1px;margin: -1px;overflow: hidden;padding: 0;position: absolute;width: 1px;}#sk-container-id-13 div.sk-estimator {font-family: monospace;background-color: #f0f8ff;border: 1px dotted black;border-radius: 0.25em;box-sizing: border-box;margin-bottom: 0.5em;}#sk-container-id-13 div.sk-estimator:hover {background-color: #d4ebff;}#sk-container-id-13 div.sk-parallel-item::after {content: \"\";width: 100%;border-bottom: 1px solid gray;flex-grow: 1;}#sk-container-id-13 div.sk-label:hover label.sk-toggleable__label {background-color: #d4ebff;}#sk-container-id-13 div.sk-serial::before {content: \"\";position: absolute;border-left: 1px solid gray;box-sizing: border-box;top: 0;bottom: 0;left: 50%;z-index: 0;}#sk-container-id-13 div.sk-serial {display: flex;flex-direction: column;align-items: center;background-color: white;padding-right: 0.2em;padding-left: 0.2em;position: relative;}#sk-container-id-13 div.sk-item {position: relative;z-index: 1;}#sk-container-id-13 div.sk-parallel {display: flex;align-items: stretch;justify-content: center;background-color: white;position: relative;}#sk-container-id-13 div.sk-item::before, #sk-container-id-13 div.sk-parallel-item::before {content: \"\";position: absolute;border-left: 1px solid gray;box-sizing: border-box;top: 0;bottom: 0;left: 50%;z-index: -1;}#sk-container-id-13 div.sk-parallel-item {display: flex;flex-direction: column;z-index: 1;position: relative;background-color: white;}#sk-container-id-13 div.sk-parallel-item:first-child::after {align-self: flex-end;width: 50%;}#sk-container-id-13 div.sk-parallel-item:last-child::after {align-self: flex-start;width: 50%;}#sk-container-id-13 div.sk-parallel-item:only-child::after {width: 0;}#sk-container-id-13 div.sk-dashed-wrapped {border: 1px dashed gray;margin: 0 0.4em 0.5em 0.4em;box-sizing: border-box;padding-bottom: 0.4em;background-color: white;}#sk-container-id-13 div.sk-label label {font-family: monospace;font-weight: bold;display: inline-block;line-height: 1.2em;}#sk-container-id-13 div.sk-label-container {text-align: center;}#sk-container-id-13 div.sk-container {/* jupyter's `normalize.less` sets `[hidden] { display: none; }` but bootstrap.min.css set `[hidden] { display: none !important; }` so we also need the `!important` here to be able to override the default hidden behavior on the sphinx rendered scikit-learn.org. See: https://github.com/scikit-learn/scikit-learn/issues/21755 */display: inline-block !important;position: relative;}#sk-container-id-13 div.sk-text-repr-fallback {display: none;}</style><div id=\"sk-container-id-13\" class=\"sk-top-container\"><div class=\"sk-text-repr-fallback\"><pre>GaussianNB()</pre><b>In a Jupyter environment, please rerun this cell to show the HTML representation or trust the notebook. <br />On GitHub, the HTML representation is unable to render, please try loading this page with nbviewer.org.</b></div><div class=\"sk-container\" hidden><div class=\"sk-item\"><div class=\"sk-estimator sk-toggleable\"><input class=\"sk-toggleable__control sk-hidden--visually\" id=\"sk-estimator-id-13\" type=\"checkbox\" checked><label for=\"sk-estimator-id-13\" class=\"sk-toggleable__label sk-toggleable__label-arrow\">GaussianNB</label><div class=\"sk-toggleable__content\"><pre>GaussianNB()</pre></div></div></div></div></div>"
      ],
      "text/plain": [
       "GaussianNB()"
      ]
     },
     "execution_count": 77,
     "metadata": {},
     "output_type": "execute_result"
    }
   ],
   "source": [
    "# Create a Naive-Bayes classifier\n",
    "nb_clf_2 = GaussianNB()\n",
    "\n",
    "# Train the model using the training sets\n",
    "nb_clf_2.fit(X_train, y_train)"
   ]
  },
  {
   "cell_type": "code",
   "execution_count": 78,
   "id": "692a88f5",
   "metadata": {},
   "outputs": [
    {
     "name": "stdout",
     "output_type": "stream",
     "text": [
      "ACCURACY OF THE NAIVE BAYES CLASSIFIER MODEL ON DATASET 2:  0.5465116279069767\n"
     ]
    }
   ],
   "source": [
    "nb_clf_2_score = nb_clf_2.score(X_test,y_test)\n",
    "print(\"ACCURACY OF THE NAIVE BAYES CLASSIFIER MODEL ON DATASET 2: \", nb_clf_2_score) "
   ]
  },
  {
   "cell_type": "markdown",
   "id": "24d20cb3",
   "metadata": {},
   "source": [
    "## Dataset 3"
   ]
  },
  {
   "cell_type": "code",
   "execution_count": 79,
   "id": "20ff6920",
   "metadata": {},
   "outputs": [
    {
     "data": {
      "text/html": [
       "<div>\n",
       "<style scoped>\n",
       "    .dataframe tbody tr th:only-of-type {\n",
       "        vertical-align: middle;\n",
       "    }\n",
       "\n",
       "    .dataframe tbody tr th {\n",
       "        vertical-align: top;\n",
       "    }\n",
       "\n",
       "    .dataframe thead tr th {\n",
       "        text-align: left;\n",
       "    }\n",
       "</style>\n",
       "<table border=\"1\" class=\"dataframe\">\n",
       "  <thead>\n",
       "    <tr>\n",
       "      <th></th>\n",
       "      <th>MaritalStatus_Engaged</th>\n",
       "      <th>MaritalStatus_Married</th>\n",
       "      <th>MaritalStatus_Single - Divorced</th>\n",
       "      <th>MaritalStatus_Single - Never Married</th>\n",
       "      <th>MaritalStatus_Single - Widowed</th>\n",
       "      <th>CandidateDISC_C</th>\n",
       "      <th>CandidateDISC_CD</th>\n",
       "      <th>CandidateDISC_D</th>\n",
       "      <th>CandidateDISC_DI</th>\n",
       "      <th>CandidateDISC_DS</th>\n",
       "      <th>...</th>\n",
       "      <th>CANDIDATE_360_DERAILER_UNRESOLVED_EMOTIONAL_ISSUES</th>\n",
       "      <th>CANDIDATE_360_DERAILER_BEING_NON_EVANGELISTIC</th>\n",
       "      <th>CANDIDATE_360_DERAILER_NOT_MAKING_DISCIPLES</th>\n",
       "      <th>CANDIDATE_360_DERAILER_LACK_OF_SPOUSAL_SUPPORT</th>\n",
       "      <th>CANDIDATE_360_CIR_LACK_OF_FUNDING</th>\n",
       "      <th>CANDIDATE_360_CIR_LACK_OF_PARTNERS</th>\n",
       "      <th>CANDIDATE_360_CIR_LACK_OF_FAMILIARITY_WITH_CONTEXT</th>\n",
       "      <th>CANDIDATE_360_CIR_PROXIMITY_TO_EXTENDED_FAMILY</th>\n",
       "      <th>CANDIDATE_360_CIR_LACK_OF_MINISTRY_EXPERIENCE</th>\n",
       "      <th>Approved</th>\n",
       "    </tr>\n",
       "  </thead>\n",
       "  <tbody>\n",
       "    <tr>\n",
       "      <th>0</th>\n",
       "      <td>0.0</td>\n",
       "      <td>1.0</td>\n",
       "      <td>0.0</td>\n",
       "      <td>0.0</td>\n",
       "      <td>0.0</td>\n",
       "      <td>0.0</td>\n",
       "      <td>1.0</td>\n",
       "      <td>0.0</td>\n",
       "      <td>0.0</td>\n",
       "      <td>0.0</td>\n",
       "      <td>...</td>\n",
       "      <td>-0.375016</td>\n",
       "      <td>-0.271941</td>\n",
       "      <td>-0.310151</td>\n",
       "      <td>-0.031144</td>\n",
       "      <td>0.257971</td>\n",
       "      <td>-0.816733</td>\n",
       "      <td>1.582560</td>\n",
       "      <td>-0.418451</td>\n",
       "      <td>1.851004</td>\n",
       "      <td>1</td>\n",
       "    </tr>\n",
       "    <tr>\n",
       "      <th>1</th>\n",
       "      <td>0.0</td>\n",
       "      <td>1.0</td>\n",
       "      <td>0.0</td>\n",
       "      <td>0.0</td>\n",
       "      <td>0.0</td>\n",
       "      <td>0.0</td>\n",
       "      <td>0.0</td>\n",
       "      <td>0.0</td>\n",
       "      <td>1.0</td>\n",
       "      <td>0.0</td>\n",
       "      <td>...</td>\n",
       "      <td>-0.375016</td>\n",
       "      <td>-0.271941</td>\n",
       "      <td>-0.310151</td>\n",
       "      <td>-0.031144</td>\n",
       "      <td>-1.181088</td>\n",
       "      <td>0.273653</td>\n",
       "      <td>-0.428773</td>\n",
       "      <td>1.450994</td>\n",
       "      <td>3.033813</td>\n",
       "      <td>0</td>\n",
       "    </tr>\n",
       "    <tr>\n",
       "      <th>2</th>\n",
       "      <td>0.0</td>\n",
       "      <td>1.0</td>\n",
       "      <td>0.0</td>\n",
       "      <td>0.0</td>\n",
       "      <td>0.0</td>\n",
       "      <td>0.0</td>\n",
       "      <td>0.0</td>\n",
       "      <td>1.0</td>\n",
       "      <td>0.0</td>\n",
       "      <td>0.0</td>\n",
       "      <td>...</td>\n",
       "      <td>-0.375016</td>\n",
       "      <td>-0.271941</td>\n",
       "      <td>-0.310151</td>\n",
       "      <td>-0.031144</td>\n",
       "      <td>-0.461559</td>\n",
       "      <td>-0.816733</td>\n",
       "      <td>-0.428773</td>\n",
       "      <td>-0.418451</td>\n",
       "      <td>0.668195</td>\n",
       "      <td>1</td>\n",
       "    </tr>\n",
       "    <tr>\n",
       "      <th>3</th>\n",
       "      <td>0.0</td>\n",
       "      <td>0.0</td>\n",
       "      <td>1.0</td>\n",
       "      <td>0.0</td>\n",
       "      <td>0.0</td>\n",
       "      <td>1.0</td>\n",
       "      <td>0.0</td>\n",
       "      <td>0.0</td>\n",
       "      <td>0.0</td>\n",
       "      <td>0.0</td>\n",
       "      <td>...</td>\n",
       "      <td>-0.375016</td>\n",
       "      <td>-0.271941</td>\n",
       "      <td>-0.310151</td>\n",
       "      <td>32.109189</td>\n",
       "      <td>0.257971</td>\n",
       "      <td>0.273653</td>\n",
       "      <td>-0.428773</td>\n",
       "      <td>-0.418451</td>\n",
       "      <td>-0.514614</td>\n",
       "      <td>1</td>\n",
       "    </tr>\n",
       "    <tr>\n",
       "      <th>4</th>\n",
       "      <td>0.0</td>\n",
       "      <td>1.0</td>\n",
       "      <td>0.0</td>\n",
       "      <td>0.0</td>\n",
       "      <td>0.0</td>\n",
       "      <td>1.0</td>\n",
       "      <td>0.0</td>\n",
       "      <td>0.0</td>\n",
       "      <td>0.0</td>\n",
       "      <td>0.0</td>\n",
       "      <td>...</td>\n",
       "      <td>-0.375016</td>\n",
       "      <td>-0.271941</td>\n",
       "      <td>-0.310151</td>\n",
       "      <td>-0.031144</td>\n",
       "      <td>0.257971</td>\n",
       "      <td>0.273653</td>\n",
       "      <td>-0.428773</td>\n",
       "      <td>-0.418451</td>\n",
       "      <td>0.668195</td>\n",
       "      <td>1</td>\n",
       "    </tr>\n",
       "    <tr>\n",
       "      <th>...</th>\n",
       "      <td>...</td>\n",
       "      <td>...</td>\n",
       "      <td>...</td>\n",
       "      <td>...</td>\n",
       "      <td>...</td>\n",
       "      <td>...</td>\n",
       "      <td>...</td>\n",
       "      <td>...</td>\n",
       "      <td>...</td>\n",
       "      <td>...</td>\n",
       "      <td>...</td>\n",
       "      <td>...</td>\n",
       "      <td>...</td>\n",
       "      <td>...</td>\n",
       "      <td>...</td>\n",
       "      <td>...</td>\n",
       "      <td>...</td>\n",
       "      <td>...</td>\n",
       "      <td>...</td>\n",
       "      <td>...</td>\n",
       "      <td>...</td>\n",
       "    </tr>\n",
       "    <tr>\n",
       "      <th>1027</th>\n",
       "      <td>0.0</td>\n",
       "      <td>1.0</td>\n",
       "      <td>0.0</td>\n",
       "      <td>0.0</td>\n",
       "      <td>0.0</td>\n",
       "      <td>0.0</td>\n",
       "      <td>0.0</td>\n",
       "      <td>0.0</td>\n",
       "      <td>0.0</td>\n",
       "      <td>0.0</td>\n",
       "      <td>...</td>\n",
       "      <td>-0.375016</td>\n",
       "      <td>-0.271941</td>\n",
       "      <td>-0.310151</td>\n",
       "      <td>-0.031144</td>\n",
       "      <td>0.977500</td>\n",
       "      <td>0.273653</td>\n",
       "      <td>1.582560</td>\n",
       "      <td>3.320440</td>\n",
       "      <td>1.851004</td>\n",
       "      <td>1</td>\n",
       "    </tr>\n",
       "    <tr>\n",
       "      <th>1028</th>\n",
       "      <td>0.0</td>\n",
       "      <td>1.0</td>\n",
       "      <td>0.0</td>\n",
       "      <td>0.0</td>\n",
       "      <td>0.0</td>\n",
       "      <td>0.0</td>\n",
       "      <td>1.0</td>\n",
       "      <td>0.0</td>\n",
       "      <td>0.0</td>\n",
       "      <td>0.0</td>\n",
       "      <td>...</td>\n",
       "      <td>1.589536</td>\n",
       "      <td>-0.271941</td>\n",
       "      <td>-0.310151</td>\n",
       "      <td>-0.031144</td>\n",
       "      <td>-1.181088</td>\n",
       "      <td>-0.816733</td>\n",
       "      <td>-0.428773</td>\n",
       "      <td>-0.418451</td>\n",
       "      <td>0.668195</td>\n",
       "      <td>0</td>\n",
       "    </tr>\n",
       "    <tr>\n",
       "      <th>1029</th>\n",
       "      <td>0.0</td>\n",
       "      <td>1.0</td>\n",
       "      <td>0.0</td>\n",
       "      <td>0.0</td>\n",
       "      <td>0.0</td>\n",
       "      <td>0.0</td>\n",
       "      <td>0.0</td>\n",
       "      <td>0.0</td>\n",
       "      <td>0.0</td>\n",
       "      <td>0.0</td>\n",
       "      <td>...</td>\n",
       "      <td>3.554089</td>\n",
       "      <td>-0.271941</td>\n",
       "      <td>-0.310151</td>\n",
       "      <td>-0.031144</td>\n",
       "      <td>0.257971</td>\n",
       "      <td>-0.816733</td>\n",
       "      <td>1.582560</td>\n",
       "      <td>-0.418451</td>\n",
       "      <td>-0.514614</td>\n",
       "      <td>0</td>\n",
       "    </tr>\n",
       "    <tr>\n",
       "      <th>1030</th>\n",
       "      <td>0.0</td>\n",
       "      <td>1.0</td>\n",
       "      <td>0.0</td>\n",
       "      <td>0.0</td>\n",
       "      <td>0.0</td>\n",
       "      <td>0.0</td>\n",
       "      <td>0.0</td>\n",
       "      <td>0.0</td>\n",
       "      <td>0.0</td>\n",
       "      <td>0.0</td>\n",
       "      <td>...</td>\n",
       "      <td>-0.375016</td>\n",
       "      <td>-0.271941</td>\n",
       "      <td>-0.310151</td>\n",
       "      <td>-0.031144</td>\n",
       "      <td>-1.181088</td>\n",
       "      <td>-0.816733</td>\n",
       "      <td>1.582560</td>\n",
       "      <td>-0.418451</td>\n",
       "      <td>0.668195</td>\n",
       "      <td>1</td>\n",
       "    </tr>\n",
       "    <tr>\n",
       "      <th>1031</th>\n",
       "      <td>0.0</td>\n",
       "      <td>1.0</td>\n",
       "      <td>0.0</td>\n",
       "      <td>0.0</td>\n",
       "      <td>0.0</td>\n",
       "      <td>0.0</td>\n",
       "      <td>0.0</td>\n",
       "      <td>1.0</td>\n",
       "      <td>0.0</td>\n",
       "      <td>0.0</td>\n",
       "      <td>...</td>\n",
       "      <td>-0.375016</td>\n",
       "      <td>-0.271941</td>\n",
       "      <td>-0.310151</td>\n",
       "      <td>-0.031144</td>\n",
       "      <td>-1.181088</td>\n",
       "      <td>-0.816733</td>\n",
       "      <td>1.582560</td>\n",
       "      <td>-0.418451</td>\n",
       "      <td>0.668195</td>\n",
       "      <td>1</td>\n",
       "    </tr>\n",
       "  </tbody>\n",
       "</table>\n",
       "<p>1032 rows × 289 columns</p>\n",
       "</div>"
      ],
      "text/plain": [
       "     MaritalStatus_Engaged MaritalStatus_Married  \\\n",
       "0                      0.0                   1.0   \n",
       "1                      0.0                   1.0   \n",
       "2                      0.0                   1.0   \n",
       "3                      0.0                   0.0   \n",
       "4                      0.0                   1.0   \n",
       "...                    ...                   ...   \n",
       "1027                   0.0                   1.0   \n",
       "1028                   0.0                   1.0   \n",
       "1029                   0.0                   1.0   \n",
       "1030                   0.0                   1.0   \n",
       "1031                   0.0                   1.0   \n",
       "\n",
       "     MaritalStatus_Single - Divorced MaritalStatus_Single - Never Married  \\\n",
       "0                                0.0                                  0.0   \n",
       "1                                0.0                                  0.0   \n",
       "2                                0.0                                  0.0   \n",
       "3                                1.0                                  0.0   \n",
       "4                                0.0                                  0.0   \n",
       "...                              ...                                  ...   \n",
       "1027                             0.0                                  0.0   \n",
       "1028                             0.0                                  0.0   \n",
       "1029                             0.0                                  0.0   \n",
       "1030                             0.0                                  0.0   \n",
       "1031                             0.0                                  0.0   \n",
       "\n",
       "     MaritalStatus_Single - Widowed CandidateDISC_C CandidateDISC_CD  \\\n",
       "0                               0.0             0.0              1.0   \n",
       "1                               0.0             0.0              0.0   \n",
       "2                               0.0             0.0              0.0   \n",
       "3                               0.0             1.0              0.0   \n",
       "4                               0.0             1.0              0.0   \n",
       "...                             ...             ...              ...   \n",
       "1027                            0.0             0.0              0.0   \n",
       "1028                            0.0             0.0              1.0   \n",
       "1029                            0.0             0.0              0.0   \n",
       "1030                            0.0             0.0              0.0   \n",
       "1031                            0.0             0.0              0.0   \n",
       "\n",
       "     CandidateDISC_D CandidateDISC_DI CandidateDISC_DS  ...  \\\n",
       "0                0.0              0.0              0.0  ...   \n",
       "1                0.0              1.0              0.0  ...   \n",
       "2                1.0              0.0              0.0  ...   \n",
       "3                0.0              0.0              0.0  ...   \n",
       "4                0.0              0.0              0.0  ...   \n",
       "...              ...              ...              ...  ...   \n",
       "1027             0.0              0.0              0.0  ...   \n",
       "1028             0.0              0.0              0.0  ...   \n",
       "1029             0.0              0.0              0.0  ...   \n",
       "1030             0.0              0.0              0.0  ...   \n",
       "1031             1.0              0.0              0.0  ...   \n",
       "\n",
       "     CANDIDATE_360_DERAILER_UNRESOLVED_EMOTIONAL_ISSUES  \\\n",
       "0                                             -0.375016   \n",
       "1                                             -0.375016   \n",
       "2                                             -0.375016   \n",
       "3                                             -0.375016   \n",
       "4                                             -0.375016   \n",
       "...                                                 ...   \n",
       "1027                                          -0.375016   \n",
       "1028                                           1.589536   \n",
       "1029                                           3.554089   \n",
       "1030                                          -0.375016   \n",
       "1031                                          -0.375016   \n",
       "\n",
       "     CANDIDATE_360_DERAILER_BEING_NON_EVANGELISTIC  \\\n",
       "0                                        -0.271941   \n",
       "1                                        -0.271941   \n",
       "2                                        -0.271941   \n",
       "3                                        -0.271941   \n",
       "4                                        -0.271941   \n",
       "...                                            ...   \n",
       "1027                                     -0.271941   \n",
       "1028                                     -0.271941   \n",
       "1029                                     -0.271941   \n",
       "1030                                     -0.271941   \n",
       "1031                                     -0.271941   \n",
       "\n",
       "     CANDIDATE_360_DERAILER_NOT_MAKING_DISCIPLES  \\\n",
       "0                                      -0.310151   \n",
       "1                                      -0.310151   \n",
       "2                                      -0.310151   \n",
       "3                                      -0.310151   \n",
       "4                                      -0.310151   \n",
       "...                                          ...   \n",
       "1027                                   -0.310151   \n",
       "1028                                   -0.310151   \n",
       "1029                                   -0.310151   \n",
       "1030                                   -0.310151   \n",
       "1031                                   -0.310151   \n",
       "\n",
       "     CANDIDATE_360_DERAILER_LACK_OF_SPOUSAL_SUPPORT  \\\n",
       "0                                         -0.031144   \n",
       "1                                         -0.031144   \n",
       "2                                         -0.031144   \n",
       "3                                         32.109189   \n",
       "4                                         -0.031144   \n",
       "...                                             ...   \n",
       "1027                                      -0.031144   \n",
       "1028                                      -0.031144   \n",
       "1029                                      -0.031144   \n",
       "1030                                      -0.031144   \n",
       "1031                                      -0.031144   \n",
       "\n",
       "     CANDIDATE_360_CIR_LACK_OF_FUNDING CANDIDATE_360_CIR_LACK_OF_PARTNERS  \\\n",
       "0                             0.257971                          -0.816733   \n",
       "1                            -1.181088                           0.273653   \n",
       "2                            -0.461559                          -0.816733   \n",
       "3                             0.257971                           0.273653   \n",
       "4                             0.257971                           0.273653   \n",
       "...                                ...                                ...   \n",
       "1027                          0.977500                           0.273653   \n",
       "1028                         -1.181088                          -0.816733   \n",
       "1029                          0.257971                          -0.816733   \n",
       "1030                         -1.181088                          -0.816733   \n",
       "1031                         -1.181088                          -0.816733   \n",
       "\n",
       "     CANDIDATE_360_CIR_LACK_OF_FAMILIARITY_WITH_CONTEXT  \\\n",
       "0                                              1.582560   \n",
       "1                                             -0.428773   \n",
       "2                                             -0.428773   \n",
       "3                                             -0.428773   \n",
       "4                                             -0.428773   \n",
       "...                                                 ...   \n",
       "1027                                           1.582560   \n",
       "1028                                          -0.428773   \n",
       "1029                                           1.582560   \n",
       "1030                                           1.582560   \n",
       "1031                                           1.582560   \n",
       "\n",
       "     CANDIDATE_360_CIR_PROXIMITY_TO_EXTENDED_FAMILY  \\\n",
       "0                                         -0.418451   \n",
       "1                                          1.450994   \n",
       "2                                         -0.418451   \n",
       "3                                         -0.418451   \n",
       "4                                         -0.418451   \n",
       "...                                             ...   \n",
       "1027                                       3.320440   \n",
       "1028                                      -0.418451   \n",
       "1029                                      -0.418451   \n",
       "1030                                      -0.418451   \n",
       "1031                                      -0.418451   \n",
       "\n",
       "     CANDIDATE_360_CIR_LACK_OF_MINISTRY_EXPERIENCE Approved  \n",
       "0                                         1.851004        1  \n",
       "1                                         3.033813        0  \n",
       "2                                         0.668195        1  \n",
       "3                                        -0.514614        1  \n",
       "4                                         0.668195        1  \n",
       "...                                            ...      ...  \n",
       "1027                                      1.851004        1  \n",
       "1028                                      0.668195        0  \n",
       "1029                                     -0.514614        0  \n",
       "1030                                      0.668195        1  \n",
       "1031                                      0.668195        1  \n",
       "\n",
       "[1032 rows x 289 columns]"
      ]
     },
     "execution_count": 79,
     "metadata": {},
     "output_type": "execute_result"
    }
   ],
   "source": [
    "dataset_3"
   ]
  },
  {
   "cell_type": "code",
   "execution_count": 80,
   "id": "226eeb20",
   "metadata": {},
   "outputs": [],
   "source": [
    "# Split dataset_2 for training and testing\n",
    "\n",
    "X = dataset_3.iloc[:,:-1]\n",
    "y = dataset_3['Approved']\n",
    "y = np.ravel(y, order = 'C')\n",
    "X_train, X_test, y_train, y_test = train_test_split(X, y, test_size=0.25, random_state=42)"
   ]
  },
  {
   "cell_type": "markdown",
   "id": "163274d8",
   "metadata": {},
   "source": [
    "### 1. Logistic Regression - Dataset 3"
   ]
  },
  {
   "cell_type": "code",
   "execution_count": 81,
   "id": "5d30ca2c",
   "metadata": {},
   "outputs": [
    {
     "name": "stderr",
     "output_type": "stream",
     "text": [
      "/Users/dbello/opt/anaconda3/lib/python3.9/site-packages/sklearn/linear_model/_logistic.py:444: ConvergenceWarning: lbfgs failed to converge (status=1):\n",
      "STOP: TOTAL NO. of ITERATIONS REACHED LIMIT.\n",
      "\n",
      "Increase the number of iterations (max_iter) or scale the data as shown in:\n",
      "    https://scikit-learn.org/stable/modules/preprocessing.html\n",
      "Please also refer to the documentation for alternative solver options:\n",
      "    https://scikit-learn.org/stable/modules/linear_model.html#logistic-regression\n",
      "  n_iter_i = _check_optimize_result(\n"
     ]
    },
    {
     "data": {
      "text/html": [
       "<style>#sk-container-id-14 {color: black;background-color: white;}#sk-container-id-14 pre{padding: 0;}#sk-container-id-14 div.sk-toggleable {background-color: white;}#sk-container-id-14 label.sk-toggleable__label {cursor: pointer;display: block;width: 100%;margin-bottom: 0;padding: 0.3em;box-sizing: border-box;text-align: center;}#sk-container-id-14 label.sk-toggleable__label-arrow:before {content: \"▸\";float: left;margin-right: 0.25em;color: #696969;}#sk-container-id-14 label.sk-toggleable__label-arrow:hover:before {color: black;}#sk-container-id-14 div.sk-estimator:hover label.sk-toggleable__label-arrow:before {color: black;}#sk-container-id-14 div.sk-toggleable__content {max-height: 0;max-width: 0;overflow: hidden;text-align: left;background-color: #f0f8ff;}#sk-container-id-14 div.sk-toggleable__content pre {margin: 0.2em;color: black;border-radius: 0.25em;background-color: #f0f8ff;}#sk-container-id-14 input.sk-toggleable__control:checked~div.sk-toggleable__content {max-height: 200px;max-width: 100%;overflow: auto;}#sk-container-id-14 input.sk-toggleable__control:checked~label.sk-toggleable__label-arrow:before {content: \"▾\";}#sk-container-id-14 div.sk-estimator input.sk-toggleable__control:checked~label.sk-toggleable__label {background-color: #d4ebff;}#sk-container-id-14 div.sk-label input.sk-toggleable__control:checked~label.sk-toggleable__label {background-color: #d4ebff;}#sk-container-id-14 input.sk-hidden--visually {border: 0;clip: rect(1px 1px 1px 1px);clip: rect(1px, 1px, 1px, 1px);height: 1px;margin: -1px;overflow: hidden;padding: 0;position: absolute;width: 1px;}#sk-container-id-14 div.sk-estimator {font-family: monospace;background-color: #f0f8ff;border: 1px dotted black;border-radius: 0.25em;box-sizing: border-box;margin-bottom: 0.5em;}#sk-container-id-14 div.sk-estimator:hover {background-color: #d4ebff;}#sk-container-id-14 div.sk-parallel-item::after {content: \"\";width: 100%;border-bottom: 1px solid gray;flex-grow: 1;}#sk-container-id-14 div.sk-label:hover label.sk-toggleable__label {background-color: #d4ebff;}#sk-container-id-14 div.sk-serial::before {content: \"\";position: absolute;border-left: 1px solid gray;box-sizing: border-box;top: 0;bottom: 0;left: 50%;z-index: 0;}#sk-container-id-14 div.sk-serial {display: flex;flex-direction: column;align-items: center;background-color: white;padding-right: 0.2em;padding-left: 0.2em;position: relative;}#sk-container-id-14 div.sk-item {position: relative;z-index: 1;}#sk-container-id-14 div.sk-parallel {display: flex;align-items: stretch;justify-content: center;background-color: white;position: relative;}#sk-container-id-14 div.sk-item::before, #sk-container-id-14 div.sk-parallel-item::before {content: \"\";position: absolute;border-left: 1px solid gray;box-sizing: border-box;top: 0;bottom: 0;left: 50%;z-index: -1;}#sk-container-id-14 div.sk-parallel-item {display: flex;flex-direction: column;z-index: 1;position: relative;background-color: white;}#sk-container-id-14 div.sk-parallel-item:first-child::after {align-self: flex-end;width: 50%;}#sk-container-id-14 div.sk-parallel-item:last-child::after {align-self: flex-start;width: 50%;}#sk-container-id-14 div.sk-parallel-item:only-child::after {width: 0;}#sk-container-id-14 div.sk-dashed-wrapped {border: 1px dashed gray;margin: 0 0.4em 0.5em 0.4em;box-sizing: border-box;padding-bottom: 0.4em;background-color: white;}#sk-container-id-14 div.sk-label label {font-family: monospace;font-weight: bold;display: inline-block;line-height: 1.2em;}#sk-container-id-14 div.sk-label-container {text-align: center;}#sk-container-id-14 div.sk-container {/* jupyter's `normalize.less` sets `[hidden] { display: none; }` but bootstrap.min.css set `[hidden] { display: none !important; }` so we also need the `!important` here to be able to override the default hidden behavior on the sphinx rendered scikit-learn.org. See: https://github.com/scikit-learn/scikit-learn/issues/21755 */display: inline-block !important;position: relative;}#sk-container-id-14 div.sk-text-repr-fallback {display: none;}</style><div id=\"sk-container-id-14\" class=\"sk-top-container\"><div class=\"sk-text-repr-fallback\"><pre>LogisticRegression()</pre><b>In a Jupyter environment, please rerun this cell to show the HTML representation or trust the notebook. <br />On GitHub, the HTML representation is unable to render, please try loading this page with nbviewer.org.</b></div><div class=\"sk-container\" hidden><div class=\"sk-item\"><div class=\"sk-estimator sk-toggleable\"><input class=\"sk-toggleable__control sk-hidden--visually\" id=\"sk-estimator-id-14\" type=\"checkbox\" checked><label for=\"sk-estimator-id-14\" class=\"sk-toggleable__label sk-toggleable__label-arrow\">LogisticRegression</label><div class=\"sk-toggleable__content\"><pre>LogisticRegression()</pre></div></div></div></div></div>"
      ],
      "text/plain": [
       "LogisticRegression()"
      ]
     },
     "execution_count": 81,
     "metadata": {},
     "output_type": "execute_result"
    }
   ],
   "source": [
    "# Train a Logistic Regression model\n",
    "\n",
    "log_reg_3 = LogisticRegression()\n",
    "log_reg_3.fit(X_train, y_train)"
   ]
  },
  {
   "cell_type": "code",
   "execution_count": 82,
   "id": "8ec9fffa",
   "metadata": {},
   "outputs": [
    {
     "name": "stdout",
     "output_type": "stream",
     "text": [
      "ACCURACY OF THE LOGISTIC REGRESSION MODEL ON DATASET 3:  0.47674418604651164\n"
     ]
    }
   ],
   "source": [
    "log_reg_3_score = log_reg_3.score(X_test,y_test)\n",
    "print(\"ACCURACY OF THE LOGISTIC REGRESSION MODEL ON DATASET 3: \", log_reg_3_score) "
   ]
  },
  {
   "cell_type": "markdown",
   "id": "ed887885",
   "metadata": {},
   "source": [
    "### 2. Decision Tree - Dataset 3"
   ]
  },
  {
   "cell_type": "markdown",
   "id": "b45e98ce",
   "metadata": {},
   "source": [
    "#### Perform a grid search to find the optimal parameters for this Decision Tree Classifier"
   ]
  },
  {
   "cell_type": "code",
   "execution_count": 83,
   "id": "f432ed88",
   "metadata": {},
   "outputs": [
    {
     "name": "stdout",
     "output_type": "stream",
     "text": [
      "Fitting 10 folds for each of 18 candidates, totalling 180 fits\n"
     ]
    },
    {
     "name": "stderr",
     "output_type": "stream",
     "text": [
      "/Users/dbello/opt/anaconda3/lib/python3.9/site-packages/sklearn/model_selection/_split.py:680: UserWarning: The least populated class in y has only 1 members, which is less than n_splits=10.\n",
      "  warnings.warn(\n"
     ]
    },
    {
     "name": "stdout",
     "output_type": "stream",
     "text": [
      "The best parameters are:  {'max_depth': 9, 'min_samples_split': 8, 'splitter': 'random'}\n"
     ]
    }
   ],
   "source": [
    "# Create a dictionary called param_grid with three key-value pairs.\n",
    "param_grid = {'max_depth': [7,8,9], \n",
    "              'splitter': [\"best\", \"random\"], \n",
    "              'min_samples_split': [8,9,10]}\n",
    "\n",
    "# Instantiate an object of the DecisionTreeClassifier class\n",
    "tree_clf_grid_search_cv = GridSearchCV(DecisionTreeClassifier(random_state = 42), \n",
    "                              param_grid=param_grid, verbose=1, cv=10)\n",
    "\n",
    "tree_clf_grid_search_cv.fit(X_train, y_train)\n",
    "\n",
    "print(\"The best parameters are: \", tree_clf_grid_search_cv.best_params_)"
   ]
  },
  {
   "cell_type": "markdown",
   "id": "e2611057",
   "metadata": {},
   "source": [
    "The best parameters are:  max_depth = 9, min_samples_split = 8, splitter = 'random'"
   ]
  },
  {
   "cell_type": "code",
   "execution_count": 84,
   "id": "dc5fc1a9",
   "metadata": {},
   "outputs": [
    {
     "data": {
      "text/html": [
       "<style>#sk-container-id-15 {color: black;background-color: white;}#sk-container-id-15 pre{padding: 0;}#sk-container-id-15 div.sk-toggleable {background-color: white;}#sk-container-id-15 label.sk-toggleable__label {cursor: pointer;display: block;width: 100%;margin-bottom: 0;padding: 0.3em;box-sizing: border-box;text-align: center;}#sk-container-id-15 label.sk-toggleable__label-arrow:before {content: \"▸\";float: left;margin-right: 0.25em;color: #696969;}#sk-container-id-15 label.sk-toggleable__label-arrow:hover:before {color: black;}#sk-container-id-15 div.sk-estimator:hover label.sk-toggleable__label-arrow:before {color: black;}#sk-container-id-15 div.sk-toggleable__content {max-height: 0;max-width: 0;overflow: hidden;text-align: left;background-color: #f0f8ff;}#sk-container-id-15 div.sk-toggleable__content pre {margin: 0.2em;color: black;border-radius: 0.25em;background-color: #f0f8ff;}#sk-container-id-15 input.sk-toggleable__control:checked~div.sk-toggleable__content {max-height: 200px;max-width: 100%;overflow: auto;}#sk-container-id-15 input.sk-toggleable__control:checked~label.sk-toggleable__label-arrow:before {content: \"▾\";}#sk-container-id-15 div.sk-estimator input.sk-toggleable__control:checked~label.sk-toggleable__label {background-color: #d4ebff;}#sk-container-id-15 div.sk-label input.sk-toggleable__control:checked~label.sk-toggleable__label {background-color: #d4ebff;}#sk-container-id-15 input.sk-hidden--visually {border: 0;clip: rect(1px 1px 1px 1px);clip: rect(1px, 1px, 1px, 1px);height: 1px;margin: -1px;overflow: hidden;padding: 0;position: absolute;width: 1px;}#sk-container-id-15 div.sk-estimator {font-family: monospace;background-color: #f0f8ff;border: 1px dotted black;border-radius: 0.25em;box-sizing: border-box;margin-bottom: 0.5em;}#sk-container-id-15 div.sk-estimator:hover {background-color: #d4ebff;}#sk-container-id-15 div.sk-parallel-item::after {content: \"\";width: 100%;border-bottom: 1px solid gray;flex-grow: 1;}#sk-container-id-15 div.sk-label:hover label.sk-toggleable__label {background-color: #d4ebff;}#sk-container-id-15 div.sk-serial::before {content: \"\";position: absolute;border-left: 1px solid gray;box-sizing: border-box;top: 0;bottom: 0;left: 50%;z-index: 0;}#sk-container-id-15 div.sk-serial {display: flex;flex-direction: column;align-items: center;background-color: white;padding-right: 0.2em;padding-left: 0.2em;position: relative;}#sk-container-id-15 div.sk-item {position: relative;z-index: 1;}#sk-container-id-15 div.sk-parallel {display: flex;align-items: stretch;justify-content: center;background-color: white;position: relative;}#sk-container-id-15 div.sk-item::before, #sk-container-id-15 div.sk-parallel-item::before {content: \"\";position: absolute;border-left: 1px solid gray;box-sizing: border-box;top: 0;bottom: 0;left: 50%;z-index: -1;}#sk-container-id-15 div.sk-parallel-item {display: flex;flex-direction: column;z-index: 1;position: relative;background-color: white;}#sk-container-id-15 div.sk-parallel-item:first-child::after {align-self: flex-end;width: 50%;}#sk-container-id-15 div.sk-parallel-item:last-child::after {align-self: flex-start;width: 50%;}#sk-container-id-15 div.sk-parallel-item:only-child::after {width: 0;}#sk-container-id-15 div.sk-dashed-wrapped {border: 1px dashed gray;margin: 0 0.4em 0.5em 0.4em;box-sizing: border-box;padding-bottom: 0.4em;background-color: white;}#sk-container-id-15 div.sk-label label {font-family: monospace;font-weight: bold;display: inline-block;line-height: 1.2em;}#sk-container-id-15 div.sk-label-container {text-align: center;}#sk-container-id-15 div.sk-container {/* jupyter's `normalize.less` sets `[hidden] { display: none; }` but bootstrap.min.css set `[hidden] { display: none !important; }` so we also need the `!important` here to be able to override the default hidden behavior on the sphinx rendered scikit-learn.org. See: https://github.com/scikit-learn/scikit-learn/issues/21755 */display: inline-block !important;position: relative;}#sk-container-id-15 div.sk-text-repr-fallback {display: none;}</style><div id=\"sk-container-id-15\" class=\"sk-top-container\"><div class=\"sk-text-repr-fallback\"><pre>DecisionTreeClassifier(max_depth=9, min_samples_split=8, random_state=42,\n",
       "                       splitter=&#x27;random&#x27;)</pre><b>In a Jupyter environment, please rerun this cell to show the HTML representation or trust the notebook. <br />On GitHub, the HTML representation is unable to render, please try loading this page with nbviewer.org.</b></div><div class=\"sk-container\" hidden><div class=\"sk-item\"><div class=\"sk-estimator sk-toggleable\"><input class=\"sk-toggleable__control sk-hidden--visually\" id=\"sk-estimator-id-15\" type=\"checkbox\" checked><label for=\"sk-estimator-id-15\" class=\"sk-toggleable__label sk-toggleable__label-arrow\">DecisionTreeClassifier</label><div class=\"sk-toggleable__content\"><pre>DecisionTreeClassifier(max_depth=9, min_samples_split=8, random_state=42,\n",
       "                       splitter=&#x27;random&#x27;)</pre></div></div></div></div></div>"
      ],
      "text/plain": [
       "DecisionTreeClassifier(max_depth=9, min_samples_split=8, random_state=42,\n",
       "                       splitter='random')"
      ]
     },
     "execution_count": 84,
     "metadata": {},
     "output_type": "execute_result"
    }
   ],
   "source": [
    "# instantiate an object of the class DecisionTreeClassifier\n",
    "tree_clf_3 = DecisionTreeClassifier(max_depth = 9, min_samples_split = 8, splitter = 'random', random_state = 42) \n",
    "tree_clf_3.fit(X_train, y_train)"
   ]
  },
  {
   "cell_type": "code",
   "execution_count": 85,
   "id": "f810291f",
   "metadata": {},
   "outputs": [
    {
     "name": "stdout",
     "output_type": "stream",
     "text": [
      "ACCURACY OF THE DECISION TREE MODEL ON DATASET 3:  0.5348837209302325\n"
     ]
    }
   ],
   "source": [
    "tree_clf_3_score = tree_clf_3.score(X_test,y_test)\n",
    "print(\"ACCURACY OF THE DECISION TREE MODEL ON DATASET 3: \", tree_clf_3_score) "
   ]
  },
  {
   "cell_type": "markdown",
   "id": "9460495d",
   "metadata": {},
   "source": [
    "### 3. Random Forest Classifier - Dataset 3"
   ]
  },
  {
   "cell_type": "markdown",
   "id": "1f631f28",
   "metadata": {},
   "source": [
    "#### Perform a grid search to find the optimal parameters for this Random Forest Classifier"
   ]
  },
  {
   "cell_type": "code",
   "execution_count": 86,
   "id": "7517bd6a",
   "metadata": {},
   "outputs": [
    {
     "name": "stdout",
     "output_type": "stream",
     "text": [
      "Fitting 10 folds for each of 27 candidates, totalling 270 fits\n"
     ]
    },
    {
     "name": "stderr",
     "output_type": "stream",
     "text": [
      "/Users/dbello/opt/anaconda3/lib/python3.9/site-packages/sklearn/model_selection/_split.py:680: UserWarning: The least populated class in y has only 1 members, which is less than n_splits=10.\n",
      "  warnings.warn(\n"
     ]
    },
    {
     "name": "stdout",
     "output_type": "stream",
     "text": [
      "The best parameters are:  {'max_depth': 4, 'min_samples_split': 3, 'n_estimators': 40}\n"
     ]
    },
    {
     "name": "stderr",
     "output_type": "stream",
     "text": [
      "/Users/dbello/opt/anaconda3/lib/python3.9/site-packages/sklearn/model_selection/_validation.py:378: FitFailedWarning: \n",
      "90 fits failed out of a total of 270.\n",
      "The score on these train-test partitions for these parameters will be set to nan.\n",
      "If these failures are not expected, you can try to debug them by setting error_score='raise'.\n",
      "\n",
      "Below are more details about the failures:\n",
      "--------------------------------------------------------------------------------\n",
      "90 fits failed with the following error:\n",
      "Traceback (most recent call last):\n",
      "  File \"/Users/dbello/opt/anaconda3/lib/python3.9/site-packages/sklearn/model_selection/_validation.py\", line 686, in _fit_and_score\n",
      "    estimator.fit(X_train, y_train, **fit_params)\n",
      "  File \"/Users/dbello/opt/anaconda3/lib/python3.9/site-packages/sklearn/ensemble/_forest.py\", line 476, in fit\n",
      "    trees = Parallel(\n",
      "  File \"/Users/dbello/opt/anaconda3/lib/python3.9/site-packages/joblib/parallel.py\", line 1043, in __call__\n",
      "    if self.dispatch_one_batch(iterator):\n",
      "  File \"/Users/dbello/opt/anaconda3/lib/python3.9/site-packages/joblib/parallel.py\", line 861, in dispatch_one_batch\n",
      "    self._dispatch(tasks)\n",
      "  File \"/Users/dbello/opt/anaconda3/lib/python3.9/site-packages/joblib/parallel.py\", line 779, in _dispatch\n",
      "    job = self._backend.apply_async(batch, callback=cb)\n",
      "  File \"/Users/dbello/opt/anaconda3/lib/python3.9/site-packages/joblib/_parallel_backends.py\", line 208, in apply_async\n",
      "    result = ImmediateResult(func)\n",
      "  File \"/Users/dbello/opt/anaconda3/lib/python3.9/site-packages/joblib/_parallel_backends.py\", line 572, in __init__\n",
      "    self.results = batch()\n",
      "  File \"/Users/dbello/opt/anaconda3/lib/python3.9/site-packages/joblib/parallel.py\", line 262, in __call__\n",
      "    return [func(*args, **kwargs)\n",
      "  File \"/Users/dbello/opt/anaconda3/lib/python3.9/site-packages/joblib/parallel.py\", line 262, in <listcomp>\n",
      "    return [func(*args, **kwargs)\n",
      "  File \"/Users/dbello/opt/anaconda3/lib/python3.9/site-packages/sklearn/utils/fixes.py\", line 117, in __call__\n",
      "    return self.function(*args, **kwargs)\n",
      "  File \"/Users/dbello/opt/anaconda3/lib/python3.9/site-packages/sklearn/ensemble/_forest.py\", line 189, in _parallel_build_trees\n",
      "    tree.fit(X, y, sample_weight=curr_sample_weight, check_input=False)\n",
      "  File \"/Users/dbello/opt/anaconda3/lib/python3.9/site-packages/sklearn/tree/_classes.py\", line 969, in fit\n",
      "    super().fit(\n",
      "  File \"/Users/dbello/opt/anaconda3/lib/python3.9/site-packages/sklearn/tree/_classes.py\", line 265, in fit\n",
      "    check_scalar(\n",
      "  File \"/Users/dbello/opt/anaconda3/lib/python3.9/site-packages/sklearn/utils/validation.py\", line 1480, in check_scalar\n",
      "    raise ValueError(\n",
      "ValueError: min_samples_split == 1, must be >= 2.\n",
      "\n",
      "  warnings.warn(some_fits_failed_message, FitFailedWarning)\n",
      "/Users/dbello/opt/anaconda3/lib/python3.9/site-packages/sklearn/model_selection/_search.py:953: UserWarning: One or more of the test scores are non-finite: [       nan        nan        nan 0.56843157 0.55935731 0.54392274\n",
      " 0.56974692 0.54781885 0.54785215        nan        nan        nan\n",
      " 0.54538795 0.52852148 0.5453713  0.54010989 0.53115218 0.53624709\n",
      "        nan        nan        nan 0.5467366  0.55957376 0.54284049\n",
      " 0.54020979 0.53891109 0.5492341 ]\n",
      "  warnings.warn(\n"
     ]
    }
   ],
   "source": [
    "param_grid = {'max_depth': [4,5,6], \n",
    "              'n_estimators': [40,50,60], \n",
    "              'min_samples_split': [1,2,3]}\n",
    "\n",
    "RF_clf_grid_search_cv = GridSearchCV(RandomForestClassifier(random_state = 42), \n",
    "                              param_grid=param_grid, verbose=1, cv=10)\n",
    "\n",
    "RF_clf_grid_search_cv.fit(X_train, y_train)\n",
    "\n",
    "print(\"The best parameters are: \", RF_clf_grid_search_cv.best_params_)"
   ]
  },
  {
   "cell_type": "markdown",
   "id": "ef0f212e",
   "metadata": {},
   "source": [
    "The best parameters are:  max_depth = 4, n_estimators = 40, min_samples_split = 3"
   ]
  },
  {
   "cell_type": "code",
   "execution_count": 87,
   "id": "bbb55712",
   "metadata": {},
   "outputs": [
    {
     "data": {
      "text/html": [
       "<style>#sk-container-id-16 {color: black;background-color: white;}#sk-container-id-16 pre{padding: 0;}#sk-container-id-16 div.sk-toggleable {background-color: white;}#sk-container-id-16 label.sk-toggleable__label {cursor: pointer;display: block;width: 100%;margin-bottom: 0;padding: 0.3em;box-sizing: border-box;text-align: center;}#sk-container-id-16 label.sk-toggleable__label-arrow:before {content: \"▸\";float: left;margin-right: 0.25em;color: #696969;}#sk-container-id-16 label.sk-toggleable__label-arrow:hover:before {color: black;}#sk-container-id-16 div.sk-estimator:hover label.sk-toggleable__label-arrow:before {color: black;}#sk-container-id-16 div.sk-toggleable__content {max-height: 0;max-width: 0;overflow: hidden;text-align: left;background-color: #f0f8ff;}#sk-container-id-16 div.sk-toggleable__content pre {margin: 0.2em;color: black;border-radius: 0.25em;background-color: #f0f8ff;}#sk-container-id-16 input.sk-toggleable__control:checked~div.sk-toggleable__content {max-height: 200px;max-width: 100%;overflow: auto;}#sk-container-id-16 input.sk-toggleable__control:checked~label.sk-toggleable__label-arrow:before {content: \"▾\";}#sk-container-id-16 div.sk-estimator input.sk-toggleable__control:checked~label.sk-toggleable__label {background-color: #d4ebff;}#sk-container-id-16 div.sk-label input.sk-toggleable__control:checked~label.sk-toggleable__label {background-color: #d4ebff;}#sk-container-id-16 input.sk-hidden--visually {border: 0;clip: rect(1px 1px 1px 1px);clip: rect(1px, 1px, 1px, 1px);height: 1px;margin: -1px;overflow: hidden;padding: 0;position: absolute;width: 1px;}#sk-container-id-16 div.sk-estimator {font-family: monospace;background-color: #f0f8ff;border: 1px dotted black;border-radius: 0.25em;box-sizing: border-box;margin-bottom: 0.5em;}#sk-container-id-16 div.sk-estimator:hover {background-color: #d4ebff;}#sk-container-id-16 div.sk-parallel-item::after {content: \"\";width: 100%;border-bottom: 1px solid gray;flex-grow: 1;}#sk-container-id-16 div.sk-label:hover label.sk-toggleable__label {background-color: #d4ebff;}#sk-container-id-16 div.sk-serial::before {content: \"\";position: absolute;border-left: 1px solid gray;box-sizing: border-box;top: 0;bottom: 0;left: 50%;z-index: 0;}#sk-container-id-16 div.sk-serial {display: flex;flex-direction: column;align-items: center;background-color: white;padding-right: 0.2em;padding-left: 0.2em;position: relative;}#sk-container-id-16 div.sk-item {position: relative;z-index: 1;}#sk-container-id-16 div.sk-parallel {display: flex;align-items: stretch;justify-content: center;background-color: white;position: relative;}#sk-container-id-16 div.sk-item::before, #sk-container-id-16 div.sk-parallel-item::before {content: \"\";position: absolute;border-left: 1px solid gray;box-sizing: border-box;top: 0;bottom: 0;left: 50%;z-index: -1;}#sk-container-id-16 div.sk-parallel-item {display: flex;flex-direction: column;z-index: 1;position: relative;background-color: white;}#sk-container-id-16 div.sk-parallel-item:first-child::after {align-self: flex-end;width: 50%;}#sk-container-id-16 div.sk-parallel-item:last-child::after {align-self: flex-start;width: 50%;}#sk-container-id-16 div.sk-parallel-item:only-child::after {width: 0;}#sk-container-id-16 div.sk-dashed-wrapped {border: 1px dashed gray;margin: 0 0.4em 0.5em 0.4em;box-sizing: border-box;padding-bottom: 0.4em;background-color: white;}#sk-container-id-16 div.sk-label label {font-family: monospace;font-weight: bold;display: inline-block;line-height: 1.2em;}#sk-container-id-16 div.sk-label-container {text-align: center;}#sk-container-id-16 div.sk-container {/* jupyter's `normalize.less` sets `[hidden] { display: none; }` but bootstrap.min.css set `[hidden] { display: none !important; }` so we also need the `!important` here to be able to override the default hidden behavior on the sphinx rendered scikit-learn.org. See: https://github.com/scikit-learn/scikit-learn/issues/21755 */display: inline-block !important;position: relative;}#sk-container-id-16 div.sk-text-repr-fallback {display: none;}</style><div id=\"sk-container-id-16\" class=\"sk-top-container\"><div class=\"sk-text-repr-fallback\"><pre>RandomForestClassifier(max_depth=4, min_samples_split=3, n_estimators=40,\n",
       "                       random_state=42)</pre><b>In a Jupyter environment, please rerun this cell to show the HTML representation or trust the notebook. <br />On GitHub, the HTML representation is unable to render, please try loading this page with nbviewer.org.</b></div><div class=\"sk-container\" hidden><div class=\"sk-item\"><div class=\"sk-estimator sk-toggleable\"><input class=\"sk-toggleable__control sk-hidden--visually\" id=\"sk-estimator-id-16\" type=\"checkbox\" checked><label for=\"sk-estimator-id-16\" class=\"sk-toggleable__label sk-toggleable__label-arrow\">RandomForestClassifier</label><div class=\"sk-toggleable__content\"><pre>RandomForestClassifier(max_depth=4, min_samples_split=3, n_estimators=40,\n",
       "                       random_state=42)</pre></div></div></div></div></div>"
      ],
      "text/plain": [
       "RandomForestClassifier(max_depth=4, min_samples_split=3, n_estimators=40,\n",
       "                       random_state=42)"
      ]
     },
     "execution_count": 87,
     "metadata": {},
     "output_type": "execute_result"
    }
   ],
   "source": [
    "# creating a RF classifier\n",
    "rf_clf_3 = RandomForestClassifier(max_depth = 4, n_estimators = 40, min_samples_split = 3, random_state = 42) \n",
    " \n",
    "# Training the model on the training dataset\n",
    "rf_clf_3.fit(X_train, y_train)"
   ]
  },
  {
   "cell_type": "code",
   "execution_count": 88,
   "id": "7177cff2",
   "metadata": {},
   "outputs": [
    {
     "name": "stdout",
     "output_type": "stream",
     "text": [
      "ACCURACY OF THE RANDOM FOREST CLASSIFIER MODEL ON DATASET 3:  0.5271317829457365\n"
     ]
    }
   ],
   "source": [
    "rf_clf_3_score = rf_clf_3.score(X_test,y_test)\n",
    "print(\"ACCURACY OF THE RANDOM FOREST CLASSIFIER MODEL ON DATASET 3: \", rf_clf_3_score) "
   ]
  },
  {
   "cell_type": "markdown",
   "id": "25da7d19",
   "metadata": {},
   "source": [
    "### 4. SVM - Dataset 3"
   ]
  },
  {
   "cell_type": "markdown",
   "id": "4e2b7514",
   "metadata": {},
   "source": [
    "#### Perform a grid search to find the optimal parameters for this Support Vector Machine Classifier"
   ]
  },
  {
   "cell_type": "code",
   "execution_count": 89,
   "id": "baf2d339",
   "metadata": {},
   "outputs": [
    {
     "name": "stderr",
     "output_type": "stream",
     "text": [
      "/Users/dbello/opt/anaconda3/lib/python3.9/site-packages/sklearn/model_selection/_split.py:680: UserWarning: The least populated class in y has only 1 members, which is less than n_splits=10.\n",
      "  warnings.warn(\n"
     ]
    },
    {
     "name": "stdout",
     "output_type": "stream",
     "text": [
      "Fitting 10 folds for each of 25 candidates, totalling 250 fits\n",
      "The best parameters are:  {'C': 10, 'gamma': 0.0001, 'kernel': 'rbf'}\n"
     ]
    }
   ],
   "source": [
    "# Defining parameter range\n",
    "param_grid = {'C': [0.1, 1, 10, 100, 1000],\n",
    "              'gamma': [1, 0.1, 0.01, 0.001, 0.0001],\n",
    "              'kernel': ['rbf']}\n",
    "\n",
    "SVM_clf_grid_search_cv = GridSearchCV(svm.SVC(), \n",
    "                              param_grid=param_grid, refit = True, verbose=1, cv=10)\n",
    "\n",
    "SVM_clf_grid_search_cv.fit(X_train, y_train)\n",
    "\n",
    "print(\"The best parameters are: \", SVM_clf_grid_search_cv.best_params_)"
   ]
  },
  {
   "cell_type": "markdown",
   "id": "eb821239",
   "metadata": {},
   "source": [
    "The best parameters are:  C = 10, gamma = 0.0001, kernel = 'rbf'"
   ]
  },
  {
   "cell_type": "code",
   "execution_count": 90,
   "id": "a3ee2a40",
   "metadata": {},
   "outputs": [
    {
     "data": {
      "text/html": [
       "<style>#sk-container-id-17 {color: black;background-color: white;}#sk-container-id-17 pre{padding: 0;}#sk-container-id-17 div.sk-toggleable {background-color: white;}#sk-container-id-17 label.sk-toggleable__label {cursor: pointer;display: block;width: 100%;margin-bottom: 0;padding: 0.3em;box-sizing: border-box;text-align: center;}#sk-container-id-17 label.sk-toggleable__label-arrow:before {content: \"▸\";float: left;margin-right: 0.25em;color: #696969;}#sk-container-id-17 label.sk-toggleable__label-arrow:hover:before {color: black;}#sk-container-id-17 div.sk-estimator:hover label.sk-toggleable__label-arrow:before {color: black;}#sk-container-id-17 div.sk-toggleable__content {max-height: 0;max-width: 0;overflow: hidden;text-align: left;background-color: #f0f8ff;}#sk-container-id-17 div.sk-toggleable__content pre {margin: 0.2em;color: black;border-radius: 0.25em;background-color: #f0f8ff;}#sk-container-id-17 input.sk-toggleable__control:checked~div.sk-toggleable__content {max-height: 200px;max-width: 100%;overflow: auto;}#sk-container-id-17 input.sk-toggleable__control:checked~label.sk-toggleable__label-arrow:before {content: \"▾\";}#sk-container-id-17 div.sk-estimator input.sk-toggleable__control:checked~label.sk-toggleable__label {background-color: #d4ebff;}#sk-container-id-17 div.sk-label input.sk-toggleable__control:checked~label.sk-toggleable__label {background-color: #d4ebff;}#sk-container-id-17 input.sk-hidden--visually {border: 0;clip: rect(1px 1px 1px 1px);clip: rect(1px, 1px, 1px, 1px);height: 1px;margin: -1px;overflow: hidden;padding: 0;position: absolute;width: 1px;}#sk-container-id-17 div.sk-estimator {font-family: monospace;background-color: #f0f8ff;border: 1px dotted black;border-radius: 0.25em;box-sizing: border-box;margin-bottom: 0.5em;}#sk-container-id-17 div.sk-estimator:hover {background-color: #d4ebff;}#sk-container-id-17 div.sk-parallel-item::after {content: \"\";width: 100%;border-bottom: 1px solid gray;flex-grow: 1;}#sk-container-id-17 div.sk-label:hover label.sk-toggleable__label {background-color: #d4ebff;}#sk-container-id-17 div.sk-serial::before {content: \"\";position: absolute;border-left: 1px solid gray;box-sizing: border-box;top: 0;bottom: 0;left: 50%;z-index: 0;}#sk-container-id-17 div.sk-serial {display: flex;flex-direction: column;align-items: center;background-color: white;padding-right: 0.2em;padding-left: 0.2em;position: relative;}#sk-container-id-17 div.sk-item {position: relative;z-index: 1;}#sk-container-id-17 div.sk-parallel {display: flex;align-items: stretch;justify-content: center;background-color: white;position: relative;}#sk-container-id-17 div.sk-item::before, #sk-container-id-17 div.sk-parallel-item::before {content: \"\";position: absolute;border-left: 1px solid gray;box-sizing: border-box;top: 0;bottom: 0;left: 50%;z-index: -1;}#sk-container-id-17 div.sk-parallel-item {display: flex;flex-direction: column;z-index: 1;position: relative;background-color: white;}#sk-container-id-17 div.sk-parallel-item:first-child::after {align-self: flex-end;width: 50%;}#sk-container-id-17 div.sk-parallel-item:last-child::after {align-self: flex-start;width: 50%;}#sk-container-id-17 div.sk-parallel-item:only-child::after {width: 0;}#sk-container-id-17 div.sk-dashed-wrapped {border: 1px dashed gray;margin: 0 0.4em 0.5em 0.4em;box-sizing: border-box;padding-bottom: 0.4em;background-color: white;}#sk-container-id-17 div.sk-label label {font-family: monospace;font-weight: bold;display: inline-block;line-height: 1.2em;}#sk-container-id-17 div.sk-label-container {text-align: center;}#sk-container-id-17 div.sk-container {/* jupyter's `normalize.less` sets `[hidden] { display: none; }` but bootstrap.min.css set `[hidden] { display: none !important; }` so we also need the `!important` here to be able to override the default hidden behavior on the sphinx rendered scikit-learn.org. See: https://github.com/scikit-learn/scikit-learn/issues/21755 */display: inline-block !important;position: relative;}#sk-container-id-17 div.sk-text-repr-fallback {display: none;}</style><div id=\"sk-container-id-17\" class=\"sk-top-container\"><div class=\"sk-text-repr-fallback\"><pre>SVC(C=10, gamma=0.0001)</pre><b>In a Jupyter environment, please rerun this cell to show the HTML representation or trust the notebook. <br />On GitHub, the HTML representation is unable to render, please try loading this page with nbviewer.org.</b></div><div class=\"sk-container\" hidden><div class=\"sk-item\"><div class=\"sk-estimator sk-toggleable\"><input class=\"sk-toggleable__control sk-hidden--visually\" id=\"sk-estimator-id-17\" type=\"checkbox\" checked><label for=\"sk-estimator-id-17\" class=\"sk-toggleable__label sk-toggleable__label-arrow\">SVC</label><div class=\"sk-toggleable__content\"><pre>SVC(C=10, gamma=0.0001)</pre></div></div></div></div></div>"
      ],
      "text/plain": [
       "SVC(C=10, gamma=0.0001)"
      ]
     },
     "execution_count": 90,
     "metadata": {},
     "output_type": "execute_result"
    }
   ],
   "source": [
    "#Create a svm Classifier\n",
    "svm_clf_3 = svm.SVC(C = 10, gamma = 0.0001, kernel = 'rbf') # Linear Kernel\n",
    "\n",
    "#Train the model using the training sets\n",
    "svm_clf_3.fit(X_train, y_train)"
   ]
  },
  {
   "cell_type": "code",
   "execution_count": 91,
   "id": "ef378aed",
   "metadata": {},
   "outputs": [
    {
     "name": "stdout",
     "output_type": "stream",
     "text": [
      "ACCURACY OF THE RANDOM SUPPORT VECTOR MACHINE MODEL ON DATASET 3:  0.5348837209302325\n"
     ]
    }
   ],
   "source": [
    "svm_clf_3_score = svm_clf_3.score(X_test,y_test)\n",
    "print(\"ACCURACY OF THE RANDOM SUPPORT VECTOR MACHINE MODEL ON DATASET 3: \", svm_clf_3_score) "
   ]
  },
  {
   "cell_type": "markdown",
   "id": "f9a1bf23",
   "metadata": {},
   "source": [
    "### 5. KNN - Dataset 3"
   ]
  },
  {
   "cell_type": "markdown",
   "id": "0a86e148",
   "metadata": {},
   "source": [
    "#### Perform a grid search to find the optimal parameters for this k Nearest Neighbors Classifier"
   ]
  },
  {
   "cell_type": "code",
   "execution_count": 92,
   "id": "83b0d513",
   "metadata": {},
   "outputs": [
    {
     "name": "stdout",
     "output_type": "stream",
     "text": [
      "Fitting 10 folds for each of 30 candidates, totalling 300 fits\n"
     ]
    },
    {
     "name": "stderr",
     "output_type": "stream",
     "text": [
      "/Users/dbello/opt/anaconda3/lib/python3.9/site-packages/sklearn/model_selection/_split.py:680: UserWarning: The least populated class in y has only 1 members, which is less than n_splits=10.\n",
      "  warnings.warn(\n"
     ]
    },
    {
     "name": "stdout",
     "output_type": "stream",
     "text": [
      "The best parameters are:  {'n_neighbors': 27}\n"
     ]
    }
   ],
   "source": [
    "k_range = list(range(1, 31))\n",
    "param_grid = dict(n_neighbors=k_range)\n",
    "\n",
    "KNN_clf_grid_search_cv = GridSearchCV(KNeighborsClassifier(), \n",
    "                              param_grid=param_grid, verbose=1, cv=10)\n",
    "\n",
    "KNN_clf_grid_search_cv.fit(X_train, y_train)\n",
    "\n",
    "print(\"The best parameters are: \", KNN_clf_grid_search_cv.best_params_)"
   ]
  },
  {
   "cell_type": "markdown",
   "id": "7873c454",
   "metadata": {},
   "source": [
    "The best parameters are:  n_neighbors = 27"
   ]
  },
  {
   "cell_type": "code",
   "execution_count": 93,
   "id": "c5b0d51f",
   "metadata": {},
   "outputs": [
    {
     "data": {
      "text/html": [
       "<style>#sk-container-id-18 {color: black;background-color: white;}#sk-container-id-18 pre{padding: 0;}#sk-container-id-18 div.sk-toggleable {background-color: white;}#sk-container-id-18 label.sk-toggleable__label {cursor: pointer;display: block;width: 100%;margin-bottom: 0;padding: 0.3em;box-sizing: border-box;text-align: center;}#sk-container-id-18 label.sk-toggleable__label-arrow:before {content: \"▸\";float: left;margin-right: 0.25em;color: #696969;}#sk-container-id-18 label.sk-toggleable__label-arrow:hover:before {color: black;}#sk-container-id-18 div.sk-estimator:hover label.sk-toggleable__label-arrow:before {color: black;}#sk-container-id-18 div.sk-toggleable__content {max-height: 0;max-width: 0;overflow: hidden;text-align: left;background-color: #f0f8ff;}#sk-container-id-18 div.sk-toggleable__content pre {margin: 0.2em;color: black;border-radius: 0.25em;background-color: #f0f8ff;}#sk-container-id-18 input.sk-toggleable__control:checked~div.sk-toggleable__content {max-height: 200px;max-width: 100%;overflow: auto;}#sk-container-id-18 input.sk-toggleable__control:checked~label.sk-toggleable__label-arrow:before {content: \"▾\";}#sk-container-id-18 div.sk-estimator input.sk-toggleable__control:checked~label.sk-toggleable__label {background-color: #d4ebff;}#sk-container-id-18 div.sk-label input.sk-toggleable__control:checked~label.sk-toggleable__label {background-color: #d4ebff;}#sk-container-id-18 input.sk-hidden--visually {border: 0;clip: rect(1px 1px 1px 1px);clip: rect(1px, 1px, 1px, 1px);height: 1px;margin: -1px;overflow: hidden;padding: 0;position: absolute;width: 1px;}#sk-container-id-18 div.sk-estimator {font-family: monospace;background-color: #f0f8ff;border: 1px dotted black;border-radius: 0.25em;box-sizing: border-box;margin-bottom: 0.5em;}#sk-container-id-18 div.sk-estimator:hover {background-color: #d4ebff;}#sk-container-id-18 div.sk-parallel-item::after {content: \"\";width: 100%;border-bottom: 1px solid gray;flex-grow: 1;}#sk-container-id-18 div.sk-label:hover label.sk-toggleable__label {background-color: #d4ebff;}#sk-container-id-18 div.sk-serial::before {content: \"\";position: absolute;border-left: 1px solid gray;box-sizing: border-box;top: 0;bottom: 0;left: 50%;z-index: 0;}#sk-container-id-18 div.sk-serial {display: flex;flex-direction: column;align-items: center;background-color: white;padding-right: 0.2em;padding-left: 0.2em;position: relative;}#sk-container-id-18 div.sk-item {position: relative;z-index: 1;}#sk-container-id-18 div.sk-parallel {display: flex;align-items: stretch;justify-content: center;background-color: white;position: relative;}#sk-container-id-18 div.sk-item::before, #sk-container-id-18 div.sk-parallel-item::before {content: \"\";position: absolute;border-left: 1px solid gray;box-sizing: border-box;top: 0;bottom: 0;left: 50%;z-index: -1;}#sk-container-id-18 div.sk-parallel-item {display: flex;flex-direction: column;z-index: 1;position: relative;background-color: white;}#sk-container-id-18 div.sk-parallel-item:first-child::after {align-self: flex-end;width: 50%;}#sk-container-id-18 div.sk-parallel-item:last-child::after {align-self: flex-start;width: 50%;}#sk-container-id-18 div.sk-parallel-item:only-child::after {width: 0;}#sk-container-id-18 div.sk-dashed-wrapped {border: 1px dashed gray;margin: 0 0.4em 0.5em 0.4em;box-sizing: border-box;padding-bottom: 0.4em;background-color: white;}#sk-container-id-18 div.sk-label label {font-family: monospace;font-weight: bold;display: inline-block;line-height: 1.2em;}#sk-container-id-18 div.sk-label-container {text-align: center;}#sk-container-id-18 div.sk-container {/* jupyter's `normalize.less` sets `[hidden] { display: none; }` but bootstrap.min.css set `[hidden] { display: none !important; }` so we also need the `!important` here to be able to override the default hidden behavior on the sphinx rendered scikit-learn.org. See: https://github.com/scikit-learn/scikit-learn/issues/21755 */display: inline-block !important;position: relative;}#sk-container-id-18 div.sk-text-repr-fallback {display: none;}</style><div id=\"sk-container-id-18\" class=\"sk-top-container\"><div class=\"sk-text-repr-fallback\"><pre>KNeighborsClassifier(n_neighbors=27)</pre><b>In a Jupyter environment, please rerun this cell to show the HTML representation or trust the notebook. <br />On GitHub, the HTML representation is unable to render, please try loading this page with nbviewer.org.</b></div><div class=\"sk-container\" hidden><div class=\"sk-item\"><div class=\"sk-estimator sk-toggleable\"><input class=\"sk-toggleable__control sk-hidden--visually\" id=\"sk-estimator-id-18\" type=\"checkbox\" checked><label for=\"sk-estimator-id-18\" class=\"sk-toggleable__label sk-toggleable__label-arrow\">KNeighborsClassifier</label><div class=\"sk-toggleable__content\"><pre>KNeighborsClassifier(n_neighbors=27)</pre></div></div></div></div></div>"
      ],
      "text/plain": [
       "KNeighborsClassifier(n_neighbors=27)"
      ]
     },
     "execution_count": 93,
     "metadata": {},
     "output_type": "execute_result"
    }
   ],
   "source": [
    "knn_clf_3 = KNeighborsClassifier(n_neighbors=27)\n",
    " \n",
    "#Train the model using the training sets\n",
    "knn_clf_3.fit(X_train, y_train)"
   ]
  },
  {
   "cell_type": "code",
   "execution_count": 94,
   "id": "bc7811d3",
   "metadata": {},
   "outputs": [
    {
     "name": "stdout",
     "output_type": "stream",
     "text": [
      "ACCURACY OF THE K NEIGHBORS CLASSIFIER MODEL ON DATASET 3:  0.5\n"
     ]
    }
   ],
   "source": [
    "knn_clf_3_score = knn_clf_3.score(X_test,y_test)\n",
    "print(\"ACCURACY OF THE K NEIGHBORS CLASSIFIER MODEL ON DATASET 3: \", knn_clf_3_score) "
   ]
  },
  {
   "cell_type": "markdown",
   "id": "2872cbd6",
   "metadata": {},
   "source": [
    "### 6. Naive Bayes - Dataset 3"
   ]
  },
  {
   "cell_type": "code",
   "execution_count": 95,
   "id": "e0d218ea",
   "metadata": {},
   "outputs": [
    {
     "data": {
      "text/html": [
       "<style>#sk-container-id-19 {color: black;background-color: white;}#sk-container-id-19 pre{padding: 0;}#sk-container-id-19 div.sk-toggleable {background-color: white;}#sk-container-id-19 label.sk-toggleable__label {cursor: pointer;display: block;width: 100%;margin-bottom: 0;padding: 0.3em;box-sizing: border-box;text-align: center;}#sk-container-id-19 label.sk-toggleable__label-arrow:before {content: \"▸\";float: left;margin-right: 0.25em;color: #696969;}#sk-container-id-19 label.sk-toggleable__label-arrow:hover:before {color: black;}#sk-container-id-19 div.sk-estimator:hover label.sk-toggleable__label-arrow:before {color: black;}#sk-container-id-19 div.sk-toggleable__content {max-height: 0;max-width: 0;overflow: hidden;text-align: left;background-color: #f0f8ff;}#sk-container-id-19 div.sk-toggleable__content pre {margin: 0.2em;color: black;border-radius: 0.25em;background-color: #f0f8ff;}#sk-container-id-19 input.sk-toggleable__control:checked~div.sk-toggleable__content {max-height: 200px;max-width: 100%;overflow: auto;}#sk-container-id-19 input.sk-toggleable__control:checked~label.sk-toggleable__label-arrow:before {content: \"▾\";}#sk-container-id-19 div.sk-estimator input.sk-toggleable__control:checked~label.sk-toggleable__label {background-color: #d4ebff;}#sk-container-id-19 div.sk-label input.sk-toggleable__control:checked~label.sk-toggleable__label {background-color: #d4ebff;}#sk-container-id-19 input.sk-hidden--visually {border: 0;clip: rect(1px 1px 1px 1px);clip: rect(1px, 1px, 1px, 1px);height: 1px;margin: -1px;overflow: hidden;padding: 0;position: absolute;width: 1px;}#sk-container-id-19 div.sk-estimator {font-family: monospace;background-color: #f0f8ff;border: 1px dotted black;border-radius: 0.25em;box-sizing: border-box;margin-bottom: 0.5em;}#sk-container-id-19 div.sk-estimator:hover {background-color: #d4ebff;}#sk-container-id-19 div.sk-parallel-item::after {content: \"\";width: 100%;border-bottom: 1px solid gray;flex-grow: 1;}#sk-container-id-19 div.sk-label:hover label.sk-toggleable__label {background-color: #d4ebff;}#sk-container-id-19 div.sk-serial::before {content: \"\";position: absolute;border-left: 1px solid gray;box-sizing: border-box;top: 0;bottom: 0;left: 50%;z-index: 0;}#sk-container-id-19 div.sk-serial {display: flex;flex-direction: column;align-items: center;background-color: white;padding-right: 0.2em;padding-left: 0.2em;position: relative;}#sk-container-id-19 div.sk-item {position: relative;z-index: 1;}#sk-container-id-19 div.sk-parallel {display: flex;align-items: stretch;justify-content: center;background-color: white;position: relative;}#sk-container-id-19 div.sk-item::before, #sk-container-id-19 div.sk-parallel-item::before {content: \"\";position: absolute;border-left: 1px solid gray;box-sizing: border-box;top: 0;bottom: 0;left: 50%;z-index: -1;}#sk-container-id-19 div.sk-parallel-item {display: flex;flex-direction: column;z-index: 1;position: relative;background-color: white;}#sk-container-id-19 div.sk-parallel-item:first-child::after {align-self: flex-end;width: 50%;}#sk-container-id-19 div.sk-parallel-item:last-child::after {align-self: flex-start;width: 50%;}#sk-container-id-19 div.sk-parallel-item:only-child::after {width: 0;}#sk-container-id-19 div.sk-dashed-wrapped {border: 1px dashed gray;margin: 0 0.4em 0.5em 0.4em;box-sizing: border-box;padding-bottom: 0.4em;background-color: white;}#sk-container-id-19 div.sk-label label {font-family: monospace;font-weight: bold;display: inline-block;line-height: 1.2em;}#sk-container-id-19 div.sk-label-container {text-align: center;}#sk-container-id-19 div.sk-container {/* jupyter's `normalize.less` sets `[hidden] { display: none; }` but bootstrap.min.css set `[hidden] { display: none !important; }` so we also need the `!important` here to be able to override the default hidden behavior on the sphinx rendered scikit-learn.org. See: https://github.com/scikit-learn/scikit-learn/issues/21755 */display: inline-block !important;position: relative;}#sk-container-id-19 div.sk-text-repr-fallback {display: none;}</style><div id=\"sk-container-id-19\" class=\"sk-top-container\"><div class=\"sk-text-repr-fallback\"><pre>GaussianNB()</pre><b>In a Jupyter environment, please rerun this cell to show the HTML representation or trust the notebook. <br />On GitHub, the HTML representation is unable to render, please try loading this page with nbviewer.org.</b></div><div class=\"sk-container\" hidden><div class=\"sk-item\"><div class=\"sk-estimator sk-toggleable\"><input class=\"sk-toggleable__control sk-hidden--visually\" id=\"sk-estimator-id-19\" type=\"checkbox\" checked><label for=\"sk-estimator-id-19\" class=\"sk-toggleable__label sk-toggleable__label-arrow\">GaussianNB</label><div class=\"sk-toggleable__content\"><pre>GaussianNB()</pre></div></div></div></div></div>"
      ],
      "text/plain": [
       "GaussianNB()"
      ]
     },
     "execution_count": 95,
     "metadata": {},
     "output_type": "execute_result"
    }
   ],
   "source": [
    "nb_clf_3 = GaussianNB()\n",
    "\n",
    "nb_clf_3.fit(X_train, y_train)"
   ]
  },
  {
   "cell_type": "code",
   "execution_count": 96,
   "id": "79dc7ee8",
   "metadata": {},
   "outputs": [
    {
     "name": "stdout",
     "output_type": "stream",
     "text": [
      "ACCURACY OF THE NAIVE BAYES MODEL ON DATASET 3:  0.46511627906976744\n"
     ]
    }
   ],
   "source": [
    "nb_clf_3_score = nb_clf_3.score(X_test,y_test)\n",
    "print(\"ACCURACY OF THE NAIVE BAYES MODEL ON DATASET 3: \", nb_clf_3_score) "
   ]
  },
  {
   "cell_type": "markdown",
   "id": "c913e8fa",
   "metadata": {},
   "source": [
    "## Comparison of all the Models for the Three Datasets "
   ]
  },
  {
   "cell_type": "code",
   "execution_count": 97,
   "id": "6ce5dc7b",
   "metadata": {},
   "outputs": [
    {
     "name": "stderr",
     "output_type": "stream",
     "text": [
      "/var/folders/w3/vqfl42wd3fd53hbr0f08dkmshgfxtc/T/ipykernel_4390/2470103203.py:30: FutureWarning: Dropping of nuisance columns in DataFrame reductions (with 'numeric_only=None') is deprecated; in a future version this will raise TypeError.  Select only valid columns before calling the reduction.\n",
      "  df.loc['mean'] = df.mean()\n"
     ]
    },
    {
     "data": {
      "text/html": [
       "<div>\n",
       "<style scoped>\n",
       "    .dataframe tbody tr th:only-of-type {\n",
       "        vertical-align: middle;\n",
       "    }\n",
       "\n",
       "    .dataframe tbody tr th {\n",
       "        vertical-align: top;\n",
       "    }\n",
       "\n",
       "    .dataframe thead th {\n",
       "        text-align: right;\n",
       "    }\n",
       "</style>\n",
       "<table border=\"1\" class=\"dataframe\">\n",
       "  <thead>\n",
       "    <tr style=\"text-align: right;\">\n",
       "      <th></th>\n",
       "      <th>Model</th>\n",
       "      <th>Dataset 1</th>\n",
       "      <th>Dataset 2</th>\n",
       "      <th>Dataset 3</th>\n",
       "      <th>avg/score</th>\n",
       "    </tr>\n",
       "  </thead>\n",
       "  <tbody>\n",
       "    <tr>\n",
       "      <th>0</th>\n",
       "      <td>LR</td>\n",
       "      <td>0.523256</td>\n",
       "      <td>0.527132</td>\n",
       "      <td>0.476744</td>\n",
       "      <td>0.509044</td>\n",
       "    </tr>\n",
       "    <tr>\n",
       "      <th>1</th>\n",
       "      <td>CART</td>\n",
       "      <td>0.515504</td>\n",
       "      <td>0.542636</td>\n",
       "      <td>0.534884</td>\n",
       "      <td>0.531008</td>\n",
       "    </tr>\n",
       "    <tr>\n",
       "      <th>2</th>\n",
       "      <td>RF</td>\n",
       "      <td>0.523256</td>\n",
       "      <td>0.558140</td>\n",
       "      <td>0.527132</td>\n",
       "      <td>0.536176</td>\n",
       "    </tr>\n",
       "    <tr>\n",
       "      <th>3</th>\n",
       "      <td>SVM</td>\n",
       "      <td>0.511628</td>\n",
       "      <td>0.534884</td>\n",
       "      <td>0.534884</td>\n",
       "      <td>0.527132</td>\n",
       "    </tr>\n",
       "    <tr>\n",
       "      <th>4</th>\n",
       "      <td>KNN</td>\n",
       "      <td>0.519380</td>\n",
       "      <td>0.523256</td>\n",
       "      <td>0.500000</td>\n",
       "      <td>0.514212</td>\n",
       "    </tr>\n",
       "    <tr>\n",
       "      <th>5</th>\n",
       "      <td>NB</td>\n",
       "      <td>0.531008</td>\n",
       "      <td>0.546512</td>\n",
       "      <td>0.465116</td>\n",
       "      <td>0.514212</td>\n",
       "    </tr>\n",
       "    <tr>\n",
       "      <th>mean</th>\n",
       "      <td>NaN</td>\n",
       "      <td>0.520672</td>\n",
       "      <td>0.538760</td>\n",
       "      <td>0.506460</td>\n",
       "      <td>0.521964</td>\n",
       "    </tr>\n",
       "  </tbody>\n",
       "</table>\n",
       "</div>"
      ],
      "text/plain": [
       "     Model  Dataset 1  Dataset 2  Dataset 3  avg/score\n",
       "0       LR   0.523256   0.527132   0.476744   0.509044\n",
       "1     CART   0.515504   0.542636   0.534884   0.531008\n",
       "2       RF   0.523256   0.558140   0.527132   0.536176\n",
       "3      SVM   0.511628   0.534884   0.534884   0.527132\n",
       "4      KNN   0.519380   0.523256   0.500000   0.514212\n",
       "5       NB   0.531008   0.546512   0.465116   0.514212\n",
       "mean   NaN   0.520672   0.538760   0.506460   0.521964"
      ]
     },
     "execution_count": 97,
     "metadata": {},
     "output_type": "execute_result"
    }
   ],
   "source": [
    "# Let's buid a small dataset of the results of all the models to create a line plot\n",
    "\n",
    "# initialize data of lists.\n",
    "data = {'Model': ['LR','CART', 'RF', 'SVM', 'KNN', 'NB'],\n",
    "        'Dataset 1': [log_reg_1_score, \n",
    "                      tree_clf_1_score, \n",
    "                      rf_clf_1_score, \n",
    "                      svm_clf_1_score, \n",
    "                      knn_clf_1_score, \n",
    "                      nb_clf_1_score],  \n",
    "        'Dataset 2': [log_reg_2_score, \n",
    "                      tree_clf_2_score, \n",
    "                      rf_clf_2_score, \n",
    "                      svm_clf_2_score, \n",
    "                      knn_clf_2_score, \n",
    "                      nb_clf_2_score],\n",
    "        'Dataset 3':  [log_reg_3_score, \n",
    "                      tree_clf_3_score, \n",
    "                      rf_clf_3_score, \n",
    "                      svm_clf_3_score, \n",
    "                      knn_clf_3_score, \n",
    "                      nb_clf_3_score]}\n",
    "\n",
    "# Creates pandas DataFrame.\n",
    "df = pd.DataFrame(data)\n",
    "\n",
    "# Add a column for the averages of each model\n",
    "df['avg/score'] = df.mean(numeric_only=True, axis=1)\n",
    "\n",
    "df.loc['mean'] = df.mean()\n",
    "\n",
    "# print the data\n",
    "df"
   ]
  },
  {
   "cell_type": "code",
   "execution_count": 98,
   "id": "6dc88794",
   "metadata": {},
   "outputs": [],
   "source": [
    "#!pip install seaborn"
   ]
  },
  {
   "cell_type": "code",
   "execution_count": 99,
   "id": "246529bb",
   "metadata": {},
   "outputs": [],
   "source": [
    "#!pip install --upgrade pip"
   ]
  },
  {
   "cell_type": "code",
   "execution_count": 100,
   "id": "4d763697",
   "metadata": {},
   "outputs": [],
   "source": [
    "import seaborn as sns\n",
    "from matplotlib import pyplot as plt"
   ]
  },
  {
   "cell_type": "code",
   "execution_count": 101,
   "id": "b464c616",
   "metadata": {},
   "outputs": [
    {
     "data": {
      "text/plain": [
       "Text(0, 0.5, 'Accuracy Score')"
      ]
     },
     "execution_count": 101,
     "metadata": {},
     "output_type": "execute_result"
    },
    {
     "data": {
      "image/png": "[encoded data removed]",
      "text/plain": [
       "<Figure size 432x288 with 1 Axes>"
      ]
     },
     "metadata": {
      "needs_background": "light"
     },
     "output_type": "display_data"
    }
   ],
   "source": [
    "# Draw line plots\n",
    "\n",
    "fig, ax = plt.subplots()\n",
    "ax= sns.lineplot(x='Model', y='Dataset 1', data=df)\n",
    "ax1 = sns.lineplot(x='Model', y='Dataset 2', data=df)\n",
    "ax2 = sns.lineplot(x='Model', y='Dataset 3', data=df)\n",
    "plt.legend(labels=['Dataset 1','Dataset 2', 'Dataset 3'], title = \"Model Comparison\")\n",
    "ax.set_xlabel(\"Model\", fontsize = 14)\n",
    "ax.set_ylabel(\"Accuracy Score\", fontsize = 14)"
   ]
  },
  {
   "cell_type": "markdown",
   "id": "205a987a",
   "metadata": {},
   "source": [
    "Based on the mean of the accuracy scores of all the models, Dataset 2 is producing the best results."
   ]
  },
  {
   "cell_type": "markdown",
   "id": "b33e7c14",
   "metadata": {},
   "source": [
    "## Dataset 2"
   ]
  },
  {
   "cell_type": "code",
   "execution_count": 102,
   "id": "bf6c8a6b",
   "metadata": {},
   "outputs": [],
   "source": [
    "# Split dataset_2 for training and testing\n",
    "\n",
    "X = dataset_2.iloc[:,:-1]\n",
    "y = dataset_2['Approved']\n",
    "y = np.ravel(y, order = 'C')\n",
    "X_train, X_test, y_train, y_test = train_test_split(X, y, test_size=0.25, random_state=42)"
   ]
  },
  {
   "cell_type": "markdown",
   "id": "2f9aa1e6",
   "metadata": {},
   "source": [
    "## Model Comparison for Dataset 2 After Hyperparameter Tuning, cv=10"
   ]
  },
  {
   "cell_type": "code",
   "execution_count": 103,
   "id": "cd77065c",
   "metadata": {},
   "outputs": [
    {
     "data": {
      "image/png": "[encoded data removed]",
      "text/plain": [
       "<Figure size 360x360 with 1 Axes>"
      ]
     },
     "metadata": {
      "needs_background": "light"
     },
     "output_type": "display_data"
    }
   ],
   "source": [
    "fig = plt.figure(figsize=(5,5))\n",
    "fig.suptitle('Model Comparison for Dataset 2, cv=10, After Hyperparameter Tuning')\n",
    "ax = fig.add_subplot(111)\n",
    "ax.set_ylim(0.4, 0.55)\n",
    "plt.bar(df['Model'][0:6,], df['Dataset 2'][0:6,], color = 'green')\n",
    "#ax.set_xticklabels(names)\n",
    "plt.show()"
   ]
  },
  {
   "cell_type": "markdown",
   "id": "71df4c3b",
   "metadata": {},
   "source": [
    "## Model Comparison for Dataset 2 After Hyperparameter Tuning, cv=5"
   ]
  },
  {
   "cell_type": "code",
   "execution_count": 104,
   "id": "6a6a2f16",
   "metadata": {},
   "outputs": [
    {
     "data": {
      "image/png": "[encoded data removed]",
      "text/plain": [
       "<Figure size 360x360 with 1 Axes>"
      ]
     },
     "metadata": {
      "needs_background": "light"
     },
     "output_type": "display_data"
    }
   ],
   "source": [
    "fig = plt.figure(figsize=(5,5))\n",
    "fig.suptitle('Model Comparison for Dataset 2, cv=5, After Hyperparameter Tuning')\n",
    "ax = fig.add_subplot(111)\n",
    "ax.set_ylim(0.4, 0.55)\n",
    "plt.bar(df['Model'][0:6,], df['Dataset 2'][0:6,], color = 'brown')\n",
    "#ax.set_xticklabels(names)\n",
    "plt.show()"
   ]
  },
  {
   "cell_type": "markdown",
   "id": "0297d94a",
   "metadata": {},
   "source": [
    "## Compute Generalization Errors for Dataset 2"
   ]
  },
  {
   "cell_type": "code",
   "execution_count": 105,
   "id": "b9322233",
   "metadata": {},
   "outputs": [],
   "source": [
    "from sklearn.metrics import mean_squared_error"
   ]
  },
  {
   "cell_type": "code",
   "execution_count": 106,
   "id": "0bb9a33c",
   "metadata": {},
   "outputs": [
    {
     "name": "stdout",
     "output_type": "stream",
     "text": [
      "Logistic Regression Generalization Error: 0.4729\n"
     ]
    }
   ],
   "source": [
    "y_pred = log_reg_2.predict(X_test)\n",
    "print('Logistic Regression Generalization Error: {:.4f}'.format(mean_squared_error(y_test,y_pred)))"
   ]
  },
  {
   "cell_type": "code",
   "execution_count": 107,
   "id": "35c52770",
   "metadata": {},
   "outputs": [
    {
     "name": "stdout",
     "output_type": "stream",
     "text": [
      "Decision Tree Classifier Generalization Error: 0.4574\n"
     ]
    }
   ],
   "source": [
    "y_pred = tree_clf_2.predict(X_test)\n",
    "print('Decision Tree Classifier Generalization Error: {:.4f}'.format(mean_squared_error(y_test,y_pred)))"
   ]
  },
  {
   "cell_type": "code",
   "execution_count": 108,
   "id": "fda76a80",
   "metadata": {},
   "outputs": [
    {
     "name": "stdout",
     "output_type": "stream",
     "text": [
      "Random Forest Classifier Generalization Error: 0.4419\n"
     ]
    }
   ],
   "source": [
    "y_pred = rf_clf_2.predict(X_test)\n",
    "print('Random Forest Classifier Generalization Error: {:.4f}'.format(mean_squared_error(y_test,y_pred)))"
   ]
  },
  {
   "cell_type": "code",
   "execution_count": 109,
   "id": "a01a2c77",
   "metadata": {},
   "outputs": [
    {
     "name": "stdout",
     "output_type": "stream",
     "text": [
      "SVM Classifier Generalization Error: 0.4651\n"
     ]
    }
   ],
   "source": [
    "y_pred = svm_clf_2.predict(X_test)\n",
    "print('SVM Classifier Generalization Error: {:.4f}'.format(mean_squared_error(y_test,y_pred)))"
   ]
  },
  {
   "cell_type": "code",
   "execution_count": 110,
   "id": "7f77a8ae",
   "metadata": {},
   "outputs": [
    {
     "name": "stdout",
     "output_type": "stream",
     "text": [
      "KNN Classifier Generalization Error: 0.4767\n"
     ]
    }
   ],
   "source": [
    "y_pred = knn_clf_2.predict(X_test)\n",
    "print('KNN Classifier Generalization Error: {:.4f}'.format(mean_squared_error(y_test,y_pred)))"
   ]
  },
  {
   "cell_type": "code",
   "execution_count": 111,
   "id": "9fafba21",
   "metadata": {},
   "outputs": [
    {
     "name": "stdout",
     "output_type": "stream",
     "text": [
      "Naive-Bayes Classifier Generalization Error: 0.4535\n"
     ]
    }
   ],
   "source": [
    "y_pred = nb_clf_2.predict(X_test)\n",
    "print('Naive-Bayes Classifier Generalization Error: {:.4f}'.format(mean_squared_error(y_test,y_pred)))"
   ]
  },
  {
   "cell_type": "markdown",
   "id": "127ae736",
   "metadata": {},
   "source": [
    "#### The generalization error of the Random Forest Classifier model was the lowest of the six, meaning that this model's line of fit is the one that yields the lowest average squared distances to the data points."
   ]
  },
  {
   "cell_type": "markdown",
   "id": "4759be97",
   "metadata": {},
   "source": [
    "## Non-Nested Cross Validation for Decision Tree Classifier - Dataset 2\n",
    "Here we perform non-nested cross validation on the model with the lowest MSE"
   ]
  },
  {
   "cell_type": "code",
   "execution_count": 112,
   "id": "c83f0633",
   "metadata": {},
   "outputs": [],
   "source": [
    "from sklearn import model_selection\n",
    "from sklearn.model_selection import cross_val_score"
   ]
  },
  {
   "cell_type": "code",
   "execution_count": 113,
   "id": "1727c145",
   "metadata": {},
   "outputs": [
    {
     "name": "stderr",
     "output_type": "stream",
     "text": [
      "/Users/dbello/opt/anaconda3/lib/python3.9/site-packages/sklearn/model_selection/_split.py:680: UserWarning: The least populated class in y has only 1 members, which is less than n_splits=5.\n",
      "  warnings.warn(\n"
     ]
    },
    {
     "data": {
      "text/plain": [
       "array([0.47096774, 0.50967742, 0.56129032, 0.63225806, 0.5974026 ])"
      ]
     },
     "execution_count": 113,
     "metadata": {},
     "output_type": "execute_result"
    }
   ],
   "source": [
    "cv_results1 = cross_val_score(rf_clf_2, X_train, y_train, cv=5, scoring=\"accuracy\")\n",
    "cv_results1"
   ]
  },
  {
   "cell_type": "code",
   "execution_count": 114,
   "id": "4cb4c0c5",
   "metadata": {},
   "outputs": [
    {
     "data": {
      "text/plain": [
       "0.5543192291579389"
      ]
     },
     "execution_count": 114,
     "metadata": {},
     "output_type": "execute_result"
    }
   ],
   "source": [
    "cv_results1.mean()"
   ]
  },
  {
   "cell_type": "code",
   "execution_count": 115,
   "id": "d8350d5f",
   "metadata": {},
   "outputs": [
    {
     "name": "stderr",
     "output_type": "stream",
     "text": [
      "/Users/dbello/opt/anaconda3/lib/python3.9/site-packages/sklearn/model_selection/_split.py:680: UserWarning: The least populated class in y has only 1 members, which is less than n_splits=10.\n",
      "  warnings.warn(\n"
     ]
    },
    {
     "data": {
      "text/plain": [
       "array([0.53846154, 0.48717949, 0.55128205, 0.47435897, 0.61038961,\n",
       "       0.44155844, 0.66233766, 0.53246753, 0.62337662, 0.67532468])"
      ]
     },
     "execution_count": 115,
     "metadata": {},
     "output_type": "execute_result"
    }
   ],
   "source": [
    "cv_results1 = cross_val_score(rf_clf_2, X_train, y_train, cv=10, scoring=\"accuracy\")\n",
    "cv_results1"
   ]
  },
  {
   "cell_type": "code",
   "execution_count": 116,
   "id": "f098b9b3",
   "metadata": {},
   "outputs": [
    {
     "data": {
      "text/plain": [
       "0.5596736596736597"
      ]
     },
     "execution_count": 116,
     "metadata": {},
     "output_type": "execute_result"
    }
   ],
   "source": [
    "cv_results1.mean()"
   ]
  },
  {
   "cell_type": "markdown",
   "id": "2e091903",
   "metadata": {},
   "source": [
    "## Nested Cross Validation for Decision Tree Classifier - Dataset 2\n",
    "Here we perform nested cross validation on the model with the lowest MSE"
   ]
  },
  {
   "cell_type": "code",
   "execution_count": 117,
   "id": "2cf7e6bb",
   "metadata": {},
   "outputs": [],
   "source": [
    "params = {'max_depth': [7,8,9], \n",
    "              'splitter': [\"best\", \"random\"], \n",
    "              'min_samples_split': [8,9,10]}"
   ]
  },
  {
   "cell_type": "code",
   "execution_count": 118,
   "id": "f9a6a899",
   "metadata": {},
   "outputs": [
    {
     "name": "stderr",
     "output_type": "stream",
     "text": [
      "/Users/dbello/opt/anaconda3/lib/python3.9/site-packages/sklearn/model_selection/_split.py:680: UserWarning: The least populated class in y has only 1 members, which is less than n_splits=4.\n",
      "  warnings.warn(\n",
      "/Users/dbello/opt/anaconda3/lib/python3.9/site-packages/sklearn/model_selection/_split.py:680: UserWarning: The least populated class in y has only 1 members, which is less than n_splits=5.\n",
      "  warnings.warn(\n",
      "/Users/dbello/opt/anaconda3/lib/python3.9/site-packages/sklearn/model_selection/_split.py:680: UserWarning: The least populated class in y has only 1 members, which is less than n_splits=5.\n",
      "  warnings.warn(\n",
      "/Users/dbello/opt/anaconda3/lib/python3.9/site-packages/sklearn/model_selection/_split.py:680: UserWarning: The least populated class in y has only 1 members, which is less than n_splits=5.\n",
      "  warnings.warn(\n"
     ]
    },
    {
     "data": {
      "text/plain": [
       "array([0.51550388, 0.49612403, 0.53488372, 0.53488372])"
      ]
     },
     "execution_count": 118,
     "metadata": {},
     "output_type": "execute_result"
    }
   ],
   "source": [
    "# 4-outer (error estimation w/ optimal hyperparameters), 5-inner (hyperparameter tuning) nested CV\n",
    "clf = GridSearchCV(estimator=tree_clf_2, param_grid=params, cv=5) # inner\n",
    "# cross_val_score takes care of splitting the data into folds. No need to use train_test_split\n",
    "nested_scores = cross_val_score(estimator=clf, X=X, y=y, cv=4, scoring='accuracy') # outer \n",
    "nested_scores"
   ]
  },
  {
   "cell_type": "code",
   "execution_count": 119,
   "id": "80357093",
   "metadata": {},
   "outputs": [
    {
     "name": "stderr",
     "output_type": "stream",
     "text": [
      "/Users/dbello/opt/anaconda3/lib/python3.9/site-packages/sklearn/model_selection/_split.py:680: UserWarning: The least populated class in y has only 1 members, which is less than n_splits=10.\n",
      "  warnings.warn(\n"
     ]
    },
    {
     "data": {
      "text/plain": [
       "0.5596736596736597"
      ]
     },
     "execution_count": 119,
     "metadata": {},
     "output_type": "execute_result"
    }
   ],
   "source": [
    "cv_results1 = cross_val_score(rf_clf_2, X_train, y_train, cv=10, scoring=\"accuracy\")\n",
    "cv_results1.mean()"
   ]
  },
  {
   "cell_type": "code",
   "execution_count": 120,
   "id": "214f4f3b",
   "metadata": {},
   "outputs": [
    {
     "data": {
      "text/plain": [
       "array([0.51550388, 0.49612403, 0.53488372, 0.53488372])"
      ]
     },
     "execution_count": 120,
     "metadata": {},
     "output_type": "execute_result"
    }
   ],
   "source": [
    "nested_scores"
   ]
  },
  {
   "cell_type": "code",
   "execution_count": 121,
   "id": "c9c9161e",
   "metadata": {},
   "outputs": [
    {
     "data": {
      "text/plain": [
       "0.5203488372093024"
      ]
     },
     "execution_count": 121,
     "metadata": {},
     "output_type": "execute_result"
    }
   ],
   "source": [
    "nested_scores.mean()"
   ]
  },
  {
   "cell_type": "markdown",
   "id": "9e48e703",
   "metadata": {},
   "source": [
    "## Confusion Matrix"
   ]
  },
  {
   "cell_type": "code",
   "execution_count": 122,
   "id": "4d0ba139",
   "metadata": {},
   "outputs": [],
   "source": [
    "y_predict = rf_clf_2.predict(X_test)"
   ]
  },
  {
   "cell_type": "code",
   "execution_count": 123,
   "id": "dbbe158d",
   "metadata": {},
   "outputs": [
    {
     "data": {
      "text/plain": [
       "array([[53, 71],\n",
       "       [46, 88]])"
      ]
     },
     "execution_count": 123,
     "metadata": {},
     "output_type": "execute_result"
    }
   ],
   "source": [
    "from sklearn.metrics import confusion_matrix\n",
    "cm = confusion_matrix(y_test, y_pred)\n",
    "cm"
   ]
  },
  {
   "cell_type": "markdown",
   "id": "b2865068",
   "metadata": {},
   "source": [
    "## Precision and Recall"
   ]
  },
  {
   "cell_type": "code",
   "execution_count": 124,
   "id": "64800d61",
   "metadata": {},
   "outputs": [
    {
     "data": {
      "text/plain": [
       "0.5534591194968553"
      ]
     },
     "execution_count": 124,
     "metadata": {},
     "output_type": "execute_result"
    }
   ],
   "source": [
    "from sklearn.metrics import precision_score, recall_score\n",
    "precision_score(y_test, y_pred) # this is the robability that the classifier is correct"
   ]
  },
  {
   "cell_type": "code",
   "execution_count": 125,
   "id": "6f8a30b9",
   "metadata": {},
   "outputs": [
    {
     "data": {
      "text/plain": [
       "0.6567164179104478"
      ]
     },
     "execution_count": 125,
     "metadata": {},
     "output_type": "execute_result"
    }
   ],
   "source": [
    "recall_score(y_test, y_pred) # "
   ]
  },
  {
   "cell_type": "markdown",
   "id": "a17e4f07",
   "metadata": {},
   "source": [
    "# ML Model Deployment\n",
    "#### Next, we will create a fourth data set of the three most significant features and the target variable and will train a Random Forest Classifier on it. This is the classifier that will be used in the user interface demonstration"
   ]
  },
  {
   "cell_type": "code",
   "execution_count": 126,
   "id": "e66db2b6",
   "metadata": {},
   "outputs": [
    {
     "data": {
      "text/plain": [
       "{'Model': ['LR', 'CART', 'RF', 'SVM', 'KNN', 'NB'],\n",
       " 'Dataset 1': [0.5232558139534884,\n",
       "  0.5155038759689923,\n",
       "  0.5232558139534884,\n",
       "  0.5116279069767442,\n",
       "  0.5193798449612403,\n",
       "  0.5310077519379846],\n",
       " 'Dataset 2': [0.5271317829457365,\n",
       "  0.5426356589147286,\n",
       "  0.5581395348837209,\n",
       "  0.5348837209302325,\n",
       "  0.5232558139534884,\n",
       "  0.5465116279069767],\n",
       " 'Dataset 3': [0.47674418604651164,\n",
       "  0.5348837209302325,\n",
       "  0.5271317829457365,\n",
       "  0.5348837209302325,\n",
       "  0.5,\n",
       "  0.46511627906976744]}"
      ]
     },
     "execution_count": 126,
     "metadata": {},
     "output_type": "execute_result"
    }
   ],
   "source": [
    "data"
   ]
  },
  {
   "cell_type": "code",
   "execution_count": 127,
   "id": "8e2e32f5",
   "metadata": {},
   "outputs": [],
   "source": [
    "dataset_4 = data_ready[[\"Candidate_Observer_Multiplication_Mobilizer\",\n",
    "                  \"Candidate_Observer_Multiplication_Discipler\",\n",
    "                  \"Candidate_Observer_Multiplication_Server\",\n",
    "                  \"Approved\"]]"
   ]
  },
  {
   "cell_type": "code",
   "execution_count": 128,
   "id": "418695c2",
   "metadata": {},
   "outputs": [
    {
     "data": {
      "text/html": [
       "<div>\n",
       "<style scoped>\n",
       "    .dataframe tbody tr th:only-of-type {\n",
       "        vertical-align: middle;\n",
       "    }\n",
       "\n",
       "    .dataframe tbody tr th {\n",
       "        vertical-align: top;\n",
       "    }\n",
       "\n",
       "    .dataframe thead tr th {\n",
       "        text-align: left;\n",
       "    }\n",
       "</style>\n",
       "<table border=\"1\" class=\"dataframe\">\n",
       "  <thead>\n",
       "    <tr>\n",
       "      <th></th>\n",
       "      <th>Candidate_Observer_Multiplication_Mobilizer</th>\n",
       "      <th>Candidate_Observer_Multiplication_Discipler</th>\n",
       "      <th>Candidate_Observer_Multiplication_Server</th>\n",
       "      <th>Approved</th>\n",
       "    </tr>\n",
       "  </thead>\n",
       "  <tbody>\n",
       "    <tr>\n",
       "      <th>0</th>\n",
       "      <td>0.346331</td>\n",
       "      <td>-1.247874</td>\n",
       "      <td>0.060686</td>\n",
       "      <td>1</td>\n",
       "    </tr>\n",
       "    <tr>\n",
       "      <th>1</th>\n",
       "      <td>-0.881895</td>\n",
       "      <td>-1.030339</td>\n",
       "      <td>0.060686</td>\n",
       "      <td>0</td>\n",
       "    </tr>\n",
       "    <tr>\n",
       "      <th>2</th>\n",
       "      <td>0.755740</td>\n",
       "      <td>-0.595270</td>\n",
       "      <td>0.992647</td>\n",
       "      <td>1</td>\n",
       "    </tr>\n",
       "    <tr>\n",
       "      <th>3</th>\n",
       "      <td>-0.336017</td>\n",
       "      <td>-0.377735</td>\n",
       "      <td>0.433470</td>\n",
       "      <td>1</td>\n",
       "    </tr>\n",
       "    <tr>\n",
       "      <th>4</th>\n",
       "      <td>-0.881895</td>\n",
       "      <td>-0.595270</td>\n",
       "      <td>-0.684883</td>\n",
       "      <td>1</td>\n",
       "    </tr>\n",
       "    <tr>\n",
       "      <th>...</th>\n",
       "      <td>...</td>\n",
       "      <td>...</td>\n",
       "      <td>...</td>\n",
       "      <td>...</td>\n",
       "    </tr>\n",
       "    <tr>\n",
       "      <th>1027</th>\n",
       "      <td>-1.291304</td>\n",
       "      <td>0.492404</td>\n",
       "      <td>-1.430453</td>\n",
       "      <td>1</td>\n",
       "    </tr>\n",
       "    <tr>\n",
       "      <th>1028</th>\n",
       "      <td>1.028679</td>\n",
       "      <td>-1.465409</td>\n",
       "      <td>0.992647</td>\n",
       "      <td>0</td>\n",
       "    </tr>\n",
       "    <tr>\n",
       "      <th>1029</th>\n",
       "      <td>0.073392</td>\n",
       "      <td>-1.900479</td>\n",
       "      <td>-1.430453</td>\n",
       "      <td>0</td>\n",
       "    </tr>\n",
       "    <tr>\n",
       "      <th>1030</th>\n",
       "      <td>0.755740</td>\n",
       "      <td>1.145009</td>\n",
       "      <td>0.992647</td>\n",
       "      <td>1</td>\n",
       "    </tr>\n",
       "    <tr>\n",
       "      <th>1031</th>\n",
       "      <td>0.346331</td>\n",
       "      <td>0.709939</td>\n",
       "      <td>0.433470</td>\n",
       "      <td>1</td>\n",
       "    </tr>\n",
       "  </tbody>\n",
       "</table>\n",
       "<p>1032 rows × 4 columns</p>\n",
       "</div>"
      ],
      "text/plain": [
       "     Candidate_Observer_Multiplication_Mobilizer  \\\n",
       "0                                       0.346331   \n",
       "1                                      -0.881895   \n",
       "2                                       0.755740   \n",
       "3                                      -0.336017   \n",
       "4                                      -0.881895   \n",
       "...                                          ...   \n",
       "1027                                   -1.291304   \n",
       "1028                                    1.028679   \n",
       "1029                                    0.073392   \n",
       "1030                                    0.755740   \n",
       "1031                                    0.346331   \n",
       "\n",
       "     Candidate_Observer_Multiplication_Discipler  \\\n",
       "0                                      -1.247874   \n",
       "1                                      -1.030339   \n",
       "2                                      -0.595270   \n",
       "3                                      -0.377735   \n",
       "4                                      -0.595270   \n",
       "...                                          ...   \n",
       "1027                                    0.492404   \n",
       "1028                                   -1.465409   \n",
       "1029                                   -1.900479   \n",
       "1030                                    1.145009   \n",
       "1031                                    0.709939   \n",
       "\n",
       "     Candidate_Observer_Multiplication_Server Approved  \n",
       "0                                    0.060686        1  \n",
       "1                                    0.060686        0  \n",
       "2                                    0.992647        1  \n",
       "3                                    0.433470        1  \n",
       "4                                   -0.684883        1  \n",
       "...                                       ...      ...  \n",
       "1027                                -1.430453        1  \n",
       "1028                                 0.992647        0  \n",
       "1029                                -1.430453        0  \n",
       "1030                                 0.992647        1  \n",
       "1031                                 0.433470        1  \n",
       "\n",
       "[1032 rows x 4 columns]"
      ]
     },
     "execution_count": 128,
     "metadata": {},
     "output_type": "execute_result"
    }
   ],
   "source": [
    "dataset_4"
   ]
  },
  {
   "cell_type": "code",
   "execution_count": 129,
   "id": "9dfb284a",
   "metadata": {},
   "outputs": [],
   "source": [
    "# Fill NaN values with mean\n",
    "\n",
    "dataset_4 = dataset_4.fillna(dataset_4.mean())"
   ]
  },
  {
   "cell_type": "code",
   "execution_count": 130,
   "id": "14781d88",
   "metadata": {},
   "outputs": [
    {
     "data": {
      "text/plain": [
       "0"
      ]
     },
     "execution_count": 130,
     "metadata": {},
     "output_type": "execute_result"
    }
   ],
   "source": [
    "dataset_4.isnull().sum().sum()"
   ]
  },
  {
   "cell_type": "code",
   "execution_count": 131,
   "id": "4f9c4409",
   "metadata": {},
   "outputs": [],
   "source": [
    "# Split dataset_4 for training and testing\n",
    "\n",
    "X = dataset_4.iloc[:,:-1]\n",
    "y = dataset_4['Approved']\n",
    "y = np.ravel(y, order = 'C')\n",
    "X_train, X_test, y_train, y_test = train_test_split(X, y, test_size=0.25, random_state=42)"
   ]
  },
  {
   "cell_type": "code",
   "execution_count": 153,
   "id": "e30eeb47",
   "metadata": {},
   "outputs": [
    {
     "data": {
      "text/plain": [
       "array([1, 0, 1, ..., 0, 1, 1])"
      ]
     },
     "execution_count": 153,
     "metadata": {},
     "output_type": "execute_result"
    }
   ],
   "source": [
    "y"
   ]
  },
  {
   "cell_type": "markdown",
   "id": "d3b932a2",
   "metadata": {},
   "source": [
    "## Cross Validation for Dataset 4\n",
    "Here we perform cross validation on all six models using Dataset 4"
   ]
  },
  {
   "cell_type": "code",
   "execution_count": 133,
   "id": "5ad50122",
   "metadata": {},
   "outputs": [],
   "source": [
    "from sklearn.svm import SVC"
   ]
  },
  {
   "cell_type": "markdown",
   "id": "fa8ed107",
   "metadata": {},
   "source": [
    "Here we have created and empty array and then appended it with all the models."
   ]
  },
  {
   "cell_type": "code",
   "execution_count": 134,
   "id": "347d34cb",
   "metadata": {},
   "outputs": [],
   "source": [
    "models = []\n",
    "models.append(('LR', LogisticRegression()))\n",
    "models.append(('CART', DecisionTreeClassifier()))\n",
    "models.append(('RF', RandomForestClassifier()))\n",
    "models.append(('SVM', SVC()))\n",
    "models.append(('KNN', KNeighborsClassifier()))\n",
    "models.append(('NB', GaussianNB()))"
   ]
  },
  {
   "cell_type": "markdown",
   "id": "53226891",
   "metadata": {},
   "source": [
    "Here we have created two empty arrays named 'results' and 'names' and an object 'scoring.' Now we have made a for loop which will itterate over all the models. In the loop we have used the function Kfold and cross validation score with the desired parameters. Finally we have used a print statement to print the result for all the models."
   ]
  },
  {
   "cell_type": "code",
   "execution_count": 135,
   "id": "90608255",
   "metadata": {},
   "outputs": [
    {
     "name": "stdout",
     "output_type": "stream",
     "text": [
      "LR: 0.549367 (0.069221)\n",
      "CART: 0.524742 (0.068499)\n",
      "RF: 0.536180 (0.030704)\n",
      "SVM: 0.557026 (0.051703)\n",
      "KNN: 0.525791 (0.046783)\n",
      "NB: 0.533516 (0.039126)\n"
     ]
    }
   ],
   "source": [
    "results = []\n",
    "names = []\n",
    "scoring = 'accuracy'\n",
    "for name, model in models:\n",
    "         kfold = model_selection.KFold(n_splits=10, shuffle=True)\n",
    "         cv_results = model_selection.cross_val_score(model, X_train, y_train, cv=kfold, scoring=scoring, verbose=0)\n",
    "         results.append(cv_results)\n",
    "         names.append(name)\n",
    "         msg = \"%s: %f (%f)\" % (name, cv_results.mean(), cv_results.std())\n",
    "         print(msg)"
   ]
  },
  {
   "cell_type": "markdown",
   "id": "0f77b81d",
   "metadata": {},
   "source": [
    "We have also ploted a bar chart to clearly visualize the results."
   ]
  },
  {
   "cell_type": "code",
   "execution_count": 136,
   "id": "b1e9c1cc",
   "metadata": {},
   "outputs": [
    {
     "data": {
      "text/plain": [
       "['LR', 'CART', 'RF', 'SVM', 'KNN', 'NB']"
      ]
     },
     "execution_count": 136,
     "metadata": {},
     "output_type": "execute_result"
    }
   ],
   "source": [
    "names"
   ]
  },
  {
   "cell_type": "code",
   "execution_count": 137,
   "id": "7e8320ed",
   "metadata": {},
   "outputs": [
    {
     "data": {
      "text/plain": [
       "[0.5493672993672993,\n",
       " 0.5247419247419247,\n",
       " 0.5361804861804861,\n",
       " 0.5570263070263068,\n",
       " 0.5257908757908758,\n",
       " 0.5335164835164835]"
      ]
     },
     "execution_count": 137,
     "metadata": {},
     "output_type": "execute_result"
    }
   ],
   "source": [
    "avg_results = [np.mean(k) for k in results]\n",
    "avg_results"
   ]
  },
  {
   "cell_type": "code",
   "execution_count": 138,
   "id": "bf2532e1",
   "metadata": {
    "scrolled": true
   },
   "outputs": [
    {
     "name": "stderr",
     "output_type": "stream",
     "text": [
      "/var/folders/w3/vqfl42wd3fd53hbr0f08dkmshgfxtc/T/ipykernel_4390/3449265139.py:6: UserWarning: FixedFormatter should only be used together with FixedLocator\n",
      "  ax.set_xticklabels(names)\n"
     ]
    },
    {
     "data": {
      "image/png": "[encoded data removed]",
      "text/plain": [
       "<Figure size 360x360 with 1 Axes>"
      ]
     },
     "metadata": {
      "needs_background": "light"
     },
     "output_type": "display_data"
    }
   ],
   "source": [
    "fig = plt.figure(figsize=(5,5))\n",
    "fig.suptitle('Cross-Validation Results for Dataset 4')\n",
    "ax = fig.add_subplot(111)\n",
    "ax.set_ylim(0.4, 0.6)\n",
    "plt.bar(names, avg_results, color = 'blue')\n",
    "ax.set_xticklabels(names)\n",
    "plt.show()"
   ]
  },
  {
   "cell_type": "markdown",
   "id": "b82fe85f",
   "metadata": {},
   "source": [
    "## Nested Cross-Validation for Dataset 4"
   ]
  },
  {
   "cell_type": "code",
   "execution_count": 139,
   "id": "7b334afc",
   "metadata": {},
   "outputs": [],
   "source": [
    "from sklearn.model_selection import cross_val_score"
   ]
  },
  {
   "cell_type": "code",
   "execution_count": 140,
   "id": "dcf849a8",
   "metadata": {},
   "outputs": [],
   "source": [
    "lr_p_grid = {'C': np.logspace(-5, 8, 15)}\n",
    "cart_p_grid = {'max_depth': [7,8,9], \n",
    "              'splitter': [\"best\", \"random\"], \n",
    "              'min_samples_split': [8,9,10]}\n",
    "rf_p_grid = {'max_depth': [4,5,6], \n",
    "              'n_estimators': [40,50,60], \n",
    "              'min_samples_split': [1,2,3]}\n",
    "svm_p_grid = {'C': [0.1, 1, 10, 100, 1000],\n",
    "              'gamma': [1, 0.1, 0.01, 0.001, 0.0001],\n",
    "              'kernel': ['rbf']}\n",
    "knn_p_grid = {'n_neighbors': list(range(1, 31))}\n",
    "nb_p_grid = {}"
   ]
  },
  {
   "cell_type": "code",
   "execution_count": 141,
   "id": "1642978c",
   "metadata": {},
   "outputs": [],
   "source": [
    "models = []\n",
    "models.append(('LR', LogisticRegression(), lr_p_grid))\n",
    "models.append(('CART', DecisionTreeClassifier(), cart_p_grid))\n",
    "models.append(('RF', RandomForestClassifier(), rf_p_grid))\n",
    "models.append(('SVM', SVC(), svm_p_grid))\n",
    "models.append(('KNN', KNeighborsClassifier(), knn_p_grid))\n",
    "models.append(('NB', GaussianNB(), nb_p_grid))"
   ]
  },
  {
   "cell_type": "code",
   "execution_count": 142,
   "id": "4015a8a1",
   "metadata": {},
   "outputs": [
    {
     "name": "stderr",
     "output_type": "stream",
     "text": [
      "/Users/dbello/opt/anaconda3/lib/python3.9/site-packages/sklearn/model_selection/_split.py:680: UserWarning: The least populated class in y has only 1 members, which is less than n_splits=4.\n",
      "  warnings.warn(\n",
      "/Users/dbello/opt/anaconda3/lib/python3.9/site-packages/sklearn/model_selection/_split.py:680: UserWarning: The least populated class in y has only 1 members, which is less than n_splits=5.\n",
      "  warnings.warn(\n",
      "/Users/dbello/opt/anaconda3/lib/python3.9/site-packages/sklearn/model_selection/_split.py:680: UserWarning: The least populated class in y has only 1 members, which is less than n_splits=5.\n",
      "  warnings.warn(\n",
      "/Users/dbello/opt/anaconda3/lib/python3.9/site-packages/sklearn/model_selection/_split.py:680: UserWarning: The least populated class in y has only 1 members, which is less than n_splits=5.\n",
      "  warnings.warn(\n"
     ]
    },
    {
     "name": "stdout",
     "output_type": "stream",
     "text": [
      "LR: 0.537791 (0.006920)\n"
     ]
    },
    {
     "name": "stderr",
     "output_type": "stream",
     "text": [
      "/Users/dbello/opt/anaconda3/lib/python3.9/site-packages/sklearn/model_selection/_split.py:680: UserWarning: The least populated class in y has only 1 members, which is less than n_splits=4.\n",
      "  warnings.warn(\n",
      "/Users/dbello/opt/anaconda3/lib/python3.9/site-packages/sklearn/model_selection/_split.py:680: UserWarning: The least populated class in y has only 1 members, which is less than n_splits=5.\n",
      "  warnings.warn(\n",
      "/Users/dbello/opt/anaconda3/lib/python3.9/site-packages/sklearn/model_selection/_split.py:680: UserWarning: The least populated class in y has only 1 members, which is less than n_splits=5.\n",
      "  warnings.warn(\n",
      "/Users/dbello/opt/anaconda3/lib/python3.9/site-packages/sklearn/model_selection/_split.py:680: UserWarning: The least populated class in y has only 1 members, which is less than n_splits=5.\n",
      "  warnings.warn(\n"
     ]
    },
    {
     "name": "stdout",
     "output_type": "stream",
     "text": [
      "CART: 0.532946 (0.041157)\n"
     ]
    },
    {
     "name": "stderr",
     "output_type": "stream",
     "text": [
      "/Users/dbello/opt/anaconda3/lib/python3.9/site-packages/sklearn/model_selection/_split.py:680: UserWarning: The least populated class in y has only 1 members, which is less than n_splits=4.\n",
      "  warnings.warn(\n",
      "/Users/dbello/opt/anaconda3/lib/python3.9/site-packages/sklearn/model_selection/_split.py:680: UserWarning: The least populated class in y has only 1 members, which is less than n_splits=5.\n",
      "  warnings.warn(\n",
      "/Users/dbello/opt/anaconda3/lib/python3.9/site-packages/sklearn/model_selection/_validation.py:378: FitFailedWarning: \n",
      "45 fits failed out of a total of 135.\n",
      "The score on these train-test partitions for these parameters will be set to nan.\n",
      "If these failures are not expected, you can try to debug them by setting error_score='raise'.\n",
      "\n",
      "Below are more details about the failures:\n",
      "--------------------------------------------------------------------------------\n",
      "45 fits failed with the following error:\n",
      "Traceback (most recent call last):\n",
      "  File \"/Users/dbello/opt/anaconda3/lib/python3.9/site-packages/sklearn/model_selection/_validation.py\", line 686, in _fit_and_score\n",
      "    estimator.fit(X_train, y_train, **fit_params)\n",
      "  File \"/Users/dbello/opt/anaconda3/lib/python3.9/site-packages/sklearn/ensemble/_forest.py\", line 476, in fit\n",
      "    trees = Parallel(\n",
      "  File \"/Users/dbello/opt/anaconda3/lib/python3.9/site-packages/joblib/parallel.py\", line 1043, in __call__\n",
      "    if self.dispatch_one_batch(iterator):\n",
      "  File \"/Users/dbello/opt/anaconda3/lib/python3.9/site-packages/joblib/parallel.py\", line 861, in dispatch_one_batch\n",
      "    self._dispatch(tasks)\n",
      "  File \"/Users/dbello/opt/anaconda3/lib/python3.9/site-packages/joblib/parallel.py\", line 779, in _dispatch\n",
      "    job = self._backend.apply_async(batch, callback=cb)\n",
      "  File \"/Users/dbello/opt/anaconda3/lib/python3.9/site-packages/joblib/_parallel_backends.py\", line 208, in apply_async\n",
      "    result = ImmediateResult(func)\n",
      "  File \"/Users/dbello/opt/anaconda3/lib/python3.9/site-packages/joblib/_parallel_backends.py\", line 572, in __init__\n",
      "    self.results = batch()\n",
      "  File \"/Users/dbello/opt/anaconda3/lib/python3.9/site-packages/joblib/parallel.py\", line 262, in __call__\n",
      "    return [func(*args, **kwargs)\n",
      "  File \"/Users/dbello/opt/anaconda3/lib/python3.9/site-packages/joblib/parallel.py\", line 262, in <listcomp>\n",
      "    return [func(*args, **kwargs)\n",
      "  File \"/Users/dbello/opt/anaconda3/lib/python3.9/site-packages/sklearn/utils/fixes.py\", line 117, in __call__\n",
      "    return self.function(*args, **kwargs)\n",
      "  File \"/Users/dbello/opt/anaconda3/lib/python3.9/site-packages/sklearn/ensemble/_forest.py\", line 189, in _parallel_build_trees\n",
      "    tree.fit(X, y, sample_weight=curr_sample_weight, check_input=False)\n",
      "  File \"/Users/dbello/opt/anaconda3/lib/python3.9/site-packages/sklearn/tree/_classes.py\", line 969, in fit\n",
      "    super().fit(\n",
      "  File \"/Users/dbello/opt/anaconda3/lib/python3.9/site-packages/sklearn/tree/_classes.py\", line 265, in fit\n",
      "    check_scalar(\n",
      "  File \"/Users/dbello/opt/anaconda3/lib/python3.9/site-packages/sklearn/utils/validation.py\", line 1480, in check_scalar\n",
      "    raise ValueError(\n",
      "ValueError: min_samples_split == 1, must be >= 2.\n",
      "\n",
      "  warnings.warn(some_fits_failed_message, FitFailedWarning)\n",
      "/Users/dbello/opt/anaconda3/lib/python3.9/site-packages/sklearn/model_selection/_search.py:953: UserWarning: One or more of the test scores are non-finite: [       nan        nan        nan 0.55038123 0.55037285 0.57484709\n",
      " 0.56715543 0.55426896 0.56197738        nan        nan        nan\n",
      " 0.56072057 0.55811479 0.53875995 0.56069543 0.57103477 0.56459154\n",
      "        nan        nan        nan 0.55682447 0.5555509  0.5529535\n",
      " 0.55552576 0.55809803 0.56327608]\n",
      "  warnings.warn(\n",
      "/Users/dbello/opt/anaconda3/lib/python3.9/site-packages/sklearn/model_selection/_split.py:680: UserWarning: The least populated class in y has only 1 members, which is less than n_splits=5.\n",
      "  warnings.warn(\n",
      "/Users/dbello/opt/anaconda3/lib/python3.9/site-packages/sklearn/model_selection/_validation.py:378: FitFailedWarning: \n",
      "45 fits failed out of a total of 135.\n",
      "The score on these train-test partitions for these parameters will be set to nan.\n",
      "If these failures are not expected, you can try to debug them by setting error_score='raise'.\n",
      "\n",
      "Below are more details about the failures:\n",
      "--------------------------------------------------------------------------------\n",
      "45 fits failed with the following error:\n",
      "Traceback (most recent call last):\n",
      "  File \"/Users/dbello/opt/anaconda3/lib/python3.9/site-packages/sklearn/model_selection/_validation.py\", line 686, in _fit_and_score\n",
      "    estimator.fit(X_train, y_train, **fit_params)\n",
      "  File \"/Users/dbello/opt/anaconda3/lib/python3.9/site-packages/sklearn/ensemble/_forest.py\", line 476, in fit\n",
      "    trees = Parallel(\n",
      "  File \"/Users/dbello/opt/anaconda3/lib/python3.9/site-packages/joblib/parallel.py\", line 1043, in __call__\n",
      "    if self.dispatch_one_batch(iterator):\n",
      "  File \"/Users/dbello/opt/anaconda3/lib/python3.9/site-packages/joblib/parallel.py\", line 861, in dispatch_one_batch\n",
      "    self._dispatch(tasks)\n",
      "  File \"/Users/dbello/opt/anaconda3/lib/python3.9/site-packages/joblib/parallel.py\", line 779, in _dispatch\n",
      "    job = self._backend.apply_async(batch, callback=cb)\n",
      "  File \"/Users/dbello/opt/anaconda3/lib/python3.9/site-packages/joblib/_parallel_backends.py\", line 208, in apply_async\n",
      "    result = ImmediateResult(func)\n",
      "  File \"/Users/dbello/opt/anaconda3/lib/python3.9/site-packages/joblib/_parallel_backends.py\", line 572, in __init__\n",
      "    self.results = batch()\n",
      "  File \"/Users/dbello/opt/anaconda3/lib/python3.9/site-packages/joblib/parallel.py\", line 262, in __call__\n",
      "    return [func(*args, **kwargs)\n",
      "  File \"/Users/dbello/opt/anaconda3/lib/python3.9/site-packages/joblib/parallel.py\", line 262, in <listcomp>\n",
      "    return [func(*args, **kwargs)\n",
      "  File \"/Users/dbello/opt/anaconda3/lib/python3.9/site-packages/sklearn/utils/fixes.py\", line 117, in __call__\n",
      "    return self.function(*args, **kwargs)\n",
      "  File \"/Users/dbello/opt/anaconda3/lib/python3.9/site-packages/sklearn/ensemble/_forest.py\", line 189, in _parallel_build_trees\n",
      "    tree.fit(X, y, sample_weight=curr_sample_weight, check_input=False)\n",
      "  File \"/Users/dbello/opt/anaconda3/lib/python3.9/site-packages/sklearn/tree/_classes.py\", line 969, in fit\n",
      "    super().fit(\n",
      "  File \"/Users/dbello/opt/anaconda3/lib/python3.9/site-packages/sklearn/tree/_classes.py\", line 265, in fit\n",
      "    check_scalar(\n",
      "  File \"/Users/dbello/opt/anaconda3/lib/python3.9/site-packages/sklearn/utils/validation.py\", line 1480, in check_scalar\n",
      "    raise ValueError(\n",
      "ValueError: min_samples_split == 1, must be >= 2.\n",
      "\n",
      "  warnings.warn(some_fits_failed_message, FitFailedWarning)\n",
      "/Users/dbello/opt/anaconda3/lib/python3.9/site-packages/sklearn/model_selection/_search.py:953: UserWarning: One or more of the test scores are non-finite: [       nan        nan        nan 0.57104315 0.56588186 0.56459992\n",
      " 0.56072057 0.56330121 0.56845413        nan        nan        nan\n",
      " 0.5529535  0.57229996 0.55811479 0.56454127 0.55939673 0.57101801\n",
      "        nan        nan        nan 0.57102639 0.5645664  0.56457478\n",
      " 0.55813155 0.55551739 0.55808127]\n",
      "  warnings.warn(\n",
      "/Users/dbello/opt/anaconda3/lib/python3.9/site-packages/sklearn/model_selection/_split.py:680: UserWarning: The least populated class in y has only 1 members, which is less than n_splits=5.\n",
      "  warnings.warn(\n",
      "/Users/dbello/opt/anaconda3/lib/python3.9/site-packages/sklearn/model_selection/_validation.py:378: FitFailedWarning: \n",
      "45 fits failed out of a total of 135.\n",
      "The score on these train-test partitions for these parameters will be set to nan.\n",
      "If these failures are not expected, you can try to debug them by setting error_score='raise'.\n",
      "\n",
      "Below are more details about the failures:\n",
      "--------------------------------------------------------------------------------\n",
      "45 fits failed with the following error:\n",
      "Traceback (most recent call last):\n",
      "  File \"/Users/dbello/opt/anaconda3/lib/python3.9/site-packages/sklearn/model_selection/_validation.py\", line 686, in _fit_and_score\n",
      "    estimator.fit(X_train, y_train, **fit_params)\n",
      "  File \"/Users/dbello/opt/anaconda3/lib/python3.9/site-packages/sklearn/ensemble/_forest.py\", line 476, in fit\n",
      "    trees = Parallel(\n",
      "  File \"/Users/dbello/opt/anaconda3/lib/python3.9/site-packages/joblib/parallel.py\", line 1043, in __call__\n",
      "    if self.dispatch_one_batch(iterator):\n",
      "  File \"/Users/dbello/opt/anaconda3/lib/python3.9/site-packages/joblib/parallel.py\", line 861, in dispatch_one_batch\n",
      "    self._dispatch(tasks)\n",
      "  File \"/Users/dbello/opt/anaconda3/lib/python3.9/site-packages/joblib/parallel.py\", line 779, in _dispatch\n",
      "    job = self._backend.apply_async(batch, callback=cb)\n",
      "  File \"/Users/dbello/opt/anaconda3/lib/python3.9/site-packages/joblib/_parallel_backends.py\", line 208, in apply_async\n",
      "    result = ImmediateResult(func)\n",
      "  File \"/Users/dbello/opt/anaconda3/lib/python3.9/site-packages/joblib/_parallel_backends.py\", line 572, in __init__\n",
      "    self.results = batch()\n",
      "  File \"/Users/dbello/opt/anaconda3/lib/python3.9/site-packages/joblib/parallel.py\", line 262, in __call__\n",
      "    return [func(*args, **kwargs)\n",
      "  File \"/Users/dbello/opt/anaconda3/lib/python3.9/site-packages/joblib/parallel.py\", line 262, in <listcomp>\n",
      "    return [func(*args, **kwargs)\n",
      "  File \"/Users/dbello/opt/anaconda3/lib/python3.9/site-packages/sklearn/utils/fixes.py\", line 117, in __call__\n",
      "    return self.function(*args, **kwargs)\n",
      "  File \"/Users/dbello/opt/anaconda3/lib/python3.9/site-packages/sklearn/ensemble/_forest.py\", line 189, in _parallel_build_trees\n",
      "    tree.fit(X, y, sample_weight=curr_sample_weight, check_input=False)\n",
      "  File \"/Users/dbello/opt/anaconda3/lib/python3.9/site-packages/sklearn/tree/_classes.py\", line 969, in fit\n",
      "    super().fit(\n",
      "  File \"/Users/dbello/opt/anaconda3/lib/python3.9/site-packages/sklearn/tree/_classes.py\", line 265, in fit\n",
      "    check_scalar(\n",
      "  File \"/Users/dbello/opt/anaconda3/lib/python3.9/site-packages/sklearn/utils/validation.py\", line 1480, in check_scalar\n",
      "    raise ValueError(\n",
      "ValueError: min_samples_split == 1, must be >= 2.\n",
      "\n",
      "  warnings.warn(some_fits_failed_message, FitFailedWarning)\n",
      "/Users/dbello/opt/anaconda3/lib/python3.9/site-packages/sklearn/model_selection/_search.py:953: UserWarning: One or more of the test scores are non-finite: [       nan        nan        nan 0.54264767 0.55689987 0.52844575\n",
      " 0.54135735 0.5568496  0.53103477        nan        nan        nan\n",
      " 0.53487222 0.54526183 0.52841223 0.54268957 0.53878509 0.54133222\n",
      "        nan        nan        nan 0.54006703 0.53100126 0.53490574\n",
      " 0.53229996 0.52973607 0.53493925]\n",
      "  warnings.warn(\n"
     ]
    },
    {
     "name": "stderr",
     "output_type": "stream",
     "text": [
      "/Users/dbello/opt/anaconda3/lib/python3.9/site-packages/sklearn/model_selection/_validation.py:378: FitFailedWarning: \n",
      "45 fits failed out of a total of 135.\n",
      "The score on these train-test partitions for these parameters will be set to nan.\n",
      "If these failures are not expected, you can try to debug them by setting error_score='raise'.\n",
      "\n",
      "Below are more details about the failures:\n",
      "--------------------------------------------------------------------------------\n",
      "45 fits failed with the following error:\n",
      "Traceback (most recent call last):\n",
      "  File \"/Users/dbello/opt/anaconda3/lib/python3.9/site-packages/sklearn/model_selection/_validation.py\", line 686, in _fit_and_score\n",
      "    estimator.fit(X_train, y_train, **fit_params)\n",
      "  File \"/Users/dbello/opt/anaconda3/lib/python3.9/site-packages/sklearn/ensemble/_forest.py\", line 476, in fit\n",
      "    trees = Parallel(\n",
      "  File \"/Users/dbello/opt/anaconda3/lib/python3.9/site-packages/joblib/parallel.py\", line 1043, in __call__\n",
      "    if self.dispatch_one_batch(iterator):\n",
      "  File \"/Users/dbello/opt/anaconda3/lib/python3.9/site-packages/joblib/parallel.py\", line 861, in dispatch_one_batch\n",
      "    self._dispatch(tasks)\n",
      "  File \"/Users/dbello/opt/anaconda3/lib/python3.9/site-packages/joblib/parallel.py\", line 779, in _dispatch\n",
      "    job = self._backend.apply_async(batch, callback=cb)\n",
      "  File \"/Users/dbello/opt/anaconda3/lib/python3.9/site-packages/joblib/_parallel_backends.py\", line 208, in apply_async\n",
      "    result = ImmediateResult(func)\n",
      "  File \"/Users/dbello/opt/anaconda3/lib/python3.9/site-packages/joblib/_parallel_backends.py\", line 572, in __init__\n",
      "    self.results = batch()\n",
      "  File \"/Users/dbello/opt/anaconda3/lib/python3.9/site-packages/joblib/parallel.py\", line 262, in __call__\n",
      "    return [func(*args, **kwargs)\n",
      "  File \"/Users/dbello/opt/anaconda3/lib/python3.9/site-packages/joblib/parallel.py\", line 262, in <listcomp>\n",
      "    return [func(*args, **kwargs)\n",
      "  File \"/Users/dbello/opt/anaconda3/lib/python3.9/site-packages/sklearn/utils/fixes.py\", line 117, in __call__\n",
      "    return self.function(*args, **kwargs)\n",
      "  File \"/Users/dbello/opt/anaconda3/lib/python3.9/site-packages/sklearn/ensemble/_forest.py\", line 189, in _parallel_build_trees\n",
      "    tree.fit(X, y, sample_weight=curr_sample_weight, check_input=False)\n",
      "  File \"/Users/dbello/opt/anaconda3/lib/python3.9/site-packages/sklearn/tree/_classes.py\", line 969, in fit\n",
      "    super().fit(\n",
      "  File \"/Users/dbello/opt/anaconda3/lib/python3.9/site-packages/sklearn/tree/_classes.py\", line 265, in fit\n",
      "    check_scalar(\n",
      "  File \"/Users/dbello/opt/anaconda3/lib/python3.9/site-packages/sklearn/utils/validation.py\", line 1480, in check_scalar\n",
      "    raise ValueError(\n",
      "ValueError: min_samples_split == 1, must be >= 2.\n",
      "\n",
      "  warnings.warn(some_fits_failed_message, FitFailedWarning)\n",
      "/Users/dbello/opt/anaconda3/lib/python3.9/site-packages/sklearn/model_selection/_search.py:953: UserWarning: One or more of the test scores are non-finite: [       nan        nan        nan 0.58014244 0.57367407 0.58010892\n",
      " 0.5827147  0.56461667 0.57236699        nan        nan        nan\n",
      " 0.57237537 0.57754504 0.57493088 0.56076246 0.5801173  0.57237537\n",
      "        nan        nan        nan 0.56080436 0.5736992  0.56460829\n",
      " 0.56209468 0.57884374 0.56723083]\n",
      "  warnings.warn(\n",
      "/Users/dbello/opt/anaconda3/lib/python3.9/site-packages/sklearn/model_selection/_split.py:680: UserWarning: The least populated class in y has only 1 members, which is less than n_splits=4.\n",
      "  warnings.warn(\n",
      "/Users/dbello/opt/anaconda3/lib/python3.9/site-packages/sklearn/model_selection/_split.py:680: UserWarning: The least populated class in y has only 1 members, which is less than n_splits=5.\n",
      "  warnings.warn(\n"
     ]
    },
    {
     "name": "stdout",
     "output_type": "stream",
     "text": [
      "RF: 0.546512 (0.023735)\n"
     ]
    },
    {
     "name": "stderr",
     "output_type": "stream",
     "text": [
      "/Users/dbello/opt/anaconda3/lib/python3.9/site-packages/sklearn/model_selection/_split.py:680: UserWarning: The least populated class in y has only 1 members, which is less than n_splits=5.\n",
      "  warnings.warn(\n",
      "/Users/dbello/opt/anaconda3/lib/python3.9/site-packages/sklearn/model_selection/_split.py:680: UserWarning: The least populated class in y has only 1 members, which is less than n_splits=5.\n",
      "  warnings.warn(\n"
     ]
    },
    {
     "name": "stdout",
     "output_type": "stream",
     "text": [
      "SVM: 0.557171 (0.021646)\n"
     ]
    },
    {
     "name": "stderr",
     "output_type": "stream",
     "text": [
      "/Users/dbello/opt/anaconda3/lib/python3.9/site-packages/sklearn/model_selection/_split.py:680: UserWarning: The least populated class in y has only 1 members, which is less than n_splits=4.\n",
      "  warnings.warn(\n",
      "/Users/dbello/opt/anaconda3/lib/python3.9/site-packages/sklearn/model_selection/_split.py:680: UserWarning: The least populated class in y has only 1 members, which is less than n_splits=5.\n",
      "  warnings.warn(\n",
      "/Users/dbello/opt/anaconda3/lib/python3.9/site-packages/sklearn/model_selection/_split.py:680: UserWarning: The least populated class in y has only 1 members, which is less than n_splits=5.\n",
      "  warnings.warn(\n",
      "/Users/dbello/opt/anaconda3/lib/python3.9/site-packages/sklearn/model_selection/_split.py:680: UserWarning: The least populated class in y has only 1 members, which is less than n_splits=5.\n",
      "  warnings.warn(\n"
     ]
    },
    {
     "name": "stdout",
     "output_type": "stream",
     "text": [
      "KNN: 0.533915 (0.035669)\n",
      "NB: 0.531008 (0.013144)\n"
     ]
    },
    {
     "name": "stderr",
     "output_type": "stream",
     "text": [
      "/Users/dbello/opt/anaconda3/lib/python3.9/site-packages/sklearn/model_selection/_split.py:680: UserWarning: The least populated class in y has only 1 members, which is less than n_splits=4.\n",
      "  warnings.warn(\n",
      "/Users/dbello/opt/anaconda3/lib/python3.9/site-packages/sklearn/model_selection/_split.py:680: UserWarning: The least populated class in y has only 1 members, which is less than n_splits=5.\n",
      "  warnings.warn(\n",
      "/Users/dbello/opt/anaconda3/lib/python3.9/site-packages/sklearn/model_selection/_split.py:680: UserWarning: The least populated class in y has only 1 members, which is less than n_splits=5.\n",
      "  warnings.warn(\n",
      "/Users/dbello/opt/anaconda3/lib/python3.9/site-packages/sklearn/model_selection/_split.py:680: UserWarning: The least populated class in y has only 1 members, which is less than n_splits=5.\n",
      "  warnings.warn(\n"
     ]
    }
   ],
   "source": [
    "scores = []\n",
    "model_names = []\n",
    "scoring = 'accuracy'\n",
    "for name, model, params in models:\n",
    "    # 4-outer (error estimation w/ optimal hyperparameters), 5-inner (hyperparameter tuning) nested CV\n",
    "    clf = GridSearchCV(estimator=model, param_grid=params, cv=5) # inner\n",
    "    # cross_val_score takes care of splitting the data into folds. No need to use train_test_split\n",
    "    nested_scores = cross_val_score(estimator=clf, X=X, y=y, cv=4, scoring='accuracy') # outer \n",
    "    scores.append(nested_scores)\n",
    "    model_names.append(name)\n",
    "    msg = \"%s: %f (%f)\" % (name, nested_scores.mean(), nested_scores.std())\n",
    "    print(msg)\n",
    "    nested_scores = []"
   ]
  },
  {
   "cell_type": "code",
   "execution_count": 143,
   "id": "536f3494",
   "metadata": {},
   "outputs": [
    {
     "data": {
      "text/plain": [
       "['LR', 'CART', 'RF', 'SVM', 'KNN', 'NB']"
      ]
     },
     "execution_count": 143,
     "metadata": {},
     "output_type": "execute_result"
    }
   ],
   "source": [
    "model_names"
   ]
  },
  {
   "cell_type": "code",
   "execution_count": 144,
   "id": "768c0dd2",
   "metadata": {},
   "outputs": [
    {
     "data": {
      "text/plain": [
       "[array([0.53875969, 0.53875969, 0.52713178, 0.54651163]),\n",
       " array([0.56589147, 0.49612403, 0.58139535, 0.48837209]),\n",
       " array([0.57751938, 0.51162791, 0.54263566, 0.55426357]),\n",
       " array([0.57364341, 0.52713178, 0.58139535, 0.54651163]),\n",
       " array([0.58527132, 0.53488372, 0.53100775, 0.48449612]),\n",
       " array([0.53875969, 0.54651163, 0.52713178, 0.51162791])]"
      ]
     },
     "execution_count": 144,
     "metadata": {},
     "output_type": "execute_result"
    }
   ],
   "source": [
    "scores"
   ]
  },
  {
   "cell_type": "code",
   "execution_count": 145,
   "id": "820afd9e",
   "metadata": {},
   "outputs": [
    {
     "data": {
      "text/plain": [
       "[0.5377906976744186,\n",
       " 0.5329457364341086,\n",
       " 0.5465116279069768,\n",
       " 0.557170542635659,\n",
       " 0.5339147286821706,\n",
       " 0.5310077519379846]"
      ]
     },
     "execution_count": 145,
     "metadata": {},
     "output_type": "execute_result"
    }
   ],
   "source": [
    "# Average all the accuracy scores\n",
    "avg_scores = [np.mean(k) for k in scores]\n",
    "avg_scores"
   ]
  },
  {
   "cell_type": "code",
   "execution_count": 146,
   "id": "175fac79",
   "metadata": {},
   "outputs": [
    {
     "data": {
      "text/plain": [
       "0.539890180878553"
      ]
     },
     "execution_count": 146,
     "metadata": {},
     "output_type": "execute_result"
    }
   ],
   "source": [
    "from statistics import mean\n",
    "mean(avg_scores)"
   ]
  },
  {
   "cell_type": "code",
   "execution_count": 147,
   "id": "80ad7c3b",
   "metadata": {},
   "outputs": [
    {
     "name": "stderr",
     "output_type": "stream",
     "text": [
      "/var/folders/w3/vqfl42wd3fd53hbr0f08dkmshgfxtc/T/ipykernel_4390/378160673.py:6: UserWarning: FixedFormatter should only be used together with FixedLocator\n",
      "  ax.set_xticklabels(model_names)\n"
     ]
    },
    {
     "data": {
      "image/png": "[encoded data removed]",
      "text/plain": [
       "<Figure size 360x360 with 1 Axes>"
      ]
     },
     "metadata": {
      "needs_background": "light"
     },
     "output_type": "display_data"
    }
   ],
   "source": [
    "fig = plt.figure(figsize=(5,5))\n",
    "fig.suptitle('Nested Cross-Validation Results for Dataset 4')\n",
    "ax = fig.add_subplot(111)\n",
    "ax.set_ylim(0.4, 0.6)\n",
    "plt.bar(model_names, avg_scores, color = 'cyan')\n",
    "ax.set_xticklabels(model_names)\n",
    "plt.show()"
   ]
  },
  {
   "cell_type": "code",
   "execution_count": 148,
   "id": "5c43af1b",
   "metadata": {},
   "outputs": [
    {
     "data": {
      "image/png": "[encoded data removed]",
      "text/plain": [
       "<Figure size 720x288 with 2 Axes>"
      ]
     },
     "metadata": {
      "needs_background": "light"
     },
     "output_type": "display_data"
    }
   ],
   "source": [
    "fig = plt.figure(figsize=(10,4))\n",
    "\n",
    "# Cross-Validation Results for Dataset 3\n",
    "ax = fig.suptitle('Cross-Validation Results for Dataset 4')\n",
    "ax = fig.add_subplot(1,2,1)\n",
    "ax.set_ylim(0.4, 0.6)\n",
    "plt.bar(names, avg_results, color = 'blue')\n",
    "#plt.show()\n",
    "\n",
    "# Nested Cross-Validation Results for Dataset 3\n",
    "#fig = plt.figure(figsize=(10,4))\n",
    "ax1 = fig.suptitle('Non-Nested Cross-Validation vs Nested Cross-Validation Results for Dataset 3')\n",
    "ax1 = fig.add_subplot(1,2,2)\n",
    "ax1.set_ylim(0.4, 0.6)\n",
    "plt.bar(model_names, avg_scores, color = 'cyan')\n",
    "plt.show()"
   ]
  },
  {
   "cell_type": "code",
   "execution_count": 149,
   "id": "091a9c24",
   "metadata": {},
   "outputs": [
    {
     "data": {
      "text/html": [
       "<style>#sk-container-id-20 {color: black;background-color: white;}#sk-container-id-20 pre{padding: 0;}#sk-container-id-20 div.sk-toggleable {background-color: white;}#sk-container-id-20 label.sk-toggleable__label {cursor: pointer;display: block;width: 100%;margin-bottom: 0;padding: 0.3em;box-sizing: border-box;text-align: center;}#sk-container-id-20 label.sk-toggleable__label-arrow:before {content: \"▸\";float: left;margin-right: 0.25em;color: #696969;}#sk-container-id-20 label.sk-toggleable__label-arrow:hover:before {color: black;}#sk-container-id-20 div.sk-estimator:hover label.sk-toggleable__label-arrow:before {color: black;}#sk-container-id-20 div.sk-toggleable__content {max-height: 0;max-width: 0;overflow: hidden;text-align: left;background-color: #f0f8ff;}#sk-container-id-20 div.sk-toggleable__content pre {margin: 0.2em;color: black;border-radius: 0.25em;background-color: #f0f8ff;}#sk-container-id-20 input.sk-toggleable__control:checked~div.sk-toggleable__content {max-height: 200px;max-width: 100%;overflow: auto;}#sk-container-id-20 input.sk-toggleable__control:checked~label.sk-toggleable__label-arrow:before {content: \"▾\";}#sk-container-id-20 div.sk-estimator input.sk-toggleable__control:checked~label.sk-toggleable__label {background-color: #d4ebff;}#sk-container-id-20 div.sk-label input.sk-toggleable__control:checked~label.sk-toggleable__label {background-color: #d4ebff;}#sk-container-id-20 input.sk-hidden--visually {border: 0;clip: rect(1px 1px 1px 1px);clip: rect(1px, 1px, 1px, 1px);height: 1px;margin: -1px;overflow: hidden;padding: 0;position: absolute;width: 1px;}#sk-container-id-20 div.sk-estimator {font-family: monospace;background-color: #f0f8ff;border: 1px dotted black;border-radius: 0.25em;box-sizing: border-box;margin-bottom: 0.5em;}#sk-container-id-20 div.sk-estimator:hover {background-color: #d4ebff;}#sk-container-id-20 div.sk-parallel-item::after {content: \"\";width: 100%;border-bottom: 1px solid gray;flex-grow: 1;}#sk-container-id-20 div.sk-label:hover label.sk-toggleable__label {background-color: #d4ebff;}#sk-container-id-20 div.sk-serial::before {content: \"\";position: absolute;border-left: 1px solid gray;box-sizing: border-box;top: 0;bottom: 0;left: 50%;z-index: 0;}#sk-container-id-20 div.sk-serial {display: flex;flex-direction: column;align-items: center;background-color: white;padding-right: 0.2em;padding-left: 0.2em;position: relative;}#sk-container-id-20 div.sk-item {position: relative;z-index: 1;}#sk-container-id-20 div.sk-parallel {display: flex;align-items: stretch;justify-content: center;background-color: white;position: relative;}#sk-container-id-20 div.sk-item::before, #sk-container-id-20 div.sk-parallel-item::before {content: \"\";position: absolute;border-left: 1px solid gray;box-sizing: border-box;top: 0;bottom: 0;left: 50%;z-index: -1;}#sk-container-id-20 div.sk-parallel-item {display: flex;flex-direction: column;z-index: 1;position: relative;background-color: white;}#sk-container-id-20 div.sk-parallel-item:first-child::after {align-self: flex-end;width: 50%;}#sk-container-id-20 div.sk-parallel-item:last-child::after {align-self: flex-start;width: 50%;}#sk-container-id-20 div.sk-parallel-item:only-child::after {width: 0;}#sk-container-id-20 div.sk-dashed-wrapped {border: 1px dashed gray;margin: 0 0.4em 0.5em 0.4em;box-sizing: border-box;padding-bottom: 0.4em;background-color: white;}#sk-container-id-20 div.sk-label label {font-family: monospace;font-weight: bold;display: inline-block;line-height: 1.2em;}#sk-container-id-20 div.sk-label-container {text-align: center;}#sk-container-id-20 div.sk-container {/* jupyter's `normalize.less` sets `[hidden] { display: none; }` but bootstrap.min.css set `[hidden] { display: none !important; }` so we also need the `!important` here to be able to override the default hidden behavior on the sphinx rendered scikit-learn.org. See: https://github.com/scikit-learn/scikit-learn/issues/21755 */display: inline-block !important;position: relative;}#sk-container-id-20 div.sk-text-repr-fallback {display: none;}</style><div id=\"sk-container-id-20\" class=\"sk-top-container\"><div class=\"sk-text-repr-fallback\"><pre>SVC()</pre><b>In a Jupyter environment, please rerun this cell to show the HTML representation or trust the notebook. <br />On GitHub, the HTML representation is unable to render, please try loading this page with nbviewer.org.</b></div><div class=\"sk-container\" hidden><div class=\"sk-item\"><div class=\"sk-estimator sk-toggleable\"><input class=\"sk-toggleable__control sk-hidden--visually\" id=\"sk-estimator-id-20\" type=\"checkbox\" checked><label for=\"sk-estimator-id-20\" class=\"sk-toggleable__label sk-toggleable__label-arrow\">SVC</label><div class=\"sk-toggleable__content\"><pre>SVC()</pre></div></div></div></div></div>"
      ],
      "text/plain": [
       "SVC()"
      ]
     },
     "execution_count": 149,
     "metadata": {},
     "output_type": "execute_result"
    }
   ],
   "source": [
    "SVM_classifier = SVC()\n",
    "SVM_classifier.fit(X,y)"
   ]
  },
  {
   "cell_type": "markdown",
   "id": "50ab57e9",
   "metadata": {},
   "source": [
    "## Save Model Using Pickle"
   ]
  },
  {
   "cell_type": "code",
   "execution_count": 150,
   "id": "8f51e535",
   "metadata": {},
   "outputs": [],
   "source": [
    "# import pickle\n",
    "\n",
    "# # Saving model to disk\n",
    "# pickle.dump(SVM_classifier, open('model.pkl','wb'))\n",
    "\n",
    "# # Loading model to compare the results\n",
    "# model = pickle.load(open('model.pkl','rb'))\n",
    "\n",
    "# #print(model.predict([[82, 89, 96]])) "
   ]
  },
  {
   "cell_type": "code",
   "execution_count": 151,
   "id": "3d527a17",
   "metadata": {},
   "outputs": [],
   "source": [
    "#!pip install flask"
   ]
  },
  {
   "cell_type": "code",
   "execution_count": 152,
   "id": "b8037cbe",
   "metadata": {},
   "outputs": [],
   "source": [
    "# print(model.predict([[80, 100, 100]])) "
   ]
  }
 ],
 "metadata": {
  "kernelspec": {
   "display_name": "Python 3.10.6 64-bit",
   "language": "python",
   "name": "python3"
  },
  "language_info": {
   "codemirror_mode": {
    "name": "ipython",
    "version": 3
   },
   "file_extension": ".py",
   "mimetype": "text/x-python",
   "name": "python",
   "nbconvert_exporter": "python",
   "pygments_lexer": "ipython3",
   "version": "3.10.6"
  },
  "vscode": {
   "interpreter": {
    "hash": "aee8b7b246df8f9039afb4144a1f6fd8d2ca17a180786b69acc140d282b71a49"
   }
  }
 },
 "nbformat": 4,
 "nbformat_minor": 5
}
